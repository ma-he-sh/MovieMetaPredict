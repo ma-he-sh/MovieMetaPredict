{
 "cells": [
  {
   "cell_type": "code",
   "execution_count": 23,
   "id": "considerable-reservoir",
   "metadata": {},
   "outputs": [
    {
     "data": {
      "text/plain": [
       "(15455, 41)"
      ]
     },
     "execution_count": 23,
     "metadata": {},
     "output_type": "execute_result"
    }
   ],
   "source": [
    "import pandas as pd\n",
    "from dataset import get_dataframe\n",
    "dataset = get_dataframe('./dataset_cleaned_emotions')\n",
    "\n",
    "dataset.head()\n",
    "dataset.shape"
   ]
  },
  {
   "cell_type": "code",
   "execution_count": 24,
   "id": "suited-beads",
   "metadata": {},
   "outputs": [
    {
     "data": {
      "text/plain": [
       "(15455, 41)"
      ]
     },
     "execution_count": 24,
     "metadata": {},
     "output_type": "execute_result"
    }
   ],
   "source": [
    "## Clean data\n",
    "dataset.dropna()\n",
    "dataset.columns = dataset.columns.str.replace(\" \", \"\")\n",
    "#dataset = dataset[dataset.synopsis != ''] # cannot do this\n",
    "dataset = dataset[dataset.clean_description != '']\n",
    "#dataset = dataset[dataset.clean_storyline != '']\n",
    "dataset.shape"
   ]
  },
  {
   "cell_type": "code",
   "execution_count": 25,
   "id": "suitable-turkish",
   "metadata": {},
   "outputs": [],
   "source": [
    "final_dataset = pd.DataFrame()\n",
    "for index, row in dataset.iterrows():\n",
    "    try:\n",
    "        new_row = {\n",
    "            \"description\" : row[\"clean_description\"],\n",
    "            \"negative\" : row[\"negative\"],\n",
    "            \"sadness\"  : row[\"sadness\"],\n",
    "            \"trust\"    : row[\"trust\"],\n",
    "            \"anger\"    : row[\"anger\"],\n",
    "            \"positive\" : row[\"positive\"],\n",
    "            \"fear\"     : row[\"fear\"],\n",
    "            \"disgust\"  : row[\"disgust\"],\n",
    "            \"surprise\" : row[\"surprise\"],\n",
    "            \"anticipation\"  : row[\"anticipation\"],\n",
    "            \"joy\"  : row[\"joy\"],\n",
    "            \"rating\" : row[\"rating\"]\n",
    "        }\n",
    "        final_dataset = final_dataset.append( new_row, ignore_index=True )\n",
    "    except Exception as ex:\n",
    "        continue"
   ]
  },
  {
   "cell_type": "code",
   "execution_count": 26,
   "id": "catholic-operation",
   "metadata": {},
   "outputs": [
    {
     "data": {
      "text/plain": [
       "(15455, 12)"
      ]
     },
     "execution_count": 26,
     "metadata": {},
     "output_type": "execute_result"
    }
   ],
   "source": [
    "final_dataset.shape"
   ]
  },
  {
   "cell_type": "code",
   "execution_count": 27,
   "id": "certain-beauty",
   "metadata": {},
   "outputs": [],
   "source": [
    "import pandas as pd\n",
    "import numpy as np\n",
    "from sklearn.feature_extraction.text import TfidfVectorizer\n",
    "from sklearn.preprocessing import MultiLabelBinarizer\n",
    "from sklearn.model_selection import train_test_split\n",
    "\n",
    "from sklearn.linear_model import SGDClassifier\n",
    "from sklearn.linear_model import LogisticRegression\n",
    "from sklearn.svm import LinearSVC\n",
    "\n",
    "from sklearn.multiclass import OneVsRestClassifier\n",
    "from sklearn.metrics import f1_score\n",
    "\n",
    "from sklearn import preprocessing"
   ]
  },
  {
   "cell_type": "code",
   "execution_count": 51,
   "id": "alien-intelligence",
   "metadata": {},
   "outputs": [
    {
     "data": {
      "text/html": [
       "<div>\n",
       "<style scoped>\n",
       "    .dataframe tbody tr th:only-of-type {\n",
       "        vertical-align: middle;\n",
       "    }\n",
       "\n",
       "    .dataframe tbody tr th {\n",
       "        vertical-align: top;\n",
       "    }\n",
       "\n",
       "    .dataframe thead th {\n",
       "        text-align: right;\n",
       "    }\n",
       "</style>\n",
       "<table border=\"1\" class=\"dataframe\">\n",
       "  <thead>\n",
       "    <tr style=\"text-align: right;\">\n",
       "      <th></th>\n",
       "      <th>anger</th>\n",
       "      <th>anticipation</th>\n",
       "      <th>description</th>\n",
       "      <th>disgust</th>\n",
       "      <th>fear</th>\n",
       "      <th>joy</th>\n",
       "      <th>negative</th>\n",
       "      <th>positive</th>\n",
       "      <th>rating</th>\n",
       "      <th>sadness</th>\n",
       "      <th>surprise</th>\n",
       "      <th>trust</th>\n",
       "    </tr>\n",
       "  </thead>\n",
       "  <tbody>\n",
       "    <tr>\n",
       "      <th>0</th>\n",
       "      <td>NaN</td>\n",
       "      <td>0.066667</td>\n",
       "      <td>young boy finds ancient comanche monster spiri...</td>\n",
       "      <td>0.066667</td>\n",
       "      <td>0.200000</td>\n",
       "      <td>0.066667</td>\n",
       "      <td>0.333333</td>\n",
       "      <td>0.133333</td>\n",
       "      <td>PG-13</td>\n",
       "      <td>0.066667</td>\n",
       "      <td>0.066667</td>\n",
       "      <td>NaN</td>\n",
       "    </tr>\n",
       "    <tr>\n",
       "      <th>1</th>\n",
       "      <td>0.125000</td>\n",
       "      <td>NaN</td>\n",
       "      <td>lifelong friends meet weekly celebrate past pr...</td>\n",
       "      <td>NaN</td>\n",
       "      <td>0.250000</td>\n",
       "      <td>NaN</td>\n",
       "      <td>0.125000</td>\n",
       "      <td>0.250000</td>\n",
       "      <td>PG-13</td>\n",
       "      <td>0.125000</td>\n",
       "      <td>0.125000</td>\n",
       "      <td>NaN</td>\n",
       "    </tr>\n",
       "    <tr>\n",
       "      <th>2</th>\n",
       "      <td>0.095238</td>\n",
       "      <td>0.095238</td>\n",
       "      <td>struggling bronx mechanic jaden miller uses bo...</td>\n",
       "      <td>0.047619</td>\n",
       "      <td>0.047619</td>\n",
       "      <td>0.095238</td>\n",
       "      <td>0.095238</td>\n",
       "      <td>0.190476</td>\n",
       "      <td>PG-13</td>\n",
       "      <td>0.095238</td>\n",
       "      <td>NaN</td>\n",
       "      <td>0.238095</td>\n",
       "    </tr>\n",
       "    <tr>\n",
       "      <th>3</th>\n",
       "      <td>0.064516</td>\n",
       "      <td>0.032258</td>\n",
       "      <td>ex con run criminal past hides ratted chaperon...</td>\n",
       "      <td>0.064516</td>\n",
       "      <td>0.064516</td>\n",
       "      <td>0.096774</td>\n",
       "      <td>0.096774</td>\n",
       "      <td>0.193548</td>\n",
       "      <td>PG-13</td>\n",
       "      <td>0.064516</td>\n",
       "      <td>0.064516</td>\n",
       "      <td>0.258065</td>\n",
       "    </tr>\n",
       "    <tr>\n",
       "      <th>4</th>\n",
       "      <td>0.137931</td>\n",
       "      <td>0.034483</td>\n",
       "      <td>crimean war poor planning leads british light ...</td>\n",
       "      <td>0.103448</td>\n",
       "      <td>0.103448</td>\n",
       "      <td>0.034483</td>\n",
       "      <td>0.275862</td>\n",
       "      <td>0.103448</td>\n",
       "      <td>PG-13</td>\n",
       "      <td>0.034483</td>\n",
       "      <td>0.068966</td>\n",
       "      <td>0.103448</td>\n",
       "    </tr>\n",
       "  </tbody>\n",
       "</table>\n",
       "</div>"
      ],
      "text/plain": [
       "      anger  anticipation                                        description  \\\n",
       "0       NaN      0.066667  young boy finds ancient comanche monster spiri...   \n",
       "1  0.125000           NaN  lifelong friends meet weekly celebrate past pr...   \n",
       "2  0.095238      0.095238  struggling bronx mechanic jaden miller uses bo...   \n",
       "3  0.064516      0.032258  ex con run criminal past hides ratted chaperon...   \n",
       "4  0.137931      0.034483  crimean war poor planning leads british light ...   \n",
       "\n",
       "    disgust      fear       joy  negative  positive rating   sadness  \\\n",
       "0  0.066667  0.200000  0.066667  0.333333  0.133333  PG-13  0.066667   \n",
       "1       NaN  0.250000       NaN  0.125000  0.250000  PG-13  0.125000   \n",
       "2  0.047619  0.047619  0.095238  0.095238  0.190476  PG-13  0.095238   \n",
       "3  0.064516  0.064516  0.096774  0.096774  0.193548  PG-13  0.064516   \n",
       "4  0.103448  0.103448  0.034483  0.275862  0.103448  PG-13  0.034483   \n",
       "\n",
       "   surprise     trust  \n",
       "0  0.066667       NaN  \n",
       "1  0.125000       NaN  \n",
       "2       NaN  0.238095  \n",
       "3  0.064516  0.258065  \n",
       "4  0.068966  0.103448  "
      ]
     },
     "execution_count": 51,
     "metadata": {},
     "output_type": "execute_result"
    }
   ],
   "source": [
    "final_dataset.head()"
   ]
  },
  {
   "cell_type": "code",
   "execution_count": 52,
   "id": "running-orientation",
   "metadata": {
    "scrolled": true
   },
   "outputs": [
    {
     "data": {
      "text/plain": [
       "<bound method NDFrame.head of           anger  anticipation  \\\n",
       "0           NaN      0.066667   \n",
       "1      0.125000           NaN   \n",
       "2      0.095238      0.095238   \n",
       "3      0.064516      0.032258   \n",
       "4      0.137931      0.034483   \n",
       "...         ...           ...   \n",
       "15450  0.166667           NaN   \n",
       "15451  0.041667      0.041667   \n",
       "15452  0.117647           NaN   \n",
       "15453  0.103448      0.137931   \n",
       "15454       NaN      0.200000   \n",
       "\n",
       "                                             description   disgust      fear  \\\n",
       "0      young boy finds ancient comanche monster spiri...  0.066667  0.200000   \n",
       "1      lifelong friends meet weekly celebrate past pr...       NaN  0.250000   \n",
       "2      struggling bronx mechanic jaden miller uses bo...  0.047619  0.047619   \n",
       "3      ex con run criminal past hides ratted chaperon...  0.064516  0.064516   \n",
       "4      crimean war poor planning leads british light ...  0.103448  0.103448   \n",
       "...                                                  ...       ...       ...   \n",
       "15450  driving wedding los angeles mojave desert paul...       NaN  0.166667   \n",
       "15451  watching best friend get murdered group teens ...  0.083333  0.041667   \n",
       "15452  killing machine goes killing spree best friend...       NaN  0.176471   \n",
       "15453  convicted wife murderer returns year later see...  0.068966  0.103448   \n",
       "15454                                           add plot       NaN       NaN   \n",
       "\n",
       "            joy  negative  positive rating   sadness  surprise     trust  \\\n",
       "0      0.066667  0.333333  0.133333  PG-13  0.066667  0.066667       NaN   \n",
       "1           NaN  0.125000  0.250000  PG-13  0.125000  0.125000       NaN   \n",
       "2      0.095238  0.095238  0.190476  PG-13  0.095238       NaN  0.238095   \n",
       "3      0.096774  0.096774  0.193548  PG-13  0.064516  0.064516  0.258065   \n",
       "4      0.034483  0.275862  0.103448  PG-13  0.034483  0.068966  0.103448   \n",
       "...         ...       ...       ...    ...       ...       ...       ...   \n",
       "15450       NaN  0.333333  0.166667      R       NaN       NaN  0.166667   \n",
       "15451  0.041667  0.166667  0.250000      R  0.166667  0.083333  0.083333   \n",
       "15452  0.058824  0.235294  0.117647      R  0.117647       NaN  0.176471   \n",
       "15453  0.068966  0.137931  0.103448      R  0.103448  0.068966  0.103448   \n",
       "15454  0.200000       NaN  0.400000      R       NaN       NaN  0.200000   \n",
       "\n",
       "       label  \n",
       "0          3  \n",
       "1          3  \n",
       "2          3  \n",
       "3          3  \n",
       "4          3  \n",
       "...      ...  \n",
       "15450      4  \n",
       "15451      4  \n",
       "15452      4  \n",
       "15453      4  \n",
       "15454      4  \n",
       "\n",
       "[15455 rows x 13 columns]>"
      ]
     },
     "execution_count": 52,
     "metadata": {},
     "output_type": "execute_result"
    }
   ],
   "source": [
    "final_dataset['rating'] = final_dataset['rating'].astype('category')\n",
    "final_dataset['label'] = final_dataset['rating'].cat.codes\n",
    "final_dataset.head"
   ]
  },
  {
   "cell_type": "code",
   "execution_count": 53,
   "id": "aggressive-subject",
   "metadata": {},
   "outputs": [],
   "source": [
    "# Word Vectorization\n",
    "tfidf = TfidfVectorizer( max_df=0.8, max_features=10000)\n",
    "X = final_dataset['description']\n",
    "Y = final_dataset['label']"
   ]
  },
  {
   "cell_type": "code",
   "execution_count": 54,
   "id": "coupled-seafood",
   "metadata": {},
   "outputs": [],
   "source": [
    "X_train, X_test, Y_train, Y_test = train_test_split( X, Y, test_size=0.2, random_state=0 )"
   ]
  },
  {
   "cell_type": "code",
   "execution_count": 55,
   "id": "distinct-membrane",
   "metadata": {},
   "outputs": [],
   "source": [
    "x_train_tfidf = tfidf.fit_transform(X_train)\n",
    "xval_tfidf = tfidf.transform(X_test)"
   ]
  },
  {
   "cell_type": "code",
   "execution_count": 56,
   "id": "loved-milton",
   "metadata": {},
   "outputs": [],
   "source": [
    "lr = LogisticRegression()\n",
    "clf = OneVsRestClassifier(lr)"
   ]
  },
  {
   "cell_type": "code",
   "execution_count": 57,
   "id": "eastern-functionality",
   "metadata": {},
   "outputs": [
    {
     "data": {
      "text/plain": [
       "OneVsRestClassifier(estimator=LogisticRegression())"
      ]
     },
     "execution_count": 57,
     "metadata": {},
     "output_type": "execute_result"
    }
   ],
   "source": [
    "clf.fit(x_train_tfidf, Y_train)"
   ]
  },
  {
   "cell_type": "code",
   "execution_count": 58,
   "id": "taken-elevation",
   "metadata": {},
   "outputs": [],
   "source": [
    "y_pred = clf.predict(xval_tfidf)"
   ]
  },
  {
   "cell_type": "code",
   "execution_count": 59,
   "id": "appreciated-acoustic",
   "metadata": {},
   "outputs": [
    {
     "data": {
      "text/plain": [
       "0.4348107408605629"
      ]
     },
     "execution_count": 59,
     "metadata": {},
     "output_type": "execute_result"
    }
   ],
   "source": [
    "# Evaluate the performance of the classifier\n",
    "f1_score(Y_test, y_pred, average=\"micro\")"
   ]
  },
  {
   "cell_type": "code",
   "execution_count": 60,
   "id": "guilty-arkansas",
   "metadata": {},
   "outputs": [],
   "source": [
    "## NN"
   ]
  },
  {
   "cell_type": "code",
   "execution_count": 61,
   "id": "uniform-clerk",
   "metadata": {},
   "outputs": [
    {
     "name": "stdout",
     "output_type": "stream",
     "text": [
      "Iteration 1, loss = 1.48860890\n",
      "Iteration 2, loss = 1.43572938\n",
      "Iteration 3, loss = 1.33107131\n",
      "Iteration 4, loss = 1.21709775\n",
      "Iteration 5, loss = 1.12185441\n",
      "Iteration 6, loss = 1.03576673\n",
      "Iteration 7, loss = 0.95769420\n",
      "Iteration 8, loss = 0.87959778\n",
      "Iteration 9, loss = 0.80401978\n",
      "Iteration 10, loss = 0.73312707\n",
      "Iteration 11, loss = 0.66963183\n",
      "Iteration 12, loss = 0.61445226\n",
      "Iteration 13, loss = 0.56246312\n",
      "Iteration 14, loss = 0.51277419\n",
      "Iteration 15, loss = 0.46696920\n",
      "Iteration 16, loss = 0.42304897\n",
      "Iteration 17, loss = 0.38169809\n",
      "Iteration 18, loss = 0.34243812\n",
      "Iteration 19, loss = 0.30775607\n",
      "Iteration 20, loss = 0.27336689\n",
      "Iteration 21, loss = 0.24381450\n",
      "Iteration 22, loss = 0.21775728\n",
      "Iteration 23, loss = 0.19527435\n",
      "Iteration 24, loss = 0.17540526\n",
      "Iteration 25, loss = 0.15876844\n",
      "Iteration 26, loss = 0.14486548\n",
      "Iteration 27, loss = 0.13182639\n",
      "Iteration 28, loss = 0.12164035\n",
      "Iteration 29, loss = 0.11335333\n",
      "Iteration 30, loss = 0.10415419\n",
      "Iteration 31, loss = 0.09928230\n",
      "Iteration 32, loss = 0.09172178\n",
      "Iteration 33, loss = 0.08563428\n",
      "Iteration 34, loss = 0.08266718\n",
      "Iteration 35, loss = 0.07894690\n",
      "Iteration 36, loss = 0.07337702\n",
      "Iteration 37, loss = 0.07163036\n",
      "Iteration 38, loss = 0.07005393\n",
      "Iteration 39, loss = 0.06728118\n",
      "Iteration 40, loss = 0.06585702\n",
      "Iteration 41, loss = 0.06537753\n",
      "Iteration 42, loss = 0.06392359\n",
      "Iteration 43, loss = 0.06194784\n",
      "Iteration 44, loss = 0.05921852\n",
      "Iteration 45, loss = 0.05805557\n",
      "Iteration 46, loss = 0.05761114\n",
      "Iteration 47, loss = 0.05608690\n",
      "Iteration 48, loss = 0.05589569\n",
      "Iteration 49, loss = 0.05456121\n",
      "Iteration 50, loss = 0.05260968\n",
      "Iteration 51, loss = 0.05132838\n",
      "Iteration 52, loss = 0.05235009\n",
      "Iteration 53, loss = 0.05078773\n",
      "Iteration 54, loss = 0.04955870\n",
      "Iteration 55, loss = 0.04909765\n",
      "Iteration 56, loss = 0.04886661\n",
      "Iteration 57, loss = 0.04831543\n",
      "Iteration 58, loss = 0.04780980\n",
      "Iteration 59, loss = 0.04778926\n",
      "Iteration 60, loss = 0.04771382\n",
      "Iteration 61, loss = 0.04647339\n",
      "Iteration 62, loss = 0.04539504\n",
      "Iteration 63, loss = 0.04659020\n",
      "Iteration 64, loss = 0.04624142\n",
      "Iteration 65, loss = 0.04486536\n",
      "Iteration 66, loss = 0.04506240\n",
      "Iteration 67, loss = 0.04543320\n",
      "Iteration 68, loss = 0.04488280\n",
      "Iteration 69, loss = 0.04536521\n",
      "Iteration 70, loss = 0.04324303\n",
      "Iteration 71, loss = 0.04373607\n",
      "Iteration 72, loss = 0.04357012\n",
      "Iteration 73, loss = 0.04413747\n",
      "Iteration 74, loss = 0.04303445\n",
      "Iteration 75, loss = 0.04367152\n",
      "Iteration 76, loss = 0.04291731\n",
      "Iteration 77, loss = 0.04315981\n",
      "Iteration 78, loss = 0.04267789\n",
      "Iteration 79, loss = 0.04285889\n",
      "Iteration 80, loss = 0.04181366\n",
      "Iteration 81, loss = 0.04271155\n",
      "Iteration 82, loss = 0.04225017\n",
      "Iteration 83, loss = 0.04193491\n",
      "Iteration 84, loss = 0.04143034\n",
      "Iteration 85, loss = 0.04364388\n",
      "Iteration 86, loss = 0.04230872\n",
      "Iteration 87, loss = 0.04120006\n",
      "Iteration 88, loss = 0.04153457\n",
      "Iteration 89, loss = 0.04148241\n",
      "Iteration 90, loss = 0.04156876\n",
      "Iteration 91, loss = 0.04197339\n",
      "Iteration 92, loss = 0.04094127\n",
      "Iteration 93, loss = 0.04068947\n",
      "Iteration 94, loss = 0.04138656\n",
      "Iteration 95, loss = 0.04219615\n",
      "Iteration 96, loss = 0.04061714\n",
      "Iteration 97, loss = 0.04003727\n",
      "Iteration 98, loss = 0.04002144\n",
      "Iteration 99, loss = 0.04045115\n",
      "Iteration 100, loss = 0.03997093\n",
      "Iteration 101, loss = 0.04028493\n",
      "Iteration 102, loss = 0.04005824\n",
      "Iteration 103, loss = 0.04070076\n",
      "Iteration 104, loss = 0.03984556\n",
      "Iteration 105, loss = 0.03905135\n",
      "Iteration 106, loss = 0.04075399\n",
      "Iteration 107, loss = 0.03939836\n",
      "Iteration 108, loss = 0.04103436\n",
      "Iteration 109, loss = 0.04123577\n",
      "Iteration 110, loss = 0.03965852\n",
      "Iteration 111, loss = 0.03941041\n",
      "Iteration 112, loss = 0.03977778\n",
      "Iteration 113, loss = 0.04008895\n",
      "Iteration 114, loss = 0.03945320\n",
      "Iteration 115, loss = 0.03901695\n",
      "Iteration 116, loss = 0.03958763\n",
      "Training loss did not improve more than tol=0.000100 for 10 consecutive epochs. Stopping.\n"
     ]
    },
    {
     "data": {
      "text/plain": [
       "MLPClassifier(hidden_layer_sizes=(10, 10, 10), max_iter=300, random_state=1,\n",
       "              verbose=True)"
      ]
     },
     "execution_count": 61,
     "metadata": {},
     "output_type": "execute_result"
    }
   ],
   "source": [
    "from sklearn.neural_network import MLPClassifier\n",
    "clf = MLPClassifier(max_iter=300, hidden_layer_sizes=(10, 10, 10), random_state=1, verbose=True )\n",
    "clf.fit(x_train_tfidf, Y_train)"
   ]
  },
  {
   "cell_type": "code",
   "execution_count": 62,
   "id": "hydraulic-architect",
   "metadata": {},
   "outputs": [],
   "source": [
    "y_pred = clf.predict(xval_tfidf)"
   ]
  },
  {
   "cell_type": "code",
   "execution_count": 63,
   "id": "hungry-jenny",
   "metadata": {},
   "outputs": [
    {
     "data": {
      "text/plain": [
       "0.36266580394694276"
      ]
     },
     "execution_count": 63,
     "metadata": {},
     "output_type": "execute_result"
    }
   ],
   "source": [
    "# Evaluate the performance of the classifier\n",
    "f1_score(Y_test, y_pred, average=\"micro\")"
   ]
  },
  {
   "cell_type": "code",
   "execution_count": 64,
   "id": "running-attitude",
   "metadata": {},
   "outputs": [
    {
     "name": "stdout",
     "output_type": "stream",
     "text": [
      "[[ 82   0 155 120  22]\n",
      " [  0   0   3   5   3]\n",
      " [136   0 434 422 151]\n",
      " [106   0 361 508 204]\n",
      " [ 19   0  95 168  97]]\n",
      "              precision    recall  f1-score   support\n",
      "\n",
      "           0       0.24      0.22      0.23       379\n",
      "           1       0.00      0.00      0.00        11\n",
      "           2       0.41      0.38      0.40      1143\n",
      "           3       0.42      0.43      0.42      1179\n",
      "           4       0.20      0.26      0.23       379\n",
      "\n",
      "    accuracy                           0.36      3091\n",
      "   macro avg       0.25      0.26      0.25      3091\n",
      "weighted avg       0.37      0.36      0.36      3091\n",
      "\n"
     ]
    },
    {
     "name": "stderr",
     "output_type": "stream",
     "text": [
      "/home/mahesh/Documents/GITHUB/GITHUB/MovieMetaPredict/models/classification/venv/lib/python3.8/site-packages/sklearn/metrics/_classification.py:1245: UndefinedMetricWarning: Precision and F-score are ill-defined and being set to 0.0 in labels with no predicted samples. Use `zero_division` parameter to control this behavior.\n",
      "  _warn_prf(average, modifier, msg_start, len(result))\n",
      "/home/mahesh/Documents/GITHUB/GITHUB/MovieMetaPredict/models/classification/venv/lib/python3.8/site-packages/sklearn/metrics/_classification.py:1245: UndefinedMetricWarning: Precision and F-score are ill-defined and being set to 0.0 in labels with no predicted samples. Use `zero_division` parameter to control this behavior.\n",
      "  _warn_prf(average, modifier, msg_start, len(result))\n",
      "/home/mahesh/Documents/GITHUB/GITHUB/MovieMetaPredict/models/classification/venv/lib/python3.8/site-packages/sklearn/metrics/_classification.py:1245: UndefinedMetricWarning: Precision and F-score are ill-defined and being set to 0.0 in labels with no predicted samples. Use `zero_division` parameter to control this behavior.\n",
      "  _warn_prf(average, modifier, msg_start, len(result))\n"
     ]
    }
   ],
   "source": [
    "from sklearn.metrics import classification_report, confusion_matrix\n",
    "print(confusion_matrix(Y_test,y_pred))\n",
    "print(classification_report(Y_test,y_pred))"
   ]
  },
  {
   "cell_type": "code",
   "execution_count": null,
   "id": "artificial-knock",
   "metadata": {},
   "outputs": [],
   "source": []
  }
 ],
 "metadata": {
  "kernelspec": {
   "display_name": "Python 3",
   "language": "python",
   "name": "python3"
  },
  "language_info": {
   "codemirror_mode": {
    "name": "ipython",
    "version": 3
   },
   "file_extension": ".py",
   "mimetype": "text/x-python",
   "name": "python",
   "nbconvert_exporter": "python",
   "pygments_lexer": "ipython3",
   "version": "3.9.2"
  }
 },
 "nbformat": 4,
 "nbformat_minor": 5
}
