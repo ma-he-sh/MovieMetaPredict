{
 "cells": [
  {
   "cell_type": "markdown",
   "id": "recognized-television",
   "metadata": {},
   "source": [
    "## MPAA rating prediction"
   ]
  },
  {
   "cell_type": "code",
   "execution_count": 65,
   "id": "instant-angel",
   "metadata": {},
   "outputs": [],
   "source": [
    "import pandas as pd\n",
    "import numpy as np\n",
    "import warnings\n",
    "import re\n",
    "import pickle\n",
    "import seaborn as sns\n",
    "\n",
    "%matplotlib inline\n",
    "warnings.filterwarnings('ignore')"
   ]
  },
  {
   "cell_type": "markdown",
   "id": "featured-freight",
   "metadata": {},
   "source": [
    "Import dataset :: imdb dataset"
   ]
  },
  {
   "cell_type": "code",
   "execution_count": 66,
   "id": "arbitrary-advisory",
   "metadata": {},
   "outputs": [
    {
     "data": {
      "text/plain": [
       "(15455, 41)"
      ]
     },
     "execution_count": 66,
     "metadata": {},
     "output_type": "execute_result"
    }
   ],
   "source": [
    "from dataset import get_dataframe\n",
    "dataset = get_dataframe('./dataset_cleaned_emotions')\n",
    "\n",
    "dataset.head()\n",
    "dataset.shape"
   ]
  },
  {
   "cell_type": "code",
   "execution_count": 67,
   "id": "pharmaceutical-fault",
   "metadata": {},
   "outputs": [
    {
     "data": {
      "text/plain": [
       "(15455, 41)"
      ]
     },
     "execution_count": 67,
     "metadata": {},
     "output_type": "execute_result"
    }
   ],
   "source": [
    "## Clean data\n",
    "dataset.dropna()\n",
    "dataset.columns = dataset.columns.str.replace(\" \", \"\")\n",
    "#dataset = dataset[dataset.synopsis != ''] # cannot do this\n",
    "dataset = dataset[dataset.clean_description != '']\n",
    "#dataset = dataset[dataset.clean_storyline != '']\n",
    "dataset.shape"
   ]
  },
  {
   "cell_type": "markdown",
   "id": "stone-bolivia",
   "metadata": {},
   "source": [
    "## Prepare data"
   ]
  },
  {
   "cell_type": "code",
   "execution_count": 68,
   "id": "chief-click",
   "metadata": {},
   "outputs": [],
   "source": [
    "dataset_df = pd.DataFrame()\n",
    "for index, row in dataset.iterrows():\n",
    "    try:\n",
    "        new_row = {\n",
    "            \"Title\"    : row[\"name\"],\n",
    "            \"Description\" : row[\"clean_description\"],\n",
    "            \"negative\" : row[\"negative\"],\n",
    "            \"sadness\"  : row[\"sadness\"],\n",
    "            \"trust\"    : row[\"trust\"],\n",
    "            \"anger\"    : row[\"anger\"],\n",
    "            \"positive\" : row[\"positive\"],\n",
    "            \"fear\"     : row[\"fear\"],\n",
    "            \"disgust\"  : row[\"disgust\"],\n",
    "            \"surprise\" : row[\"surprise\"],\n",
    "            \"anticipation\"  : row[\"anticipation\"],\n",
    "            \"joy\"  : row[\"joy\"],\n",
    "            \"Rating\" : row[\"rating\"]\n",
    "        }\n",
    "        dataset_df = dataset_df.append( new_row, ignore_index=True )\n",
    "    except Exception as ex:\n",
    "        continue"
   ]
  },
  {
   "cell_type": "code",
   "execution_count": null,
   "id": "known-nurse",
   "metadata": {},
   "outputs": [],
   "source": []
  },
  {
   "cell_type": "code",
   "execution_count": 69,
   "id": "harmful-developer",
   "metadata": {},
   "outputs": [
    {
     "data": {
      "text/html": [
       "<div>\n",
       "<style scoped>\n",
       "    .dataframe tbody tr th:only-of-type {\n",
       "        vertical-align: middle;\n",
       "    }\n",
       "\n",
       "    .dataframe tbody tr th {\n",
       "        vertical-align: top;\n",
       "    }\n",
       "\n",
       "    .dataframe thead th {\n",
       "        text-align: right;\n",
       "    }\n",
       "</style>\n",
       "<table border=\"1\" class=\"dataframe\">\n",
       "  <thead>\n",
       "    <tr style=\"text-align: right;\">\n",
       "      <th></th>\n",
       "      <th>Title</th>\n",
       "      <th>Rating</th>\n",
       "      <th>Description</th>\n",
       "    </tr>\n",
       "  </thead>\n",
       "  <tbody>\n",
       "    <tr>\n",
       "      <th>0</th>\n",
       "      <td>The Cellar</td>\n",
       "      <td>PG-13</td>\n",
       "      <td>young boy finds ancient comanche monster spiri...</td>\n",
       "    </tr>\n",
       "    <tr>\n",
       "      <th>1</th>\n",
       "      <td>The Cemetery Club</td>\n",
       "      <td>PG-13</td>\n",
       "      <td>lifelong friends meet weekly celebrate past pr...</td>\n",
       "    </tr>\n",
       "    <tr>\n",
       "      <th>2</th>\n",
       "      <td>The Challenger</td>\n",
       "      <td>PG-13</td>\n",
       "      <td>struggling bronx mechanic jaden miller uses bo...</td>\n",
       "    </tr>\n",
       "    <tr>\n",
       "      <th>3</th>\n",
       "      <td>The Chaperone</td>\n",
       "      <td>PG-13</td>\n",
       "      <td>ex con run criminal past hides ratted chaperon...</td>\n",
       "    </tr>\n",
       "  </tbody>\n",
       "</table>\n",
       "</div>"
      ],
      "text/plain": [
       "               Title Rating                                        Description\n",
       "0         The Cellar  PG-13  young boy finds ancient comanche monster spiri...\n",
       "1  The Cemetery Club  PG-13  lifelong friends meet weekly celebrate past pr...\n",
       "2     The Challenger  PG-13  struggling bronx mechanic jaden miller uses bo...\n",
       "3      The Chaperone  PG-13  ex con run criminal past hides ratted chaperon..."
      ]
     },
     "execution_count": 69,
     "metadata": {},
     "output_type": "execute_result"
    }
   ],
   "source": [
    "dataset_df = dataset_df[['Title', 'Rating', 'Description']]\n",
    "dataset_df.columns = dataset_df.columns.str.strip()\n",
    "dataset_df.head(4)"
   ]
  },
  {
   "cell_type": "code",
   "execution_count": 70,
   "id": "japanese-costa",
   "metadata": {},
   "outputs": [
    {
     "data": {
      "text/plain": [
       "array(['PG-13', 'PG', 'R', 'G', 'NC-17'], dtype=object)"
      ]
     },
     "execution_count": 70,
     "metadata": {},
     "output_type": "execute_result"
    }
   ],
   "source": [
    "# finding unique mpaa rating in the dataset\n",
    "dataset_df['Rating'].unique()"
   ]
  },
  {
   "cell_type": "code",
   "execution_count": 71,
   "id": "developed-craft",
   "metadata": {},
   "outputs": [
    {
     "data": {
      "text/plain": [
       "array(['PG-13', 'PG', 'R', 'G', 'NC-17'], dtype=object)"
      ]
     },
     "execution_count": 71,
     "metadata": {},
     "output_type": "execute_result"
    }
   ],
   "source": [
    "# clean mpaa ratings\n",
    "mpaa_fix = {\n",
    "    'PG-13 ' : 'PG-13',\n",
    "    'R ' : 'R',\n",
    "    'PG ': 'PG',\n",
    "    'G ' : 'G',\n",
    "    'NR ': 'NR',\n",
    "    'NC17 ': 'NC17'\n",
    "}\n",
    "for i, rating in dataset_df['Rating'].iteritems():\n",
    "    if rating in mpaa_fix.keys():\n",
    "        fix_val = mpaa_fix.get(rating)\n",
    "        dataset_df.iloc[i]['Rating'] = fix_val\n",
    "dataset_df['Rating'].unique()"
   ]
  },
  {
   "cell_type": "code",
   "execution_count": 72,
   "id": "stopped-retention",
   "metadata": {},
   "outputs": [],
   "source": [
    "# Clean the movie description\n",
    "def clean_description( text_str ):\n",
    "    text = re.sub('[^a-zA-Z]',  ' ', text_str)\n",
    "    text = re.sub(r'\\s+[a-zA-Z]\\s+', ' ', text)\n",
    "    text = re.sub(r'\\s+', ' ', text)\n",
    "    return text\n",
    "\n",
    "for i, description in dataset_df['Description'].iteritems():\n",
    "    dataset_df.iloc[i]['Description'] = clean_description( str(description) )"
   ]
  },
  {
   "cell_type": "markdown",
   "id": "nearby-planner",
   "metadata": {},
   "source": [
    "## Data Distribution"
   ]
  },
  {
   "cell_type": "code",
   "execution_count": 73,
   "id": "respective-timer",
   "metadata": {},
   "outputs": [
    {
     "data": {
      "image/png": "[encoded data removed]",
      "text/plain": [
       "<Figure size 576x432 with 1 Axes>"
      ]
     },
     "metadata": {
      "needs_background": "light"
     },
     "output_type": "display_data"
    }
   ],
   "source": [
    "import matplotlib.pyplot as plt\n",
    "fig = plt.figure(figsize=(8,6))\n",
    "dataset_df.groupby('Rating')['Description'].count().plot.bar(ylim=0)\n",
    "plt.show()"
   ]
  },
  {
   "cell_type": "code",
   "execution_count": 74,
   "id": "constitutional-mixture",
   "metadata": {},
   "outputs": [],
   "source": [
    "## drop NC-17\n",
    "dataset_df = dataset_df[dataset_df.Rating != 'NC-17'] "
   ]
  },
  {
   "cell_type": "code",
   "execution_count": 75,
   "id": "single-float",
   "metadata": {},
   "outputs": [
    {
     "data": {
      "image/png": "[encoded data removed]",
      "text/plain": [
       "<Figure size 576x432 with 1 Axes>"
      ]
     },
     "metadata": {
      "needs_background": "light"
     },
     "output_type": "display_data"
    }
   ],
   "source": [
    "fig = plt.figure(figsize=(8,6))\n",
    "dataset_df.groupby('Rating')['Description'].count().plot.bar(ylim=0)\n",
    "plt.show()"
   ]
  },
  {
   "cell_type": "code",
   "execution_count": 76,
   "id": "atmospheric-southwest",
   "metadata": {},
   "outputs": [],
   "source": [
    "pickle.dump(dataset_df, open('./data/dataset_df_imdb_cleaned.pkl', 'wb'))"
   ]
  },
  {
   "cell_type": "markdown",
   "id": "posted-entrance",
   "metadata": {},
   "source": [
    "## Training model"
   ]
  },
  {
   "cell_type": "code",
   "execution_count": 77,
   "id": "configured-skiing",
   "metadata": {},
   "outputs": [],
   "source": [
    "training_df = pickle.load( open('./data/dataset_df_imdb_cleaned.pkl', 'rb') )"
   ]
  },
  {
   "cell_type": "code",
   "execution_count": 78,
   "id": "fresh-mechanism",
   "metadata": {},
   "outputs": [],
   "source": [
    "from sklearn.model_selection import train_test_split\n",
    "from sklearn.preprocessing import LabelEncoder\n",
    "from keras.preprocessing.text import one_hot, Tokenizer\n",
    "from keras.preprocessing.sequence import pad_sequences\n",
    "from keras.utils import to_categorical\n",
    "from keras.models import Sequential, load_model\n",
    "from keras.layers import Dense, Flatten, LSTM, Embedding, GlobalMaxPooling1D"
   ]
  },
  {
   "cell_type": "code",
   "execution_count": 79,
   "id": "interesting-device",
   "metadata": {},
   "outputs": [
    {
     "data": {
      "text/plain": [
       "array([2, 2, 2, ..., 3, 3, 3])"
      ]
     },
     "execution_count": 79,
     "metadata": {},
     "output_type": "execute_result"
    }
   ],
   "source": [
    "_y = training_df['Rating']\n",
    "encoder = LabelEncoder()\n",
    "Y = encoder.fit_transform(_y)\n",
    "Y"
   ]
  },
  {
   "cell_type": "code",
   "execution_count": 80,
   "id": "focused-evidence",
   "metadata": {},
   "outputs": [
    {
     "data": {
      "text/plain": [
       "0        young boy finds ancient comanche monster spiri...\n",
       "1        lifelong friends meet weekly celebrate past pr...\n",
       "2        struggling bronx mechanic jaden miller uses bo...\n",
       "3        ex con run criminal past hides ratted chaperon...\n",
       "4        crimean war poor planning leads british light ...\n",
       "                               ...                        \n",
       "15450    driving wedding los angeles mojave desert paul...\n",
       "15451    watching best friend get murdered group teens ...\n",
       "15452    killing machine goes killing spree best friend...\n",
       "15453    convicted wife murderer returns year later see...\n",
       "15454                                             add plot\n",
       "Name: Description, Length: 15381, dtype: object"
      ]
     },
     "execution_count": 80,
     "metadata": {},
     "output_type": "execute_result"
    }
   ],
   "source": [
    "X = training_df['Description']\n",
    "X"
   ]
  },
  {
   "cell_type": "markdown",
   "id": "changing-internship",
   "metadata": {},
   "source": [
    "## Train, test split"
   ]
  },
  {
   "cell_type": "code",
   "execution_count": 81,
   "id": "universal-split",
   "metadata": {},
   "outputs": [],
   "source": [
    "X_train, X_test, Y_train, Y_test = train_test_split( X, Y, test_size=0.3, random_state=40 )"
   ]
  },
  {
   "cell_type": "code",
   "execution_count": 82,
   "id": "animal-mount",
   "metadata": {},
   "outputs": [],
   "source": [
    "Y_train = to_categorical(Y_train)\n",
    "Y_test  = to_categorical(Y_test)"
   ]
  },
  {
   "cell_type": "code",
   "execution_count": 83,
   "id": "charming-sydney",
   "metadata": {},
   "outputs": [],
   "source": [
    "tokenizer = Tokenizer(num_words=10000)\n",
    "tokenizer.fit_on_texts(X_train)"
   ]
  },
  {
   "cell_type": "code",
   "execution_count": 84,
   "id": "reported-hayes",
   "metadata": {},
   "outputs": [],
   "source": [
    "X_train = tokenizer.texts_to_sequences(X_train)\n",
    "X_test  = tokenizer.texts_to_sequences(X_test)"
   ]
  },
  {
   "cell_type": "code",
   "execution_count": 85,
   "id": "expected-hunter",
   "metadata": {},
   "outputs": [],
   "source": [
    "vocabulary_size = len(tokenizer.word_index) + 1\n",
    "maxlen = 400 # Only concider first 400 words of each description\n",
    "\n",
    "X_train = pad_sequences( X_train, maxlen=maxlen )\n",
    "X_test  = pad_sequences( X_test, maxlen=maxlen )"
   ]
  },
  {
   "cell_type": "markdown",
   "id": "ruled-memphis",
   "metadata": {},
   "source": [
    "## Use GloVe : Global Vectors for Word Representation\n",
    "https://nlp.stanford.edu/projects/glove/\n",
    "\n",
    "GloVe is an unsupervised learning algorithm for obtaining vector representations for words. Training is performed on aggregated global word-word co-occurrence statistics from a corpus, and the resulting representations showcase interesting linear substructures of the word vector space. "
   ]
  },
  {
   "cell_type": "code",
   "execution_count": 86,
   "id": "chronic-perception",
   "metadata": {},
   "outputs": [],
   "source": [
    "glove_file = open('./glove.6B/glove.6B.100d.txt', encoding='utf8')"
   ]
  },
  {
   "cell_type": "code",
   "execution_count": 87,
   "id": "polished-oxford",
   "metadata": {},
   "outputs": [],
   "source": [
    "embedd_dictionary = dict()\n",
    "for line in glove_file:\n",
    "    records = line.split()\n",
    "    word = records[0]\n",
    "    vector_dims = np.asarray(records[1:], dtype='float32')\n",
    "    embedd_dictionary[word] = vector_dims\n",
    "\n",
    "glove_file.close()"
   ]
  },
  {
   "cell_type": "code",
   "execution_count": 88,
   "id": "random-anxiety",
   "metadata": {},
   "outputs": [],
   "source": [
    "embedd_matrix = np.zeros((vocabulary_size, 100))\n",
    "for word, index in tokenizer.word_index.items():\n",
    "    embedd_vector = embedd_dictionary.get(word)\n",
    "    if embedd_vector is not None:\n",
    "        embedd_matrix[index] = embedd_vector"
   ]
  },
  {
   "cell_type": "markdown",
   "id": "posted-disney",
   "metadata": {},
   "source": [
    "## Build the NN Model"
   ]
  },
  {
   "cell_type": "code",
   "execution_count": 91,
   "id": "exempt-likelihood",
   "metadata": {},
   "outputs": [
    {
     "name": "stdout",
     "output_type": "stream",
     "text": [
      "Model: \"sequential_3\"\n",
      "_________________________________________________________________\n",
      "Layer (type)                 Output Shape              Param #   \n",
      "=================================================================\n",
      "embedding_3 (Embedding)      (None, None, 100)         2216400   \n",
      "_________________________________________________________________\n",
      "lstm_3 (LSTM)                (None, 128)               117248    \n",
      "_________________________________________________________________\n",
      "dense_3 (Dense)              (None, 4)                 516       \n",
      "=================================================================\n",
      "Total params: 2,334,164\n",
      "Trainable params: 117,764\n",
      "Non-trainable params: 2,216,400\n",
      "_________________________________________________________________\n"
     ]
    }
   ],
   "source": [
    "model = Sequential()\n",
    "model.add(Embedding(input_dim=vocabulary_size, output_dim=100, weights=[embedd_matrix], trainable=False))\n",
    "model.add(LSTM(units=128, dropout=0.2, recurrent_dropout=0.2))\n",
    "model.add(Dense(4, activation='softmax'))\n",
    "model.compile(loss='categorical_crossentropy', optimizer='adam', metrics=['accuracy'])\n",
    "model.summary()"
   ]
  },
  {
   "cell_type": "code",
   "execution_count": 92,
   "id": "imposed-french",
   "metadata": {},
   "outputs": [
    {
     "name": "stdout",
     "output_type": "stream",
     "text": [
      "Epoch 1/40\n",
      "59/59 [==============================] - 39s 638ms/step - loss: 1.2765 - accuracy: 0.3648 - val_loss: 1.1865 - val_accuracy: 0.4477\n",
      "Epoch 2/40\n",
      "59/59 [==============================] - 42s 715ms/step - loss: 1.1703 - accuracy: 0.4424 - val_loss: 1.1713 - val_accuracy: 0.4477\n",
      "Epoch 3/40\n",
      "59/59 [==============================] - 42s 719ms/step - loss: 1.1504 - accuracy: 0.4575 - val_loss: 1.1690 - val_accuracy: 0.4406\n",
      "Epoch 4/40\n",
      "59/59 [==============================] - 42s 714ms/step - loss: 1.1465 - accuracy: 0.4561 - val_loss: 1.1659 - val_accuracy: 0.4517\n",
      "Epoch 5/40\n",
      "59/59 [==============================] - 42s 714ms/step - loss: 1.1339 - accuracy: 0.4784 - val_loss: 1.1634 - val_accuracy: 0.4539\n",
      "Epoch 6/40\n",
      "59/59 [==============================] - 44s 740ms/step - loss: 1.1285 - accuracy: 0.4738 - val_loss: 1.1618 - val_accuracy: 0.4486\n",
      "Epoch 7/40\n",
      "59/59 [==============================] - 41s 695ms/step - loss: 1.1054 - accuracy: 0.5078 - val_loss: 1.1942 - val_accuracy: 0.4452\n",
      "Epoch 8/40\n",
      "59/59 [==============================] - 41s 701ms/step - loss: 1.0814 - accuracy: 0.5178 - val_loss: 1.1741 - val_accuracy: 0.4480\n",
      "Epoch 9/40\n",
      "59/59 [==============================] - 43s 733ms/step - loss: 1.0577 - accuracy: 0.5248 - val_loss: 1.1866 - val_accuracy: 0.4415\n",
      "Epoch 10/40\n",
      "59/59 [==============================] - 44s 745ms/step - loss: 1.0396 - accuracy: 0.5318 - val_loss: 1.1992 - val_accuracy: 0.4186\n",
      "Epoch 11/40\n",
      "59/59 [==============================] - 44s 739ms/step - loss: 1.0184 - accuracy: 0.5519 - val_loss: 1.1885 - val_accuracy: 0.4480\n",
      "Epoch 12/40\n",
      "59/59 [==============================] - 45s 766ms/step - loss: 0.9845 - accuracy: 0.5763 - val_loss: 1.2207 - val_accuracy: 0.4409\n",
      "Epoch 13/40\n",
      "59/59 [==============================] - 49s 839ms/step - loss: 0.9733 - accuracy: 0.5811 - val_loss: 1.2359 - val_accuracy: 0.4396\n",
      "Epoch 14/40\n",
      "59/59 [==============================] - 46s 787ms/step - loss: 0.9360 - accuracy: 0.6118 - val_loss: 1.2340 - val_accuracy: 0.4368\n",
      "Epoch 15/40\n",
      "59/59 [==============================] - 44s 738ms/step - loss: 0.9107 - accuracy: 0.6074 - val_loss: 1.2638 - val_accuracy: 0.4359\n",
      "Epoch 16/40\n",
      "59/59 [==============================] - 44s 749ms/step - loss: 0.8662 - accuracy: 0.6416 - val_loss: 1.2876 - val_accuracy: 0.4136\n",
      "Epoch 17/40\n",
      "59/59 [==============================] - 69s 1s/step - loss: 0.8630 - accuracy: 0.6306 - val_loss: 1.3223 - val_accuracy: 0.4235\n",
      "Epoch 18/40\n",
      "59/59 [==============================] - 74s 1s/step - loss: 0.8074 - accuracy: 0.6625 - val_loss: 1.3215 - val_accuracy: 0.4084\n",
      "Epoch 19/40\n",
      "59/59 [==============================] - 78s 1s/step - loss: 0.7628 - accuracy: 0.6927 - val_loss: 1.3718 - val_accuracy: 0.4220\n",
      "Epoch 20/40\n",
      "59/59 [==============================] - 78s 1s/step - loss: 0.7348 - accuracy: 0.6926 - val_loss: 1.4170 - val_accuracy: 0.4189\n",
      "Epoch 21/40\n",
      "59/59 [==============================] - 76s 1s/step - loss: 0.6942 - accuracy: 0.7087 - val_loss: 1.4314 - val_accuracy: 0.4279\n",
      "Epoch 22/40\n",
      "59/59 [==============================] - 71s 1s/step - loss: 0.6625 - accuracy: 0.7328 - val_loss: 1.4998 - val_accuracy: 0.4257\n",
      "Epoch 23/40\n",
      "59/59 [==============================] - 71s 1s/step - loss: 0.6345 - accuracy: 0.7527 - val_loss: 1.5063 - val_accuracy: 0.4084\n",
      "Epoch 24/40\n",
      "59/59 [==============================] - 69s 1s/step - loss: 0.6206 - accuracy: 0.7544 - val_loss: 1.5512 - val_accuracy: 0.4167\n",
      "Epoch 25/40\n",
      "59/59 [==============================] - 70s 1s/step - loss: 0.5813 - accuracy: 0.7751 - val_loss: 1.6170 - val_accuracy: 0.4108\n",
      "Epoch 26/40\n",
      "59/59 [==============================] - 73s 1s/step - loss: 0.5517 - accuracy: 0.7812 - val_loss: 1.6939 - val_accuracy: 0.4133\n",
      "Epoch 27/40\n",
      "59/59 [==============================] - 73s 1s/step - loss: 0.5220 - accuracy: 0.8032 - val_loss: 1.6714 - val_accuracy: 0.4053\n",
      "Epoch 28/40\n",
      "59/59 [==============================] - 71s 1s/step - loss: 0.5008 - accuracy: 0.8083 - val_loss: 1.6923 - val_accuracy: 0.4142\n",
      "Epoch 29/40\n",
      "59/59 [==============================] - 69s 1s/step - loss: 0.4723 - accuracy: 0.8198 - val_loss: 1.7172 - val_accuracy: 0.4257\n",
      "Epoch 30/40\n",
      "59/59 [==============================] - 70s 1s/step - loss: 0.4479 - accuracy: 0.8312 - val_loss: 1.7673 - val_accuracy: 0.4167\n",
      "Epoch 31/40\n",
      "59/59 [==============================] - 73s 1s/step - loss: 0.4270 - accuracy: 0.8463 - val_loss: 1.8387 - val_accuracy: 0.4248\n",
      "Epoch 32/40\n",
      "59/59 [==============================] - 77s 1s/step - loss: 0.4230 - accuracy: 0.8378 - val_loss: 1.8103 - val_accuracy: 0.4164\n",
      "Epoch 33/40\n",
      "59/59 [==============================] - 79s 1s/step - loss: 0.4086 - accuracy: 0.8516 - val_loss: 1.8758 - val_accuracy: 0.4136\n",
      "Epoch 34/40\n",
      "59/59 [==============================] - 76s 1s/step - loss: 0.3877 - accuracy: 0.8574 - val_loss: 1.9627 - val_accuracy: 0.4127\n",
      "Epoch 35/40\n",
      "59/59 [==============================] - 76s 1s/step - loss: 0.3853 - accuracy: 0.8526 - val_loss: 1.9248 - val_accuracy: 0.4130\n",
      "Epoch 36/40\n",
      "59/59 [==============================] - 74s 1s/step - loss: 0.3747 - accuracy: 0.8595 - val_loss: 1.9156 - val_accuracy: 0.4015\n",
      "Epoch 37/40\n",
      "59/59 [==============================] - 75s 1s/step - loss: 0.3418 - accuracy: 0.8710 - val_loss: 2.0116 - val_accuracy: 0.4170\n",
      "Epoch 38/40\n",
      "59/59 [==============================] - 75s 1s/step - loss: 0.3385 - accuracy: 0.8783 - val_loss: 2.0115 - val_accuracy: 0.4136\n",
      "Epoch 39/40\n",
      "59/59 [==============================] - 72s 1s/step - loss: 0.3220 - accuracy: 0.8792 - val_loss: 2.1026 - val_accuracy: 0.3991\n",
      "Epoch 40/40\n",
      "59/59 [==============================] - 72s 1s/step - loss: 0.3030 - accuracy: 0.8916 - val_loss: 2.0593 - val_accuracy: 0.4096\n"
     ]
    }
   ],
   "source": [
    "hist = model.fit(X_train, Y_train, batch_size=128, epochs=40, validation_split=0.20, verbose=1)"
   ]
  },
  {
   "cell_type": "code",
   "execution_count": 93,
   "id": "commercial-imperial",
   "metadata": {},
   "outputs": [
    {
     "name": "stdout",
     "output_type": "stream",
     "text": [
      "145/145 [==============================] - 16s 110ms/step - loss: 2.0970 - accuracy: 0.4095\n",
      "loss:  2.0969700813293457\n",
      "accuracy:  0.40953412652015686\n"
     ]
    }
   ],
   "source": [
    "loss, acc = model.evaluate(X_test, Y_test, verbose=1)\n",
    "print('loss: ', loss)\n",
    "print('accuracy: ', acc)"
   ]
  },
  {
   "cell_type": "markdown",
   "id": "animated-thunder",
   "metadata": {},
   "source": [
    "## Save model and tokenizer"
   ]
  },
  {
   "cell_type": "code",
   "execution_count": 94,
   "id": "beginning-forward",
   "metadata": {},
   "outputs": [],
   "source": [
    "# save model\n",
    "model.save('./data/mpaa_classifier_imdb.h5')\n",
    "\n",
    "# save word tokenizer\n",
    "pickle.dump(tokenizer, open('./data/tokenizer_imdb.pkl', 'wb'))"
   ]
  },
  {
   "cell_type": "markdown",
   "id": "worth-sweden",
   "metadata": {},
   "source": [
    "## Metrics"
   ]
  },
  {
   "cell_type": "code",
   "execution_count": 95,
   "id": "valuable-slovenia",
   "metadata": {},
   "outputs": [
    {
     "data": {
      "image/png": "[encoded data removed]",
      "text/plain": [
       "<Figure size 432x288 with 1 Axes>"
      ]
     },
     "metadata": {
      "needs_background": "light"
     },
     "output_type": "display_data"
    }
   ],
   "source": [
    "plt.plot(hist.history['accuracy'])\n",
    "plt.plot(hist.history['val_accuracy'])\n",
    "plt.title('Model Accuracy')\n",
    "plt.ylabel('Accuracy')\n",
    "plt.xlabel('# Epochs')\n",
    "plt.legend(['train', 'test'])\n",
    "plt.show()"
   ]
  },
  {
   "cell_type": "code",
   "execution_count": 96,
   "id": "interior-pharmacy",
   "metadata": {},
   "outputs": [
    {
     "data": {
      "image/png": "[encoded data removed]",
      "text/plain": [
       "<Figure size 432x288 with 1 Axes>"
      ]
     },
     "metadata": {
      "needs_background": "light"
     },
     "output_type": "display_data"
    }
   ],
   "source": [
    "plt.plot(hist.history['loss'])\n",
    "plt.plot(hist.history['val_loss'])\n",
    "plt.title('Model Loss')\n",
    "plt.ylabel('Loss')\n",
    "plt.xlabel('# Epochs')\n",
    "plt.legend(['train', 'test'])\n",
    "plt.show()"
   ]
  },
  {
   "cell_type": "code",
   "execution_count": null,
   "id": "velvet-outreach",
   "metadata": {},
   "outputs": [],
   "source": []
  }
 ],
 "metadata": {
  "kernelspec": {
   "display_name": "Python 3",
   "language": "python",
   "name": "python3"
  },
  "language_info": {
   "codemirror_mode": {
    "name": "ipython",
    "version": 3
   },
   "file_extension": ".py",
   "mimetype": "text/x-python",
   "name": "python",
   "nbconvert_exporter": "python",
   "pygments_lexer": "ipython3",
   "version": "3.8.6"
  }
 },
 "nbformat": 4,
 "nbformat_minor": 5
}
