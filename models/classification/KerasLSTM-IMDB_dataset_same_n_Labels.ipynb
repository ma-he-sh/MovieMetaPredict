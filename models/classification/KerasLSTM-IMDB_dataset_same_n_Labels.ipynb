{
 "cells": [
  {
   "cell_type": "markdown",
   "id": "recognized-television",
   "metadata": {},
   "source": [
    "## MPAA rating prediction"
   ]
  },
  {
   "cell_type": "code",
   "execution_count": 77,
   "id": "instant-angel",
   "metadata": {},
   "outputs": [],
   "source": [
    "import pandas as pd\n",
    "import numpy as np\n",
    "import warnings\n",
    "import re\n",
    "import pickle\n",
    "import seaborn as sns\n",
    "\n",
    "%matplotlib inline\n",
    "warnings.filterwarnings('ignore')"
   ]
  },
  {
   "cell_type": "markdown",
   "id": "featured-freight",
   "metadata": {},
   "source": [
    "Import dataset :: imdb dataset"
   ]
  },
  {
   "cell_type": "code",
   "execution_count": 78,
   "id": "subsequent-deployment",
   "metadata": {},
   "outputs": [
    {
     "data": {
      "text/plain": [
       "(15455, 41)"
      ]
     },
     "execution_count": 78,
     "metadata": {},
     "output_type": "execute_result"
    }
   ],
   "source": [
    "from dataset import get_dataframe\n",
    "dataset = get_dataframe('./dataset_cleaned_emotions')\n",
    "\n",
    "dataset.head()\n",
    "dataset.shape"
   ]
  },
  {
   "cell_type": "code",
   "execution_count": 79,
   "id": "bizarre-debate",
   "metadata": {},
   "outputs": [
    {
     "data": {
      "text/plain": [
       "(15455, 41)"
      ]
     },
     "execution_count": 79,
     "metadata": {},
     "output_type": "execute_result"
    }
   ],
   "source": [
    "## Clean data\n",
    "dataset.dropna()\n",
    "dataset.columns = dataset.columns.str.replace(\" \", \"\")\n",
    "#dataset = dataset[dataset.synopsis != ''] # cannot do this\n",
    "dataset = dataset[dataset.clean_description != '']\n",
    "#dataset = dataset[dataset.clean_storyline != '']\n",
    "dataset.shape"
   ]
  },
  {
   "cell_type": "markdown",
   "id": "optical-african",
   "metadata": {},
   "source": [
    "## Prepare data"
   ]
  },
  {
   "cell_type": "code",
   "execution_count": 80,
   "id": "catholic-floor",
   "metadata": {},
   "outputs": [],
   "source": [
    "dataset_df = pd.DataFrame()\n",
    "for index, row in dataset.iterrows():\n",
    "    try:\n",
    "        new_row = {\n",
    "            \"Title\"    : row[\"name\"],\n",
    "            \"Description\" : row[\"clean_description\"],\n",
    "            \"negative\" : row[\"negative\"],\n",
    "            \"sadness\"  : row[\"sadness\"],\n",
    "            \"trust\"    : row[\"trust\"],\n",
    "            \"anger\"    : row[\"anger\"],\n",
    "            \"positive\" : row[\"positive\"],\n",
    "            \"fear\"     : row[\"fear\"],\n",
    "            \"disgust\"  : row[\"disgust\"],\n",
    "            \"surprise\" : row[\"surprise\"],\n",
    "            \"anticipation\"  : row[\"anticipation\"],\n",
    "            \"joy\"  : row[\"joy\"],\n",
    "            \"Rating\" : row[\"rating\"]\n",
    "        }\n",
    "        dataset_df = dataset_df.append( new_row, ignore_index=True )\n",
    "    except Exception as ex:\n",
    "        continue"
   ]
  },
  {
   "cell_type": "code",
   "execution_count": null,
   "id": "funded-participation",
   "metadata": {},
   "outputs": [],
   "source": []
  },
  {
   "cell_type": "code",
   "execution_count": 81,
   "id": "harmful-developer",
   "metadata": {},
   "outputs": [
    {
     "data": {
      "text/html": [
       "<div>\n",
       "<style scoped>\n",
       "    .dataframe tbody tr th:only-of-type {\n",
       "        vertical-align: middle;\n",
       "    }\n",
       "\n",
       "    .dataframe tbody tr th {\n",
       "        vertical-align: top;\n",
       "    }\n",
       "\n",
       "    .dataframe thead th {\n",
       "        text-align: right;\n",
       "    }\n",
       "</style>\n",
       "<table border=\"1\" class=\"dataframe\">\n",
       "  <thead>\n",
       "    <tr style=\"text-align: right;\">\n",
       "      <th></th>\n",
       "      <th>Title</th>\n",
       "      <th>Rating</th>\n",
       "      <th>Description</th>\n",
       "    </tr>\n",
       "  </thead>\n",
       "  <tbody>\n",
       "    <tr>\n",
       "      <th>0</th>\n",
       "      <td>The Cellar</td>\n",
       "      <td>PG-13</td>\n",
       "      <td>young boy finds ancient comanche monster spiri...</td>\n",
       "    </tr>\n",
       "    <tr>\n",
       "      <th>1</th>\n",
       "      <td>The Cemetery Club</td>\n",
       "      <td>PG-13</td>\n",
       "      <td>lifelong friends meet weekly celebrate past pr...</td>\n",
       "    </tr>\n",
       "    <tr>\n",
       "      <th>2</th>\n",
       "      <td>The Challenger</td>\n",
       "      <td>PG-13</td>\n",
       "      <td>struggling bronx mechanic jaden miller uses bo...</td>\n",
       "    </tr>\n",
       "    <tr>\n",
       "      <th>3</th>\n",
       "      <td>The Chaperone</td>\n",
       "      <td>PG-13</td>\n",
       "      <td>ex con run criminal past hides ratted chaperon...</td>\n",
       "    </tr>\n",
       "  </tbody>\n",
       "</table>\n",
       "</div>"
      ],
      "text/plain": [
       "               Title Rating                                        Description\n",
       "0         The Cellar  PG-13  young boy finds ancient comanche monster spiri...\n",
       "1  The Cemetery Club  PG-13  lifelong friends meet weekly celebrate past pr...\n",
       "2     The Challenger  PG-13  struggling bronx mechanic jaden miller uses bo...\n",
       "3      The Chaperone  PG-13  ex con run criminal past hides ratted chaperon..."
      ]
     },
     "execution_count": 81,
     "metadata": {},
     "output_type": "execute_result"
    }
   ],
   "source": [
    "dataset_df = dataset_df[['Title', 'Rating', 'Description']]\n",
    "dataset_df.columns = dataset_df.columns.str.strip()\n",
    "dataset_df.head(4)"
   ]
  },
  {
   "cell_type": "code",
   "execution_count": 82,
   "id": "japanese-costa",
   "metadata": {},
   "outputs": [
    {
     "data": {
      "text/plain": [
       "array(['PG-13', 'PG', 'R', 'G', 'NC-17'], dtype=object)"
      ]
     },
     "execution_count": 82,
     "metadata": {},
     "output_type": "execute_result"
    }
   ],
   "source": [
    "# finding unique mpaa rating in the dataset\n",
    "dataset_df['Rating'].unique()"
   ]
  },
  {
   "cell_type": "code",
   "execution_count": 83,
   "id": "developed-craft",
   "metadata": {},
   "outputs": [
    {
     "data": {
      "text/plain": [
       "array(['PG-13', 'PG', 'R', 'G', 'NC-17'], dtype=object)"
      ]
     },
     "execution_count": 83,
     "metadata": {},
     "output_type": "execute_result"
    }
   ],
   "source": [
    "# clean mpaa ratings\n",
    "mpaa_fix = {\n",
    "    'PG-13 ' : 'PG-13',\n",
    "    'R ' : 'R',\n",
    "    'PG ': 'PG',\n",
    "    'G ' : 'G',\n",
    "    'NR ': 'NR',\n",
    "    'NC17 ': 'NC17'\n",
    "}\n",
    "for i, rating in dataset_df['Rating'].iteritems():\n",
    "    if rating in mpaa_fix.keys():\n",
    "        fix_val = mpaa_fix.get(rating)\n",
    "        dataset_df.iloc[i]['Rating'] = fix_val\n",
    "dataset_df['Rating'].unique()"
   ]
  },
  {
   "cell_type": "code",
   "execution_count": 84,
   "id": "stopped-retention",
   "metadata": {},
   "outputs": [],
   "source": [
    "# Clean the movie description\n",
    "def clean_description( text_str ):\n",
    "    text = re.sub('[^a-zA-Z]',  ' ', text_str)\n",
    "    text = re.sub(r'\\s+[a-zA-Z]\\s+', ' ', text)\n",
    "    text = re.sub(r'\\s+', ' ', text)\n",
    "    return text\n",
    "\n",
    "for i, description in dataset_df['Description'].iteritems():\n",
    "    dataset_df.iloc[i]['Description'] = clean_description( str(description) )"
   ]
  },
  {
   "cell_type": "markdown",
   "id": "nearby-planner",
   "metadata": {},
   "source": [
    "## Data Distribution"
   ]
  },
  {
   "cell_type": "code",
   "execution_count": 85,
   "id": "respective-timer",
   "metadata": {},
   "outputs": [
    {
     "data": {
      "image/png": "[encoded data removed]",
      "text/plain": [
       "<Figure size 576x432 with 1 Axes>"
      ]
     },
     "metadata": {
      "needs_background": "light"
     },
     "output_type": "display_data"
    }
   ],
   "source": [
    "import matplotlib.pyplot as plt\n",
    "fig = plt.figure(figsize=(8,6))\n",
    "dataset_df.groupby('Rating')['Description'].count().plot.bar(ylim=0)\n",
    "plt.show()"
   ]
  },
  {
   "cell_type": "code",
   "execution_count": 86,
   "id": "physical-thompson",
   "metadata": {},
   "outputs": [],
   "source": [
    "## drop NC-17\n",
    "dataset_df = dataset_df[dataset_df.Rating != 'NC-17'] "
   ]
  },
  {
   "cell_type": "code",
   "execution_count": 87,
   "id": "mathematical-hearts",
   "metadata": {},
   "outputs": [
    {
     "data": {
      "image/png": "[encoded data removed]",
      "text/plain": [
       "<Figure size 576x432 with 1 Axes>"
      ]
     },
     "metadata": {
      "needs_background": "light"
     },
     "output_type": "display_data"
    }
   ],
   "source": [
    "fig = plt.figure(figsize=(8,6))\n",
    "dataset_df.groupby('Rating')['Description'].count().plot.bar(ylim=0)\n",
    "plt.show()"
   ]
  },
  {
   "cell_type": "markdown",
   "id": "hazardous-auction",
   "metadata": {},
   "source": [
    "## Use same amount of labels"
   ]
  },
  {
   "cell_type": "code",
   "execution_count": 88,
   "id": "leading-medicine",
   "metadata": {},
   "outputs": [
    {
     "data": {
      "text/plain": [
       "(1853, 3)"
      ]
     },
     "execution_count": 88,
     "metadata": {},
     "output_type": "execute_result"
    }
   ],
   "source": [
    "G_count = dataset_df[dataset_df.Rating == 'G'].shape\n",
    "G_count"
   ]
  },
  {
   "cell_type": "code",
   "execution_count": 90,
   "id": "civil-mount",
   "metadata": {},
   "outputs": [
    {
     "data": {
      "text/html": [
       "<div>\n",
       "<style scoped>\n",
       "    .dataframe tbody tr th:only-of-type {\n",
       "        vertical-align: middle;\n",
       "    }\n",
       "\n",
       "    .dataframe tbody tr th {\n",
       "        vertical-align: top;\n",
       "    }\n",
       "\n",
       "    .dataframe thead th {\n",
       "        text-align: right;\n",
       "    }\n",
       "</style>\n",
       "<table border=\"1\" class=\"dataframe\">\n",
       "  <thead>\n",
       "    <tr style=\"text-align: right;\">\n",
       "      <th></th>\n",
       "      <th>Title</th>\n",
       "      <th>Rating</th>\n",
       "      <th>Description</th>\n",
       "    </tr>\n",
       "  </thead>\n",
       "  <tbody>\n",
       "    <tr>\n",
       "      <th>7345</th>\n",
       "      <td>Pizza Man</td>\n",
       "      <td>PG-13</td>\n",
       "      <td>pizza delivery boy receives superhuman strengt...</td>\n",
       "    </tr>\n",
       "    <tr>\n",
       "      <th>7264</th>\n",
       "      <td>Pascali's Island</td>\n",
       "      <td>PG-13</td>\n",
       "      <td>secret agent turkey persuaded superiors assist...</td>\n",
       "    </tr>\n",
       "    <tr>\n",
       "      <th>15078</th>\n",
       "      <td>Diaboliquement vôtre</td>\n",
       "      <td>G</td>\n",
       "      <td>wealthy amnesiac begins suspect devoted wife r...</td>\n",
       "    </tr>\n",
       "    <tr>\n",
       "      <th>10650</th>\n",
       "      <td>The Pagemaster</td>\n",
       "      <td>G</td>\n",
       "      <td>cowardly boy buries accident statistics enters...</td>\n",
       "    </tr>\n",
       "    <tr>\n",
       "      <th>4802</th>\n",
       "      <td>Cannibals and Crampons</td>\n",
       "      <td>PG-13</td>\n",
       "      <td>two british ex army officers set climb unscale...</td>\n",
       "    </tr>\n",
       "    <tr>\n",
       "      <th>...</th>\n",
       "      <td>...</td>\n",
       "      <td>...</td>\n",
       "      <td>...</td>\n",
       "    </tr>\n",
       "    <tr>\n",
       "      <th>8112</th>\n",
       "      <td>16 Wishes</td>\n",
       "      <td>G</td>\n",
       "      <td>abby made wishes list birthday gets magic cand...</td>\n",
       "    </tr>\n",
       "    <tr>\n",
       "      <th>14239</th>\n",
       "      <td>Starbird and Sweet William</td>\n",
       "      <td>G</td>\n",
       "      <td>plane crash survivor draws upon sensibilities ...</td>\n",
       "    </tr>\n",
       "    <tr>\n",
       "      <th>14381</th>\n",
       "      <td>The Fox and the Hound</td>\n",
       "      <td>G</td>\n",
       "      <td>little fox named tod copper hound puppy vow be...</td>\n",
       "    </tr>\n",
       "    <tr>\n",
       "      <th>15069</th>\n",
       "      <td>De-as fi... Harap Alb</td>\n",
       "      <td>G</td>\n",
       "      <td>add plot</td>\n",
       "    </tr>\n",
       "    <tr>\n",
       "      <th>8201</th>\n",
       "      <td>Alex and the Doberman Gang</td>\n",
       "      <td>G</td>\n",
       "      <td>slightly incompetent private eye inherits five...</td>\n",
       "    </tr>\n",
       "  </tbody>\n",
       "</table>\n",
       "<p>7412 rows × 3 columns</p>\n",
       "</div>"
      ],
      "text/plain": [
       "                            Title Rating  \\\n",
       "7345                    Pizza Man  PG-13   \n",
       "7264             Pascali's Island  PG-13   \n",
       "15078        Diaboliquement vôtre      G   \n",
       "10650              The Pagemaster      G   \n",
       "4802       Cannibals and Crampons  PG-13   \n",
       "...                           ...    ...   \n",
       "8112                    16 Wishes      G   \n",
       "14239  Starbird and Sweet William      G   \n",
       "14381       The Fox and the Hound      G   \n",
       "15069       De-as fi... Harap Alb      G   \n",
       "8201   Alex and the Doberman Gang      G   \n",
       "\n",
       "                                             Description  \n",
       "7345   pizza delivery boy receives superhuman strengt...  \n",
       "7264   secret agent turkey persuaded superiors assist...  \n",
       "15078  wealthy amnesiac begins suspect devoted wife r...  \n",
       "10650  cowardly boy buries accident statistics enters...  \n",
       "4802   two british ex army officers set climb unscale...  \n",
       "...                                                  ...  \n",
       "8112   abby made wishes list birthday gets magic cand...  \n",
       "14239  plane crash survivor draws upon sensibilities ...  \n",
       "14381  little fox named tod copper hound puppy vow be...  \n",
       "15069                                           add plot  \n",
       "8201   slightly incompetent private eye inherits five...  \n",
       "\n",
       "[7412 rows x 3 columns]"
      ]
     },
     "execution_count": 90,
     "metadata": {},
     "output_type": "execute_result"
    }
   ],
   "source": [
    "dataset_df = dataset_df.sample(frac=1).groupby('Rating').head(1853)\n",
    "dataset_df"
   ]
  },
  {
   "cell_type": "code",
   "execution_count": 92,
   "id": "future-acquisition",
   "metadata": {},
   "outputs": [
    {
     "data": {
      "image/png": "[encoded data removed]",
      "text/plain": [
       "<Figure size 576x432 with 1 Axes>"
      ]
     },
     "metadata": {
      "needs_background": "light"
     },
     "output_type": "display_data"
    }
   ],
   "source": [
    "fig = plt.figure(figsize=(8,6))\n",
    "dataset_df.groupby('Rating')['Description'].count().plot.bar(ylim=0)\n",
    "plt.show()"
   ]
  },
  {
   "cell_type": "code",
   "execution_count": 93,
   "id": "atmospheric-southwest",
   "metadata": {},
   "outputs": [],
   "source": [
    "pickle.dump(dataset_df, open('./data/dataset_df_imdb_cleaned_n_sample.pkl', 'wb'))"
   ]
  },
  {
   "cell_type": "markdown",
   "id": "posted-entrance",
   "metadata": {},
   "source": [
    "## Training model"
   ]
  },
  {
   "cell_type": "code",
   "execution_count": 94,
   "id": "configured-skiing",
   "metadata": {},
   "outputs": [],
   "source": [
    "training_df = pickle.load( open('./data/dataset_df_imdb_cleaned_n_sample.pkl', 'rb') )"
   ]
  },
  {
   "cell_type": "code",
   "execution_count": 95,
   "id": "fresh-mechanism",
   "metadata": {},
   "outputs": [],
   "source": [
    "from sklearn.model_selection import train_test_split\n",
    "from sklearn.preprocessing import LabelEncoder\n",
    "from keras.preprocessing.text import one_hot, Tokenizer\n",
    "from keras.preprocessing.sequence import pad_sequences\n",
    "from keras.utils import to_categorical\n",
    "from keras.models import Sequential, load_model\n",
    "from keras.layers import Dense, Flatten, LSTM, Embedding, GlobalMaxPooling1D"
   ]
  },
  {
   "cell_type": "code",
   "execution_count": 96,
   "id": "interesting-device",
   "metadata": {},
   "outputs": [
    {
     "data": {
      "text/plain": [
       "array([2, 3, 0, ..., 3, 3, 2])"
      ]
     },
     "execution_count": 96,
     "metadata": {},
     "output_type": "execute_result"
    }
   ],
   "source": [
    "_y = training_df['Rating']\n",
    "encoder = LabelEncoder()\n",
    "Y = encoder.fit_transform(_y)\n",
    "Y"
   ]
  },
  {
   "cell_type": "code",
   "execution_count": 97,
   "id": "focused-evidence",
   "metadata": {},
   "outputs": [
    {
     "data": {
      "text/plain": [
       "5520     freelance writer looking romance sells story c...\n",
       "6994     harvard time social upheaval student unrest th...\n",
       "14318    vernon praiseworthy clumsy lovable dope stands...\n",
       "8451     two tourists florida attacked chilling group b...\n",
       "7983     mia sakamoto feels trapped physically verbally...\n",
       "                               ...                        \n",
       "13974    old jewish woman african american chauffeur am...\n",
       "3562     ex con joins forces sexy high priced call girl...\n",
       "13065    six college students discover dorm insane asyl...\n",
       "3767     mike anderson senior quintessential new englan...\n",
       "10308    grieving untimely loss family dissociative sta...\n",
       "Name: Description, Length: 7412, dtype: object"
      ]
     },
     "execution_count": 97,
     "metadata": {},
     "output_type": "execute_result"
    }
   ],
   "source": [
    "X = training_df['Description']\n",
    "X"
   ]
  },
  {
   "cell_type": "markdown",
   "id": "changing-internship",
   "metadata": {},
   "source": [
    "## Train, test split"
   ]
  },
  {
   "cell_type": "code",
   "execution_count": 98,
   "id": "universal-split",
   "metadata": {},
   "outputs": [],
   "source": [
    "X_train, X_test, Y_train, Y_test = train_test_split( X, Y, test_size=0.3, random_state=40 )"
   ]
  },
  {
   "cell_type": "code",
   "execution_count": 99,
   "id": "animal-mount",
   "metadata": {},
   "outputs": [],
   "source": [
    "Y_train = to_categorical(Y_train)\n",
    "Y_test  = to_categorical(Y_test)"
   ]
  },
  {
   "cell_type": "code",
   "execution_count": 100,
   "id": "charming-sydney",
   "metadata": {},
   "outputs": [],
   "source": [
    "tokenizer = Tokenizer(num_words=10000)\n",
    "tokenizer.fit_on_texts(X_train)"
   ]
  },
  {
   "cell_type": "code",
   "execution_count": 101,
   "id": "reported-hayes",
   "metadata": {},
   "outputs": [],
   "source": [
    "X_train = tokenizer.texts_to_sequences(X_train)\n",
    "X_test  = tokenizer.texts_to_sequences(X_test)"
   ]
  },
  {
   "cell_type": "code",
   "execution_count": 102,
   "id": "expected-hunter",
   "metadata": {},
   "outputs": [],
   "source": [
    "vocabulary_size = len(tokenizer.word_index) + 1\n",
    "maxlen = 400 # Only concider first 400 words of each description\n",
    "\n",
    "X_train = pad_sequences( X_train, maxlen=maxlen )\n",
    "X_test  = pad_sequences( X_test, maxlen=maxlen )"
   ]
  },
  {
   "cell_type": "markdown",
   "id": "ruled-memphis",
   "metadata": {},
   "source": [
    "## Use GloVe : Global Vectors for Word Representation\n",
    "https://nlp.stanford.edu/projects/glove/\n",
    "\n",
    "GloVe is an unsupervised learning algorithm for obtaining vector representations for words. Training is performed on aggregated global word-word co-occurrence statistics from a corpus, and the resulting representations showcase interesting linear substructures of the word vector space. "
   ]
  },
  {
   "cell_type": "code",
   "execution_count": 103,
   "id": "chronic-perception",
   "metadata": {},
   "outputs": [],
   "source": [
    "glove_file = open('./glove.6B/glove.6B.100d.txt', encoding='utf8')"
   ]
  },
  {
   "cell_type": "code",
   "execution_count": 104,
   "id": "polished-oxford",
   "metadata": {},
   "outputs": [],
   "source": [
    "embedd_dictionary = dict()\n",
    "for line in glove_file:\n",
    "    records = line.split()\n",
    "    word = records[0]\n",
    "    vector_dims = np.asarray(records[1:], dtype='float32')\n",
    "    embedd_dictionary[word] = vector_dims\n",
    "\n",
    "glove_file.close()"
   ]
  },
  {
   "cell_type": "code",
   "execution_count": 105,
   "id": "random-anxiety",
   "metadata": {},
   "outputs": [],
   "source": [
    "embedd_matrix = np.zeros((vocabulary_size, 100))\n",
    "for word, index in tokenizer.word_index.items():\n",
    "    embedd_vector = embedd_dictionary.get(word)\n",
    "    if embedd_vector is not None:\n",
    "        embedd_matrix[index] = embedd_vector"
   ]
  },
  {
   "cell_type": "markdown",
   "id": "posted-disney",
   "metadata": {},
   "source": [
    "## Build the NN Model"
   ]
  },
  {
   "cell_type": "code",
   "execution_count": 106,
   "id": "exempt-likelihood",
   "metadata": {},
   "outputs": [
    {
     "name": "stdout",
     "output_type": "stream",
     "text": [
      "Model: \"sequential_2\"\n",
      "_________________________________________________________________\n",
      "Layer (type)                 Output Shape              Param #   \n",
      "=================================================================\n",
      "embedding_2 (Embedding)      (None, None, 100)         1531700   \n",
      "_________________________________________________________________\n",
      "lstm_2 (LSTM)                (None, 128)               117248    \n",
      "_________________________________________________________________\n",
      "dense_2 (Dense)              (None, 4)                 516       \n",
      "=================================================================\n",
      "Total params: 1,649,464\n",
      "Trainable params: 117,764\n",
      "Non-trainable params: 1,531,700\n",
      "_________________________________________________________________\n"
     ]
    }
   ],
   "source": [
    "model = Sequential()\n",
    "model.add(Embedding(input_dim=vocabulary_size, output_dim=100, weights=[embedd_matrix], trainable=False))\n",
    "model.add(LSTM(units=128, dropout=0.2, recurrent_dropout=0.2))\n",
    "model.add(Dense(4, activation='softmax'))\n",
    "model.compile(loss='categorical_crossentropy', optimizer='adam', metrics=['accuracy'])\n",
    "model.summary()"
   ]
  },
  {
   "cell_type": "code",
   "execution_count": 107,
   "id": "imposed-french",
   "metadata": {},
   "outputs": [
    {
     "name": "stdout",
     "output_type": "stream",
     "text": [
      "Epoch 1/40\n",
      "29/29 [==============================] - 20s 636ms/step - loss: 1.3760 - accuracy: 0.2925 - val_loss: 1.2672 - val_accuracy: 0.4053\n",
      "Epoch 2/40\n",
      "29/29 [==============================] - 19s 662ms/step - loss: 1.2788 - accuracy: 0.4025 - val_loss: 1.2524 - val_accuracy: 0.4027\n",
      "Epoch 3/40\n",
      "29/29 [==============================] - 20s 693ms/step - loss: 1.2402 - accuracy: 0.4380 - val_loss: 1.2683 - val_accuracy: 0.4053\n",
      "Epoch 4/40\n",
      "29/29 [==============================] - 19s 660ms/step - loss: 1.2265 - accuracy: 0.4265 - val_loss: 1.2924 - val_accuracy: 0.3924\n",
      "Epoch 5/40\n",
      "29/29 [==============================] - 19s 649ms/step - loss: 1.2129 - accuracy: 0.4340 - val_loss: 1.2375 - val_accuracy: 0.4245\n",
      "Epoch 6/40\n",
      "29/29 [==============================] - 19s 655ms/step - loss: 1.1805 - accuracy: 0.4535 - val_loss: 1.2408 - val_accuracy: 0.4194\n",
      "Epoch 7/40\n",
      "29/29 [==============================] - 19s 660ms/step - loss: 1.1583 - accuracy: 0.4772 - val_loss: 1.2695 - val_accuracy: 0.3899\n",
      "Epoch 8/40\n",
      "29/29 [==============================] - 19s 646ms/step - loss: 1.1527 - accuracy: 0.4808 - val_loss: 1.3150 - val_accuracy: 0.3776\n",
      "Epoch 9/40\n",
      "29/29 [==============================] - 19s 663ms/step - loss: 1.1266 - accuracy: 0.4983 - val_loss: 1.2768 - val_accuracy: 0.4168\n",
      "Epoch 10/40\n",
      "29/29 [==============================] - 19s 670ms/step - loss: 1.0832 - accuracy: 0.5122 - val_loss: 1.2895 - val_accuracy: 0.4066\n",
      "Epoch 11/40\n",
      "29/29 [==============================] - 20s 693ms/step - loss: 1.0666 - accuracy: 0.5408 - val_loss: 1.2899 - val_accuracy: 0.4078\n",
      "Epoch 12/40\n",
      "29/29 [==============================] - 20s 675ms/step - loss: 1.0528 - accuracy: 0.5425 - val_loss: 1.2975 - val_accuracy: 0.4046\n",
      "Epoch 13/40\n",
      "29/29 [==============================] - 20s 687ms/step - loss: 1.0282 - accuracy: 0.5517 - val_loss: 1.3405 - val_accuracy: 0.4078\n",
      "Epoch 14/40\n",
      "29/29 [==============================] - 22s 746ms/step - loss: 0.9934 - accuracy: 0.5658 - val_loss: 1.3244 - val_accuracy: 0.4033\n",
      "Epoch 15/40\n",
      "29/29 [==============================] - 22s 744ms/step - loss: 0.9478 - accuracy: 0.6017 - val_loss: 1.3824 - val_accuracy: 0.4078\n",
      "Epoch 16/40\n",
      "29/29 [==============================] - 21s 727ms/step - loss: 0.9091 - accuracy: 0.6193 - val_loss: 1.4024 - val_accuracy: 0.3995\n",
      "Epoch 17/40\n",
      "29/29 [==============================] - 21s 712ms/step - loss: 0.8768 - accuracy: 0.6379 - val_loss: 1.4054 - val_accuracy: 0.3828\n",
      "Epoch 18/40\n",
      "29/29 [==============================] - 19s 653ms/step - loss: 0.8462 - accuracy: 0.6661 - val_loss: 1.4594 - val_accuracy: 0.3789\n",
      "Epoch 19/40\n",
      "29/29 [==============================] - 19s 649ms/step - loss: 0.8069 - accuracy: 0.6615 - val_loss: 1.5213 - val_accuracy: 0.3738\n",
      "Epoch 20/40\n",
      "29/29 [==============================] - 20s 675ms/step - loss: 0.7640 - accuracy: 0.7003 - val_loss: 1.5049 - val_accuracy: 0.3764\n",
      "Epoch 21/40\n",
      "29/29 [==============================] - 19s 646ms/step - loss: 0.7115 - accuracy: 0.7228 - val_loss: 1.5720 - val_accuracy: 0.3776\n",
      "Epoch 22/40\n",
      "29/29 [==============================] - 19s 640ms/step - loss: 0.6759 - accuracy: 0.7360 - val_loss: 1.6304 - val_accuracy: 0.3834\n",
      "Epoch 23/40\n",
      "29/29 [==============================] - 18s 616ms/step - loss: 0.6534 - accuracy: 0.7441 - val_loss: 1.5921 - val_accuracy: 0.3969\n",
      "Epoch 24/40\n",
      "29/29 [==============================] - 18s 638ms/step - loss: 0.6230 - accuracy: 0.7560 - val_loss: 1.7326 - val_accuracy: 0.3712\n",
      "Epoch 25/40\n",
      "29/29 [==============================] - 19s 647ms/step - loss: 0.5712 - accuracy: 0.7840 - val_loss: 1.8198 - val_accuracy: 0.3706\n",
      "Epoch 26/40\n",
      "29/29 [==============================] - 19s 672ms/step - loss: 0.5436 - accuracy: 0.7940 - val_loss: 1.9024 - val_accuracy: 0.3764\n",
      "Epoch 27/40\n",
      "29/29 [==============================] - 20s 701ms/step - loss: 0.5601 - accuracy: 0.7898 - val_loss: 1.7876 - val_accuracy: 0.3802\n",
      "Epoch 28/40\n",
      "29/29 [==============================] - 19s 652ms/step - loss: 0.4926 - accuracy: 0.8171 - val_loss: 1.8734 - val_accuracy: 0.3751\n",
      "Epoch 29/40\n",
      "29/29 [==============================] - 19s 674ms/step - loss: 0.4795 - accuracy: 0.8179 - val_loss: 1.8106 - val_accuracy: 0.3834\n",
      "Epoch 30/40\n",
      "29/29 [==============================] - 19s 654ms/step - loss: 0.4513 - accuracy: 0.8352 - val_loss: 1.8988 - val_accuracy: 0.3719\n",
      "Epoch 31/40\n",
      "29/29 [==============================] - 19s 650ms/step - loss: 0.4175 - accuracy: 0.8477 - val_loss: 1.9575 - val_accuracy: 0.3802\n",
      "Epoch 32/40\n",
      "29/29 [==============================] - 19s 648ms/step - loss: 0.4170 - accuracy: 0.8442 - val_loss: 2.0210 - val_accuracy: 0.3854\n",
      "Epoch 33/40\n",
      "29/29 [==============================] - 19s 660ms/step - loss: 0.3985 - accuracy: 0.8585 - val_loss: 2.0601 - val_accuracy: 0.3667\n",
      "Epoch 34/40\n",
      "29/29 [==============================] - 19s 645ms/step - loss: 0.3628 - accuracy: 0.8716 - val_loss: 2.1504 - val_accuracy: 0.3635\n",
      "Epoch 35/40\n",
      "29/29 [==============================] - 18s 622ms/step - loss: 0.3766 - accuracy: 0.8583 - val_loss: 2.1515 - val_accuracy: 0.3693\n",
      "Epoch 36/40\n",
      "29/29 [==============================] - 19s 662ms/step - loss: 0.3678 - accuracy: 0.8648 - val_loss: 2.1365 - val_accuracy: 0.3834\n",
      "Epoch 37/40\n",
      "29/29 [==============================] - 18s 626ms/step - loss: 0.3144 - accuracy: 0.8920 - val_loss: 2.2246 - val_accuracy: 0.3815\n",
      "Epoch 38/40\n",
      "29/29 [==============================] - 19s 660ms/step - loss: 0.3183 - accuracy: 0.8824 - val_loss: 2.1679 - val_accuracy: 0.3892\n",
      "Epoch 39/40\n",
      "29/29 [==============================] - 19s 674ms/step - loss: 0.3041 - accuracy: 0.8889 - val_loss: 2.2404 - val_accuracy: 0.3854\n",
      "Epoch 40/40\n",
      "29/29 [==============================] - 19s 668ms/step - loss: 0.2892 - accuracy: 0.8981 - val_loss: 2.2445 - val_accuracy: 0.3847\n"
     ]
    }
   ],
   "source": [
    "hist = model.fit(X_train, Y_train, batch_size=128, epochs=40, validation_split=0.30, verbose=1)"
   ]
  },
  {
   "cell_type": "code",
   "execution_count": 108,
   "id": "commercial-imperial",
   "metadata": {},
   "outputs": [
    {
     "name": "stdout",
     "output_type": "stream",
     "text": [
      "70/70 [==============================] - 4s 55ms/step - loss: 2.3185 - accuracy: 0.3669\n",
      "loss:  2.3185489177703857\n",
      "accuracy:  0.36690646409988403\n"
     ]
    }
   ],
   "source": [
    "loss, acc = model.evaluate(X_test, Y_test, verbose=1)\n",
    "print('loss: ', loss)\n",
    "print('accuracy: ', acc)"
   ]
  },
  {
   "cell_type": "markdown",
   "id": "animated-thunder",
   "metadata": {},
   "source": [
    "## Save model and tokenizer"
   ]
  },
  {
   "cell_type": "code",
   "execution_count": 109,
   "id": "beginning-forward",
   "metadata": {},
   "outputs": [],
   "source": [
    "# save model\n",
    "model.save('./data/mpaa_classifier_imdb_n_sample.h5')\n",
    "\n",
    "# save word tokenizer\n",
    "pickle.dump(tokenizer, open('./data/tokenizer_imdb_n_sample.pkl', 'wb'))"
   ]
  },
  {
   "cell_type": "markdown",
   "id": "worth-sweden",
   "metadata": {},
   "source": [
    "## Metrics"
   ]
  },
  {
   "cell_type": "code",
   "execution_count": 110,
   "id": "valuable-slovenia",
   "metadata": {},
   "outputs": [
    {
     "data": {
      "image/png": "[encoded data removed]",
      "text/plain": [
       "<Figure size 432x288 with 1 Axes>"
      ]
     },
     "metadata": {
      "needs_background": "light"
     },
     "output_type": "display_data"
    }
   ],
   "source": [
    "plt.plot(hist.history['accuracy'])\n",
    "plt.plot(hist.history['val_accuracy'])\n",
    "plt.title('Model Accuracy')\n",
    "plt.ylabel('Accuracy')\n",
    "plt.xlabel('# Epochs')\n",
    "plt.legend(['train', 'test'])\n",
    "plt.show()"
   ]
  },
  {
   "cell_type": "code",
   "execution_count": 111,
   "id": "interior-pharmacy",
   "metadata": {},
   "outputs": [
    {
     "data": {
      "image/png": "[encoded data removed]",
      "text/plain": [
       "<Figure size 432x288 with 1 Axes>"
      ]
     },
     "metadata": {
      "needs_background": "light"
     },
     "output_type": "display_data"
    }
   ],
   "source": [
    "plt.plot(hist.history['loss'])\n",
    "plt.plot(hist.history['val_loss'])\n",
    "plt.title('Model Loss')\n",
    "plt.ylabel('Loss')\n",
    "plt.xlabel('# Epochs')\n",
    "plt.legend(['train', 'test'])\n",
    "plt.show()"
   ]
  },
  {
   "cell_type": "code",
   "execution_count": null,
   "id": "velvet-outreach",
   "metadata": {},
   "outputs": [],
   "source": []
  }
 ],
 "metadata": {
  "kernelspec": {
   "display_name": "Python 3",
   "language": "python",
   "name": "python3"
  },
  "language_info": {
   "codemirror_mode": {
    "name": "ipython",
    "version": 3
   },
   "file_extension": ".py",
   "mimetype": "text/x-python",
   "name": "python",
   "nbconvert_exporter": "python",
   "pygments_lexer": "ipython3",
   "version": "3.8.6"
  }
 },
 "nbformat": 4,
 "nbformat_minor": 5
}
