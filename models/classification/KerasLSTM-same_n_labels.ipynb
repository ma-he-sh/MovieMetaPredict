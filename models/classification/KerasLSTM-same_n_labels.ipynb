{
 "cells": [
  {
   "cell_type": "markdown",
   "id": "recognized-television",
   "metadata": {},
   "source": [
    "## MPAA rating prediction"
   ]
  },
  {
   "cell_type": "code",
   "execution_count": 1,
   "id": "instant-angel",
   "metadata": {},
   "outputs": [],
   "source": [
    "import pandas as pd\n",
    "import numpy as np\n",
    "import warnings\n",
    "import re\n",
    "import pickle\n",
    "import seaborn as sns\n",
    "\n",
    "%matplotlib inline\n",
    "warnings.filterwarnings('ignore')"
   ]
  },
  {
   "cell_type": "markdown",
   "id": "featured-freight",
   "metadata": {},
   "source": [
    "Import dataset :: using the rotten tomatoes dataset"
   ]
  },
  {
   "cell_type": "code",
   "execution_count": 2,
   "id": "harmful-developer",
   "metadata": {},
   "outputs": [
    {
     "data": {
      "text/html": [
       "<div>\n",
       "<style scoped>\n",
       "    .dataframe tbody tr th:only-of-type {\n",
       "        vertical-align: middle;\n",
       "    }\n",
       "\n",
       "    .dataframe tbody tr th {\n",
       "        vertical-align: top;\n",
       "    }\n",
       "\n",
       "    .dataframe thead th {\n",
       "        text-align: right;\n",
       "    }\n",
       "</style>\n",
       "<table border=\"1\" class=\"dataframe\">\n",
       "  <thead>\n",
       "    <tr style=\"text-align: right;\">\n",
       "      <th></th>\n",
       "      <th>Title</th>\n",
       "      <th>Rating</th>\n",
       "      <th>Description</th>\n",
       "    </tr>\n",
       "  </thead>\n",
       "  <tbody>\n",
       "    <tr>\n",
       "      <th>0</th>\n",
       "      <td>The Mummy: Tomb of the Dragon Emperor</td>\n",
       "      <td>PG-13</td>\n",
       "      <td>The Fast and the Furious director Rob Cohen co...</td>\n",
       "    </tr>\n",
       "    <tr>\n",
       "      <th>1</th>\n",
       "      <td>The Masked Saint</td>\n",
       "      <td>PG-13</td>\n",
       "      <td>The journey of a professional wrestler who bec...</td>\n",
       "    </tr>\n",
       "    <tr>\n",
       "      <th>2</th>\n",
       "      <td>Spy Hard</td>\n",
       "      <td>PG-13</td>\n",
       "      <td>Dead pan Leslie Nielsen stars as Dick Steele, ...</td>\n",
       "    </tr>\n",
       "    <tr>\n",
       "      <th>3</th>\n",
       "      <td>Der Baader Meinhof Komplex (The Baader Meinhof...</td>\n",
       "      <td>R</td>\n",
       "      <td>Director Uli Edel teams with screenwriter Bern...</td>\n",
       "    </tr>\n",
       "  </tbody>\n",
       "</table>\n",
       "</div>"
      ],
      "text/plain": [
       "                                               Title  Rating  \\\n",
       "0              The Mummy: Tomb of the Dragon Emperor  PG-13    \n",
       "1                                   The Masked Saint  PG-13    \n",
       "2                                           Spy Hard   PG-13   \n",
       "3  Der Baader Meinhof Komplex (The Baader Meinhof...      R    \n",
       "\n",
       "                                         Description  \n",
       "0  The Fast and the Furious director Rob Cohen co...  \n",
       "1  The journey of a professional wrestler who bec...  \n",
       "2  Dead pan Leslie Nielsen stars as Dick Steele, ...  \n",
       "3  Director Uli Edel teams with screenwriter Bern...  "
      ]
     },
     "execution_count": 2,
     "metadata": {},
     "output_type": "execute_result"
    }
   ],
   "source": [
    "dataset_df = pd.read_csv( './rtt_dataset/all_movie.csv' )\n",
    "dataset_df = dataset_df[['Title', 'Rating', 'Description']]\n",
    "dataset_df.columns = dataset_df.columns.str.strip()\n",
    "dataset_df.head(4)"
   ]
  },
  {
   "cell_type": "code",
   "execution_count": 3,
   "id": "japanese-costa",
   "metadata": {},
   "outputs": [
    {
     "data": {
      "text/plain": [
       "array(['PG-13 ', 'PG-13', 'R ', 'NR', 'PG', 'G', 'PG ', 'R', 'G ', 'NR ',\n",
       "       'NC17', 'NC17 '], dtype=object)"
      ]
     },
     "execution_count": 3,
     "metadata": {},
     "output_type": "execute_result"
    }
   ],
   "source": [
    "# finding unique mpaa rating in the dataset\n",
    "dataset_df['Rating'].unique()"
   ]
  },
  {
   "cell_type": "code",
   "execution_count": 4,
   "id": "developed-craft",
   "metadata": {},
   "outputs": [
    {
     "data": {
      "text/plain": [
       "array(['PG-13', 'R', 'NR', 'PG', 'G', 'NC17'], dtype=object)"
      ]
     },
     "execution_count": 4,
     "metadata": {},
     "output_type": "execute_result"
    }
   ],
   "source": [
    "# clean mpaa ratings\n",
    "mpaa_fix = {\n",
    "    'PG-13 ' : 'PG-13',\n",
    "    'R ' : 'R',\n",
    "    'PG ': 'PG',\n",
    "    'G ' : 'G',\n",
    "    'NR ': 'NR',\n",
    "    'NC17 ': 'NC17'\n",
    "}\n",
    "for i, rating in dataset_df['Rating'].iteritems():\n",
    "    if rating in mpaa_fix.keys():\n",
    "        fix_val = mpaa_fix.get(rating)\n",
    "        dataset_df.iloc[i]['Rating'] = fix_val\n",
    "dataset_df['Rating'].unique()"
   ]
  },
  {
   "cell_type": "code",
   "execution_count": 5,
   "id": "stopped-retention",
   "metadata": {},
   "outputs": [],
   "source": [
    "# Clean the movie description\n",
    "def clean_description( text_str ):\n",
    "    text = re.sub('[^a-zA-Z]',  ' ', text_str)\n",
    "    text = re.sub(r'\\s+[a-zA-Z]\\s+', ' ', text)\n",
    "    text = re.sub(r'\\s+', ' ', text)\n",
    "    return text\n",
    "\n",
    "for i, description in dataset_df['Description'].iteritems():\n",
    "    dataset_df.iloc[i]['Description'] = clean_description( str(description) )"
   ]
  },
  {
   "cell_type": "code",
   "execution_count": 6,
   "id": "atmospheric-southwest",
   "metadata": {},
   "outputs": [],
   "source": [
    "pickle.dump(dataset_df, open('./data/dataset_df_cleaned_n_sample.pkl', 'wb'))"
   ]
  },
  {
   "cell_type": "markdown",
   "id": "nearby-planner",
   "metadata": {},
   "source": [
    "## Data Distribution"
   ]
  },
  {
   "cell_type": "code",
   "execution_count": 7,
   "id": "respective-timer",
   "metadata": {},
   "outputs": [
    {
     "data": {
      "image/png": "[encoded data removed]",
      "text/plain": [
       "<Figure size 576x432 with 1 Axes>"
      ]
     },
     "metadata": {
      "needs_background": "light"
     },
     "output_type": "display_data"
    }
   ],
   "source": [
    "import matplotlib.pyplot as plt\n",
    "fig = plt.figure(figsize=(8,6))\n",
    "dataset_df.groupby('Rating')['Description'].count().plot.bar(ylim=0)\n",
    "plt.show()"
   ]
  },
  {
   "cell_type": "code",
   "execution_count": 8,
   "id": "interested-quebec",
   "metadata": {},
   "outputs": [],
   "source": [
    "## drop G, NC-17\n",
    "dataset_df = dataset_df[dataset_df.Rating != 'NC17'] \n",
    "dataset_df = dataset_df[dataset_df.Rating != 'G'] "
   ]
  },
  {
   "cell_type": "code",
   "execution_count": 9,
   "id": "generous-malpractice",
   "metadata": {},
   "outputs": [
    {
     "data": {
      "image/png": "[encoded data removed]",
      "text/plain": [
       "<Figure size 576x432 with 1 Axes>"
      ]
     },
     "metadata": {
      "needs_background": "light"
     },
     "output_type": "display_data"
    }
   ],
   "source": [
    "fig = plt.figure(figsize=(8,6))\n",
    "dataset_df.groupby('Rating')['Description'].count().plot.bar(ylim=0)\n",
    "plt.show()"
   ]
  },
  {
   "cell_type": "markdown",
   "id": "ignored-flood",
   "metadata": {},
   "source": [
    "## Use same amount of labels"
   ]
  },
  {
   "cell_type": "code",
   "execution_count": 10,
   "id": "noble-strap",
   "metadata": {},
   "outputs": [
    {
     "data": {
      "text/plain": [
       "(4172, 3)"
      ]
     },
     "execution_count": 10,
     "metadata": {},
     "output_type": "execute_result"
    }
   ],
   "source": [
    "PG_count = dataset_df[dataset_df.Rating == 'PG'].shape\n",
    "PG_count"
   ]
  },
  {
   "cell_type": "code",
   "execution_count": 11,
   "id": "fundamental-executive",
   "metadata": {},
   "outputs": [
    {
     "data": {
      "text/html": [
       "<div>\n",
       "<style scoped>\n",
       "    .dataframe tbody tr th:only-of-type {\n",
       "        vertical-align: middle;\n",
       "    }\n",
       "\n",
       "    .dataframe tbody tr th {\n",
       "        vertical-align: top;\n",
       "    }\n",
       "\n",
       "    .dataframe thead th {\n",
       "        text-align: right;\n",
       "    }\n",
       "</style>\n",
       "<table border=\"1\" class=\"dataframe\">\n",
       "  <thead>\n",
       "    <tr style=\"text-align: right;\">\n",
       "      <th></th>\n",
       "      <th>Title</th>\n",
       "      <th>Rating</th>\n",
       "      <th>Description</th>\n",
       "    </tr>\n",
       "  </thead>\n",
       "  <tbody>\n",
       "    <tr>\n",
       "      <th>17213</th>\n",
       "      <td>4 Months, 3 Weeks and 2 Days</td>\n",
       "      <td>R</td>\n",
       "      <td>Director Cristian Mungiu drama Months Weeks an...</td>\n",
       "    </tr>\n",
       "    <tr>\n",
       "      <th>8884</th>\n",
       "      <td>The American President</td>\n",
       "      <td>PG-13</td>\n",
       "      <td>How does the widowed leader of the free world ...</td>\n",
       "    </tr>\n",
       "    <tr>\n",
       "      <th>25154</th>\n",
       "      <td>Ghosts of Mississippi</td>\n",
       "      <td>PG-13</td>\n",
       "      <td>Medgar Evers was black civil rights activist w...</td>\n",
       "    </tr>\n",
       "    <tr>\n",
       "      <th>27046</th>\n",
       "      <td>1 Night (One Night)</td>\n",
       "      <td>NR</td>\n",
       "      <td>Thirty something Anna Camp who must decide whe...</td>\n",
       "    </tr>\n",
       "    <tr>\n",
       "      <th>14781</th>\n",
       "      <td>The Godfather, Part II</td>\n",
       "      <td>R</td>\n",
       "      <td>Francis Ford Coppola legendary continuation an...</td>\n",
       "    </tr>\n",
       "    <tr>\n",
       "      <th>...</th>\n",
       "      <td>...</td>\n",
       "      <td>...</td>\n",
       "      <td>...</td>\n",
       "    </tr>\n",
       "    <tr>\n",
       "      <th>9009</th>\n",
       "      <td>Barnyard</td>\n",
       "      <td>PG</td>\n",
       "      <td>A cow learns to walk like man both literally a...</td>\n",
       "    </tr>\n",
       "    <tr>\n",
       "      <th>12503</th>\n",
       "      <td>Anne Frank Remembered</td>\n",
       "      <td>PG</td>\n",
       "      <td>This moving documentary tells the story of Ann...</td>\n",
       "    </tr>\n",
       "    <tr>\n",
       "      <th>9722</th>\n",
       "      <td>Bolt</td>\n",
       "      <td>PG</td>\n",
       "      <td>For super dog Bolt every day is filled with ad...</td>\n",
       "    </tr>\n",
       "    <tr>\n",
       "      <th>24886</th>\n",
       "      <td>Moonraker</td>\n",
       "      <td>PG</td>\n",
       "      <td>Secret agent James Bond finds himself battling...</td>\n",
       "    </tr>\n",
       "    <tr>\n",
       "      <th>24392</th>\n",
       "      <td>Escape From Alcatraz</td>\n",
       "      <td>PG</td>\n",
       "      <td>No one can escape from Alcatraz right Try tell...</td>\n",
       "    </tr>\n",
       "  </tbody>\n",
       "</table>\n",
       "<p>16688 rows × 3 columns</p>\n",
       "</div>"
      ],
      "text/plain": [
       "                              Title Rating  \\\n",
       "17213  4 Months, 3 Weeks and 2 Days      R   \n",
       "8884         The American President  PG-13   \n",
       "25154         Ghosts of Mississippi  PG-13   \n",
       "27046           1 Night (One Night)     NR   \n",
       "14781        The Godfather, Part II      R   \n",
       "...                             ...    ...   \n",
       "9009                       Barnyard     PG   \n",
       "12503         Anne Frank Remembered     PG   \n",
       "9722                           Bolt     PG   \n",
       "24886                     Moonraker     PG   \n",
       "24392          Escape From Alcatraz     PG   \n",
       "\n",
       "                                             Description  \n",
       "17213  Director Cristian Mungiu drama Months Weeks an...  \n",
       "8884   How does the widowed leader of the free world ...  \n",
       "25154  Medgar Evers was black civil rights activist w...  \n",
       "27046  Thirty something Anna Camp who must decide whe...  \n",
       "14781  Francis Ford Coppola legendary continuation an...  \n",
       "...                                                  ...  \n",
       "9009   A cow learns to walk like man both literally a...  \n",
       "12503  This moving documentary tells the story of Ann...  \n",
       "9722   For super dog Bolt every day is filled with ad...  \n",
       "24886  Secret agent James Bond finds himself battling...  \n",
       "24392  No one can escape from Alcatraz right Try tell...  \n",
       "\n",
       "[16688 rows x 3 columns]"
      ]
     },
     "execution_count": 11,
     "metadata": {},
     "output_type": "execute_result"
    }
   ],
   "source": [
    "dataset_df = dataset_df.sample(frac=1).groupby('Rating').head(4172)\n",
    "dataset_df"
   ]
  },
  {
   "cell_type": "code",
   "execution_count": 12,
   "id": "continuous-queue",
   "metadata": {},
   "outputs": [
    {
     "data": {
      "image/png": "[encoded data removed]",
      "text/plain": [
       "<Figure size 576x432 with 1 Axes>"
      ]
     },
     "metadata": {
      "needs_background": "light"
     },
     "output_type": "display_data"
    }
   ],
   "source": [
    "fig = plt.figure(figsize=(8,6))\n",
    "dataset_df.groupby('Rating')['Description'].count().plot.bar(ylim=0)\n",
    "plt.show()"
   ]
  },
  {
   "cell_type": "markdown",
   "id": "posted-entrance",
   "metadata": {},
   "source": [
    "## Training model"
   ]
  },
  {
   "cell_type": "code",
   "execution_count": 13,
   "id": "configured-skiing",
   "metadata": {},
   "outputs": [],
   "source": [
    "training_df = pickle.load( open('./data/dataset_df_cleaned_n_sample.pkl', 'rb') )"
   ]
  },
  {
   "cell_type": "code",
   "execution_count": 14,
   "id": "fresh-mechanism",
   "metadata": {},
   "outputs": [],
   "source": [
    "from sklearn.model_selection import train_test_split\n",
    "from sklearn.preprocessing import LabelEncoder\n",
    "from keras.preprocessing.text import one_hot, Tokenizer\n",
    "from keras.preprocessing.sequence import pad_sequences\n",
    "from keras.utils import to_categorical\n",
    "from keras.models import Sequential, load_model\n",
    "from keras.layers import Dense, Flatten, LSTM, Embedding, GlobalMaxPooling1D"
   ]
  },
  {
   "cell_type": "code",
   "execution_count": 15,
   "id": "interesting-device",
   "metadata": {},
   "outputs": [
    {
     "data": {
      "text/plain": [
       "array([4, 4, 4, ..., 5, 4, 4])"
      ]
     },
     "execution_count": 15,
     "metadata": {},
     "output_type": "execute_result"
    }
   ],
   "source": [
    "_y = training_df['Rating']\n",
    "encoder = LabelEncoder()\n",
    "Y = encoder.fit_transform(_y)\n",
    "Y"
   ]
  },
  {
   "cell_type": "code",
   "execution_count": 16,
   "id": "focused-evidence",
   "metadata": {},
   "outputs": [
    {
     "data": {
      "text/plain": [
       "0        The Fast and the Furious director Rob Cohen co...\n",
       "1        The journey of professional wrestler who becom...\n",
       "2        Dead pan Leslie Nielsen stars as Dick Steele a...\n",
       "3        Director Uli Edel teams with screenwriter Bern...\n",
       "4        One of cluster of late films about the Vietnam...\n",
       "                               ...                        \n",
       "29805    Filmed at least nine times over the last nine ...\n",
       "29806    Fred MacMurray stars in this Walt Disney comed...\n",
       "29807    A resident of rd century Earth becomes involve...\n",
       "29808    Supernova chronicles the search and rescue pat...\n",
       "29809    For years there have been documented cases of ...\n",
       "Name: Description, Length: 29810, dtype: object"
      ]
     },
     "execution_count": 16,
     "metadata": {},
     "output_type": "execute_result"
    }
   ],
   "source": [
    "X = training_df['Description']\n",
    "X"
   ]
  },
  {
   "cell_type": "markdown",
   "id": "changing-internship",
   "metadata": {},
   "source": [
    "## Train, test split"
   ]
  },
  {
   "cell_type": "code",
   "execution_count": 17,
   "id": "universal-split",
   "metadata": {},
   "outputs": [],
   "source": [
    "X_train, X_test, Y_train, Y_test = train_test_split( X, Y, test_size=0.3, random_state=40 )"
   ]
  },
  {
   "cell_type": "code",
   "execution_count": 18,
   "id": "animal-mount",
   "metadata": {},
   "outputs": [],
   "source": [
    "Y_train = to_categorical(Y_train)\n",
    "Y_test  = to_categorical(Y_test)"
   ]
  },
  {
   "cell_type": "code",
   "execution_count": 19,
   "id": "charming-sydney",
   "metadata": {},
   "outputs": [],
   "source": [
    "tokenizer = Tokenizer(num_words=10000)\n",
    "tokenizer.fit_on_texts(X_train)"
   ]
  },
  {
   "cell_type": "code",
   "execution_count": 20,
   "id": "reported-hayes",
   "metadata": {},
   "outputs": [],
   "source": [
    "X_train = tokenizer.texts_to_sequences(X_train)\n",
    "X_test  = tokenizer.texts_to_sequences(X_test)"
   ]
  },
  {
   "cell_type": "code",
   "execution_count": 21,
   "id": "expected-hunter",
   "metadata": {},
   "outputs": [],
   "source": [
    "vocabulary_size = len(tokenizer.word_index) + 1\n",
    "maxlen = 400 # Only concider first 400 words of each description\n",
    "\n",
    "X_train = pad_sequences( X_train, maxlen=maxlen )\n",
    "X_test  = pad_sequences( X_test, maxlen=maxlen )"
   ]
  },
  {
   "cell_type": "markdown",
   "id": "ruled-memphis",
   "metadata": {},
   "source": [
    "## Use GloVe : Global Vectors for Word Representation\n",
    "https://nlp.stanford.edu/projects/glove/\n",
    "\n",
    "GloVe is an unsupervised learning algorithm for obtaining vector representations for words. Training is performed on aggregated global word-word co-occurrence statistics from a corpus, and the resulting representations showcase interesting linear substructures of the word vector space. "
   ]
  },
  {
   "cell_type": "code",
   "execution_count": 22,
   "id": "chronic-perception",
   "metadata": {},
   "outputs": [],
   "source": [
    "glove_file = open('./glove.6B/glove.6B.100d.txt', encoding='utf8')"
   ]
  },
  {
   "cell_type": "code",
   "execution_count": 23,
   "id": "polished-oxford",
   "metadata": {},
   "outputs": [],
   "source": [
    "embedd_dictionary = dict()\n",
    "for line in glove_file:\n",
    "    records = line.split()\n",
    "    word = records[0]\n",
    "    vector_dims = np.asarray(records[1:], dtype='float32')\n",
    "    embedd_dictionary[word] = vector_dims\n",
    "\n",
    "glove_file.close()"
   ]
  },
  {
   "cell_type": "code",
   "execution_count": 24,
   "id": "random-anxiety",
   "metadata": {},
   "outputs": [],
   "source": [
    "embedd_matrix = np.zeros((vocabulary_size, 100))\n",
    "for word, index in tokenizer.word_index.items():\n",
    "    embedd_vector = embedd_dictionary.get(word)\n",
    "    if embedd_vector is not None:\n",
    "        embedd_matrix[index] = embedd_vector"
   ]
  },
  {
   "cell_type": "markdown",
   "id": "posted-disney",
   "metadata": {},
   "source": [
    "## Build the NN Model"
   ]
  },
  {
   "cell_type": "code",
   "execution_count": 25,
   "id": "exempt-likelihood",
   "metadata": {},
   "outputs": [
    {
     "name": "stdout",
     "output_type": "stream",
     "text": [
      "Model: \"sequential\"\n",
      "_________________________________________________________________\n",
      "Layer (type)                 Output Shape              Param #   \n",
      "=================================================================\n",
      "embedding (Embedding)        (None, None, 100)         5635900   \n",
      "_________________________________________________________________\n",
      "lstm (LSTM)                  (None, 256)               365568    \n",
      "_________________________________________________________________\n",
      "dense (Dense)                (None, 6)                 1542      \n",
      "=================================================================\n",
      "Total params: 6,003,010\n",
      "Trainable params: 367,110\n",
      "Non-trainable params: 5,635,900\n",
      "_________________________________________________________________\n"
     ]
    }
   ],
   "source": [
    "model = Sequential()\n",
    "model.add(Embedding(input_dim=vocabulary_size, output_dim=100, weights=[embedd_matrix], trainable=False))\n",
    "model.add(LSTM(units=256, dropout=0.4, recurrent_dropout=0.4))\n",
    "model.add(Dense(6, activation='softmax'))\n",
    "model.compile(loss='categorical_crossentropy', optimizer='adam', metrics=['accuracy'])\n",
    "model.summary()"
   ]
  },
  {
   "cell_type": "code",
   "execution_count": 26,
   "id": "imposed-french",
   "metadata": {},
   "outputs": [
    {
     "name": "stdout",
     "output_type": "stream",
     "text": [
      "Epoch 1/100\n",
      "115/115 [==============================] - 148s 1s/step - loss: 1.5048 - accuracy: 0.3471 - val_loss: 1.4281 - val_accuracy: 0.3943\n",
      "Epoch 2/100\n",
      "115/115 [==============================] - 145s 1s/step - loss: 1.4122 - accuracy: 0.3977 - val_loss: 1.3716 - val_accuracy: 0.4181\n",
      "Epoch 3/100\n",
      "115/115 [==============================] - 143s 1s/step - loss: 1.3786 - accuracy: 0.4071 - val_loss: 1.3522 - val_accuracy: 0.4330\n",
      "Epoch 4/100\n",
      "115/115 [==============================] - 144s 1s/step - loss: 1.3177 - accuracy: 0.4397 - val_loss: 1.2702 - val_accuracy: 0.4632\n",
      "Epoch 5/100\n",
      "115/115 [==============================] - 149s 1s/step - loss: 1.2696 - accuracy: 0.4724 - val_loss: 1.2400 - val_accuracy: 0.4841\n",
      "Epoch 6/100\n",
      "115/115 [==============================] - 148s 1s/step - loss: 1.2420 - accuracy: 0.4802 - val_loss: 1.2155 - val_accuracy: 0.4919\n",
      "Epoch 7/100\n",
      "115/115 [==============================] - 147s 1s/step - loss: 1.2167 - accuracy: 0.4920 - val_loss: 1.1865 - val_accuracy: 0.5074\n",
      "Epoch 8/100\n",
      "115/115 [==============================] - 147s 1s/step - loss: 1.1795 - accuracy: 0.5151 - val_loss: 1.1799 - val_accuracy: 0.5076\n",
      "Epoch 9/100\n",
      "115/115 [==============================] - 145s 1s/step - loss: 1.1474 - accuracy: 0.5356 - val_loss: 1.1746 - val_accuracy: 0.5065\n",
      "Epoch 10/100\n",
      "115/115 [==============================] - 151s 1s/step - loss: 1.1217 - accuracy: 0.5504 - val_loss: 1.1452 - val_accuracy: 0.5252\n",
      "Epoch 11/100\n",
      "115/115 [==============================] - 149s 1s/step - loss: 1.0845 - accuracy: 0.5592 - val_loss: 1.1317 - val_accuracy: 0.5244\n",
      "Epoch 12/100\n",
      "115/115 [==============================] - 170s 1s/step - loss: 1.0450 - accuracy: 0.5823 - val_loss: 1.1195 - val_accuracy: 0.5464\n",
      "Epoch 13/100\n",
      "115/115 [==============================] - 166s 1s/step - loss: 1.0700 - accuracy: 0.5709 - val_loss: 1.1197 - val_accuracy: 0.5483\n",
      "Epoch 14/100\n",
      "115/115 [==============================] - 168s 1s/step - loss: 1.0343 - accuracy: 0.5854 - val_loss: 1.3304 - val_accuracy: 0.4306\n",
      "Epoch 15/100\n",
      "115/115 [==============================] - 185s 2s/step - loss: 1.1884 - accuracy: 0.5125 - val_loss: 1.1708 - val_accuracy: 0.5159\n",
      "Epoch 16/100\n",
      "115/115 [==============================] - 172s 1s/step - loss: 1.0861 - accuracy: 0.5684 - val_loss: 1.1381 - val_accuracy: 0.5351\n",
      "Epoch 17/100\n",
      "115/115 [==============================] - 178s 2s/step - loss: 1.0576 - accuracy: 0.5804 - val_loss: 1.1399 - val_accuracy: 0.5392\n",
      "Epoch 18/100\n",
      "115/115 [==============================] - 191s 2s/step - loss: 1.0302 - accuracy: 0.5898 - val_loss: 1.1227 - val_accuracy: 0.5445\n",
      "Epoch 19/100\n",
      "115/115 [==============================] - 181s 2s/step - loss: 1.0106 - accuracy: 0.5987 - val_loss: 1.1309 - val_accuracy: 0.5490\n",
      "Epoch 20/100\n",
      "115/115 [==============================] - 177s 2s/step - loss: 0.9762 - accuracy: 0.6162 - val_loss: 1.0968 - val_accuracy: 0.5547\n",
      "Epoch 21/100\n",
      "115/115 [==============================] - 167s 1s/step - loss: 0.9803 - accuracy: 0.6129 - val_loss: 1.0935 - val_accuracy: 0.5601\n",
      "Epoch 22/100\n",
      "115/115 [==============================] - 149s 1s/step - loss: 0.9570 - accuracy: 0.6177 - val_loss: 1.0865 - val_accuracy: 0.5648\n",
      "Epoch 23/100\n",
      "115/115 [==============================] - 147s 1s/step - loss: 0.9291 - accuracy: 0.6316 - val_loss: 1.1198 - val_accuracy: 0.5558\n",
      "Epoch 24/100\n",
      "115/115 [==============================] - 145s 1s/step - loss: 0.9145 - accuracy: 0.6454 - val_loss: 1.0894 - val_accuracy: 0.5668\n",
      "Epoch 25/100\n",
      "115/115 [==============================] - 147s 1s/step - loss: 0.9060 - accuracy: 0.6502 - val_loss: 1.0948 - val_accuracy: 0.5684\n",
      "Epoch 26/100\n",
      "115/115 [==============================] - 147s 1s/step - loss: 0.9085 - accuracy: 0.6432 - val_loss: 1.0801 - val_accuracy: 0.5774\n",
      "Epoch 27/100\n",
      "115/115 [==============================] - 146s 1s/step - loss: 0.8915 - accuracy: 0.6525 - val_loss: 1.0644 - val_accuracy: 0.5806\n",
      "Epoch 28/100\n",
      "115/115 [==============================] - 145s 1s/step - loss: 0.8754 - accuracy: 0.6615 - val_loss: 1.0697 - val_accuracy: 0.5836\n",
      "Epoch 29/100\n",
      "115/115 [==============================] - 145s 1s/step - loss: 0.8516 - accuracy: 0.6705 - val_loss: 1.0571 - val_accuracy: 0.5892\n",
      "Epoch 30/100\n",
      "115/115 [==============================] - 145s 1s/step - loss: 0.8481 - accuracy: 0.6756 - val_loss: 1.0567 - val_accuracy: 0.5906\n",
      "Epoch 31/100\n",
      "115/115 [==============================] - 148s 1s/step - loss: 0.8436 - accuracy: 0.6720 - val_loss: 1.0401 - val_accuracy: 0.6001\n",
      "Epoch 32/100\n",
      "115/115 [==============================] - 147s 1s/step - loss: 0.8220 - accuracy: 0.6881 - val_loss: 1.0577 - val_accuracy: 0.6020\n",
      "Epoch 33/100\n",
      "115/115 [==============================] - 145s 1s/step - loss: 0.8111 - accuracy: 0.6885 - val_loss: 1.0474 - val_accuracy: 0.6052\n",
      "Epoch 34/100\n",
      "115/115 [==============================] - 147s 1s/step - loss: 0.8038 - accuracy: 0.6935 - val_loss: 1.0395 - val_accuracy: 0.6106\n",
      "Epoch 35/100\n",
      "115/115 [==============================] - 146s 1s/step - loss: 0.8104 - accuracy: 0.6861 - val_loss: 1.0798 - val_accuracy: 0.5967\n",
      "Epoch 36/100\n",
      "115/115 [==============================] - 146s 1s/step - loss: 0.7811 - accuracy: 0.7011 - val_loss: 1.0650 - val_accuracy: 0.6060\n",
      "Epoch 37/100\n",
      "115/115 [==============================] - 146s 1s/step - loss: 0.7703 - accuracy: 0.7053 - val_loss: 1.0604 - val_accuracy: 0.6057\n",
      "Epoch 38/100\n",
      "115/115 [==============================] - 146s 1s/step - loss: 0.7576 - accuracy: 0.7116 - val_loss: 1.0390 - val_accuracy: 0.6143\n",
      "Epoch 39/100\n",
      "115/115 [==============================] - 146s 1s/step - loss: 0.7654 - accuracy: 0.7103 - val_loss: 1.0386 - val_accuracy: 0.6207\n",
      "Epoch 40/100\n",
      "115/115 [==============================] - 145s 1s/step - loss: 0.7507 - accuracy: 0.7149 - val_loss: 1.0380 - val_accuracy: 0.6167\n",
      "Epoch 41/100\n",
      "115/115 [==============================] - 145s 1s/step - loss: 0.7553 - accuracy: 0.7091 - val_loss: 1.0175 - val_accuracy: 0.6178\n",
      "Epoch 42/100\n",
      "115/115 [==============================] - 145s 1s/step - loss: 0.7388 - accuracy: 0.7217 - val_loss: 1.0807 - val_accuracy: 0.6087\n",
      "Epoch 43/100\n",
      "115/115 [==============================] - 146s 1s/step - loss: 0.7401 - accuracy: 0.7151 - val_loss: 1.0298 - val_accuracy: 0.6192\n",
      "Epoch 44/100\n",
      "115/115 [==============================] - 146s 1s/step - loss: 0.7384 - accuracy: 0.7164 - val_loss: 1.0223 - val_accuracy: 0.6282\n",
      "Epoch 45/100\n",
      "115/115 [==============================] - 146s 1s/step - loss: 0.7251 - accuracy: 0.7185 - val_loss: 1.0208 - val_accuracy: 0.6290\n",
      "Epoch 46/100\n",
      "115/115 [==============================] - 146s 1s/step - loss: 0.6978 - accuracy: 0.7358 - val_loss: 1.0095 - val_accuracy: 0.6355\n",
      "Epoch 47/100\n",
      "115/115 [==============================] - 146s 1s/step - loss: 0.7214 - accuracy: 0.7251 - val_loss: 1.0352 - val_accuracy: 0.6309\n",
      "Epoch 48/100\n",
      "115/115 [==============================] - 147s 1s/step - loss: 0.6910 - accuracy: 0.7434 - val_loss: 1.0349 - val_accuracy: 0.6282\n",
      "Epoch 49/100\n",
      "115/115 [==============================] - 148s 1s/step - loss: 0.7080 - accuracy: 0.7279 - val_loss: 1.0127 - val_accuracy: 0.6366\n",
      "Epoch 50/100\n",
      "115/115 [==============================] - 146s 1s/step - loss: 0.6968 - accuracy: 0.7409 - val_loss: 1.0283 - val_accuracy: 0.6366\n",
      "Epoch 51/100\n",
      "115/115 [==============================] - 147s 1s/step - loss: 0.6897 - accuracy: 0.7422 - val_loss: 1.0175 - val_accuracy: 0.6384\n",
      "Epoch 52/100\n",
      "115/115 [==============================] - 148s 1s/step - loss: 0.6838 - accuracy: 0.7481 - val_loss: 1.0545 - val_accuracy: 0.6381\n",
      "Epoch 53/100\n",
      "115/115 [==============================] - 146s 1s/step - loss: 0.6878 - accuracy: 0.7374 - val_loss: 1.0540 - val_accuracy: 0.6371\n",
      "Epoch 54/100\n",
      "115/115 [==============================] - 146s 1s/step - loss: 0.6702 - accuracy: 0.7512 - val_loss: 1.0051 - val_accuracy: 0.6502\n",
      "Epoch 55/100\n",
      "115/115 [==============================] - 146s 1s/step - loss: 0.6765 - accuracy: 0.7464 - val_loss: 1.0196 - val_accuracy: 0.6531\n",
      "Epoch 56/100\n",
      "115/115 [==============================] - 146s 1s/step - loss: 0.6654 - accuracy: 0.7547 - val_loss: 1.0352 - val_accuracy: 0.6446\n",
      "Epoch 57/100\n"
     ]
    },
    {
     "name": "stdout",
     "output_type": "stream",
     "text": [
      "115/115 [==============================] - 146s 1s/step - loss: 0.6708 - accuracy: 0.7515 - val_loss: 1.0224 - val_accuracy: 0.6523\n",
      "Epoch 58/100\n",
      "115/115 [==============================] - 146s 1s/step - loss: 0.6472 - accuracy: 0.7564 - val_loss: 1.0052 - val_accuracy: 0.6547\n",
      "Epoch 59/100\n",
      "115/115 [==============================] - 145s 1s/step - loss: 0.6386 - accuracy: 0.7632 - val_loss: 0.9848 - val_accuracy: 0.6635\n",
      "Epoch 60/100\n",
      "115/115 [==============================] - 147s 1s/step - loss: 0.6401 - accuracy: 0.7559 - val_loss: 1.0042 - val_accuracy: 0.6526\n",
      "Epoch 61/100\n",
      "115/115 [==============================] - 145s 1s/step - loss: 0.6476 - accuracy: 0.7568 - val_loss: 1.0366 - val_accuracy: 0.6505\n",
      "Epoch 62/100\n",
      "115/115 [==============================] - 146s 1s/step - loss: 0.6324 - accuracy: 0.7554 - val_loss: 1.0124 - val_accuracy: 0.6592\n",
      "Epoch 63/100\n",
      "115/115 [==============================] - 146s 1s/step - loss: 0.6191 - accuracy: 0.7709 - val_loss: 0.9984 - val_accuracy: 0.6604\n",
      "Epoch 64/100\n",
      "115/115 [==============================] - 145s 1s/step - loss: 0.6175 - accuracy: 0.7713 - val_loss: 1.0003 - val_accuracy: 0.6612\n",
      "Epoch 65/100\n",
      "115/115 [==============================] - 146s 1s/step - loss: 0.6233 - accuracy: 0.7720 - val_loss: 0.9983 - val_accuracy: 0.6603\n",
      "Epoch 66/100\n",
      "115/115 [==============================] - 146s 1s/step - loss: 0.6320 - accuracy: 0.7607 - val_loss: 1.0477 - val_accuracy: 0.6563\n",
      "Epoch 67/100\n",
      "115/115 [==============================] - 146s 1s/step - loss: 0.6219 - accuracy: 0.7639 - val_loss: 0.9991 - val_accuracy: 0.6681\n",
      "Epoch 68/100\n",
      "115/115 [==============================] - 146s 1s/step - loss: 0.6292 - accuracy: 0.7636 - val_loss: 0.9993 - val_accuracy: 0.6683\n",
      "Epoch 69/100\n",
      "115/115 [==============================] - 146s 1s/step - loss: 0.5982 - accuracy: 0.7753 - val_loss: 1.0197 - val_accuracy: 0.6655\n",
      "Epoch 70/100\n",
      "115/115 [==============================] - 147s 1s/step - loss: 0.6042 - accuracy: 0.7660 - val_loss: 0.9924 - val_accuracy: 0.6731\n",
      "Epoch 71/100\n",
      "115/115 [==============================] - 146s 1s/step - loss: 0.5883 - accuracy: 0.7812 - val_loss: 0.9996 - val_accuracy: 0.6700\n",
      "Epoch 72/100\n",
      "115/115 [==============================] - 145s 1s/step - loss: 0.5934 - accuracy: 0.7826 - val_loss: 0.9938 - val_accuracy: 0.6721\n",
      "Epoch 73/100\n",
      "115/115 [==============================] - 145s 1s/step - loss: 0.5885 - accuracy: 0.7777 - val_loss: 0.9909 - val_accuracy: 0.6772\n",
      "Epoch 74/100\n",
      "115/115 [==============================] - 147s 1s/step - loss: 0.5785 - accuracy: 0.7816 - val_loss: 1.0225 - val_accuracy: 0.6655\n",
      "Epoch 75/100\n",
      "115/115 [==============================] - 146s 1s/step - loss: 0.5971 - accuracy: 0.7756 - val_loss: 0.9920 - val_accuracy: 0.6732\n",
      "Epoch 76/100\n",
      "115/115 [==============================] - 146s 1s/step - loss: 0.5886 - accuracy: 0.7826 - val_loss: 0.9861 - val_accuracy: 0.6834\n",
      "Epoch 77/100\n",
      "115/115 [==============================] - 146s 1s/step - loss: 0.5987 - accuracy: 0.7766 - val_loss: 1.0304 - val_accuracy: 0.6691\n",
      "Epoch 78/100\n",
      "115/115 [==============================] - 147s 1s/step - loss: 0.5871 - accuracy: 0.7793 - val_loss: 1.0077 - val_accuracy: 0.6814\n",
      "Epoch 79/100\n",
      "115/115 [==============================] - 145s 1s/step - loss: 0.5807 - accuracy: 0.7819 - val_loss: 1.0007 - val_accuracy: 0.6802\n",
      "Epoch 80/100\n",
      "115/115 [==============================] - 146s 1s/step - loss: 0.5783 - accuracy: 0.7811 - val_loss: 1.0105 - val_accuracy: 0.6770\n",
      "Epoch 81/100\n",
      "115/115 [==============================] - 146s 1s/step - loss: 0.5758 - accuracy: 0.7845 - val_loss: 1.0128 - val_accuracy: 0.6799\n",
      "Epoch 82/100\n",
      "115/115 [==============================] - 148s 1s/step - loss: 0.5647 - accuracy: 0.7929 - val_loss: 1.0018 - val_accuracy: 0.6841\n",
      "Epoch 83/100\n",
      "115/115 [==============================] - 146s 1s/step - loss: 0.5731 - accuracy: 0.7825 - val_loss: 0.9928 - val_accuracy: 0.6873\n",
      "Epoch 84/100\n",
      "115/115 [==============================] - 146s 1s/step - loss: 0.5698 - accuracy: 0.7911 - val_loss: 0.9866 - val_accuracy: 0.6830\n",
      "Epoch 85/100\n",
      "115/115 [==============================] - 146s 1s/step - loss: 0.5537 - accuracy: 0.7957 - val_loss: 0.9969 - val_accuracy: 0.6862\n",
      "Epoch 86/100\n",
      "115/115 [==============================] - 146s 1s/step - loss: 0.5545 - accuracy: 0.7946 - val_loss: 0.9866 - val_accuracy: 0.6854\n",
      "Epoch 87/100\n",
      "115/115 [==============================] - 146s 1s/step - loss: 0.5611 - accuracy: 0.7898 - val_loss: 1.0176 - val_accuracy: 0.6838\n",
      "Epoch 88/100\n",
      "115/115 [==============================] - 146s 1s/step - loss: 0.5407 - accuracy: 0.8000 - val_loss: 1.0054 - val_accuracy: 0.6834\n",
      "Epoch 89/100\n",
      "115/115 [==============================] - 146s 1s/step - loss: 0.5233 - accuracy: 0.8052 - val_loss: 0.9976 - val_accuracy: 0.6884\n",
      "Epoch 90/100\n",
      "115/115 [==============================] - 145s 1s/step - loss: 0.5322 - accuracy: 0.8014 - val_loss: 1.0157 - val_accuracy: 0.6841\n",
      "Epoch 91/100\n",
      "115/115 [==============================] - 147s 1s/step - loss: 0.5435 - accuracy: 0.7975 - val_loss: 1.0306 - val_accuracy: 0.6842\n",
      "Epoch 92/100\n",
      "115/115 [==============================] - 146s 1s/step - loss: 0.5219 - accuracy: 0.8032 - val_loss: 0.9979 - val_accuracy: 0.6922\n",
      "Epoch 93/100\n",
      "115/115 [==============================] - 145s 1s/step - loss: 0.5458 - accuracy: 0.7985 - val_loss: 1.0271 - val_accuracy: 0.6822\n",
      "Epoch 94/100\n",
      "115/115 [==============================] - 146s 1s/step - loss: 0.5493 - accuracy: 0.7892 - val_loss: 1.0006 - val_accuracy: 0.6919\n",
      "Epoch 95/100\n",
      "115/115 [==============================] - 146s 1s/step - loss: 0.5315 - accuracy: 0.7950 - val_loss: 0.9780 - val_accuracy: 0.6953\n",
      "Epoch 96/100\n",
      "115/115 [==============================] - 147s 1s/step - loss: 0.5371 - accuracy: 0.7931 - val_loss: 0.9931 - val_accuracy: 0.6935\n",
      "Epoch 97/100\n",
      "115/115 [==============================] - 146s 1s/step - loss: 0.5243 - accuracy: 0.8034 - val_loss: 0.9984 - val_accuracy: 0.6951\n",
      "Epoch 98/100\n",
      "115/115 [==============================] - 145s 1s/step - loss: 0.5188 - accuracy: 0.8099 - val_loss: 0.9844 - val_accuracy: 0.6980\n",
      "Epoch 99/100\n",
      "115/115 [==============================] - 147s 1s/step - loss: 0.5077 - accuracy: 0.8097 - val_loss: 0.9998 - val_accuracy: 0.6930\n",
      "Epoch 100/100\n",
      "115/115 [==============================] - 145s 1s/step - loss: 0.5095 - accuracy: 0.8107 - val_loss: 0.9980 - val_accuracy: 0.7013\n"
     ]
    }
   ],
   "source": [
    "hist = model.fit(X_train, Y_train, batch_size=128, epochs=100, validation_split=0.30, verbose=1)"
   ]
  },
  {
   "cell_type": "code",
   "execution_count": 27,
   "id": "commercial-imperial",
   "metadata": {},
   "outputs": [
    {
     "name": "stdout",
     "output_type": "stream",
     "text": [
      "280/280 [==============================] - 32s 116ms/step - loss: 0.9623 - accuracy: 0.6988\n",
      "loss:  0.9622976779937744\n",
      "accuracy:  0.6987587809562683\n"
     ]
    }
   ],
   "source": [
    "loss, acc = model.evaluate(X_test, Y_test, verbose=1)\n",
    "print('loss: ', loss)\n",
    "print('accuracy: ', acc)"
   ]
  },
  {
   "cell_type": "markdown",
   "id": "animated-thunder",
   "metadata": {},
   "source": [
    "## Save model and tokenizer"
   ]
  },
  {
   "cell_type": "code",
   "execution_count": 28,
   "id": "beginning-forward",
   "metadata": {},
   "outputs": [],
   "source": [
    "# save model\n",
    "model.save('./data/mpaa_classifier_n_sample.h5')\n",
    "\n",
    "# save word tokenizer\n",
    "pickle.dump(tokenizer, open('./data/tokenizer_n_sample.pkl', 'wb'))"
   ]
  },
  {
   "cell_type": "markdown",
   "id": "worth-sweden",
   "metadata": {},
   "source": [
    "## Metrics"
   ]
  },
  {
   "cell_type": "code",
   "execution_count": 29,
   "id": "valuable-slovenia",
   "metadata": {},
   "outputs": [
    {
     "data": {
      "image/png": "[encoded data removed]",
      "text/plain": [
       "<Figure size 432x288 with 1 Axes>"
      ]
     },
     "metadata": {
      "needs_background": "light"
     },
     "output_type": "display_data"
    }
   ],
   "source": [
    "plt.plot(hist.history['accuracy'])\n",
    "plt.plot(hist.history['val_accuracy'])\n",
    "plt.title('Model Accuracy')\n",
    "plt.ylabel('Accuracy')\n",
    "plt.xlabel('# Epochs')\n",
    "plt.legend(['train', 'test'])\n",
    "plt.show()"
   ]
  },
  {
   "cell_type": "code",
   "execution_count": 30,
   "id": "interior-pharmacy",
   "metadata": {},
   "outputs": [
    {
     "data": {
      "image/png": "[encoded data removed]",
      "text/plain": [
       "<Figure size 432x288 with 1 Axes>"
      ]
     },
     "metadata": {
      "needs_background": "light"
     },
     "output_type": "display_data"
    }
   ],
   "source": [
    "plt.plot(hist.history['loss'])\n",
    "plt.plot(hist.history['val_loss'])\n",
    "plt.title('Model Loss')\n",
    "plt.ylabel('Loss')\n",
    "plt.xlabel('# Epochs')\n",
    "plt.legend(['train', 'test'])\n",
    "plt.show()"
   ]
  },
  {
   "cell_type": "code",
   "execution_count": null,
   "id": "velvet-outreach",
   "metadata": {},
   "outputs": [],
   "source": []
  }
 ],
 "metadata": {
  "kernelspec": {
   "display_name": "Python 3",
   "language": "python",
   "name": "python3"
  },
  "language_info": {
   "codemirror_mode": {
    "name": "ipython",
    "version": 3
   },
   "file_extension": ".py",
   "mimetype": "text/x-python",
   "name": "python",
   "nbconvert_exporter": "python",
   "pygments_lexer": "ipython3",
   "version": "3.8.6"
  }
 },
 "nbformat": 4,
 "nbformat_minor": 5
}
