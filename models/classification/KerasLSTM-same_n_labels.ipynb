{
 "cells": [
  {
   "cell_type": "markdown",
   "id": "recognized-television",
   "metadata": {},
   "source": [
    "## MPAA rating prediction"
   ]
  },
  {
   "cell_type": "code",
   "execution_count": 1,
   "id": "instant-angel",
   "metadata": {},
   "outputs": [],
   "source": [
    "import pandas as pd\n",
    "import numpy as np\n",
    "import warnings\n",
    "import re\n",
    "import pickle\n",
    "import seaborn as sns\n",
    "\n",
    "%matplotlib inline\n",
    "warnings.filterwarnings('ignore')"
   ]
  },
  {
   "cell_type": "markdown",
   "id": "featured-freight",
   "metadata": {},
   "source": [
    "Import dataset :: using the rotten tomatoes dataset"
   ]
  },
  {
   "cell_type": "code",
   "execution_count": 2,
   "id": "harmful-developer",
   "metadata": {},
   "outputs": [
    {
     "data": {
      "text/html": [
       "<div>\n",
       "<style scoped>\n",
       "    .dataframe tbody tr th:only-of-type {\n",
       "        vertical-align: middle;\n",
       "    }\n",
       "\n",
       "    .dataframe tbody tr th {\n",
       "        vertical-align: top;\n",
       "    }\n",
       "\n",
       "    .dataframe thead th {\n",
       "        text-align: right;\n",
       "    }\n",
       "</style>\n",
       "<table border=\"1\" class=\"dataframe\">\n",
       "  <thead>\n",
       "    <tr style=\"text-align: right;\">\n",
       "      <th></th>\n",
       "      <th>Title</th>\n",
       "      <th>Rating</th>\n",
       "      <th>Description</th>\n",
       "    </tr>\n",
       "  </thead>\n",
       "  <tbody>\n",
       "    <tr>\n",
       "      <th>0</th>\n",
       "      <td>The Mummy: Tomb of the Dragon Emperor</td>\n",
       "      <td>PG-13</td>\n",
       "      <td>The Fast and the Furious director Rob Cohen co...</td>\n",
       "    </tr>\n",
       "    <tr>\n",
       "      <th>1</th>\n",
       "      <td>The Masked Saint</td>\n",
       "      <td>PG-13</td>\n",
       "      <td>The journey of a professional wrestler who bec...</td>\n",
       "    </tr>\n",
       "    <tr>\n",
       "      <th>2</th>\n",
       "      <td>Spy Hard</td>\n",
       "      <td>PG-13</td>\n",
       "      <td>Dead pan Leslie Nielsen stars as Dick Steele, ...</td>\n",
       "    </tr>\n",
       "    <tr>\n",
       "      <th>3</th>\n",
       "      <td>Der Baader Meinhof Komplex (The Baader Meinhof...</td>\n",
       "      <td>R</td>\n",
       "      <td>Director Uli Edel teams with screenwriter Bern...</td>\n",
       "    </tr>\n",
       "  </tbody>\n",
       "</table>\n",
       "</div>"
      ],
      "text/plain": [
       "                                               Title  Rating  \\\n",
       "0              The Mummy: Tomb of the Dragon Emperor  PG-13    \n",
       "1                                   The Masked Saint  PG-13    \n",
       "2                                           Spy Hard   PG-13   \n",
       "3  Der Baader Meinhof Komplex (The Baader Meinhof...      R    \n",
       "\n",
       "                                         Description  \n",
       "0  The Fast and the Furious director Rob Cohen co...  \n",
       "1  The journey of a professional wrestler who bec...  \n",
       "2  Dead pan Leslie Nielsen stars as Dick Steele, ...  \n",
       "3  Director Uli Edel teams with screenwriter Bern...  "
      ]
     },
     "execution_count": 2,
     "metadata": {},
     "output_type": "execute_result"
    }
   ],
   "source": [
    "dataset_df = pd.read_csv( './rtt_dataset/all_movie.csv' )\n",
    "dataset_df = dataset_df[['Title', 'Rating', 'Description']]\n",
    "dataset_df.columns = dataset_df.columns.str.strip()\n",
    "dataset_df.head(4)"
   ]
  },
  {
   "cell_type": "code",
   "execution_count": 3,
   "id": "japanese-costa",
   "metadata": {},
   "outputs": [
    {
     "data": {
      "text/plain": [
       "array(['PG-13 ', 'PG-13', 'R ', 'NR', 'PG', 'G', 'PG ', 'R', 'G ', 'NR ',\n",
       "       'NC17', 'NC17 '], dtype=object)"
      ]
     },
     "execution_count": 3,
     "metadata": {},
     "output_type": "execute_result"
    }
   ],
   "source": [
    "# finding unique mpaa rating in the dataset\n",
    "dataset_df['Rating'].unique()"
   ]
  },
  {
   "cell_type": "code",
   "execution_count": 4,
   "id": "developed-craft",
   "metadata": {},
   "outputs": [
    {
     "data": {
      "text/plain": [
       "array(['PG-13', 'R', 'NR', 'PG', 'G', 'NC17'], dtype=object)"
      ]
     },
     "execution_count": 4,
     "metadata": {},
     "output_type": "execute_result"
    }
   ],
   "source": [
    "# clean mpaa ratings\n",
    "mpaa_fix = {\n",
    "    'PG-13 ' : 'PG-13',\n",
    "    'R ' : 'R',\n",
    "    'PG ': 'PG',\n",
    "    'G ' : 'G',\n",
    "    'NR ': 'NR',\n",
    "    'NC17 ': 'NC17'\n",
    "}\n",
    "for i, rating in dataset_df['Rating'].iteritems():\n",
    "    if rating in mpaa_fix.keys():\n",
    "        fix_val = mpaa_fix.get(rating)\n",
    "        dataset_df.iloc[i]['Rating'] = fix_val\n",
    "dataset_df['Rating'].unique()"
   ]
  },
  {
   "cell_type": "code",
   "execution_count": 5,
   "id": "stopped-retention",
   "metadata": {},
   "outputs": [],
   "source": [
    "# Clean the movie description\n",
    "def clean_description( text_str ):\n",
    "    text = re.sub('[^a-zA-Z]',  ' ', text_str)\n",
    "    text = re.sub(r'\\s+[a-zA-Z]\\s+', ' ', text)\n",
    "    text = re.sub(r'\\s+', ' ', text)\n",
    "    return text\n",
    "\n",
    "for i, description in dataset_df['Description'].iteritems():\n",
    "    dataset_df.iloc[i]['Description'] = clean_description( str(description) )"
   ]
  },
  {
   "cell_type": "code",
   "execution_count": 6,
   "id": "atmospheric-southwest",
   "metadata": {},
   "outputs": [],
   "source": [
    "pickle.dump(dataset_df, open('./data/dataset_df_cleaned_n_sample.pkl', 'wb'))"
   ]
  },
  {
   "cell_type": "markdown",
   "id": "nearby-planner",
   "metadata": {},
   "source": [
    "## Data Distribution"
   ]
  },
  {
   "cell_type": "code",
   "execution_count": 7,
   "id": "respective-timer",
   "metadata": {},
   "outputs": [
    {
     "data": {
      "image/png": "[encoded data removed]",
      "text/plain": [
       "<Figure size 576x432 with 1 Axes>"
      ]
     },
     "metadata": {
      "needs_background": "light"
     },
     "output_type": "display_data"
    }
   ],
   "source": [
    "import matplotlib.pyplot as plt\n",
    "fig = plt.figure(figsize=(8,6))\n",
    "dataset_df.groupby('Rating')['Description'].count().plot.bar(ylim=0)\n",
    "plt.show()"
   ]
  },
  {
   "cell_type": "code",
   "execution_count": 8,
   "id": "interested-quebec",
   "metadata": {},
   "outputs": [],
   "source": [
    "## drop G, NC-17\n",
    "dataset_df = dataset_df[dataset_df.Rating != 'NC17'] \n",
    "dataset_df = dataset_df[dataset_df.Rating != 'G'] "
   ]
  },
  {
   "cell_type": "code",
   "execution_count": 9,
   "id": "generous-malpractice",
   "metadata": {},
   "outputs": [
    {
     "data": {
      "image/png": "[encoded data removed]",
      "text/plain": [
       "<Figure size 576x432 with 1 Axes>"
      ]
     },
     "metadata": {
      "needs_background": "light"
     },
     "output_type": "display_data"
    }
   ],
   "source": [
    "fig = plt.figure(figsize=(8,6))\n",
    "dataset_df.groupby('Rating')['Description'].count().plot.bar(ylim=0)\n",
    "plt.show()"
   ]
  },
  {
   "cell_type": "markdown",
   "id": "ignored-flood",
   "metadata": {},
   "source": [
    "## Use same amount of labels"
   ]
  },
  {
   "cell_type": "code",
   "execution_count": 10,
   "id": "noble-strap",
   "metadata": {},
   "outputs": [
    {
     "data": {
      "text/plain": [
       "(4172, 3)"
      ]
     },
     "execution_count": 10,
     "metadata": {},
     "output_type": "execute_result"
    }
   ],
   "source": [
    "PG_count = dataset_df[dataset_df.Rating == 'PG'].shape\n",
    "PG_count"
   ]
  },
  {
   "cell_type": "code",
   "execution_count": 11,
   "id": "fundamental-executive",
   "metadata": {},
   "outputs": [
    {
     "data": {
      "text/html": [
       "<div>\n",
       "<style scoped>\n",
       "    .dataframe tbody tr th:only-of-type {\n",
       "        vertical-align: middle;\n",
       "    }\n",
       "\n",
       "    .dataframe tbody tr th {\n",
       "        vertical-align: top;\n",
       "    }\n",
       "\n",
       "    .dataframe thead th {\n",
       "        text-align: right;\n",
       "    }\n",
       "</style>\n",
       "<table border=\"1\" class=\"dataframe\">\n",
       "  <thead>\n",
       "    <tr style=\"text-align: right;\">\n",
       "      <th></th>\n",
       "      <th>Title</th>\n",
       "      <th>Rating</th>\n",
       "      <th>Description</th>\n",
       "    </tr>\n",
       "  </thead>\n",
       "  <tbody>\n",
       "    <tr>\n",
       "      <th>20664</th>\n",
       "      <td>Americano</td>\n",
       "      <td>NR</td>\n",
       "      <td>Americano functions both as an homage to Demy ...</td>\n",
       "    </tr>\n",
       "    <tr>\n",
       "      <th>20984</th>\n",
       "      <td>Headspace</td>\n",
       "      <td>R</td>\n",
       "      <td>A twenty five year old man whose chance encoun...</td>\n",
       "    </tr>\n",
       "    <tr>\n",
       "      <th>838</th>\n",
       "      <td>Hawaii</td>\n",
       "      <td>NR</td>\n",
       "      <td>Hawaii hadn even begun filming when director F...</td>\n",
       "    </tr>\n",
       "    <tr>\n",
       "      <th>25881</th>\n",
       "      <td>Trash</td>\n",
       "      <td>R</td>\n",
       "      <td>Set in an unnamed Third World country three ki...</td>\n",
       "    </tr>\n",
       "    <tr>\n",
       "      <th>1111</th>\n",
       "      <td>A Better Tomorrow</td>\n",
       "      <td>R</td>\n",
       "      <td>John Woo established himself as one of Hong Ko...</td>\n",
       "    </tr>\n",
       "    <tr>\n",
       "      <th>...</th>\n",
       "      <td>...</td>\n",
       "      <td>...</td>\n",
       "      <td>...</td>\n",
       "    </tr>\n",
       "    <tr>\n",
       "      <th>18084</th>\n",
       "      <td>Gunga Din</td>\n",
       "      <td>PG</td>\n",
       "      <td>Though Rudyard Kipling poem Gunga Din makes sw...</td>\n",
       "    </tr>\n",
       "    <tr>\n",
       "      <th>14375</th>\n",
       "      <td>388 Arletta Avenue</td>\n",
       "      <td>PG</td>\n",
       "      <td>In this fresh subversive take on the found foo...</td>\n",
       "    </tr>\n",
       "    <tr>\n",
       "      <th>19278</th>\n",
       "      <td>Radio</td>\n",
       "      <td>PG</td>\n",
       "      <td>James Robert Kennedy nicknamed Radio because o...</td>\n",
       "    </tr>\n",
       "    <tr>\n",
       "      <th>29373</th>\n",
       "      <td>Sheena</td>\n",
       "      <td>PG</td>\n",
       "      <td>A female shaman finds young girl lost in the j...</td>\n",
       "    </tr>\n",
       "    <tr>\n",
       "      <th>22598</th>\n",
       "      <td>Casper: A Spirited Beginning</td>\n",
       "      <td>PG</td>\n",
       "      <td>Everyone favorite friendly ghost Casper return...</td>\n",
       "    </tr>\n",
       "  </tbody>\n",
       "</table>\n",
       "<p>16688 rows × 3 columns</p>\n",
       "</div>"
      ],
      "text/plain": [
       "                              Title Rating  \\\n",
       "20664                     Americano     NR   \n",
       "20984                     Headspace      R   \n",
       "838                          Hawaii     NR   \n",
       "25881                         Trash      R   \n",
       "1111              A Better Tomorrow      R   \n",
       "...                             ...    ...   \n",
       "18084                     Gunga Din     PG   \n",
       "14375            388 Arletta Avenue     PG   \n",
       "19278                         Radio     PG   \n",
       "29373                        Sheena     PG   \n",
       "22598  Casper: A Spirited Beginning     PG   \n",
       "\n",
       "                                             Description  \n",
       "20664  Americano functions both as an homage to Demy ...  \n",
       "20984  A twenty five year old man whose chance encoun...  \n",
       "838    Hawaii hadn even begun filming when director F...  \n",
       "25881  Set in an unnamed Third World country three ki...  \n",
       "1111   John Woo established himself as one of Hong Ko...  \n",
       "...                                                  ...  \n",
       "18084  Though Rudyard Kipling poem Gunga Din makes sw...  \n",
       "14375  In this fresh subversive take on the found foo...  \n",
       "19278  James Robert Kennedy nicknamed Radio because o...  \n",
       "29373  A female shaman finds young girl lost in the j...  \n",
       "22598  Everyone favorite friendly ghost Casper return...  \n",
       "\n",
       "[16688 rows x 3 columns]"
      ]
     },
     "execution_count": 11,
     "metadata": {},
     "output_type": "execute_result"
    }
   ],
   "source": [
    "dataset_df = dataset_df.sample(frac=1).groupby('Rating').head(4172)\n",
    "dataset_df"
   ]
  },
  {
   "cell_type": "code",
   "execution_count": 12,
   "id": "continuous-queue",
   "metadata": {},
   "outputs": [
    {
     "data": {
      "image/png": "[encoded data removed]",
      "text/plain": [
       "<Figure size 576x432 with 1 Axes>"
      ]
     },
     "metadata": {
      "needs_background": "light"
     },
     "output_type": "display_data"
    }
   ],
   "source": [
    "fig = plt.figure(figsize=(8,6))\n",
    "dataset_df.groupby('Rating')['Description'].count().plot.bar(ylim=0)\n",
    "plt.show()"
   ]
  },
  {
   "cell_type": "markdown",
   "id": "posted-entrance",
   "metadata": {},
   "source": [
    "## Training model"
   ]
  },
  {
   "cell_type": "code",
   "execution_count": 13,
   "id": "configured-skiing",
   "metadata": {},
   "outputs": [],
   "source": [
    "training_df = pickle.load( open('./data/dataset_df_cleaned_n_sample.pkl', 'rb') )"
   ]
  },
  {
   "cell_type": "code",
   "execution_count": 14,
   "id": "fresh-mechanism",
   "metadata": {},
   "outputs": [
    {
     "name": "stdout",
     "output_type": "stream",
     "text": [
      "INFO:tensorflow:Enabling eager execution\n",
      "INFO:tensorflow:Enabling v2 tensorshape\n",
      "INFO:tensorflow:Enabling resource variables\n",
      "INFO:tensorflow:Enabling tensor equality\n",
      "INFO:tensorflow:Enabling control flow v2\n"
     ]
    }
   ],
   "source": [
    "from sklearn.model_selection import train_test_split\n",
    "from sklearn.preprocessing import LabelEncoder\n",
    "from keras.preprocessing.text import one_hot, Tokenizer\n",
    "from keras.preprocessing.sequence import pad_sequences\n",
    "from keras.utils import to_categorical\n",
    "from keras.models import Sequential, load_model\n",
    "from keras.layers import Dense, Flatten, LSTM, Embedding, GlobalMaxPooling1D"
   ]
  },
  {
   "cell_type": "code",
   "execution_count": 15,
   "id": "interesting-device",
   "metadata": {},
   "outputs": [
    {
     "data": {
      "text/plain": [
       "array([4, 4, 4, ..., 5, 4, 4])"
      ]
     },
     "execution_count": 15,
     "metadata": {},
     "output_type": "execute_result"
    }
   ],
   "source": [
    "_y = training_df['Rating']\n",
    "encoder = LabelEncoder()\n",
    "Y = encoder.fit_transform(_y)\n",
    "Y"
   ]
  },
  {
   "cell_type": "code",
   "execution_count": 16,
   "id": "focused-evidence",
   "metadata": {},
   "outputs": [
    {
     "data": {
      "text/plain": [
       "0        The Fast and the Furious director Rob Cohen co...\n",
       "1        The journey of professional wrestler who becom...\n",
       "2        Dead pan Leslie Nielsen stars as Dick Steele a...\n",
       "3        Director Uli Edel teams with screenwriter Bern...\n",
       "4        One of cluster of late films about the Vietnam...\n",
       "                               ...                        \n",
       "29805    Filmed at least nine times over the last nine ...\n",
       "29806    Fred MacMurray stars in this Walt Disney comed...\n",
       "29807    A resident of rd century Earth becomes involve...\n",
       "29808    Supernova chronicles the search and rescue pat...\n",
       "29809    For years there have been documented cases of ...\n",
       "Name: Description, Length: 29810, dtype: object"
      ]
     },
     "execution_count": 16,
     "metadata": {},
     "output_type": "execute_result"
    }
   ],
   "source": [
    "X = training_df['Description']\n",
    "X"
   ]
  },
  {
   "cell_type": "markdown",
   "id": "changing-internship",
   "metadata": {},
   "source": [
    "## Train, test split"
   ]
  },
  {
   "cell_type": "code",
   "execution_count": 17,
   "id": "universal-split",
   "metadata": {},
   "outputs": [],
   "source": [
    "X_train, X_test, Y_train, Y_test = train_test_split( X, Y, test_size=0.3, random_state=40 )"
   ]
  },
  {
   "cell_type": "code",
   "execution_count": 18,
   "id": "animal-mount",
   "metadata": {},
   "outputs": [],
   "source": [
    "Y_train = to_categorical(Y_train)\n",
    "Y_test  = to_categorical(Y_test)"
   ]
  },
  {
   "cell_type": "code",
   "execution_count": 19,
   "id": "charming-sydney",
   "metadata": {},
   "outputs": [],
   "source": [
    "tokenizer = Tokenizer(num_words=10000)\n",
    "tokenizer.fit_on_texts(X_train)"
   ]
  },
  {
   "cell_type": "code",
   "execution_count": 20,
   "id": "reported-hayes",
   "metadata": {},
   "outputs": [],
   "source": [
    "X_train = tokenizer.texts_to_sequences(X_train)\n",
    "X_test  = tokenizer.texts_to_sequences(X_test)"
   ]
  },
  {
   "cell_type": "code",
   "execution_count": 21,
   "id": "expected-hunter",
   "metadata": {},
   "outputs": [],
   "source": [
    "vocabulary_size = len(tokenizer.word_index) + 1\n",
    "maxlen = 400 # Only concider first 400 words of each description\n",
    "\n",
    "X_train = pad_sequences( X_train, maxlen=maxlen )\n",
    "X_test  = pad_sequences( X_test, maxlen=maxlen )"
   ]
  },
  {
   "cell_type": "markdown",
   "id": "ruled-memphis",
   "metadata": {},
   "source": [
    "## Use GloVe : Global Vectors for Word Representation\n",
    "https://nlp.stanford.edu/projects/glove/\n",
    "\n",
    "GloVe is an unsupervised learning algorithm for obtaining vector representations for words. Training is performed on aggregated global word-word co-occurrence statistics from a corpus, and the resulting representations showcase interesting linear substructures of the word vector space. "
   ]
  },
  {
   "cell_type": "code",
   "execution_count": 22,
   "id": "chronic-perception",
   "metadata": {},
   "outputs": [],
   "source": [
    "glove_file = open('./glove.6B/glove.6B.100d.txt', encoding='utf8')"
   ]
  },
  {
   "cell_type": "code",
   "execution_count": 23,
   "id": "polished-oxford",
   "metadata": {},
   "outputs": [],
   "source": [
    "embedd_dictionary = dict()\n",
    "for line in glove_file:\n",
    "    records = line.split()\n",
    "    word = records[0]\n",
    "    vector_dims = np.asarray(records[1:], dtype='float32')\n",
    "    embedd_dictionary[word] = vector_dims\n",
    "\n",
    "glove_file.close()"
   ]
  },
  {
   "cell_type": "code",
   "execution_count": 24,
   "id": "random-anxiety",
   "metadata": {},
   "outputs": [],
   "source": [
    "embedd_matrix = np.zeros((vocabulary_size, 100))\n",
    "for word, index in tokenizer.word_index.items():\n",
    "    embedd_vector = embedd_dictionary.get(word)\n",
    "    if embedd_vector is not None:\n",
    "        embedd_matrix[index] = embedd_vector"
   ]
  },
  {
   "cell_type": "markdown",
   "id": "posted-disney",
   "metadata": {},
   "source": [
    "## Build the NN Model"
   ]
  },
  {
   "cell_type": "code",
   "execution_count": 25,
   "id": "exempt-likelihood",
   "metadata": {
    "scrolled": false
   },
   "outputs": [
    {
     "name": "stdout",
     "output_type": "stream",
     "text": [
      "WARNING:tensorflow:Layer lstm will not use cuDNN kernels since it doesn't meet the criteria. It will use a generic GPU kernel as fallback when running on GPU.\n",
      "Model: \"sequential\"\n",
      "_________________________________________________________________\n",
      "Layer (type)                 Output Shape              Param #   \n",
      "=================================================================\n",
      "embedding (Embedding)        (None, None, 100)         5635900   \n",
      "_________________________________________________________________\n",
      "lstm (LSTM)                  (None, 256)               365568    \n",
      "_________________________________________________________________\n",
      "dense (Dense)                (None, 6)                 1542      \n",
      "=================================================================\n",
      "Total params: 6,003,010\n",
      "Trainable params: 367,110\n",
      "Non-trainable params: 5,635,900\n",
      "_________________________________________________________________\n"
     ]
    }
   ],
   "source": [
    "model = Sequential()\n",
    "model.add(Embedding(input_dim=vocabulary_size, output_dim=100, weights=[embedd_matrix], trainable=False))\n",
    "model.add(LSTM(units=256, dropout=0.4, recurrent_dropout=0.4))\n",
    "model.add(Dense(6, activation='softmax'))\n",
    "model.compile(loss='categorical_crossentropy', optimizer='adam', metrics=['accuracy'])\n",
    "model.summary()"
   ]
  },
  {
   "cell_type": "code",
   "execution_count": 26,
   "id": "imposed-french",
   "metadata": {},
   "outputs": [
    {
     "name": "stdout",
     "output_type": "stream",
     "text": [
      "Epoch 1/34\n",
      "115/115 [==============================] - 105s 898ms/step - loss: 1.4930 - accuracy: 0.3560 - val_loss: 1.4476 - val_accuracy: 0.3798\n",
      "Epoch 2/34\n",
      "115/115 [==============================] - 104s 908ms/step - loss: 1.4153 - accuracy: 0.3847 - val_loss: 1.4082 - val_accuracy: 0.4060\n",
      "Epoch 3/34\n",
      "115/115 [==============================] - 105s 915ms/step - loss: 1.3635 - accuracy: 0.4119 - val_loss: 1.3052 - val_accuracy: 0.4451\n",
      "Epoch 4/34\n",
      "115/115 [==============================] - 103s 899ms/step - loss: 1.2965 - accuracy: 0.4549 - val_loss: 1.2598 - val_accuracy: 0.4728\n",
      "Epoch 5/34\n",
      "115/115 [==============================] - 104s 902ms/step - loss: 1.2585 - accuracy: 0.4635 - val_loss: 1.2267 - val_accuracy: 0.4895\n",
      "Epoch 6/34\n",
      "115/115 [==============================] - 103s 899ms/step - loss: 1.2422 - accuracy: 0.4784 - val_loss: 1.2262 - val_accuracy: 0.4839\n",
      "Epoch 7/34\n",
      "115/115 [==============================] - 104s 903ms/step - loss: 1.2115 - accuracy: 0.5006 - val_loss: 1.1968 - val_accuracy: 0.4993\n",
      "Epoch 8/34\n",
      "115/115 [==============================] - 103s 900ms/step - loss: 1.1870 - accuracy: 0.5084 - val_loss: 1.1621 - val_accuracy: 0.5188\n",
      "Epoch 9/34\n",
      "115/115 [==============================] - 104s 903ms/step - loss: 1.1425 - accuracy: 0.5334 - val_loss: 1.1598 - val_accuracy: 0.5234\n",
      "Epoch 10/34\n",
      "115/115 [==============================] - 104s 903ms/step - loss: 1.1349 - accuracy: 0.5409 - val_loss: 1.1399 - val_accuracy: 0.5255\n",
      "Epoch 11/34\n",
      "115/115 [==============================] - 104s 903ms/step - loss: 1.0985 - accuracy: 0.5590 - val_loss: 1.1281 - val_accuracy: 0.5349\n",
      "Epoch 12/34\n",
      "115/115 [==============================] - 103s 898ms/step - loss: 1.0526 - accuracy: 0.5769 - val_loss: 1.0905 - val_accuracy: 0.5563\n",
      "Epoch 13/34\n",
      "115/115 [==============================] - 104s 902ms/step - loss: 1.0151 - accuracy: 0.5948 - val_loss: 1.0851 - val_accuracy: 0.5617\n",
      "Epoch 14/34\n",
      "115/115 [==============================] - 104s 901ms/step - loss: 1.0023 - accuracy: 0.6001 - val_loss: 1.0963 - val_accuracy: 0.5573\n",
      "Epoch 15/34\n",
      "115/115 [==============================] - 103s 900ms/step - loss: 0.9466 - accuracy: 0.6213 - val_loss: 1.0385 - val_accuracy: 0.5860\n",
      "Epoch 16/34\n",
      "115/115 [==============================] - 104s 903ms/step - loss: 0.9115 - accuracy: 0.6436 - val_loss: 1.0431 - val_accuracy: 0.5868\n",
      "Epoch 17/34\n",
      "115/115 [==============================] - 104s 905ms/step - loss: 0.8806 - accuracy: 0.6557 - val_loss: 1.0130 - val_accuracy: 0.6012\n",
      "Epoch 18/34\n",
      "115/115 [==============================] - 104s 908ms/step - loss: 0.8454 - accuracy: 0.6708 - val_loss: 1.0582 - val_accuracy: 0.5884\n",
      "Epoch 19/34\n",
      "115/115 [==============================] - 104s 904ms/step - loss: 0.8149 - accuracy: 0.6910 - val_loss: 0.9821 - val_accuracy: 0.6231\n",
      "Epoch 20/34\n",
      "115/115 [==============================] - 104s 901ms/step - loss: 0.7973 - accuracy: 0.6985 - val_loss: 1.0158 - val_accuracy: 0.6189\n",
      "Epoch 21/34\n",
      "115/115 [==============================] - 103s 900ms/step - loss: 0.7499 - accuracy: 0.7163 - val_loss: 0.9763 - val_accuracy: 0.6280\n",
      "Epoch 22/34\n",
      "115/115 [==============================] - 104s 900ms/step - loss: 0.7412 - accuracy: 0.7172 - val_loss: 1.1492 - val_accuracy: 0.5384\n",
      "Epoch 23/34\n",
      "115/115 [==============================] - 104s 902ms/step - loss: 0.9113 - accuracy: 0.6406 - val_loss: 0.9973 - val_accuracy: 0.6232\n",
      "Epoch 24/34\n",
      "115/115 [==============================] - 104s 907ms/step - loss: 0.7518 - accuracy: 0.7179 - val_loss: 0.9947 - val_accuracy: 0.6229\n",
      "Epoch 25/34\n",
      "115/115 [==============================] - 104s 904ms/step - loss: 0.7234 - accuracy: 0.7255 - val_loss: 0.9531 - val_accuracy: 0.6478\n",
      "Epoch 26/34\n",
      "115/115 [==============================] - 103s 900ms/step - loss: 0.7251 - accuracy: 0.7244 - val_loss: 1.0039 - val_accuracy: 0.6219\n",
      "Epoch 27/34\n",
      "115/115 [==============================] - 104s 906ms/step - loss: 0.7655 - accuracy: 0.7146 - val_loss: 0.9960 - val_accuracy: 0.6328\n",
      "Epoch 28/34\n",
      "115/115 [==============================] - 104s 901ms/step - loss: 0.7215 - accuracy: 0.7277 - val_loss: 0.9714 - val_accuracy: 0.6464\n",
      "Epoch 29/34\n",
      "115/115 [==============================] - 104s 901ms/step - loss: 0.6978 - accuracy: 0.7398 - val_loss: 0.9676 - val_accuracy: 0.6512\n",
      "Epoch 30/34\n",
      "115/115 [==============================] - 104s 902ms/step - loss: 0.6846 - accuracy: 0.7438 - val_loss: 0.9609 - val_accuracy: 0.6558\n",
      "Epoch 31/34\n",
      "115/115 [==============================] - 104s 904ms/step - loss: 0.6744 - accuracy: 0.7483 - val_loss: 0.9639 - val_accuracy: 0.6494\n",
      "Epoch 32/34\n",
      "115/115 [==============================] - 104s 902ms/step - loss: 0.6620 - accuracy: 0.7540 - val_loss: 0.9819 - val_accuracy: 0.6481\n",
      "Epoch 33/34\n",
      "115/115 [==============================] - 103s 900ms/step - loss: 0.6560 - accuracy: 0.7550 - val_loss: 0.9610 - val_accuracy: 0.6556\n",
      "Epoch 34/34\n",
      "115/115 [==============================] - 103s 899ms/step - loss: 0.6604 - accuracy: 0.7491 - val_loss: 0.9600 - val_accuracy: 0.6576\n"
     ]
    }
   ],
   "source": [
    "hist = model.fit(X_train, Y_train, batch_size=128, epochs=34, validation_split=0.30, verbose=1)"
   ]
  },
  {
   "cell_type": "code",
   "execution_count": 27,
   "id": "commercial-imperial",
   "metadata": {},
   "outputs": [
    {
     "name": "stdout",
     "output_type": "stream",
     "text": [
      "280/280 [==============================] - 32s 113ms/step - loss: 0.9444 - accuracy: 0.6631\n",
      "loss:  0.9444440603256226\n",
      "accuracy:  0.6630884408950806\n"
     ]
    }
   ],
   "source": [
    "loss, acc = model.evaluate(X_test, Y_test, verbose=1)\n",
    "print('loss: ', loss)\n",
    "print('accuracy: ', acc)"
   ]
  },
  {
   "cell_type": "markdown",
   "id": "animated-thunder",
   "metadata": {},
   "source": [
    "## Save model and tokenizer"
   ]
  },
  {
   "cell_type": "code",
   "execution_count": 28,
   "id": "beginning-forward",
   "metadata": {},
   "outputs": [],
   "source": [
    "# save model\n",
    "model.save('./data/mpaa_classifier_n_sample.h5')\n",
    "\n",
    "# save word tokenizer\n",
    "pickle.dump(tokenizer, open('./data/tokenizer_n_sample.pkl', 'wb'))"
   ]
  },
  {
   "cell_type": "markdown",
   "id": "worth-sweden",
   "metadata": {},
   "source": [
    "## Metrics"
   ]
  },
  {
   "cell_type": "code",
   "execution_count": 29,
   "id": "valuable-slovenia",
   "metadata": {},
   "outputs": [
    {
     "data": {
      "image/png": "[encoded data removed]",
      "text/plain": [
       "<Figure size 432x288 with 1 Axes>"
      ]
     },
     "metadata": {
      "needs_background": "light"
     },
     "output_type": "display_data"
    }
   ],
   "source": [
    "plt.plot(hist.history['accuracy'])\n",
    "plt.plot(hist.history['val_accuracy'])\n",
    "plt.title('Model Accuracy')\n",
    "plt.ylabel('Accuracy')\n",
    "plt.xlabel('# Epochs')\n",
    "plt.legend(['train', 'test'])\n",
    "plt.show()"
   ]
  },
  {
   "cell_type": "code",
   "execution_count": 30,
   "id": "interior-pharmacy",
   "metadata": {},
   "outputs": [
    {
     "data": {
      "image/png": "[encoded data removed]",
      "text/plain": [
       "<Figure size 432x288 with 1 Axes>"
      ]
     },
     "metadata": {
      "needs_background": "light"
     },
     "output_type": "display_data"
    }
   ],
   "source": [
    "plt.plot(hist.history['loss'])\n",
    "plt.plot(hist.history['val_loss'])\n",
    "plt.title('Model Loss')\n",
    "plt.ylabel('Loss')\n",
    "plt.xlabel('# Epochs')\n",
    "plt.legend(['train', 'test'])\n",
    "plt.show()"
   ]
  },
  {
   "cell_type": "code",
   "execution_count": null,
   "id": "a8a7e61c",
   "metadata": {},
   "outputs": [],
   "source": []
  },
  {
   "cell_type": "markdown",
   "id": "e7ee9727",
   "metadata": {},
   "source": [
    "## Confusion Matrix"
   ]
  },
  {
   "cell_type": "code",
   "execution_count": 31,
   "id": "b9946c57",
   "metadata": {},
   "outputs": [
    {
     "name": "stdout",
     "output_type": "stream",
     "text": [
      "WARNING:tensorflow:Layer lstm will not use cuDNN kernels since it doesn't meet the criteria. It will use a generic GPU kernel as fallback when running on GPU.\n"
     ]
    }
   ],
   "source": [
    "# load the saved model\n",
    "from keras.models import load_model\n",
    "model = load_model(\"./data/mpaa_classifier_n_sample.h5\")"
   ]
  },
  {
   "cell_type": "code",
   "execution_count": 32,
   "id": "f60e5f50",
   "metadata": {},
   "outputs": [
    {
     "name": "stdout",
     "output_type": "stream",
     "text": [
      "('You must install pydot (`pip install pydot`) and install graphviz (see instructions at https://graphviz.gitlab.io/download/) ', 'for plot_model/model_to_dot to work.')\n"
     ]
    }
   ],
   "source": [
    "from keras.utils.vis_utils import plot_model\n",
    "plot_model(model, to_file='model_plot.png', show_shapes=True, show_layer_names=True)"
   ]
  },
  {
   "cell_type": "code",
   "execution_count": null,
   "id": "b04e887d",
   "metadata": {},
   "outputs": [],
   "source": []
  },
  {
   "cell_type": "code",
   "execution_count": null,
   "id": "f8d44c16",
   "metadata": {},
   "outputs": [],
   "source": []
  }
 ],
 "metadata": {
  "kernelspec": {
   "display_name": "Python 3",
   "language": "python",
   "name": "python3"
  },
  "language_info": {
   "codemirror_mode": {
    "name": "ipython",
    "version": 3
   },
   "file_extension": ".py",
   "mimetype": "text/x-python",
   "name": "python",
   "nbconvert_exporter": "python",
   "pygments_lexer": "ipython3",
   "version": "3.9.2"
  }
 },
 "nbformat": 4,
 "nbformat_minor": 5
}
