{
 "cells": [
  {
   "cell_type": "markdown",
   "id": "recognized-television",
   "metadata": {},
   "source": [
    "## MPAA rating prediction"
   ]
  },
  {
   "cell_type": "code",
   "execution_count": 49,
   "id": "instant-angel",
   "metadata": {},
   "outputs": [],
   "source": [
    "import pandas as pd\n",
    "import numpy as np\n",
    "import warnings\n",
    "import re\n",
    "import pickle\n",
    "import seaborn as sns\n",
    "\n",
    "%matplotlib inline\n",
    "warnings.filterwarnings('ignore')"
   ]
  },
  {
   "cell_type": "markdown",
   "id": "featured-freight",
   "metadata": {},
   "source": [
    "Import dataset :: using the rotten tomatoes dataset"
   ]
  },
  {
   "cell_type": "code",
   "execution_count": 50,
   "id": "harmful-developer",
   "metadata": {},
   "outputs": [
    {
     "data": {
      "text/html": [
       "<div>\n",
       "<style scoped>\n",
       "    .dataframe tbody tr th:only-of-type {\n",
       "        vertical-align: middle;\n",
       "    }\n",
       "\n",
       "    .dataframe tbody tr th {\n",
       "        vertical-align: top;\n",
       "    }\n",
       "\n",
       "    .dataframe thead th {\n",
       "        text-align: right;\n",
       "    }\n",
       "</style>\n",
       "<table border=\"1\" class=\"dataframe\">\n",
       "  <thead>\n",
       "    <tr style=\"text-align: right;\">\n",
       "      <th></th>\n",
       "      <th>Title</th>\n",
       "      <th>Rating</th>\n",
       "      <th>Description</th>\n",
       "    </tr>\n",
       "  </thead>\n",
       "  <tbody>\n",
       "    <tr>\n",
       "      <th>0</th>\n",
       "      <td>The Mummy: Tomb of the Dragon Emperor</td>\n",
       "      <td>PG-13</td>\n",
       "      <td>The Fast and the Furious director Rob Cohen co...</td>\n",
       "    </tr>\n",
       "    <tr>\n",
       "      <th>1</th>\n",
       "      <td>The Masked Saint</td>\n",
       "      <td>PG-13</td>\n",
       "      <td>The journey of a professional wrestler who bec...</td>\n",
       "    </tr>\n",
       "    <tr>\n",
       "      <th>2</th>\n",
       "      <td>Spy Hard</td>\n",
       "      <td>PG-13</td>\n",
       "      <td>Dead pan Leslie Nielsen stars as Dick Steele, ...</td>\n",
       "    </tr>\n",
       "    <tr>\n",
       "      <th>3</th>\n",
       "      <td>Der Baader Meinhof Komplex (The Baader Meinhof...</td>\n",
       "      <td>R</td>\n",
       "      <td>Director Uli Edel teams with screenwriter Bern...</td>\n",
       "    </tr>\n",
       "  </tbody>\n",
       "</table>\n",
       "</div>"
      ],
      "text/plain": [
       "                                               Title  Rating  \\\n",
       "0              The Mummy: Tomb of the Dragon Emperor  PG-13    \n",
       "1                                   The Masked Saint  PG-13    \n",
       "2                                           Spy Hard   PG-13   \n",
       "3  Der Baader Meinhof Komplex (The Baader Meinhof...      R    \n",
       "\n",
       "                                         Description  \n",
       "0  The Fast and the Furious director Rob Cohen co...  \n",
       "1  The journey of a professional wrestler who bec...  \n",
       "2  Dead pan Leslie Nielsen stars as Dick Steele, ...  \n",
       "3  Director Uli Edel teams with screenwriter Bern...  "
      ]
     },
     "execution_count": 50,
     "metadata": {},
     "output_type": "execute_result"
    }
   ],
   "source": [
    "dataset_df = pd.read_csv( './rtt_dataset/all_movie.csv' )\n",
    "dataset_df = dataset_df[['Title', 'Rating', 'Description']]\n",
    "dataset_df.columns = dataset_df.columns.str.strip()\n",
    "dataset_df.head(4)"
   ]
  },
  {
   "cell_type": "code",
   "execution_count": 51,
   "id": "japanese-costa",
   "metadata": {},
   "outputs": [
    {
     "data": {
      "text/plain": [
       "array(['PG-13 ', 'PG-13', 'R ', 'NR', 'PG', 'G', 'PG ', 'R', 'G ', 'NR ',\n",
       "       'NC17', 'NC17 '], dtype=object)"
      ]
     },
     "execution_count": 51,
     "metadata": {},
     "output_type": "execute_result"
    }
   ],
   "source": [
    "# finding unique mpaa rating in the dataset\n",
    "dataset_df['Rating'].unique()"
   ]
  },
  {
   "cell_type": "code",
   "execution_count": 52,
   "id": "developed-craft",
   "metadata": {},
   "outputs": [
    {
     "data": {
      "text/plain": [
       "array(['PG-13', 'R', 'NR', 'PG', 'G', 'NC17'], dtype=object)"
      ]
     },
     "execution_count": 52,
     "metadata": {},
     "output_type": "execute_result"
    }
   ],
   "source": [
    "# clean mpaa ratings\n",
    "mpaa_fix = {\n",
    "    'PG-13 ' : 'PG-13',\n",
    "    'R ' : 'R',\n",
    "    'PG ': 'PG',\n",
    "    'G ' : 'G',\n",
    "    'NR ': 'NR',\n",
    "    'NC17 ': 'NC17'\n",
    "}\n",
    "for i, rating in dataset_df['Rating'].iteritems():\n",
    "    if rating in mpaa_fix.keys():\n",
    "        fix_val = mpaa_fix.get(rating)\n",
    "        dataset_df.iloc[i]['Rating'] = fix_val\n",
    "dataset_df['Rating'].unique()"
   ]
  },
  {
   "cell_type": "code",
   "execution_count": 53,
   "id": "stopped-retention",
   "metadata": {},
   "outputs": [],
   "source": [
    "# Clean the movie description\n",
    "def clean_description( text_str ):\n",
    "    text = re.sub('[^a-zA-Z]',  ' ', text_str)\n",
    "    text = re.sub(r'\\s+[a-zA-Z]\\s+', ' ', text)\n",
    "    text = re.sub(r'\\s+', ' ', text)\n",
    "    return text\n",
    "\n",
    "for i, description in dataset_df['Description'].iteritems():\n",
    "    dataset_df.iloc[i]['Description'] = clean_description( str(description) )"
   ]
  },
  {
   "cell_type": "code",
   "execution_count": 54,
   "id": "atmospheric-southwest",
   "metadata": {},
   "outputs": [],
   "source": [
    "pickle.dump(dataset_df, open('./data/dataset_df_cleaned_n_sample.pkl', 'wb'))"
   ]
  },
  {
   "cell_type": "markdown",
   "id": "nearby-planner",
   "metadata": {},
   "source": [
    "## Data Distribution"
   ]
  },
  {
   "cell_type": "code",
   "execution_count": 55,
   "id": "respective-timer",
   "metadata": {},
   "outputs": [
    {
     "data": {
      "image/png": "[encoded data removed]",
      "text/plain": [
       "<Figure size 576x432 with 1 Axes>"
      ]
     },
     "metadata": {
      "needs_background": "light"
     },
     "output_type": "display_data"
    }
   ],
   "source": [
    "import matplotlib.pyplot as plt\n",
    "fig = plt.figure(figsize=(8,6))\n",
    "dataset_df.groupby('Rating')['Description'].count().plot.bar(ylim=0)\n",
    "plt.show()"
   ]
  },
  {
   "cell_type": "code",
   "execution_count": 56,
   "id": "interested-quebec",
   "metadata": {},
   "outputs": [],
   "source": [
    "## drop G, NC-17\n",
    "dataset_df = dataset_df[dataset_df.Rating != 'NC17'] \n",
    "dataset_df = dataset_df[dataset_df.Rating != 'G'] "
   ]
  },
  {
   "cell_type": "code",
   "execution_count": 57,
   "id": "generous-malpractice",
   "metadata": {},
   "outputs": [
    {
     "data": {
      "image/png": "[encoded data removed]",
      "text/plain": [
       "<Figure size 576x432 with 1 Axes>"
      ]
     },
     "metadata": {
      "needs_background": "light"
     },
     "output_type": "display_data"
    }
   ],
   "source": [
    "fig = plt.figure(figsize=(8,6))\n",
    "dataset_df.groupby('Rating')['Description'].count().plot.bar(ylim=0)\n",
    "plt.show()"
   ]
  },
  {
   "cell_type": "markdown",
   "id": "ignored-flood",
   "metadata": {},
   "source": [
    "## Use same amount of labels"
   ]
  },
  {
   "cell_type": "code",
   "execution_count": 58,
   "id": "noble-strap",
   "metadata": {},
   "outputs": [
    {
     "data": {
      "text/plain": [
       "(4172, 3)"
      ]
     },
     "execution_count": 58,
     "metadata": {},
     "output_type": "execute_result"
    }
   ],
   "source": [
    "PG_count = dataset_df[dataset_df.Rating == 'PG'].shape\n",
    "PG_count"
   ]
  },
  {
   "cell_type": "code",
   "execution_count": 59,
   "id": "fundamental-executive",
   "metadata": {},
   "outputs": [
    {
     "data": {
      "text/html": [
       "<div>\n",
       "<style scoped>\n",
       "    .dataframe tbody tr th:only-of-type {\n",
       "        vertical-align: middle;\n",
       "    }\n",
       "\n",
       "    .dataframe tbody tr th {\n",
       "        vertical-align: top;\n",
       "    }\n",
       "\n",
       "    .dataframe thead th {\n",
       "        text-align: right;\n",
       "    }\n",
       "</style>\n",
       "<table border=\"1\" class=\"dataframe\">\n",
       "  <thead>\n",
       "    <tr style=\"text-align: right;\">\n",
       "      <th></th>\n",
       "      <th>Title</th>\n",
       "      <th>Rating</th>\n",
       "      <th>Description</th>\n",
       "    </tr>\n",
       "  </thead>\n",
       "  <tbody>\n",
       "    <tr>\n",
       "      <th>5801</th>\n",
       "      <td>Billy Jack Goes to Washington</td>\n",
       "      <td>PG</td>\n",
       "      <td>The fourth film starring Tom Laughlin as Billy...</td>\n",
       "    </tr>\n",
       "    <tr>\n",
       "      <th>23621</th>\n",
       "      <td>Scream 4</td>\n",
       "      <td>R</td>\n",
       "      <td>In Scream Sidney Prescott now the author of se...</td>\n",
       "    </tr>\n",
       "    <tr>\n",
       "      <th>3543</th>\n",
       "      <td>Wizards</td>\n",
       "      <td>PG</td>\n",
       "      <td>In this animated futuristic tale pair of twins...</td>\n",
       "    </tr>\n",
       "    <tr>\n",
       "      <th>9338</th>\n",
       "      <td>The Big Day (Jour De Fete)</td>\n",
       "      <td>NR</td>\n",
       "      <td>In Jacques Tati charming and essentially plotl...</td>\n",
       "    </tr>\n",
       "    <tr>\n",
       "      <th>6532</th>\n",
       "      <td>The Mummy's Hand</td>\n",
       "      <td>NR</td>\n",
       "      <td>The first of four loose sequels to the origina...</td>\n",
       "    </tr>\n",
       "    <tr>\n",
       "      <th>...</th>\n",
       "      <td>...</td>\n",
       "      <td>...</td>\n",
       "      <td>...</td>\n",
       "    </tr>\n",
       "    <tr>\n",
       "      <th>7230</th>\n",
       "      <td>To Catch a Thief</td>\n",
       "      <td>PG</td>\n",
       "      <td>A jewel thief is at large on the Riviera and a...</td>\n",
       "    </tr>\n",
       "    <tr>\n",
       "      <th>595</th>\n",
       "      <td>Thunderball</td>\n",
       "      <td>PG</td>\n",
       "      <td>Thunderball finds James Bond matching wits wit...</td>\n",
       "    </tr>\n",
       "    <tr>\n",
       "      <th>28151</th>\n",
       "      <td>The Last Tycoon</td>\n",
       "      <td>PG</td>\n",
       "      <td>Based on an unfinished novel by Scott Fitzgera...</td>\n",
       "    </tr>\n",
       "    <tr>\n",
       "      <th>23078</th>\n",
       "      <td>Muppets Most Wanted</td>\n",
       "      <td>PG</td>\n",
       "      <td>Disney Muppets Most Wanted takes the entire Mu...</td>\n",
       "    </tr>\n",
       "    <tr>\n",
       "      <th>1042</th>\n",
       "      <td>The Deep</td>\n",
       "      <td>PG</td>\n",
       "      <td>Peter Benchley who wrote Jaws also wrote The D...</td>\n",
       "    </tr>\n",
       "  </tbody>\n",
       "</table>\n",
       "<p>16688 rows × 3 columns</p>\n",
       "</div>"
      ],
      "text/plain": [
       "                               Title Rating  \\\n",
       "5801   Billy Jack Goes to Washington     PG   \n",
       "23621                       Scream 4      R   \n",
       "3543                         Wizards     PG   \n",
       "9338      The Big Day (Jour De Fete)     NR   \n",
       "6532                The Mummy's Hand     NR   \n",
       "...                              ...    ...   \n",
       "7230                To Catch a Thief     PG   \n",
       "595                      Thunderball     PG   \n",
       "28151                The Last Tycoon     PG   \n",
       "23078            Muppets Most Wanted     PG   \n",
       "1042                        The Deep     PG   \n",
       "\n",
       "                                             Description  \n",
       "5801   The fourth film starring Tom Laughlin as Billy...  \n",
       "23621  In Scream Sidney Prescott now the author of se...  \n",
       "3543   In this animated futuristic tale pair of twins...  \n",
       "9338   In Jacques Tati charming and essentially plotl...  \n",
       "6532   The first of four loose sequels to the origina...  \n",
       "...                                                  ...  \n",
       "7230   A jewel thief is at large on the Riviera and a...  \n",
       "595    Thunderball finds James Bond matching wits wit...  \n",
       "28151  Based on an unfinished novel by Scott Fitzgera...  \n",
       "23078  Disney Muppets Most Wanted takes the entire Mu...  \n",
       "1042   Peter Benchley who wrote Jaws also wrote The D...  \n",
       "\n",
       "[16688 rows x 3 columns]"
      ]
     },
     "execution_count": 59,
     "metadata": {},
     "output_type": "execute_result"
    }
   ],
   "source": [
    "dataset_df = dataset_df.sample(frac=1).groupby('Rating').head(4172)\n",
    "dataset_df"
   ]
  },
  {
   "cell_type": "code",
   "execution_count": 60,
   "id": "continuous-queue",
   "metadata": {},
   "outputs": [
    {
     "data": {
      "image/png": "[encoded data removed]",
      "text/plain": [
       "<Figure size 576x432 with 1 Axes>"
      ]
     },
     "metadata": {
      "needs_background": "light"
     },
     "output_type": "display_data"
    }
   ],
   "source": [
    "fig = plt.figure(figsize=(8,6))\n",
    "dataset_df.groupby('Rating')['Description'].count().plot.bar(ylim=0)\n",
    "plt.show()"
   ]
  },
  {
   "cell_type": "markdown",
   "id": "posted-entrance",
   "metadata": {},
   "source": [
    "## Training model"
   ]
  },
  {
   "cell_type": "code",
   "execution_count": 61,
   "id": "configured-skiing",
   "metadata": {},
   "outputs": [],
   "source": [
    "training_df = pickle.load( open('./data/dataset_df_cleaned_n_sample.pkl', 'rb') )"
   ]
  },
  {
   "cell_type": "code",
   "execution_count": 62,
   "id": "fresh-mechanism",
   "metadata": {},
   "outputs": [],
   "source": [
    "from sklearn.model_selection import train_test_split\n",
    "from sklearn.preprocessing import LabelEncoder\n",
    "from keras.preprocessing.text import one_hot, Tokenizer\n",
    "from keras.preprocessing.sequence import pad_sequences\n",
    "from keras.utils import to_categorical\n",
    "from keras.models import Sequential, load_model\n",
    "from keras.layers import Dense, Flatten, LSTM, Embedding, GlobalMaxPooling1D"
   ]
  },
  {
   "cell_type": "code",
   "execution_count": 63,
   "id": "interesting-device",
   "metadata": {},
   "outputs": [
    {
     "data": {
      "text/plain": [
       "array([4, 4, 4, ..., 5, 4, 4])"
      ]
     },
     "execution_count": 63,
     "metadata": {},
     "output_type": "execute_result"
    }
   ],
   "source": [
    "_y = training_df['Rating']\n",
    "encoder = LabelEncoder()\n",
    "Y = encoder.fit_transform(_y)\n",
    "Y"
   ]
  },
  {
   "cell_type": "code",
   "execution_count": 64,
   "id": "focused-evidence",
   "metadata": {},
   "outputs": [
    {
     "data": {
      "text/plain": [
       "0        The Fast and the Furious director Rob Cohen co...\n",
       "1        The journey of professional wrestler who becom...\n",
       "2        Dead pan Leslie Nielsen stars as Dick Steele a...\n",
       "3        Director Uli Edel teams with screenwriter Bern...\n",
       "4        One of cluster of late films about the Vietnam...\n",
       "                               ...                        \n",
       "29805    Filmed at least nine times over the last nine ...\n",
       "29806    Fred MacMurray stars in this Walt Disney comed...\n",
       "29807    A resident of rd century Earth becomes involve...\n",
       "29808    Supernova chronicles the search and rescue pat...\n",
       "29809    For years there have been documented cases of ...\n",
       "Name: Description, Length: 29810, dtype: object"
      ]
     },
     "execution_count": 64,
     "metadata": {},
     "output_type": "execute_result"
    }
   ],
   "source": [
    "X = training_df['Description']\n",
    "X"
   ]
  },
  {
   "cell_type": "markdown",
   "id": "changing-internship",
   "metadata": {},
   "source": [
    "## Train, test split"
   ]
  },
  {
   "cell_type": "code",
   "execution_count": 65,
   "id": "universal-split",
   "metadata": {},
   "outputs": [],
   "source": [
    "X_train, X_test, Y_train, Y_test = train_test_split( X, Y, test_size=0.3, random_state=40 )"
   ]
  },
  {
   "cell_type": "code",
   "execution_count": 66,
   "id": "animal-mount",
   "metadata": {},
   "outputs": [],
   "source": [
    "Y_train = to_categorical(Y_train)\n",
    "Y_test  = to_categorical(Y_test)"
   ]
  },
  {
   "cell_type": "code",
   "execution_count": 67,
   "id": "charming-sydney",
   "metadata": {},
   "outputs": [],
   "source": [
    "tokenizer = Tokenizer(num_words=10000)\n",
    "tokenizer.fit_on_texts(X_train)"
   ]
  },
  {
   "cell_type": "code",
   "execution_count": 68,
   "id": "reported-hayes",
   "metadata": {},
   "outputs": [],
   "source": [
    "X_train = tokenizer.texts_to_sequences(X_train)\n",
    "X_test  = tokenizer.texts_to_sequences(X_test)"
   ]
  },
  {
   "cell_type": "code",
   "execution_count": 69,
   "id": "expected-hunter",
   "metadata": {},
   "outputs": [],
   "source": [
    "vocabulary_size = len(tokenizer.word_index) + 1\n",
    "maxlen = 400 # Only concider first 400 words of each description\n",
    "\n",
    "X_train = pad_sequences( X_train, maxlen=maxlen )\n",
    "X_test  = pad_sequences( X_test, maxlen=maxlen )"
   ]
  },
  {
   "cell_type": "markdown",
   "id": "ruled-memphis",
   "metadata": {},
   "source": [
    "## Use GloVe : Global Vectors for Word Representation\n",
    "https://nlp.stanford.edu/projects/glove/\n",
    "\n",
    "GloVe is an unsupervised learning algorithm for obtaining vector representations for words. Training is performed on aggregated global word-word co-occurrence statistics from a corpus, and the resulting representations showcase interesting linear substructures of the word vector space. "
   ]
  },
  {
   "cell_type": "code",
   "execution_count": 70,
   "id": "chronic-perception",
   "metadata": {},
   "outputs": [],
   "source": [
    "glove_file = open('./glove.6B/glove.6B.100d.txt', encoding='utf8')"
   ]
  },
  {
   "cell_type": "code",
   "execution_count": 71,
   "id": "polished-oxford",
   "metadata": {},
   "outputs": [],
   "source": [
    "embedd_dictionary = dict()\n",
    "for line in glove_file:\n",
    "    records = line.split()\n",
    "    word = records[0]\n",
    "    vector_dims = np.asarray(records[1:], dtype='float32')\n",
    "    embedd_dictionary[word] = vector_dims\n",
    "\n",
    "glove_file.close()"
   ]
  },
  {
   "cell_type": "code",
   "execution_count": 72,
   "id": "random-anxiety",
   "metadata": {},
   "outputs": [],
   "source": [
    "embedd_matrix = np.zeros((vocabulary_size, 100))\n",
    "for word, index in tokenizer.word_index.items():\n",
    "    embedd_vector = embedd_dictionary.get(word)\n",
    "    if embedd_vector is not None:\n",
    "        embedd_matrix[index] = embedd_vector"
   ]
  },
  {
   "cell_type": "markdown",
   "id": "posted-disney",
   "metadata": {},
   "source": [
    "## Build the NN Model"
   ]
  },
  {
   "cell_type": "code",
   "execution_count": 73,
   "id": "exempt-likelihood",
   "metadata": {},
   "outputs": [
    {
     "name": "stdout",
     "output_type": "stream",
     "text": [
      "Model: \"sequential\"\n",
      "_________________________________________________________________\n",
      "Layer (type)                 Output Shape              Param #   \n",
      "=================================================================\n",
      "embedding (Embedding)        (None, None, 100)         5635900   \n",
      "_________________________________________________________________\n",
      "lstm (LSTM)                  (None, 128)               117248    \n",
      "_________________________________________________________________\n",
      "dense (Dense)                (None, 6)                 774       \n",
      "=================================================================\n",
      "Total params: 5,753,922\n",
      "Trainable params: 118,022\n",
      "Non-trainable params: 5,635,900\n",
      "_________________________________________________________________\n"
     ]
    }
   ],
   "source": [
    "model = Sequential()\n",
    "model.add(Embedding(input_dim=vocabulary_size, output_dim=100, weights=[embedd_matrix], trainable=False))\n",
    "model.add(LSTM(units=128, dropout=0.2, recurrent_dropout=0.2))\n",
    "model.add(Dense(6, activation='softmax'))\n",
    "model.compile(loss='categorical_crossentropy', optimizer='adam', metrics=['accuracy'])\n",
    "model.summary()"
   ]
  },
  {
   "cell_type": "code",
   "execution_count": 74,
   "id": "imposed-french",
   "metadata": {},
   "outputs": [
    {
     "name": "stdout",
     "output_type": "stream",
     "text": [
      "Epoch 1/40\n",
      "115/115 [==============================] - 76s 642ms/step - loss: 1.4920 - accuracy: 0.3615 - val_loss: 1.4305 - val_accuracy: 0.3971\n",
      "Epoch 2/40\n",
      "115/115 [==============================] - 74s 641ms/step - loss: 1.3835 - accuracy: 0.4085 - val_loss: 1.3215 - val_accuracy: 0.4344\n",
      "Epoch 3/40\n",
      "115/115 [==============================] - 72s 630ms/step - loss: 1.3201 - accuracy: 0.4406 - val_loss: 1.3128 - val_accuracy: 0.4485\n",
      "Epoch 4/40\n",
      "115/115 [==============================] - 72s 630ms/step - loss: 1.2818 - accuracy: 0.4600 - val_loss: 1.2761 - val_accuracy: 0.4659\n",
      "Epoch 5/40\n",
      "115/115 [==============================] - 72s 630ms/step - loss: 1.2419 - accuracy: 0.4852 - val_loss: 1.2155 - val_accuracy: 0.4871\n",
      "Epoch 6/40\n",
      "115/115 [==============================] - 71s 614ms/step - loss: 1.2107 - accuracy: 0.5002 - val_loss: 1.1861 - val_accuracy: 0.5071\n",
      "Epoch 7/40\n",
      "115/115 [==============================] - 69s 605ms/step - loss: 1.1605 - accuracy: 0.5181 - val_loss: 1.2044 - val_accuracy: 0.4868\n",
      "Epoch 8/40\n",
      "115/115 [==============================] - 73s 636ms/step - loss: 1.1490 - accuracy: 0.5302 - val_loss: 1.1836 - val_accuracy: 0.5103\n",
      "Epoch 9/40\n",
      "115/115 [==============================] - 74s 644ms/step - loss: 1.1229 - accuracy: 0.5482 - val_loss: 1.1477 - val_accuracy: 0.5269\n",
      "Epoch 10/40\n",
      "115/115 [==============================] - 75s 656ms/step - loss: 1.0768 - accuracy: 0.5696 - val_loss: 1.1300 - val_accuracy: 0.5435\n",
      "Epoch 11/40\n",
      "115/115 [==============================] - 71s 614ms/step - loss: 1.0424 - accuracy: 0.5882 - val_loss: 1.1183 - val_accuracy: 0.5513\n",
      "Epoch 12/40\n",
      "115/115 [==============================] - 72s 624ms/step - loss: 1.0190 - accuracy: 0.6024 - val_loss: 1.1161 - val_accuracy: 0.5470\n",
      "Epoch 13/40\n",
      "115/115 [==============================] - 74s 645ms/step - loss: 0.9627 - accuracy: 0.6211 - val_loss: 1.1031 - val_accuracy: 0.5542\n",
      "Epoch 14/40\n",
      "115/115 [==============================] - 75s 654ms/step - loss: 0.9354 - accuracy: 0.6372 - val_loss: 1.0739 - val_accuracy: 0.5672\n",
      "Epoch 15/40\n",
      "115/115 [==============================] - 86s 753ms/step - loss: 0.9188 - accuracy: 0.6440 - val_loss: 1.1139 - val_accuracy: 0.5550\n",
      "Epoch 16/40\n",
      "115/115 [==============================] - 84s 727ms/step - loss: 0.8727 - accuracy: 0.6672 - val_loss: 1.0499 - val_accuracy: 0.5884\n",
      "Epoch 17/40\n",
      "115/115 [==============================] - 82s 711ms/step - loss: 0.8178 - accuracy: 0.6841 - val_loss: 1.0510 - val_accuracy: 0.5894\n",
      "Epoch 18/40\n",
      "115/115 [==============================] - 82s 712ms/step - loss: 0.7870 - accuracy: 0.7005 - val_loss: 1.0306 - val_accuracy: 0.6039\n",
      "Epoch 19/40\n",
      "115/115 [==============================] - 77s 668ms/step - loss: 0.7525 - accuracy: 0.7171 - val_loss: 1.0046 - val_accuracy: 0.6154\n",
      "Epoch 20/40\n",
      "115/115 [==============================] - 73s 634ms/step - loss: 0.7301 - accuracy: 0.7268 - val_loss: 1.0191 - val_accuracy: 0.6210\n",
      "Epoch 21/40\n",
      "115/115 [==============================] - 76s 658ms/step - loss: 0.6973 - accuracy: 0.7409 - val_loss: 1.0288 - val_accuracy: 0.6162\n",
      "Epoch 22/40\n",
      "115/115 [==============================] - 75s 653ms/step - loss: 0.6710 - accuracy: 0.7506 - val_loss: 0.9873 - val_accuracy: 0.6411\n",
      "Epoch 23/40\n",
      "115/115 [==============================] - 72s 629ms/step - loss: 0.6353 - accuracy: 0.7664 - val_loss: 0.9919 - val_accuracy: 0.6430\n",
      "Epoch 24/40\n",
      "115/115 [==============================] - 73s 638ms/step - loss: 0.6199 - accuracy: 0.7731 - val_loss: 0.9778 - val_accuracy: 0.6513\n",
      "Epoch 25/40\n",
      "115/115 [==============================] - 74s 647ms/step - loss: 0.5878 - accuracy: 0.7837 - val_loss: 1.0281 - val_accuracy: 0.6505\n",
      "Epoch 26/40\n",
      "115/115 [==============================] - 75s 652ms/step - loss: 0.5625 - accuracy: 0.7996 - val_loss: 0.9584 - val_accuracy: 0.6668\n",
      "Epoch 27/40\n",
      "115/115 [==============================] - 79s 692ms/step - loss: 0.5344 - accuracy: 0.8051 - val_loss: 0.9848 - val_accuracy: 0.6702\n",
      "Epoch 28/40\n",
      "115/115 [==============================] - 72s 626ms/step - loss: 0.5236 - accuracy: 0.8102 - val_loss: 1.0197 - val_accuracy: 0.6679\n",
      "Epoch 29/40\n",
      "115/115 [==============================] - 73s 637ms/step - loss: 0.4978 - accuracy: 0.8216 - val_loss: 0.9957 - val_accuracy: 0.6750\n",
      "Epoch 30/40\n",
      "115/115 [==============================] - 71s 620ms/step - loss: 0.4633 - accuracy: 0.8351 - val_loss: 0.9960 - val_accuracy: 0.6783\n",
      "Epoch 31/40\n",
      "115/115 [==============================] - 75s 651ms/step - loss: 0.4585 - accuracy: 0.8365 - val_loss: 0.9988 - val_accuracy: 0.6916\n",
      "Epoch 32/40\n",
      "115/115 [==============================] - 75s 655ms/step - loss: 0.4511 - accuracy: 0.8394 - val_loss: 0.9853 - val_accuracy: 0.6949\n",
      "Epoch 33/40\n",
      "115/115 [==============================] - 74s 647ms/step - loss: 0.4263 - accuracy: 0.8481 - val_loss: 0.9867 - val_accuracy: 0.6975\n",
      "Epoch 34/40\n",
      "115/115 [==============================] - 73s 634ms/step - loss: 0.4182 - accuracy: 0.8548 - val_loss: 0.9612 - val_accuracy: 0.7015\n",
      "Epoch 35/40\n",
      "115/115 [==============================] - 75s 657ms/step - loss: 0.3914 - accuracy: 0.8614 - val_loss: 0.9955 - val_accuracy: 0.7005\n",
      "Epoch 36/40\n",
      "115/115 [==============================] - 72s 625ms/step - loss: 0.3897 - accuracy: 0.8582 - val_loss: 1.0189 - val_accuracy: 0.7037\n",
      "Epoch 37/40\n",
      "115/115 [==============================] - 72s 629ms/step - loss: 0.3743 - accuracy: 0.8687 - val_loss: 1.0039 - val_accuracy: 0.7123\n",
      "Epoch 38/40\n",
      "115/115 [==============================] - 73s 631ms/step - loss: 0.3783 - accuracy: 0.8697 - val_loss: 0.9935 - val_accuracy: 0.7114\n",
      "Epoch 39/40\n",
      "115/115 [==============================] - 73s 635ms/step - loss: 0.3302 - accuracy: 0.8847 - val_loss: 1.0214 - val_accuracy: 0.7120\n",
      "Epoch 40/40\n",
      "115/115 [==============================] - 72s 624ms/step - loss: 0.3354 - accuracy: 0.8826 - val_loss: 0.9919 - val_accuracy: 0.7192\n"
     ]
    }
   ],
   "source": [
    "hist = model.fit(X_train, Y_train, batch_size=128, epochs=40, validation_split=0.30, verbose=1)"
   ]
  },
  {
   "cell_type": "code",
   "execution_count": 75,
   "id": "commercial-imperial",
   "metadata": {},
   "outputs": [
    {
     "name": "stdout",
     "output_type": "stream",
     "text": [
      "280/280 [==============================] - 15s 54ms/step - loss: 1.0078 - accuracy: 0.7178\n",
      "loss:  1.0077930688858032\n",
      "accuracy:  0.7177680730819702\n"
     ]
    }
   ],
   "source": [
    "loss, acc = model.evaluate(X_test, Y_test, verbose=1)\n",
    "print('loss: ', loss)\n",
    "print('accuracy: ', acc)"
   ]
  },
  {
   "cell_type": "markdown",
   "id": "animated-thunder",
   "metadata": {},
   "source": [
    "## Save model and tokenizer"
   ]
  },
  {
   "cell_type": "code",
   "execution_count": 76,
   "id": "beginning-forward",
   "metadata": {},
   "outputs": [],
   "source": [
    "# save model\n",
    "model.save('./data/mpaa_classifier_n_sample.h5')\n",
    "\n",
    "# save word tokenizer\n",
    "pickle.dump(tokenizer, open('./data/tokenizer_n_sample.pkl', 'wb'))"
   ]
  },
  {
   "cell_type": "markdown",
   "id": "worth-sweden",
   "metadata": {},
   "source": [
    "## Metrics"
   ]
  },
  {
   "cell_type": "code",
   "execution_count": 77,
   "id": "valuable-slovenia",
   "metadata": {},
   "outputs": [
    {
     "data": {
      "image/png": "[encoded data removed]",
      "text/plain": [
       "<Figure size 432x288 with 1 Axes>"
      ]
     },
     "metadata": {
      "needs_background": "light"
     },
     "output_type": "display_data"
    }
   ],
   "source": [
    "plt.plot(hist.history['accuracy'])\n",
    "plt.plot(hist.history['val_accuracy'])\n",
    "plt.title('Model Accuracy')\n",
    "plt.ylabel('Accuracy')\n",
    "plt.xlabel('# Epochs')\n",
    "plt.legend(['train', 'test'])\n",
    "plt.show()"
   ]
  },
  {
   "cell_type": "code",
   "execution_count": 78,
   "id": "interior-pharmacy",
   "metadata": {},
   "outputs": [
    {
     "data": {
      "image/png": "[encoded data removed]",
      "text/plain": [
       "<Figure size 432x288 with 1 Axes>"
      ]
     },
     "metadata": {
      "needs_background": "light"
     },
     "output_type": "display_data"
    }
   ],
   "source": [
    "plt.plot(hist.history['loss'])\n",
    "plt.plot(hist.history['val_loss'])\n",
    "plt.title('Model Loss')\n",
    "plt.ylabel('Loss')\n",
    "plt.xlabel('# Epochs')\n",
    "plt.legend(['train', 'test'])\n",
    "plt.show()"
   ]
  },
  {
   "cell_type": "code",
   "execution_count": null,
   "id": "velvet-outreach",
   "metadata": {},
   "outputs": [],
   "source": []
  }
 ],
 "metadata": {
  "kernelspec": {
   "display_name": "Python 3",
   "language": "python",
   "name": "python3"
  },
  "language_info": {
   "codemirror_mode": {
    "name": "ipython",
    "version": 3
   },
   "file_extension": ".py",
   "mimetype": "text/x-python",
   "name": "python",
   "nbconvert_exporter": "python",
   "pygments_lexer": "ipython3",
   "version": "3.8.6"
  }
 },
 "nbformat": 4,
 "nbformat_minor": 5
}
