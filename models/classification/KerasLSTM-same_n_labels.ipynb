{
 "cells": [
  {
   "cell_type": "markdown",
   "id": "recognized-television",
   "metadata": {},
   "source": [
    "## MPAA rating prediction"
   ]
  },
  {
   "cell_type": "code",
   "execution_count": 1,
   "id": "instant-angel",
   "metadata": {},
   "outputs": [],
   "source": [
    "import pandas as pd\n",
    "import numpy as np\n",
    "import warnings\n",
    "import re\n",
    "import pickle\n",
    "import seaborn as sns\n",
    "\n",
    "%matplotlib inline\n",
    "warnings.filterwarnings('ignore')"
   ]
  },
  {
   "cell_type": "markdown",
   "id": "featured-freight",
   "metadata": {},
   "source": [
    "Import dataset :: using the rotten tomatoes dataset"
   ]
  },
  {
   "cell_type": "code",
   "execution_count": 2,
   "id": "harmful-developer",
   "metadata": {},
   "outputs": [
    {
     "data": {
      "text/html": [
       "<div>\n",
       "<style scoped>\n",
       "    .dataframe tbody tr th:only-of-type {\n",
       "        vertical-align: middle;\n",
       "    }\n",
       "\n",
       "    .dataframe tbody tr th {\n",
       "        vertical-align: top;\n",
       "    }\n",
       "\n",
       "    .dataframe thead th {\n",
       "        text-align: right;\n",
       "    }\n",
       "</style>\n",
       "<table border=\"1\" class=\"dataframe\">\n",
       "  <thead>\n",
       "    <tr style=\"text-align: right;\">\n",
       "      <th></th>\n",
       "      <th>Title</th>\n",
       "      <th>Rating</th>\n",
       "      <th>Description</th>\n",
       "    </tr>\n",
       "  </thead>\n",
       "  <tbody>\n",
       "    <tr>\n",
       "      <th>0</th>\n",
       "      <td>The Mummy: Tomb of the Dragon Emperor</td>\n",
       "      <td>PG-13</td>\n",
       "      <td>The Fast and the Furious director Rob Cohen co...</td>\n",
       "    </tr>\n",
       "    <tr>\n",
       "      <th>1</th>\n",
       "      <td>The Masked Saint</td>\n",
       "      <td>PG-13</td>\n",
       "      <td>The journey of a professional wrestler who bec...</td>\n",
       "    </tr>\n",
       "    <tr>\n",
       "      <th>2</th>\n",
       "      <td>Spy Hard</td>\n",
       "      <td>PG-13</td>\n",
       "      <td>Dead pan Leslie Nielsen stars as Dick Steele, ...</td>\n",
       "    </tr>\n",
       "    <tr>\n",
       "      <th>3</th>\n",
       "      <td>Der Baader Meinhof Komplex (The Baader Meinhof...</td>\n",
       "      <td>R</td>\n",
       "      <td>Director Uli Edel teams with screenwriter Bern...</td>\n",
       "    </tr>\n",
       "  </tbody>\n",
       "</table>\n",
       "</div>"
      ],
      "text/plain": [
       "                                               Title  Rating  \\\n",
       "0              The Mummy: Tomb of the Dragon Emperor  PG-13    \n",
       "1                                   The Masked Saint  PG-13    \n",
       "2                                           Spy Hard   PG-13   \n",
       "3  Der Baader Meinhof Komplex (The Baader Meinhof...      R    \n",
       "\n",
       "                                         Description  \n",
       "0  The Fast and the Furious director Rob Cohen co...  \n",
       "1  The journey of a professional wrestler who bec...  \n",
       "2  Dead pan Leslie Nielsen stars as Dick Steele, ...  \n",
       "3  Director Uli Edel teams with screenwriter Bern...  "
      ]
     },
     "execution_count": 2,
     "metadata": {},
     "output_type": "execute_result"
    }
   ],
   "source": [
    "dataset_df = pd.read_csv( './rtt_dataset/all_movie.csv' )\n",
    "dataset_df = dataset_df[['Title', 'Rating', 'Description']]\n",
    "dataset_df.columns = dataset_df.columns.str.strip()\n",
    "dataset_df.head(4)"
   ]
  },
  {
   "cell_type": "code",
   "execution_count": 3,
   "id": "japanese-costa",
   "metadata": {},
   "outputs": [
    {
     "data": {
      "text/plain": [
       "array(['PG-13 ', 'PG-13', 'R ', 'NR', 'PG', 'G', 'PG ', 'R', 'G ', 'NR ',\n",
       "       'NC17', 'NC17 '], dtype=object)"
      ]
     },
     "execution_count": 3,
     "metadata": {},
     "output_type": "execute_result"
    }
   ],
   "source": [
    "# finding unique mpaa rating in the dataset\n",
    "dataset_df['Rating'].unique()"
   ]
  },
  {
   "cell_type": "code",
   "execution_count": 4,
   "id": "developed-craft",
   "metadata": {},
   "outputs": [
    {
     "data": {
      "text/plain": [
       "array(['PG-13', 'R', 'NR', 'PG', 'G', 'NC17'], dtype=object)"
      ]
     },
     "execution_count": 4,
     "metadata": {},
     "output_type": "execute_result"
    }
   ],
   "source": [
    "# clean mpaa ratings\n",
    "mpaa_fix = {\n",
    "    'PG-13 ' : 'PG-13',\n",
    "    'R ' : 'R',\n",
    "    'PG ': 'PG',\n",
    "    'G ' : 'G',\n",
    "    'NR ': 'NR',\n",
    "    'NC17 ': 'NC17'\n",
    "}\n",
    "for i, rating in dataset_df['Rating'].iteritems():\n",
    "    if rating in mpaa_fix.keys():\n",
    "        fix_val = mpaa_fix.get(rating)\n",
    "        dataset_df.iloc[i]['Rating'] = fix_val\n",
    "dataset_df['Rating'].unique()"
   ]
  },
  {
   "cell_type": "code",
   "execution_count": 5,
   "id": "stopped-retention",
   "metadata": {},
   "outputs": [],
   "source": [
    "# Clean the movie description\n",
    "def clean_description( text_str ):\n",
    "    text = re.sub('[^a-zA-Z]',  ' ', text_str)\n",
    "    text = re.sub(r'\\s+[a-zA-Z]\\s+', ' ', text)\n",
    "    text = re.sub(r'\\s+', ' ', text)\n",
    "    return text\n",
    "\n",
    "for i, description in dataset_df['Description'].iteritems():\n",
    "    dataset_df.iloc[i]['Description'] = clean_description( str(description) )"
   ]
  },
  {
   "cell_type": "code",
   "execution_count": 6,
   "id": "atmospheric-southwest",
   "metadata": {},
   "outputs": [],
   "source": [
    "pickle.dump(dataset_df, open('./data/dataset_df_cleaned_n_sample.pkl', 'wb'))"
   ]
  },
  {
   "cell_type": "markdown",
   "id": "nearby-planner",
   "metadata": {},
   "source": [
    "## Data Distribution"
   ]
  },
  {
   "cell_type": "code",
   "execution_count": 7,
   "id": "respective-timer",
   "metadata": {},
   "outputs": [
    {
     "data": {
      "image/png": "[encoded data removed]",
      "text/plain": [
       "<Figure size 576x432 with 1 Axes>"
      ]
     },
     "metadata": {
      "needs_background": "light"
     },
     "output_type": "display_data"
    }
   ],
   "source": [
    "import matplotlib.pyplot as plt\n",
    "fig = plt.figure(figsize=(8,6))\n",
    "dataset_df.groupby('Rating')['Description'].count().plot.bar(ylim=0)\n",
    "plt.show()"
   ]
  },
  {
   "cell_type": "code",
   "execution_count": 8,
   "id": "interested-quebec",
   "metadata": {},
   "outputs": [],
   "source": [
    "## drop G, NC-17\n",
    "dataset_df = dataset_df[dataset_df.Rating != 'NC17'] \n",
    "dataset_df = dataset_df[dataset_df.Rating != 'G'] "
   ]
  },
  {
   "cell_type": "code",
   "execution_count": 9,
   "id": "generous-malpractice",
   "metadata": {},
   "outputs": [
    {
     "data": {
      "image/png": "[encoded data removed]",
      "text/plain": [
       "<Figure size 576x432 with 1 Axes>"
      ]
     },
     "metadata": {
      "needs_background": "light"
     },
     "output_type": "display_data"
    }
   ],
   "source": [
    "fig = plt.figure(figsize=(8,6))\n",
    "dataset_df.groupby('Rating')['Description'].count().plot.bar(ylim=0)\n",
    "plt.show()"
   ]
  },
  {
   "cell_type": "markdown",
   "id": "ignored-flood",
   "metadata": {},
   "source": [
    "## Use same amount of labels"
   ]
  },
  {
   "cell_type": "code",
   "execution_count": 10,
   "id": "noble-strap",
   "metadata": {},
   "outputs": [
    {
     "data": {
      "text/plain": [
       "(4172, 3)"
      ]
     },
     "execution_count": 10,
     "metadata": {},
     "output_type": "execute_result"
    }
   ],
   "source": [
    "PG_count = dataset_df[dataset_df.Rating == 'PG'].shape\n",
    "PG_count"
   ]
  },
  {
   "cell_type": "code",
   "execution_count": 11,
   "id": "fundamental-executive",
   "metadata": {},
   "outputs": [
    {
     "data": {
      "text/html": [
       "<div>\n",
       "<style scoped>\n",
       "    .dataframe tbody tr th:only-of-type {\n",
       "        vertical-align: middle;\n",
       "    }\n",
       "\n",
       "    .dataframe tbody tr th {\n",
       "        vertical-align: top;\n",
       "    }\n",
       "\n",
       "    .dataframe thead th {\n",
       "        text-align: right;\n",
       "    }\n",
       "</style>\n",
       "<table border=\"1\" class=\"dataframe\">\n",
       "  <thead>\n",
       "    <tr style=\"text-align: right;\">\n",
       "      <th></th>\n",
       "      <th>Title</th>\n",
       "      <th>Rating</th>\n",
       "      <th>Description</th>\n",
       "    </tr>\n",
       "  </thead>\n",
       "  <tbody>\n",
       "    <tr>\n",
       "      <th>22312</th>\n",
       "      <td>Murders in the Rue Morgue</td>\n",
       "      <td>NR</td>\n",
       "      <td>Having missed the opportunity to direct Franke...</td>\n",
       "    </tr>\n",
       "    <tr>\n",
       "      <th>6562</th>\n",
       "      <td>The Big Sleep</td>\n",
       "      <td>PG</td>\n",
       "      <td>The definitive Humphrey Bogart Lauren Bacall v...</td>\n",
       "    </tr>\n",
       "    <tr>\n",
       "      <th>977</th>\n",
       "      <td>Dinosaurs Alive! 3D</td>\n",
       "      <td>NR</td>\n",
       "      <td>Dinosaurs Alive is global adventure of scienc...</td>\n",
       "    </tr>\n",
       "    <tr>\n",
       "      <th>18085</th>\n",
       "      <td>Bird People</td>\n",
       "      <td>NR</td>\n",
       "      <td>In an airport hotel on the outskirts of Paris ...</td>\n",
       "    </tr>\n",
       "    <tr>\n",
       "      <th>13845</th>\n",
       "      <td>The Last Supper</td>\n",
       "      <td>R</td>\n",
       "      <td>In this satirical sophisticated black comedy f...</td>\n",
       "    </tr>\n",
       "    <tr>\n",
       "      <th>...</th>\n",
       "      <td>...</td>\n",
       "      <td>...</td>\n",
       "      <td>...</td>\n",
       "    </tr>\n",
       "    <tr>\n",
       "      <th>22978</th>\n",
       "      <td>The Adventures of Sharkboy and Lavagirl in 3-D</td>\n",
       "      <td>PG</td>\n",
       "      <td>Writer and director Robert Rodriguez returns t...</td>\n",
       "    </tr>\n",
       "    <tr>\n",
       "      <th>3365</th>\n",
       "      <td>The Smurfs</td>\n",
       "      <td>PG</td>\n",
       "      <td>The Smurfs make their first trip to the big sc...</td>\n",
       "    </tr>\n",
       "    <tr>\n",
       "      <th>3324</th>\n",
       "      <td>The Smurfs 2</td>\n",
       "      <td>PG</td>\n",
       "      <td>The Smurfs are back with this follow up to the...</td>\n",
       "    </tr>\n",
       "    <tr>\n",
       "      <th>1906</th>\n",
       "      <td>Bridge to Terabithia</td>\n",
       "      <td>PG</td>\n",
       "      <td>Bridge to Terabithia is fantasy adventure sto...</td>\n",
       "    </tr>\n",
       "    <tr>\n",
       "      <th>3810</th>\n",
       "      <td>Dead Hooker in a Trunk</td>\n",
       "      <td>PG</td>\n",
       "      <td>Four friends race to get rid of the dead hooke...</td>\n",
       "    </tr>\n",
       "  </tbody>\n",
       "</table>\n",
       "<p>16688 rows × 3 columns</p>\n",
       "</div>"
      ],
      "text/plain": [
       "                                                Title Rating  \\\n",
       "22312                       Murders in the Rue Morgue     NR   \n",
       "6562                                    The Big Sleep     PG   \n",
       "977                               Dinosaurs Alive! 3D     NR   \n",
       "18085                                     Bird People     NR   \n",
       "13845                                 The Last Supper      R   \n",
       "...                                               ...    ...   \n",
       "22978  The Adventures of Sharkboy and Lavagirl in 3-D     PG   \n",
       "3365                                       The Smurfs     PG   \n",
       "3324                                     The Smurfs 2     PG   \n",
       "1906                             Bridge to Terabithia     PG   \n",
       "3810                           Dead Hooker in a Trunk     PG   \n",
       "\n",
       "                                             Description  \n",
       "22312  Having missed the opportunity to direct Franke...  \n",
       "6562   The definitive Humphrey Bogart Lauren Bacall v...  \n",
       "977     Dinosaurs Alive is global adventure of scienc...  \n",
       "18085  In an airport hotel on the outskirts of Paris ...  \n",
       "13845  In this satirical sophisticated black comedy f...  \n",
       "...                                                  ...  \n",
       "22978  Writer and director Robert Rodriguez returns t...  \n",
       "3365   The Smurfs make their first trip to the big sc...  \n",
       "3324   The Smurfs are back with this follow up to the...  \n",
       "1906    Bridge to Terabithia is fantasy adventure sto...  \n",
       "3810   Four friends race to get rid of the dead hooke...  \n",
       "\n",
       "[16688 rows x 3 columns]"
      ]
     },
     "execution_count": 11,
     "metadata": {},
     "output_type": "execute_result"
    }
   ],
   "source": [
    "dataset_df = dataset_df.sample(frac=1).groupby('Rating').head(4172)\n",
    "dataset_df"
   ]
  },
  {
   "cell_type": "code",
   "execution_count": 12,
   "id": "continuous-queue",
   "metadata": {},
   "outputs": [
    {
     "data": {
      "image/png": "[encoded data removed]",
      "text/plain": [
       "<Figure size 576x432 with 1 Axes>"
      ]
     },
     "metadata": {
      "needs_background": "light"
     },
     "output_type": "display_data"
    }
   ],
   "source": [
    "fig = plt.figure(figsize=(8,6))\n",
    "dataset_df.groupby('Rating')['Description'].count().plot.bar(ylim=0)\n",
    "plt.show()"
   ]
  },
  {
   "cell_type": "markdown",
   "id": "posted-entrance",
   "metadata": {},
   "source": [
    "## Training model"
   ]
  },
  {
   "cell_type": "code",
   "execution_count": 13,
   "id": "configured-skiing",
   "metadata": {},
   "outputs": [],
   "source": [
    "training_df = pickle.load( open('./data/dataset_df_cleaned_n_sample.pkl', 'rb') )"
   ]
  },
  {
   "cell_type": "code",
   "execution_count": 14,
   "id": "fresh-mechanism",
   "metadata": {},
   "outputs": [],
   "source": [
    "from sklearn.model_selection import train_test_split\n",
    "from sklearn.preprocessing import LabelEncoder\n",
    "from keras.preprocessing.text import one_hot, Tokenizer\n",
    "from keras.preprocessing.sequence import pad_sequences\n",
    "from keras.utils import to_categorical\n",
    "from keras.models import Sequential, load_model\n",
    "from keras.layers import Dense, Flatten, LSTM, Embedding, GlobalMaxPooling1D"
   ]
  },
  {
   "cell_type": "code",
   "execution_count": 15,
   "id": "interesting-device",
   "metadata": {},
   "outputs": [
    {
     "data": {
      "text/plain": [
       "array([4, 4, 4, ..., 5, 4, 4])"
      ]
     },
     "execution_count": 15,
     "metadata": {},
     "output_type": "execute_result"
    }
   ],
   "source": [
    "_y = training_df['Rating']\n",
    "encoder = LabelEncoder()\n",
    "Y = encoder.fit_transform(_y)\n",
    "Y"
   ]
  },
  {
   "cell_type": "code",
   "execution_count": 16,
   "id": "focused-evidence",
   "metadata": {},
   "outputs": [
    {
     "data": {
      "text/plain": [
       "0        The Fast and the Furious director Rob Cohen co...\n",
       "1        The journey of professional wrestler who becom...\n",
       "2        Dead pan Leslie Nielsen stars as Dick Steele a...\n",
       "3        Director Uli Edel teams with screenwriter Bern...\n",
       "4        One of cluster of late films about the Vietnam...\n",
       "                               ...                        \n",
       "29805    Filmed at least nine times over the last nine ...\n",
       "29806    Fred MacMurray stars in this Walt Disney comed...\n",
       "29807    A resident of rd century Earth becomes involve...\n",
       "29808    Supernova chronicles the search and rescue pat...\n",
       "29809    For years there have been documented cases of ...\n",
       "Name: Description, Length: 29810, dtype: object"
      ]
     },
     "execution_count": 16,
     "metadata": {},
     "output_type": "execute_result"
    }
   ],
   "source": [
    "X = training_df['Description']\n",
    "X"
   ]
  },
  {
   "cell_type": "markdown",
   "id": "changing-internship",
   "metadata": {},
   "source": [
    "## Train, test split"
   ]
  },
  {
   "cell_type": "code",
   "execution_count": 17,
   "id": "universal-split",
   "metadata": {},
   "outputs": [],
   "source": [
    "X_train, X_test, Y_train, Y_test = train_test_split( X, Y, test_size=0.3, random_state=40 )"
   ]
  },
  {
   "cell_type": "code",
   "execution_count": 18,
   "id": "animal-mount",
   "metadata": {},
   "outputs": [],
   "source": [
    "Y_train = to_categorical(Y_train)\n",
    "Y_test  = to_categorical(Y_test)"
   ]
  },
  {
   "cell_type": "code",
   "execution_count": 19,
   "id": "charming-sydney",
   "metadata": {},
   "outputs": [],
   "source": [
    "tokenizer = Tokenizer(num_words=10000)\n",
    "tokenizer.fit_on_texts(X_train)"
   ]
  },
  {
   "cell_type": "code",
   "execution_count": 20,
   "id": "reported-hayes",
   "metadata": {},
   "outputs": [],
   "source": [
    "X_train = tokenizer.texts_to_sequences(X_train)\n",
    "X_test  = tokenizer.texts_to_sequences(X_test)"
   ]
  },
  {
   "cell_type": "code",
   "execution_count": 21,
   "id": "expected-hunter",
   "metadata": {},
   "outputs": [],
   "source": [
    "vocabulary_size = len(tokenizer.word_index) + 1\n",
    "maxlen = 400 # Only concider first 400 words of each description\n",
    "\n",
    "X_train = pad_sequences( X_train, maxlen=maxlen )\n",
    "X_test  = pad_sequences( X_test, maxlen=maxlen )"
   ]
  },
  {
   "cell_type": "markdown",
   "id": "ruled-memphis",
   "metadata": {},
   "source": [
    "## Use GloVe : Global Vectors for Word Representation\n",
    "https://nlp.stanford.edu/projects/glove/\n",
    "\n",
    "GloVe is an unsupervised learning algorithm for obtaining vector representations for words. Training is performed on aggregated global word-word co-occurrence statistics from a corpus, and the resulting representations showcase interesting linear substructures of the word vector space. "
   ]
  },
  {
   "cell_type": "code",
   "execution_count": 22,
   "id": "chronic-perception",
   "metadata": {},
   "outputs": [],
   "source": [
    "glove_file = open('./glove.6B/glove.6B.100d.txt', encoding='utf8')"
   ]
  },
  {
   "cell_type": "code",
   "execution_count": 23,
   "id": "polished-oxford",
   "metadata": {},
   "outputs": [],
   "source": [
    "embedd_dictionary = dict()\n",
    "for line in glove_file:\n",
    "    records = line.split()\n",
    "    word = records[0]\n",
    "    vector_dims = np.asarray(records[1:], dtype='float32')\n",
    "    embedd_dictionary[word] = vector_dims\n",
    "\n",
    "glove_file.close()"
   ]
  },
  {
   "cell_type": "code",
   "execution_count": 24,
   "id": "random-anxiety",
   "metadata": {},
   "outputs": [],
   "source": [
    "embedd_matrix = np.zeros((vocabulary_size, 100))\n",
    "for word, index in tokenizer.word_index.items():\n",
    "    embedd_vector = embedd_dictionary.get(word)\n",
    "    if embedd_vector is not None:\n",
    "        embedd_matrix[index] = embedd_vector"
   ]
  },
  {
   "cell_type": "markdown",
   "id": "posted-disney",
   "metadata": {},
   "source": [
    "## Build the NN Model"
   ]
  },
  {
   "cell_type": "code",
   "execution_count": 25,
   "id": "exempt-likelihood",
   "metadata": {
    "scrolled": false
   },
   "outputs": [
    {
     "name": "stdout",
     "output_type": "stream",
     "text": [
      "Model: \"sequential\"\n",
      "_________________________________________________________________\n",
      "Layer (type)                 Output Shape              Param #   \n",
      "=================================================================\n",
      "embedding (Embedding)        (None, None, 100)         5635900   \n",
      "_________________________________________________________________\n",
      "lstm (LSTM)                  (None, 256)               365568    \n",
      "_________________________________________________________________\n",
      "dense (Dense)                (None, 6)                 1542      \n",
      "=================================================================\n",
      "Total params: 6,003,010\n",
      "Trainable params: 367,110\n",
      "Non-trainable params: 5,635,900\n",
      "_________________________________________________________________\n"
     ]
    }
   ],
   "source": [
    "model = Sequential()\n",
    "model.add(Embedding(input_dim=vocabulary_size, output_dim=100, weights=[embedd_matrix], trainable=False))\n",
    "model.add(LSTM(units=256, dropout=0.4, recurrent_dropout=0.4))\n",
    "model.add(Dense(6, activation='softmax'))\n",
    "model.compile(loss='categorical_crossentropy', optimizer='adam', metrics=['accuracy'])\n",
    "model.summary()"
   ]
  },
  {
   "cell_type": "code",
   "execution_count": 26,
   "id": "imposed-french",
   "metadata": {},
   "outputs": [
    {
     "name": "stdout",
     "output_type": "stream",
     "text": [
      "Epoch 1/34\n",
      "115/115 [==============================] - 209s 2s/step - loss: 1.4998 - accuracy: 0.3484 - val_loss: 1.4325 - val_accuracy: 0.3685\n",
      "Epoch 2/34\n",
      "115/115 [==============================] - 225s 2s/step - loss: 1.4004 - accuracy: 0.3832 - val_loss: 1.3356 - val_accuracy: 0.4292\n",
      "Epoch 3/34\n",
      "115/115 [==============================] - 235s 2s/step - loss: 1.3509 - accuracy: 0.4159 - val_loss: 1.2957 - val_accuracy: 0.4507\n",
      "Epoch 4/34\n",
      "115/115 [==============================] - 242s 2s/step - loss: 1.3012 - accuracy: 0.4505 - val_loss: 1.2698 - val_accuracy: 0.4651\n",
      "Epoch 5/34\n",
      "115/115 [==============================] - 267s 2s/step - loss: 1.2663 - accuracy: 0.4741 - val_loss: 1.2336 - val_accuracy: 0.4827\n",
      "Epoch 6/34\n",
      "115/115 [==============================] - 228s 2s/step - loss: 1.2467 - accuracy: 0.4811 - val_loss: 1.2115 - val_accuracy: 0.4926\n",
      "Epoch 7/34\n",
      "115/115 [==============================] - 217s 2s/step - loss: 1.2209 - accuracy: 0.4894 - val_loss: 1.1879 - val_accuracy: 0.5065\n",
      "Epoch 8/34\n",
      "115/115 [==============================] - 211s 2s/step - loss: 1.1884 - accuracy: 0.5075 - val_loss: 1.1797 - val_accuracy: 0.5084\n",
      "Epoch 9/34\n",
      "115/115 [==============================] - 211s 2s/step - loss: 1.1450 - accuracy: 0.5385 - val_loss: 1.2068 - val_accuracy: 0.4990\n",
      "Epoch 10/34\n",
      "115/115 [==============================] - 211s 2s/step - loss: 1.1332 - accuracy: 0.5359 - val_loss: 1.1438 - val_accuracy: 0.5295\n",
      "Epoch 11/34\n",
      "115/115 [==============================] - 218s 2s/step - loss: 1.1065 - accuracy: 0.5495 - val_loss: 1.1228 - val_accuracy: 0.5368\n",
      "Epoch 12/34\n",
      "115/115 [==============================] - 218s 2s/step - loss: 1.0594 - accuracy: 0.5737 - val_loss: 1.1515 - val_accuracy: 0.5295\n",
      "Epoch 13/34\n",
      "115/115 [==============================] - 219s 2s/step - loss: 1.0395 - accuracy: 0.5853 - val_loss: 1.1361 - val_accuracy: 0.5344\n",
      "Epoch 14/34\n",
      "115/115 [==============================] - 218s 2s/step - loss: 1.0055 - accuracy: 0.5985 - val_loss: 1.1370 - val_accuracy: 0.5371\n",
      "Epoch 15/34\n",
      "115/115 [==============================] - 219s 2s/step - loss: 1.0093 - accuracy: 0.5980 - val_loss: 1.0921 - val_accuracy: 0.5590\n",
      "Epoch 16/34\n",
      "115/115 [==============================] - 217s 2s/step - loss: 0.9514 - accuracy: 0.6278 - val_loss: 1.0866 - val_accuracy: 0.5592\n",
      "Epoch 17/34\n",
      "115/115 [==============================] - 217s 2s/step - loss: 0.9220 - accuracy: 0.6362 - val_loss: 1.0399 - val_accuracy: 0.5873\n",
      "Epoch 18/34\n",
      "115/115 [==============================] - 207s 2s/step - loss: 0.8971 - accuracy: 0.6461 - val_loss: 1.0375 - val_accuracy: 0.5924\n",
      "Epoch 19/34\n",
      "115/115 [==============================] - 207s 2s/step - loss: 0.8621 - accuracy: 0.6656 - val_loss: 1.0300 - val_accuracy: 0.6026\n",
      "Epoch 20/34\n",
      "115/115 [==============================] - 208s 2s/step - loss: 0.8296 - accuracy: 0.6825 - val_loss: 1.0361 - val_accuracy: 0.5886\n",
      "Epoch 21/34\n",
      "115/115 [==============================] - 208s 2s/step - loss: 0.8230 - accuracy: 0.6787 - val_loss: 1.0550 - val_accuracy: 0.5962\n",
      "Epoch 22/34\n",
      "115/115 [==============================] - 209s 2s/step - loss: 0.7896 - accuracy: 0.6953 - val_loss: 1.0166 - val_accuracy: 0.6167\n",
      "Epoch 23/34\n",
      "115/115 [==============================] - 209s 2s/step - loss: 0.7561 - accuracy: 0.7147 - val_loss: 1.0026 - val_accuracy: 0.6226\n",
      "Epoch 24/34\n",
      "115/115 [==============================] - 218s 2s/step - loss: 0.7396 - accuracy: 0.7173 - val_loss: 0.9660 - val_accuracy: 0.6394\n",
      "Epoch 25/34\n",
      "115/115 [==============================] - 237s 2s/step - loss: 0.7264 - accuracy: 0.7208 - val_loss: 0.9855 - val_accuracy: 0.6390\n",
      "Epoch 26/34\n",
      "115/115 [==============================] - 246s 2s/step - loss: 0.6969 - accuracy: 0.7358 - val_loss: 0.9656 - val_accuracy: 0.6432\n",
      "Epoch 27/34\n",
      "115/115 [==============================] - 221s 2s/step - loss: 0.6782 - accuracy: 0.7491 - val_loss: 0.9839 - val_accuracy: 0.6465\n",
      "Epoch 28/34\n",
      "115/115 [==============================] - 227s 2s/step - loss: 0.6636 - accuracy: 0.7560 - val_loss: 0.9835 - val_accuracy: 0.6413\n",
      "Epoch 29/34\n",
      "115/115 [==============================] - 180s 2s/step - loss: 0.6434 - accuracy: 0.7590 - val_loss: 0.9590 - val_accuracy: 0.6590\n",
      "Epoch 30/34\n",
      "115/115 [==============================] - 180s 2s/step - loss: 0.6412 - accuracy: 0.7607 - val_loss: 0.9517 - val_accuracy: 0.6612\n",
      "Epoch 31/34\n",
      "115/115 [==============================] - 174s 2s/step - loss: 0.6103 - accuracy: 0.7757 - val_loss: 0.9558 - val_accuracy: 0.6705\n",
      "Epoch 32/34\n",
      "115/115 [==============================] - 166s 1s/step - loss: 0.5937 - accuracy: 0.7812 - val_loss: 0.9624 - val_accuracy: 0.6652\n",
      "Epoch 33/34\n",
      "115/115 [==============================] - 179s 2s/step - loss: 0.5830 - accuracy: 0.7808 - val_loss: 0.9642 - val_accuracy: 0.6767\n",
      "Epoch 34/34\n",
      "115/115 [==============================] - 180s 2s/step - loss: 0.5582 - accuracy: 0.7956 - val_loss: 0.9405 - val_accuracy: 0.6826\n"
     ]
    }
   ],
   "source": [
    "hist = model.fit(X_train, Y_train, batch_size=128, epochs=34, validation_split=0.30, verbose=1)"
   ]
  },
  {
   "cell_type": "code",
   "execution_count": 27,
   "id": "commercial-imperial",
   "metadata": {},
   "outputs": [
    {
     "name": "stdout",
     "output_type": "stream",
     "text": [
      "280/280 [==============================] - 44s 155ms/step - loss: 0.9420 - accuracy: 0.6830\n",
      "loss:  0.9419822692871094\n",
      "accuracy:  0.6829922795295715\n"
     ]
    }
   ],
   "source": [
    "loss, acc = model.evaluate(X_test, Y_test, verbose=1)\n",
    "print('loss: ', loss)\n",
    "print('accuracy: ', acc)"
   ]
  },
  {
   "cell_type": "markdown",
   "id": "animated-thunder",
   "metadata": {},
   "source": [
    "## Save model and tokenizer"
   ]
  },
  {
   "cell_type": "code",
   "execution_count": 33,
   "id": "beginning-forward",
   "metadata": {},
   "outputs": [],
   "source": [
    "# save model\n",
    "model.save('./data/mpaa_classifier_n_sample.h5')\n",
    "\n",
    "# save word tokenizer\n",
    "pickle.dump(tokenizer, open('./data/tokenizer_n_sample.pkl', 'wb'))"
   ]
  },
  {
   "cell_type": "markdown",
   "id": "worth-sweden",
   "metadata": {},
   "source": [
    "## Metrics"
   ]
  },
  {
   "cell_type": "code",
   "execution_count": 34,
   "id": "valuable-slovenia",
   "metadata": {},
   "outputs": [
    {
     "data": {
      "image/png": "[encoded data removed]",
      "text/plain": [
       "<Figure size 432x288 with 1 Axes>"
      ]
     },
     "metadata": {
      "needs_background": "light"
     },
     "output_type": "display_data"
    }
   ],
   "source": [
    "plt.plot(hist.history['accuracy'])\n",
    "plt.plot(hist.history['val_accuracy'])\n",
    "plt.title('Model Accuracy')\n",
    "plt.ylabel('Accuracy')\n",
    "plt.xlabel('# Epochs')\n",
    "plt.legend(['train', 'test'])\n",
    "plt.show()"
   ]
  },
  {
   "cell_type": "code",
   "execution_count": 35,
   "id": "interior-pharmacy",
   "metadata": {},
   "outputs": [
    {
     "data": {
      "image/png": "[encoded data removed]",
      "text/plain": [
       "<Figure size 432x288 with 1 Axes>"
      ]
     },
     "metadata": {
      "needs_background": "light"
     },
     "output_type": "display_data"
    }
   ],
   "source": [
    "plt.plot(hist.history['loss'])\n",
    "plt.plot(hist.history['val_loss'])\n",
    "plt.title('Model Loss')\n",
    "plt.ylabel('Loss')\n",
    "plt.xlabel('# Epochs')\n",
    "plt.legend(['train', 'test'])\n",
    "plt.show()"
   ]
  },
  {
   "cell_type": "code",
   "execution_count": null,
   "id": "a8a7e61c",
   "metadata": {},
   "outputs": [],
   "source": []
  },
  {
   "cell_type": "markdown",
   "id": "e7ee9727",
   "metadata": {},
   "source": [
    "## Confusion Matrix"
   ]
  },
  {
   "cell_type": "code",
   "execution_count": 5,
   "id": "b9946c57",
   "metadata": {},
   "outputs": [],
   "source": [
    "# load the saved model\n",
    "from keras.models import load_model\n",
    "model = load_model(\"./data/mpaa_classifier_n_sample.h5\")"
   ]
  },
  {
   "cell_type": "code",
   "execution_count": 6,
   "id": "f60e5f50",
   "metadata": {},
   "outputs": [
    {
     "data": {
      "image/png": "[encoded data removed]",
      "text/plain": [
       "<IPython.core.display.Image object>"
      ]
     },
     "execution_count": 6,
     "metadata": {},
     "output_type": "execute_result"
    }
   ],
   "source": [
    "from keras.utils.vis_utils import plot_model\n",
    "plot_model(model, to_file='model_plot.png', show_shapes=True, show_layer_names=True)"
   ]
  },
  {
   "cell_type": "code",
   "execution_count": 7,
   "id": "0cea224d",
   "metadata": {},
   "outputs": [
    {
     "ename": "NameError",
     "evalue": "name 'X_test' is not defined",
     "output_type": "error",
     "traceback": [
      "\u001b[0;31m---------------------------------------------------------------------------\u001b[0m",
      "\u001b[0;31mNameError\u001b[0m                                 Traceback (most recent call last)",
      "\u001b[0;32m<ipython-input-7-5fbd1b3d86ce>\u001b[0m in \u001b[0;36m<module>\u001b[0;34m\u001b[0m\n\u001b[0;32m----> 1\u001b[0;31m \u001b[0my_pred\u001b[0m \u001b[0;34m=\u001b[0m \u001b[0mmodel\u001b[0m\u001b[0;34m.\u001b[0m\u001b[0mpredict\u001b[0m\u001b[0;34m(\u001b[0m\u001b[0mX_test\u001b[0m\u001b[0;34m)\u001b[0m\u001b[0;34m\u001b[0m\u001b[0;34m\u001b[0m\u001b[0m\n\u001b[0m\u001b[1;32m      2\u001b[0m \u001b[0mprint\u001b[0m\u001b[0;34m(\u001b[0m\u001b[0my_pred\u001b[0m\u001b[0;34m)\u001b[0m\u001b[0;34m\u001b[0m\u001b[0;34m\u001b[0m\u001b[0m\n\u001b[1;32m      3\u001b[0m \u001b[0;34m\u001b[0m\u001b[0m\n\u001b[1;32m      4\u001b[0m \u001b[0;32mfrom\u001b[0m \u001b[0msklearn\u001b[0m\u001b[0;34m.\u001b[0m\u001b[0mmetrics\u001b[0m \u001b[0;32mimport\u001b[0m \u001b[0mconfusion_matrix\u001b[0m\u001b[0;34m\u001b[0m\u001b[0;34m\u001b[0m\u001b[0m\n\u001b[1;32m      5\u001b[0m \u001b[0;34m\u001b[0m\u001b[0m\n",
      "\u001b[0;31mNameError\u001b[0m: name 'X_test' is not defined"
     ]
    }
   ],
   "source": [
    "y_pred = model.predict(X_test)\n",
    "print(y_pred)\n",
    "\n",
    "from sklearn.metrics import confusion_matrix\n",
    "\n",
    "conf_mat = confusion_matrix(Y_test, y_pred)\n",
    "fig, ax = plt.subplots(figsize=(8,6))\n",
    "sns.heatmap(conf_mat, annot=True, fmt='d',\n",
    "            xticklabels=training_df.Rating.values, yticklabels=training_df.Rating.values)\n",
    "plt.ylabel('Actual')\n",
    "plt.xlabel('Predicted')\n",
    "plt.show()"
   ]
  },
  {
   "cell_type": "code",
   "execution_count": null,
   "id": "b04e887d",
   "metadata": {},
   "outputs": [],
   "source": []
  },
  {
   "cell_type": "code",
   "execution_count": null,
   "id": "f8d44c16",
   "metadata": {},
   "outputs": [],
   "source": []
  }
 ],
 "metadata": {
  "kernelspec": {
   "display_name": "Python 3",
   "language": "python",
   "name": "python3"
  },
  "language_info": {
   "codemirror_mode": {
    "name": "ipython",
    "version": 3
   },
   "file_extension": ".py",
   "mimetype": "text/x-python",
   "name": "python",
   "nbconvert_exporter": "python",
   "pygments_lexer": "ipython3",
   "version": "3.8.5"
  }
 },
 "nbformat": 4,
 "nbformat_minor": 5
}
