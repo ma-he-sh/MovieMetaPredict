{
 "cells": [
  {
   "cell_type": "markdown",
   "id": "recognized-television",
   "metadata": {},
   "source": [
    "## MPAA rating prediction"
   ]
  },
  {
   "cell_type": "code",
   "execution_count": 699,
   "id": "instant-angel",
   "metadata": {},
   "outputs": [],
   "source": [
    "import pandas as pd\n",
    "import numpy as np\n",
    "import warnings\n",
    "import re\n",
    "import pickle\n",
    "import seaborn as sns\n",
    "\n",
    "%matplotlib inline\n",
    "warnings.filterwarnings('ignore')"
   ]
  },
  {
   "cell_type": "markdown",
   "id": "featured-freight",
   "metadata": {},
   "source": [
    "Import dataset :: using the rotten tomatoes dataset"
   ]
  },
  {
   "cell_type": "code",
   "execution_count": 700,
   "id": "harmful-developer",
   "metadata": {},
   "outputs": [
    {
     "data": {
      "text/html": [
       "<div>\n",
       "<style scoped>\n",
       "    .dataframe tbody tr th:only-of-type {\n",
       "        vertical-align: middle;\n",
       "    }\n",
       "\n",
       "    .dataframe tbody tr th {\n",
       "        vertical-align: top;\n",
       "    }\n",
       "\n",
       "    .dataframe thead th {\n",
       "        text-align: right;\n",
       "    }\n",
       "</style>\n",
       "<table border=\"1\" class=\"dataframe\">\n",
       "  <thead>\n",
       "    <tr style=\"text-align: right;\">\n",
       "      <th></th>\n",
       "      <th>Title</th>\n",
       "      <th>Rating</th>\n",
       "      <th>Description</th>\n",
       "    </tr>\n",
       "  </thead>\n",
       "  <tbody>\n",
       "    <tr>\n",
       "      <th>0</th>\n",
       "      <td>The Mummy: Tomb of the Dragon Emperor</td>\n",
       "      <td>PG-13</td>\n",
       "      <td>The Fast and the Furious director Rob Cohen co...</td>\n",
       "    </tr>\n",
       "    <tr>\n",
       "      <th>1</th>\n",
       "      <td>The Masked Saint</td>\n",
       "      <td>PG-13</td>\n",
       "      <td>The journey of a professional wrestler who bec...</td>\n",
       "    </tr>\n",
       "    <tr>\n",
       "      <th>2</th>\n",
       "      <td>Spy Hard</td>\n",
       "      <td>PG-13</td>\n",
       "      <td>Dead pan Leslie Nielsen stars as Dick Steele, ...</td>\n",
       "    </tr>\n",
       "    <tr>\n",
       "      <th>3</th>\n",
       "      <td>Der Baader Meinhof Komplex (The Baader Meinhof...</td>\n",
       "      <td>R</td>\n",
       "      <td>Director Uli Edel teams with screenwriter Bern...</td>\n",
       "    </tr>\n",
       "  </tbody>\n",
       "</table>\n",
       "</div>"
      ],
      "text/plain": [
       "                                               Title  Rating  \\\n",
       "0              The Mummy: Tomb of the Dragon Emperor  PG-13    \n",
       "1                                   The Masked Saint  PG-13    \n",
       "2                                           Spy Hard   PG-13   \n",
       "3  Der Baader Meinhof Komplex (The Baader Meinhof...      R    \n",
       "\n",
       "                                         Description  \n",
       "0  The Fast and the Furious director Rob Cohen co...  \n",
       "1  The journey of a professional wrestler who bec...  \n",
       "2  Dead pan Leslie Nielsen stars as Dick Steele, ...  \n",
       "3  Director Uli Edel teams with screenwriter Bern...  "
      ]
     },
     "execution_count": 700,
     "metadata": {},
     "output_type": "execute_result"
    }
   ],
   "source": [
    "dataset_df = pd.read_csv( './rtt_dataset/all_movie.csv' )\n",
    "dataset_df = dataset_df[['Title', 'Rating', 'Description']]\n",
    "dataset_df.columns = dataset_df.columns.str.strip()\n",
    "dataset_df.head(4)"
   ]
  },
  {
   "cell_type": "code",
   "execution_count": 701,
   "id": "japanese-costa",
   "metadata": {},
   "outputs": [
    {
     "data": {
      "text/plain": [
       "array(['PG-13 ', 'PG-13', 'R ', 'NR', 'PG', 'G', 'PG ', 'R', 'G ', 'NR ',\n",
       "       'NC17', 'NC17 '], dtype=object)"
      ]
     },
     "execution_count": 701,
     "metadata": {},
     "output_type": "execute_result"
    }
   ],
   "source": [
    "# finding unique mpaa rating in the dataset\n",
    "dataset_df['Rating'].unique()"
   ]
  },
  {
   "cell_type": "code",
   "execution_count": 702,
   "id": "developed-craft",
   "metadata": {},
   "outputs": [
    {
     "data": {
      "text/plain": [
       "array(['PG-13', 'R', 'NR', 'PG', 'G', 'NC17'], dtype=object)"
      ]
     },
     "execution_count": 702,
     "metadata": {},
     "output_type": "execute_result"
    }
   ],
   "source": [
    "# clean mpaa ratings\n",
    "mpaa_fix = {\n",
    "    'PG-13 ' : 'PG-13',\n",
    "    'R ' : 'R',\n",
    "    'PG ': 'PG',\n",
    "    'G ' : 'G',\n",
    "    'NR ': 'NR',\n",
    "    'NC17 ': 'NC17'\n",
    "}\n",
    "for i, rating in dataset_df['Rating'].iteritems():\n",
    "    if rating in mpaa_fix.keys():\n",
    "        fix_val = mpaa_fix.get(rating)\n",
    "        dataset_df.iloc[i]['Rating'] = fix_val\n",
    "\n",
    "        "
   ]
  },
  {
   "cell_type": "code",
   "execution_count": 703,
   "id": "stopped-retention",
   "metadata": {},
   "outputs": [
    {
     "data": {
      "text/html": [
       "<div>\n",
       "<style scoped>\n",
       "    .dataframe tbody tr th:only-of-type {\n",
       "        vertical-align: middle;\n",
       "    }\n",
       "\n",
       "    .dataframe tbody tr th {\n",
       "        vertical-align: top;\n",
       "    }\n",
       "\n",
       "    .dataframe thead th {\n",
       "        text-align: right;\n",
       "    }\n",
       "</style>\n",
       "<table border=\"1\" class=\"dataframe\">\n",
       "  <thead>\n",
       "    <tr style=\"text-align: right;\">\n",
       "      <th></th>\n",
       "      <th>Title</th>\n",
       "      <th>Rating</th>\n",
       "      <th>Description</th>\n",
       "      <th>cleanedDescr</th>\n",
       "    </tr>\n",
       "  </thead>\n",
       "  <tbody>\n",
       "    <tr>\n",
       "      <th>0</th>\n",
       "      <td>The Mummy: Tomb of the Dragon Emperor</td>\n",
       "      <td>PG-13</td>\n",
       "      <td>The Fast and the Furious director Rob Cohen co...</td>\n",
       "      <td>The Fast and the Furious director Rob Cohen co...</td>\n",
       "    </tr>\n",
       "    <tr>\n",
       "      <th>1</th>\n",
       "      <td>The Masked Saint</td>\n",
       "      <td>PG-13</td>\n",
       "      <td>The journey of a professional wrestler who bec...</td>\n",
       "      <td>The journey of professional wrestler who becom...</td>\n",
       "    </tr>\n",
       "    <tr>\n",
       "      <th>2</th>\n",
       "      <td>Spy Hard</td>\n",
       "      <td>PG-13</td>\n",
       "      <td>Dead pan Leslie Nielsen stars as Dick Steele, ...</td>\n",
       "      <td>Dead pan Leslie Nielsen stars as Dick Steele a...</td>\n",
       "    </tr>\n",
       "    <tr>\n",
       "      <th>3</th>\n",
       "      <td>Der Baader Meinhof Komplex (The Baader Meinhof...</td>\n",
       "      <td>R</td>\n",
       "      <td>Director Uli Edel teams with screenwriter Bern...</td>\n",
       "      <td>Director Uli Edel teams with screenwriter Bern...</td>\n",
       "    </tr>\n",
       "  </tbody>\n",
       "</table>\n",
       "</div>"
      ],
      "text/plain": [
       "                                               Title Rating  \\\n",
       "0              The Mummy: Tomb of the Dragon Emperor  PG-13   \n",
       "1                                   The Masked Saint  PG-13   \n",
       "2                                           Spy Hard  PG-13   \n",
       "3  Der Baader Meinhof Komplex (The Baader Meinhof...      R   \n",
       "\n",
       "                                         Description  \\\n",
       "0  The Fast and the Furious director Rob Cohen co...   \n",
       "1  The journey of a professional wrestler who bec...   \n",
       "2  Dead pan Leslie Nielsen stars as Dick Steele, ...   \n",
       "3  Director Uli Edel teams with screenwriter Bern...   \n",
       "\n",
       "                                        cleanedDescr  \n",
       "0  The Fast and the Furious director Rob Cohen co...  \n",
       "1  The journey of professional wrestler who becom...  \n",
       "2  Dead pan Leslie Nielsen stars as Dick Steele a...  \n",
       "3  Director Uli Edel teams with screenwriter Bern...  "
      ]
     },
     "execution_count": 703,
     "metadata": {},
     "output_type": "execute_result"
    }
   ],
   "source": [
    "# Clean the movie description\n",
    "def clean_description( text_str ):\n",
    "    text = re.sub('[^a-zA-Z]',  ' ', text_str)\n",
    "    text = re.sub(r'\\s+[a-zA-Z]\\s+', ' ', text)\n",
    "    text = re.sub(r'\\s+', ' ', text)\n",
    "    return text\n",
    "\n",
    "cleaned_desc = []\n",
    "for i, description in dataset_df['Description'].iteritems():\n",
    "    cleaned_desc.append( clean_description( str(description) ) )\n",
    "\n",
    "dataset_df['cleanedDescr'] = cleaned_desc\n",
    "dataset_df.head(4)"
   ]
  },
  {
   "cell_type": "code",
   "execution_count": 704,
   "id": "atmospheric-southwest",
   "metadata": {},
   "outputs": [],
   "source": [
    "pickle.dump(dataset_df, open('./data/dataset_df_cleaned_n_sample_exceptNC17BiD.pkl', 'wb'))"
   ]
  },
  {
   "cell_type": "code",
   "execution_count": 705,
   "id": "025d5260",
   "metadata": {},
   "outputs": [
    {
     "name": "stdout",
     "output_type": "stream",
     "text": [
      "<class 'pandas.core.frame.DataFrame'>\n",
      "RangeIndex: 29810 entries, 0 to 29809\n",
      "Data columns (total 4 columns):\n",
      " #   Column        Non-Null Count  Dtype \n",
      "---  ------        --------------  ----- \n",
      " 0   Title         29810 non-null  object\n",
      " 1   Rating        29810 non-null  object\n",
      " 2   Description   29807 non-null  object\n",
      " 3   cleanedDescr  29810 non-null  object\n",
      "dtypes: object(4)\n",
      "memory usage: 931.7+ KB\n"
     ]
    }
   ],
   "source": [
    "dataset_df.info()"
   ]
  },
  {
   "cell_type": "code",
   "execution_count": null,
   "id": "eae53d75",
   "metadata": {},
   "outputs": [],
   "source": []
  },
  {
   "cell_type": "markdown",
   "id": "nearby-planner",
   "metadata": {},
   "source": [
    "## Data Distribution"
   ]
  },
  {
   "cell_type": "code",
   "execution_count": 706,
   "id": "respective-timer",
   "metadata": {},
   "outputs": [
    {
     "data": {
      "image/png": "[encoded data removed]",
      "text/plain": [
       "<Figure size 576x432 with 1 Axes>"
      ]
     },
     "metadata": {
      "needs_background": "light"
     },
     "output_type": "display_data"
    }
   ],
   "source": [
    "import matplotlib.pyplot as plt\n",
    "fig = plt.figure(figsize=(8,6))\n",
    "dataset_df.groupby('Rating')['cleanedDescr'].count().plot.bar(ylim=0)\n",
    "plt.show()"
   ]
  },
  {
   "cell_type": "code",
   "execution_count": 707,
   "id": "interested-quebec",
   "metadata": {},
   "outputs": [],
   "source": [
    "## drop G, NC-17\n",
    "dataset_df = dataset_df[dataset_df.Rating != 'NC17']"
   ]
  },
  {
   "cell_type": "code",
   "execution_count": 708,
   "id": "generous-malpractice",
   "metadata": {},
   "outputs": [
    {
     "data": {
      "image/png": "[encoded data removed]",
      "text/plain": [
       "<Figure size 576x432 with 1 Axes>"
      ]
     },
     "metadata": {
      "needs_background": "light"
     },
     "output_type": "display_data"
    }
   ],
   "source": [
    "fig = plt.figure(figsize=(8,6))\n",
    "dataset_df.groupby('Rating')['cleanedDescr'].count().plot.bar(ylim=0)\n",
    "plt.show()"
   ]
  },
  {
   "cell_type": "markdown",
   "id": "ignored-flood",
   "metadata": {},
   "source": [
    "## Use same amount of labels : Balance class"
   ]
  },
  {
   "cell_type": "code",
   "execution_count": 709,
   "id": "noble-strap",
   "metadata": {},
   "outputs": [
    {
     "data": {
      "text/plain": [
       "(1606, 4)"
      ]
     },
     "execution_count": 709,
     "metadata": {},
     "output_type": "execute_result"
    }
   ],
   "source": [
    "PG_count = dataset_df[dataset_df.Rating == 'G'].shape\n",
    "PG_count"
   ]
  },
  {
   "cell_type": "code",
   "execution_count": 710,
   "id": "fundamental-executive",
   "metadata": {},
   "outputs": [
    {
     "data": {
      "text/html": [
       "<div>\n",
       "<style scoped>\n",
       "    .dataframe tbody tr th:only-of-type {\n",
       "        vertical-align: middle;\n",
       "    }\n",
       "\n",
       "    .dataframe tbody tr th {\n",
       "        vertical-align: top;\n",
       "    }\n",
       "\n",
       "    .dataframe thead th {\n",
       "        text-align: right;\n",
       "    }\n",
       "</style>\n",
       "<table border=\"1\" class=\"dataframe\">\n",
       "  <thead>\n",
       "    <tr style=\"text-align: right;\">\n",
       "      <th></th>\n",
       "      <th>Title</th>\n",
       "      <th>Rating</th>\n",
       "      <th>Description</th>\n",
       "      <th>cleanedDescr</th>\n",
       "    </tr>\n",
       "  </thead>\n",
       "  <tbody>\n",
       "    <tr>\n",
       "      <th>727</th>\n",
       "      <td>MacArthur</td>\n",
       "      <td>PG</td>\n",
       "      <td>Star Gregory Peck went into MacArthur dislikin...</td>\n",
       "      <td>Star Gregory Peck went into MacArthur dislikin...</td>\n",
       "    </tr>\n",
       "    <tr>\n",
       "      <th>26019</th>\n",
       "      <td>On Her Majesty's Secret Service</td>\n",
       "      <td>PG</td>\n",
       "      <td>Connery's decision to quit as Bond left Brocco...</td>\n",
       "      <td>Connery decision to quit as Bond left Broccoli...</td>\n",
       "    </tr>\n",
       "    <tr>\n",
       "      <th>23645</th>\n",
       "      <td>No Turning Back</td>\n",
       "      <td>R</td>\n",
       "      <td>After fate conspires to make a man into an out...</td>\n",
       "      <td>After fate conspires to make man into an outla...</td>\n",
       "    </tr>\n",
       "    <tr>\n",
       "      <th>1172</th>\n",
       "      <td>Cinderella Man</td>\n",
       "      <td>PG-13</td>\n",
       "      <td>The true story of an athlete who achieved his ...</td>\n",
       "      <td>The true story of an athlete who achieved his ...</td>\n",
       "    </tr>\n",
       "    <tr>\n",
       "      <th>12167</th>\n",
       "      <td>American Grindhouse</td>\n",
       "      <td>NR</td>\n",
       "      <td>Dive into the sordid history of American explo...</td>\n",
       "      <td>Dive into the sordid history of American explo...</td>\n",
       "    </tr>\n",
       "    <tr>\n",
       "      <th>...</th>\n",
       "      <td>...</td>\n",
       "      <td>...</td>\n",
       "      <td>...</td>\n",
       "      <td>...</td>\n",
       "    </tr>\n",
       "    <tr>\n",
       "      <th>14922</th>\n",
       "      <td>Seven Days in May</td>\n",
       "      <td>G</td>\n",
       "      <td>In this film, General James M. Scott, convince...</td>\n",
       "      <td>In this film General James Scott convinced tha...</td>\n",
       "    </tr>\n",
       "    <tr>\n",
       "      <th>15667</th>\n",
       "      <td>Sunset Boulevard</td>\n",
       "      <td>G</td>\n",
       "      <td>Aging silent-film star Norma Desmond ensnares ...</td>\n",
       "      <td>Aging silent film star Norma Desmond ensnares ...</td>\n",
       "    </tr>\n",
       "    <tr>\n",
       "      <th>19127</th>\n",
       "      <td>Kit Kittredge: An American Girl</td>\n",
       "      <td>G</td>\n",
       "      <td>Producer Julia Roberts brings the American Gir...</td>\n",
       "      <td>Producer Julia Roberts brings the American Gir...</td>\n",
       "    </tr>\n",
       "    <tr>\n",
       "      <th>28309</th>\n",
       "      <td>The 5,000 Fingers of Dr. T</td>\n",
       "      <td>G</td>\n",
       "      <td>Ted Geisel, better known as Dr. Seuss, wrote a...</td>\n",
       "      <td>Ted Geisel better known as Dr Seuss wrote and ...</td>\n",
       "    </tr>\n",
       "    <tr>\n",
       "      <th>15778</th>\n",
       "      <td>It Started in Naples</td>\n",
       "      <td>G</td>\n",
       "      <td>Michael Hamilton (Clark Gable) is a Philadelph...</td>\n",
       "      <td>Michael Hamilton Clark Gable is Philadelphia l...</td>\n",
       "    </tr>\n",
       "  </tbody>\n",
       "</table>\n",
       "<p>8030 rows × 4 columns</p>\n",
       "</div>"
      ],
      "text/plain": [
       "                                 Title Rating  \\\n",
       "727                          MacArthur     PG   \n",
       "26019  On Her Majesty's Secret Service     PG   \n",
       "23645                  No Turning Back      R   \n",
       "1172                    Cinderella Man  PG-13   \n",
       "12167              American Grindhouse     NR   \n",
       "...                                ...    ...   \n",
       "14922                Seven Days in May      G   \n",
       "15667                 Sunset Boulevard      G   \n",
       "19127  Kit Kittredge: An American Girl      G   \n",
       "28309       The 5,000 Fingers of Dr. T      G   \n",
       "15778             It Started in Naples      G   \n",
       "\n",
       "                                             Description  \\\n",
       "727    Star Gregory Peck went into MacArthur dislikin...   \n",
       "26019  Connery's decision to quit as Bond left Brocco...   \n",
       "23645  After fate conspires to make a man into an out...   \n",
       "1172   The true story of an athlete who achieved his ...   \n",
       "12167  Dive into the sordid history of American explo...   \n",
       "...                                                  ...   \n",
       "14922  In this film, General James M. Scott, convince...   \n",
       "15667  Aging silent-film star Norma Desmond ensnares ...   \n",
       "19127  Producer Julia Roberts brings the American Gir...   \n",
       "28309  Ted Geisel, better known as Dr. Seuss, wrote a...   \n",
       "15778  Michael Hamilton (Clark Gable) is a Philadelph...   \n",
       "\n",
       "                                            cleanedDescr  \n",
       "727    Star Gregory Peck went into MacArthur dislikin...  \n",
       "26019  Connery decision to quit as Bond left Broccoli...  \n",
       "23645  After fate conspires to make man into an outla...  \n",
       "1172   The true story of an athlete who achieved his ...  \n",
       "12167  Dive into the sordid history of American explo...  \n",
       "...                                                  ...  \n",
       "14922  In this film General James Scott convinced tha...  \n",
       "15667  Aging silent film star Norma Desmond ensnares ...  \n",
       "19127  Producer Julia Roberts brings the American Gir...  \n",
       "28309  Ted Geisel better known as Dr Seuss wrote and ...  \n",
       "15778  Michael Hamilton Clark Gable is Philadelphia l...  \n",
       "\n",
       "[8030 rows x 4 columns]"
      ]
     },
     "execution_count": 710,
     "metadata": {},
     "output_type": "execute_result"
    }
   ],
   "source": [
    "dataset_df = dataset_df.sample(frac=1).groupby('Rating').head(1606)\n",
    "dataset_df"
   ]
  },
  {
   "cell_type": "code",
   "execution_count": 711,
   "id": "continuous-queue",
   "metadata": {},
   "outputs": [
    {
     "data": {
      "image/png": "[encoded data removed]",
      "text/plain": [
       "<Figure size 576x432 with 1 Axes>"
      ]
     },
     "metadata": {
      "needs_background": "light"
     },
     "output_type": "display_data"
    }
   ],
   "source": [
    "fig = plt.figure(figsize=(8,6))\n",
    "dataset_df.groupby('Rating')['cleanedDescr'].count().plot.bar(ylim=0)\n",
    "plt.show()"
   ]
  },
  {
   "cell_type": "markdown",
   "id": "42edf9ff",
   "metadata": {},
   "source": [
    "### Further clean the description"
   ]
  },
  {
   "cell_type": "code",
   "execution_count": 712,
   "id": "879a640c",
   "metadata": {},
   "outputs": [],
   "source": [
    "# !pip install nltk\n",
    "# from nltk import word_tokenize\n",
    "# from nltk.corpus import stopwords\n",
    "# from nltk.stem import WordNetLemmatizer\n",
    "# import nltk\n",
    "# nltk.download('stopwords')\n",
    "# nltk.download('punkt')\n",
    "# nltk.download('wordnet')"
   ]
  },
  {
   "cell_type": "code",
   "execution_count": 713,
   "id": "23d0a411",
   "metadata": {},
   "outputs": [],
   "source": [
    "# REPLACE_WITH_SPACE = re.compile(r'[^A-Za-z\\s]')\n",
    "# stop_words = set(stopwords.words(\"english\")) \n",
    "# lemmatizer = WordNetLemmatizer()\n",
    "# def clean_description(raw_review: str) -> str:\n",
    "#     # remove non letters\n",
    "#     letters_only = REPLACE_WITH_SPACE.sub(\" \", raw_review)\n",
    "#     # convert to lowercase\n",
    "#     lowercase_letters = letters_only.lower()\n",
    "#     return lowercase_letters\n",
    "\n",
    "\n",
    "# def lemmatize(tokens: list) -> list:\n",
    "#     # lemmatize\n",
    "#     tokens = list(map(lemmatizer.lemmatize, tokens))\n",
    "#     lemmatized_tokens = list(map(lambda x: lemmatizer.lemmatize(x, \"v\"), tokens))\n",
    "#     # remove stop words\n",
    "#     meaningful_words = list(filter(lambda x: not x in stop_words, lemmatized_tokens))\n",
    "#     return meaningful_words\n",
    "\n",
    "\n",
    "# def preprocess(review: str):\n",
    "#     # 1. Clean text\n",
    "#     review = clean_description(review)\n",
    "#     # 2. Split into individual words\n",
    "#     #tokens = word_tokenize(review)\n",
    "#     # 3. Lemmatize\n",
    "#     #lemmas = lemmatize(tokens)\n",
    "#     # 4. Join the words back into one string separated by space,\n",
    "#     #print(review)\n",
    "#     # and return the result.\n",
    "#     return review"
   ]
  },
  {
   "cell_type": "code",
   "execution_count": 714,
   "id": "6ffd311d",
   "metadata": {},
   "outputs": [],
   "source": [
    "# cleaned_desc = []\n",
    "# for i, description in dataset_df['cleanedDescr'].iteritems():\n",
    "#     cleaned_desc.append(preprocess(description))"
   ]
  },
  {
   "cell_type": "code",
   "execution_count": 715,
   "id": "dc71b1f2",
   "metadata": {},
   "outputs": [],
   "source": [
    "# dataset_df['cleanedDescr'] = cleaned_desc\n",
    "# dataset_df.head(4)"
   ]
  },
  {
   "cell_type": "code",
   "execution_count": 716,
   "id": "89bab5d9",
   "metadata": {},
   "outputs": [],
   "source": [
    "# pickle.dump(dataset_df, open('./data/dataset_df_cleaned_n_sample_exceptNC17BiD_cleaned.pkl', 'wb'))"
   ]
  },
  {
   "cell_type": "markdown",
   "id": "posted-entrance",
   "metadata": {},
   "source": [
    "## Training model"
   ]
  },
  {
   "cell_type": "code",
   "execution_count": 717,
   "id": "configured-skiing",
   "metadata": {},
   "outputs": [],
   "source": [
    "# training_df = pickle.load( open('./data/dataset_df_cleaned_n_sample_exceptNC17BiD_cleaned.pkl', 'rb') )\n",
    "training_df = pickle.load( open('./data/dataset_df_cleaned_n_sample_exceptNC17BiD.pkl', 'rb') )"
   ]
  },
  {
   "cell_type": "code",
   "execution_count": 718,
   "id": "fresh-mechanism",
   "metadata": {},
   "outputs": [],
   "source": [
    "from sklearn.model_selection import train_test_split\n",
    "from sklearn.preprocessing import LabelEncoder\n",
    "from keras.preprocessing.text import one_hot, Tokenizer\n",
    "from keras.preprocessing.sequence import pad_sequences\n",
    "from keras.utils import to_categorical\n",
    "from keras.models import Sequential, load_model\n",
    "from keras.layers import Dense, Flatten, LSTM, Embedding, GlobalMaxPooling1D, Bidirectional, Dropout\n",
    "from keras import regularizers"
   ]
  },
  {
   "cell_type": "code",
   "execution_count": 719,
   "id": "interesting-device",
   "metadata": {},
   "outputs": [
    {
     "data": {
      "text/plain": [
       "array([4, 4, 4, ..., 5, 4, 4])"
      ]
     },
     "execution_count": 719,
     "metadata": {},
     "output_type": "execute_result"
    }
   ],
   "source": [
    "_y = training_df['Rating']\n",
    "encoder = LabelEncoder()\n",
    "Y = encoder.fit_transform(_y)\n",
    "Y"
   ]
  },
  {
   "cell_type": "code",
   "execution_count": 720,
   "id": "focused-evidence",
   "metadata": {},
   "outputs": [
    {
     "data": {
      "text/plain": [
       "0        The Fast and the Furious director Rob Cohen co...\n",
       "1        The journey of professional wrestler who becom...\n",
       "2        Dead pan Leslie Nielsen stars as Dick Steele a...\n",
       "3        Director Uli Edel teams with screenwriter Bern...\n",
       "4        One of cluster of late films about the Vietnam...\n",
       "                               ...                        \n",
       "29805    Filmed at least nine times over the last nine ...\n",
       "29806    Fred MacMurray stars in this Walt Disney comed...\n",
       "29807    A resident of rd century Earth becomes involve...\n",
       "29808    Supernova chronicles the search and rescue pat...\n",
       "29809    For years there have been documented cases of ...\n",
       "Name: cleanedDescr, Length: 29810, dtype: object"
      ]
     },
     "execution_count": 720,
     "metadata": {},
     "output_type": "execute_result"
    }
   ],
   "source": [
    "X = training_df['cleanedDescr']\n",
    "X"
   ]
  },
  {
   "cell_type": "code",
   "execution_count": 721,
   "id": "bd9fc4c9",
   "metadata": {},
   "outputs": [
    {
     "data": {
      "text/plain": [
       "729.3683998658169"
      ]
     },
     "execution_count": 721,
     "metadata": {},
     "output_type": "execute_result"
    }
   ],
   "source": [
    "description_lengths = []\n",
    "for i, description in training_df['cleanedDescr'].iteritems():\n",
    "    description_lengths.append( len(description) )\n",
    "max_description_length = np.mean( description_lengths )\n",
    "max_description_length"
   ]
  },
  {
   "cell_type": "markdown",
   "id": "changing-internship",
   "metadata": {},
   "source": [
    "## Train, test split"
   ]
  },
  {
   "cell_type": "code",
   "execution_count": 722,
   "id": "universal-split",
   "metadata": {},
   "outputs": [],
   "source": [
    "X_train, X_test, Y_train, Y_test = train_test_split( X, Y, test_size=0.3, random_state=40 )"
   ]
  },
  {
   "cell_type": "code",
   "execution_count": 723,
   "id": "animal-mount",
   "metadata": {},
   "outputs": [],
   "source": [
    "Y_train = to_categorical(Y_train)\n",
    "Y_test  = to_categorical(Y_test)"
   ]
  },
  {
   "cell_type": "code",
   "execution_count": 724,
   "id": "charming-sydney",
   "metadata": {},
   "outputs": [],
   "source": [
    "tokenizer = Tokenizer(num_words=10000)\n",
    "tokenizer.fit_on_texts(X_train)"
   ]
  },
  {
   "cell_type": "code",
   "execution_count": 725,
   "id": "reported-hayes",
   "metadata": {},
   "outputs": [],
   "source": [
    "X_train = tokenizer.texts_to_sequences(X_train)\n",
    "X_test  = tokenizer.texts_to_sequences(X_test)"
   ]
  },
  {
   "cell_type": "code",
   "execution_count": 726,
   "id": "de609f8e",
   "metadata": {},
   "outputs": [
    {
     "data": {
      "text/plain": [
       "56359"
      ]
     },
     "execution_count": 726,
     "metadata": {},
     "output_type": "execute_result"
    }
   ],
   "source": [
    "vocabulary_size = len(tokenizer.word_index) + 1\n",
    "vocabulary_size"
   ]
  },
  {
   "cell_type": "code",
   "execution_count": 727,
   "id": "expected-hunter",
   "metadata": {},
   "outputs": [],
   "source": [
    "maxlen =  420 # Only concider first 400 words of each description\n",
    "\n",
    "X_train = pad_sequences( X_train, maxlen=maxlen )\n",
    "X_test  = pad_sequences( X_test, maxlen=maxlen )"
   ]
  },
  {
   "cell_type": "markdown",
   "id": "ruled-memphis",
   "metadata": {},
   "source": [
    "## Use GloVe : Global Vectors for Word Representation\n",
    "https://nlp.stanford.edu/projects/glove/\n",
    "\n",
    "GloVe is an unsupervised learning algorithm for obtaining vector representations for words. Training is performed on aggregated global word-word co-occurrence statistics from a corpus, and the resulting representations showcase interesting linear substructures of the word vector space. "
   ]
  },
  {
   "cell_type": "code",
   "execution_count": 728,
   "id": "chronic-perception",
   "metadata": {},
   "outputs": [],
   "source": [
    "glove_file = open('./glove.6B/glove.6B.100d.txt', encoding='utf8')"
   ]
  },
  {
   "cell_type": "code",
   "execution_count": 729,
   "id": "polished-oxford",
   "metadata": {},
   "outputs": [],
   "source": [
    "embedd_dictionary = dict()\n",
    "for line in glove_file:\n",
    "    records = line.split()\n",
    "    word = records[0]\n",
    "    vector_dims = np.asarray(records[1:], dtype='float32')\n",
    "    embedd_dictionary[word] = vector_dims\n",
    "\n",
    "glove_file.close()"
   ]
  },
  {
   "cell_type": "code",
   "execution_count": 730,
   "id": "random-anxiety",
   "metadata": {},
   "outputs": [
    {
     "data": {
      "text/plain": [
       "(56359, 100)"
      ]
     },
     "execution_count": 730,
     "metadata": {},
     "output_type": "execute_result"
    }
   ],
   "source": [
    "embedd_matrix = np.zeros((vocabulary_size, 100))\n",
    "for word, index in tokenizer.word_index.items():\n",
    "    embedd_vector = embedd_dictionary.get(word)\n",
    "    if embedd_vector is not None:\n",
    "        embedd_matrix[index] = embedd_vector\n",
    "embedd_matrix.shape"
   ]
  },
  {
   "cell_type": "code",
   "execution_count": 731,
   "id": "838f3580",
   "metadata": {},
   "outputs": [
    {
     "data": {
      "text/plain": [
       "100"
      ]
     },
     "execution_count": 731,
     "metadata": {},
     "output_type": "execute_result"
    }
   ],
   "source": [
    "output_dim = embedd_matrix.shape[1]\n",
    "output_dim"
   ]
  },
  {
   "cell_type": "markdown",
   "id": "posted-disney",
   "metadata": {},
   "source": [
    "## Build the NN Model"
   ]
  },
  {
   "cell_type": "code",
   "execution_count": 732,
   "id": "exempt-likelihood",
   "metadata": {
    "scrolled": false
   },
   "outputs": [
    {
     "name": "stdout",
     "output_type": "stream",
     "text": [
      "Model: \"sequential_43\"\n",
      "_________________________________________________________________\n",
      "Layer (type)                 Output Shape              Param #   \n",
      "=================================================================\n",
      "embedding_43 (Embedding)     (None, None, 100)         5635900   \n",
      "_________________________________________________________________\n",
      "bidirectional_34 (Bidirectio (None, 256)               234496    \n",
      "_________________________________________________________________\n",
      "dropout_30 (Dropout)         (None, 256)               0         \n",
      "_________________________________________________________________\n",
      "dense_74 (Dense)             (None, 64)                16448     \n",
      "_________________________________________________________________\n",
      "dropout_31 (Dropout)         (None, 64)                0         \n",
      "_________________________________________________________________\n",
      "dense_75 (Dense)             (None, 6)                 390       \n",
      "=================================================================\n",
      "Total params: 5,887,234\n",
      "Trainable params: 251,334\n",
      "Non-trainable params: 5,635,900\n",
      "_________________________________________________________________\n"
     ]
    }
   ],
   "source": [
    "model = Sequential()\n",
    "model.add(Embedding(input_dim=vocabulary_size, output_dim=output_dim, weights=[embedd_matrix], trainable=False))\n",
    "model.add( Bidirectional(LSTM(units=128, recurrent_dropout=0)) )\n",
    "model.add(Dropout(0.4))\n",
    "model.add(Dense(64, kernel_regularizer=regularizers.l2(0.01)))\n",
    "model.add(Dropout(0.4))\n",
    "model.add(Dense(6, activation='softmax', kernel_regularizer=regularizers.l2(0.01)))\n",
    "model.compile(loss='categorical_crossentropy', optimizer='adam', metrics=['accuracy'])\n",
    "model.summary()"
   ]
  },
  {
   "cell_type": "code",
   "execution_count": 733,
   "id": "9233c207",
   "metadata": {},
   "outputs": [],
   "source": [
    "import keras\n",
    "callback = [\n",
    "#     keras.callbacks.EarlyStopping(patience=2),\n",
    "    keras.callbacks.ModelCheckpoint(filepath='./data/checkpoint/BDLSTM.{epoch:02d}-{val_loss:.2f}.h5', save_best_only=True ),\n",
    "    keras.callbacks.TensorBoard(log_dir='./data/tf/logs'),\n",
    "]"
   ]
  },
  {
   "cell_type": "code",
   "execution_count": 734,
   "id": "imposed-french",
   "metadata": {},
   "outputs": [
    {
     "name": "stdout",
     "output_type": "stream",
     "text": [
      "Epoch 1/120\n",
      "327/327 [==============================] - 25s 70ms/step - loss: 2.1127 - accuracy: 0.3385 - val_loss: 1.4840 - val_accuracy: 0.4071\n",
      "Epoch 2/120\n",
      "327/327 [==============================] - 22s 68ms/step - loss: 1.4753 - accuracy: 0.4131 - val_loss: 1.3724 - val_accuracy: 0.4530\n",
      "Epoch 3/120\n",
      "327/327 [==============================] - 22s 67ms/step - loss: 1.3664 - accuracy: 0.4556 - val_loss: 1.2972 - val_accuracy: 0.4844\n",
      "Epoch 4/120\n",
      "327/327 [==============================] - 22s 67ms/step - loss: 1.3147 - accuracy: 0.4675 - val_loss: 1.2704 - val_accuracy: 0.4884\n",
      "Epoch 5/120\n",
      "327/327 [==============================] - 22s 68ms/step - loss: 1.2621 - accuracy: 0.4913 - val_loss: 1.2530 - val_accuracy: 0.4956\n",
      "Epoch 6/120\n",
      "327/327 [==============================] - 22s 68ms/step - loss: 1.2350 - accuracy: 0.5174 - val_loss: 1.2239 - val_accuracy: 0.5092\n",
      "Epoch 7/120\n",
      "327/327 [==============================] - 22s 68ms/step - loss: 1.1894 - accuracy: 0.5376 - val_loss: 1.2056 - val_accuracy: 0.5216\n",
      "Epoch 8/120\n",
      "327/327 [==============================] - 22s 67ms/step - loss: 1.1652 - accuracy: 0.5481 - val_loss: 1.1835 - val_accuracy: 0.5352\n",
      "Epoch 9/120\n",
      "327/327 [==============================] - 22s 68ms/step - loss: 1.0912 - accuracy: 0.5926 - val_loss: 1.1878 - val_accuracy: 0.5436\n",
      "Epoch 10/120\n",
      "327/327 [==============================] - 22s 68ms/step - loss: 1.0928 - accuracy: 0.5939 - val_loss: 1.1746 - val_accuracy: 0.5574\n",
      "Epoch 11/120\n",
      "327/327 [==============================] - 22s 68ms/step - loss: 1.0129 - accuracy: 0.6365 - val_loss: 1.0992 - val_accuracy: 0.5969\n",
      "Epoch 12/120\n",
      "327/327 [==============================] - 22s 68ms/step - loss: 0.9320 - accuracy: 0.6805 - val_loss: 1.1205 - val_accuracy: 0.5843\n",
      "Epoch 13/120\n",
      "327/327 [==============================] - 22s 68ms/step - loss: 0.9492 - accuracy: 0.6719 - val_loss: 1.1103 - val_accuracy: 0.6043\n",
      "Epoch 14/120\n",
      "327/327 [==============================] - 22s 68ms/step - loss: 0.8479 - accuracy: 0.7199 - val_loss: 1.0558 - val_accuracy: 0.6378\n",
      "Epoch 15/120\n",
      "327/327 [==============================] - 22s 68ms/step - loss: 0.7872 - accuracy: 0.7509 - val_loss: 1.0812 - val_accuracy: 0.6405\n",
      "Epoch 16/120\n",
      "327/327 [==============================] - 22s 68ms/step - loss: 0.7230 - accuracy: 0.7756 - val_loss: 1.0597 - val_accuracy: 0.6586\n",
      "Epoch 17/120\n",
      "327/327 [==============================] - 22s 68ms/step - loss: 0.6975 - accuracy: 0.7865 - val_loss: 1.0792 - val_accuracy: 0.6560\n",
      "Epoch 18/120\n",
      "327/327 [==============================] - 22s 67ms/step - loss: 0.6573 - accuracy: 0.8057 - val_loss: 1.0499 - val_accuracy: 0.6857\n",
      "Epoch 19/120\n",
      "327/327 [==============================] - 22s 68ms/step - loss: 0.6007 - accuracy: 0.8310 - val_loss: 1.0799 - val_accuracy: 0.6900\n",
      "Epoch 20/120\n",
      "327/327 [==============================] - 22s 67ms/step - loss: 0.5611 - accuracy: 0.8494 - val_loss: 1.0471 - val_accuracy: 0.7144\n",
      "Epoch 21/120\n",
      "327/327 [==============================] - 22s 68ms/step - loss: 0.5049 - accuracy: 0.8724 - val_loss: 1.0473 - val_accuracy: 0.7255\n",
      "Epoch 22/120\n",
      "327/327 [==============================] - 22s 68ms/step - loss: 0.4806 - accuracy: 0.8783 - val_loss: 1.0510 - val_accuracy: 0.7395\n",
      "Epoch 23/120\n",
      "327/327 [==============================] - 22s 68ms/step - loss: 0.4646 - accuracy: 0.8880 - val_loss: 1.0541 - val_accuracy: 0.7351\n",
      "Epoch 24/120\n",
      "327/327 [==============================] - 22s 67ms/step - loss: 0.4874 - accuracy: 0.8802 - val_loss: 1.0462 - val_accuracy: 0.7458\n",
      "Epoch 25/120\n",
      "327/327 [==============================] - 22s 67ms/step - loss: 0.4173 - accuracy: 0.9036 - val_loss: 1.0917 - val_accuracy: 0.7539\n",
      "Epoch 26/120\n",
      "327/327 [==============================] - 22s 68ms/step - loss: 0.3800 - accuracy: 0.9229 - val_loss: 1.1301 - val_accuracy: 0.7433\n",
      "Epoch 27/120\n",
      "327/327 [==============================] - 22s 67ms/step - loss: 0.3878 - accuracy: 0.9187 - val_loss: 1.0927 - val_accuracy: 0.7643\n",
      "Epoch 28/120\n",
      "327/327 [==============================] - 22s 68ms/step - loss: 0.3518 - accuracy: 0.9345 - val_loss: 1.0919 - val_accuracy: 0.7663\n",
      "Epoch 29/120\n",
      "327/327 [==============================] - 22s 68ms/step - loss: 0.3491 - accuracy: 0.9345 - val_loss: 1.0705 - val_accuracy: 0.7482\n",
      "Epoch 30/120\n",
      "327/327 [==============================] - 22s 67ms/step - loss: 0.3460 - accuracy: 0.9340 - val_loss: 1.1226 - val_accuracy: 0.7727\n",
      "Epoch 31/120\n",
      "327/327 [==============================] - 22s 68ms/step - loss: 0.3090 - accuracy: 0.9490 - val_loss: 1.0935 - val_accuracy: 0.7738\n",
      "Epoch 32/120\n",
      "327/327 [==============================] - 22s 68ms/step - loss: 0.3295 - accuracy: 0.9408 - val_loss: 1.1299 - val_accuracy: 0.7717\n",
      "Epoch 33/120\n",
      "327/327 [==============================] - 22s 67ms/step - loss: 0.3148 - accuracy: 0.9454 - val_loss: 1.1074 - val_accuracy: 0.7796\n",
      "Epoch 34/120\n",
      "327/327 [==============================] - 22s 66ms/step - loss: 0.2922 - accuracy: 0.9584 - val_loss: 1.1165 - val_accuracy: 0.7756\n",
      "Epoch 35/120\n",
      "327/327 [==============================] - 22s 68ms/step - loss: 0.2905 - accuracy: 0.9537 - val_loss: 1.1727 - val_accuracy: 0.7884\n",
      "Epoch 36/120\n",
      "327/327 [==============================] - 22s 68ms/step - loss: 0.2642 - accuracy: 0.9637 - val_loss: 1.1829 - val_accuracy: 0.7762\n",
      "Epoch 37/120\n",
      "327/327 [==============================] - 22s 68ms/step - loss: 0.2606 - accuracy: 0.9630 - val_loss: 1.1361 - val_accuracy: 0.7814\n",
      "Epoch 38/120\n",
      "327/327 [==============================] - 22s 67ms/step - loss: 0.2713 - accuracy: 0.9616 - val_loss: 1.1004 - val_accuracy: 0.7868\n",
      "Epoch 39/120\n",
      "327/327 [==============================] - 22s 68ms/step - loss: 0.2665 - accuracy: 0.9640 - val_loss: 1.1057 - val_accuracy: 0.7814\n",
      "Epoch 40/120\n",
      "327/327 [==============================] - 22s 67ms/step - loss: 0.2651 - accuracy: 0.9633 - val_loss: 1.1056 - val_accuracy: 0.7792\n",
      "Epoch 41/120\n",
      "327/327 [==============================] - 22s 68ms/step - loss: 0.2852 - accuracy: 0.9536 - val_loss: 1.1303 - val_accuracy: 0.7897\n",
      "Epoch 42/120\n",
      "327/327 [==============================] - 22s 68ms/step - loss: 0.2538 - accuracy: 0.9645 - val_loss: 1.1271 - val_accuracy: 0.7894\n",
      "Epoch 43/120\n",
      "327/327 [==============================] - 22s 68ms/step - loss: 0.2716 - accuracy: 0.9576 - val_loss: 1.1330 - val_accuracy: 0.7921\n",
      "Epoch 44/120\n",
      "327/327 [==============================] - 22s 68ms/step - loss: 0.2236 - accuracy: 0.9764 - val_loss: 1.2044 - val_accuracy: 0.7784\n",
      "Epoch 45/120\n",
      "327/327 [==============================] - 22s 68ms/step - loss: 0.2785 - accuracy: 0.9564 - val_loss: 1.1772 - val_accuracy: 0.7919\n",
      "Epoch 46/120\n",
      "327/327 [==============================] - 22s 68ms/step - loss: 0.2350 - accuracy: 0.9728 - val_loss: 1.1591 - val_accuracy: 0.7893\n",
      "Epoch 47/120\n",
      "327/327 [==============================] - 22s 68ms/step - loss: 0.2267 - accuracy: 0.9764 - val_loss: 1.1311 - val_accuracy: 0.7993\n",
      "Epoch 48/120\n",
      "327/327 [==============================] - 22s 68ms/step - loss: 0.2485 - accuracy: 0.9664 - val_loss: 1.1265 - val_accuracy: 0.7858\n",
      "Epoch 49/120\n",
      "327/327 [==============================] - 22s 68ms/step - loss: 0.2581 - accuracy: 0.9660 - val_loss: 1.1074 - val_accuracy: 0.7949\n",
      "Epoch 50/120\n",
      "327/327 [==============================] - 22s 68ms/step - loss: 0.2188 - accuracy: 0.9778 - val_loss: 1.1629 - val_accuracy: 0.7855\n",
      "Epoch 51/120\n",
      "327/327 [==============================] - 22s 67ms/step - loss: 0.2332 - accuracy: 0.9722 - val_loss: 1.1581 - val_accuracy: 0.7878\n",
      "Epoch 52/120\n",
      "327/327 [==============================] - 22s 68ms/step - loss: 0.2289 - accuracy: 0.9733 - val_loss: 1.1222 - val_accuracy: 0.7873\n",
      "Epoch 53/120\n",
      "327/327 [==============================] - 22s 68ms/step - loss: 0.2277 - accuracy: 0.9724 - val_loss: 1.1642 - val_accuracy: 0.7984\n",
      "Epoch 54/120\n",
      "327/327 [==============================] - 22s 67ms/step - loss: 0.2079 - accuracy: 0.9794 - val_loss: 1.1502 - val_accuracy: 0.7913\n",
      "Epoch 55/120\n",
      "327/327 [==============================] - 22s 68ms/step - loss: 0.3645 - accuracy: 0.9259 - val_loss: 1.1297 - val_accuracy: 0.7984\n",
      "Epoch 56/120\n",
      "327/327 [==============================] - 22s 67ms/step - loss: 0.2066 - accuracy: 0.9805 - val_loss: 1.1171 - val_accuracy: 0.8005\n",
      "Epoch 57/120\n"
     ]
    },
    {
     "name": "stdout",
     "output_type": "stream",
     "text": [
      "327/327 [==============================] - 22s 66ms/step - loss: 0.2022 - accuracy: 0.9825 - val_loss: 1.1606 - val_accuracy: 0.7988\n",
      "Epoch 58/120\n",
      "327/327 [==============================] - 22s 67ms/step - loss: 0.2294 - accuracy: 0.9716 - val_loss: 1.1397 - val_accuracy: 0.7983\n",
      "Epoch 59/120\n",
      "327/327 [==============================] - 22s 68ms/step - loss: 0.2288 - accuracy: 0.9724 - val_loss: 1.1353 - val_accuracy: 0.7903\n",
      "Epoch 60/120\n",
      "327/327 [==============================] - 22s 67ms/step - loss: 0.2557 - accuracy: 0.9638 - val_loss: 1.1476 - val_accuracy: 0.7841\n",
      "Epoch 61/120\n",
      "327/327 [==============================] - 22s 67ms/step - loss: 0.2097 - accuracy: 0.9797 - val_loss: 1.1638 - val_accuracy: 0.8011\n",
      "Epoch 62/120\n",
      "327/327 [==============================] - 22s 67ms/step - loss: 0.2546 - accuracy: 0.9606 - val_loss: 1.1237 - val_accuracy: 0.8024\n",
      "Epoch 63/120\n",
      "327/327 [==============================] - 22s 68ms/step - loss: 0.1961 - accuracy: 0.9843 - val_loss: 1.1797 - val_accuracy: 0.7995\n",
      "Epoch 64/120\n",
      "327/327 [==============================] - 22s 67ms/step - loss: 0.1950 - accuracy: 0.9846 - val_loss: 1.1967 - val_accuracy: 0.7909\n",
      "Epoch 65/120\n",
      "327/327 [==============================] - 22s 68ms/step - loss: 0.2395 - accuracy: 0.9680 - val_loss: 1.3492 - val_accuracy: 0.7464\n",
      "Epoch 66/120\n",
      "327/327 [==============================] - 22s 68ms/step - loss: 0.2710 - accuracy: 0.9587 - val_loss: 1.1337 - val_accuracy: 0.8020\n",
      "Epoch 67/120\n",
      "327/327 [==============================] - 22s 68ms/step - loss: 0.1918 - accuracy: 0.9844 - val_loss: 1.1424 - val_accuracy: 0.7964\n",
      "Epoch 68/120\n",
      "327/327 [==============================] - 22s 68ms/step - loss: 0.1953 - accuracy: 0.9841 - val_loss: 1.1862 - val_accuracy: 0.7994\n",
      "Epoch 69/120\n",
      "327/327 [==============================] - 22s 68ms/step - loss: 0.1810 - accuracy: 0.9877 - val_loss: 1.1885 - val_accuracy: 0.7899\n",
      "Epoch 70/120\n",
      "327/327 [==============================] - 22s 69ms/step - loss: 0.2146 - accuracy: 0.9762 - val_loss: 1.1327 - val_accuracy: 0.7911\n",
      "Epoch 71/120\n",
      "327/327 [==============================] - 22s 68ms/step - loss: 0.2151 - accuracy: 0.9774 - val_loss: 1.1278 - val_accuracy: 0.7901\n",
      "Epoch 72/120\n",
      "327/327 [==============================] - 22s 67ms/step - loss: 0.2383 - accuracy: 0.9679 - val_loss: 1.1923 - val_accuracy: 0.7944\n",
      "Epoch 73/120\n",
      "327/327 [==============================] - 22s 68ms/step - loss: 0.2282 - accuracy: 0.9719 - val_loss: 1.1531 - val_accuracy: 0.7989\n",
      "Epoch 74/120\n",
      "327/327 [==============================] - 22s 68ms/step - loss: 0.1975 - accuracy: 0.9812 - val_loss: 1.1583 - val_accuracy: 0.8042\n",
      "Epoch 75/120\n",
      "327/327 [==============================] - 22s 67ms/step - loss: 0.1705 - accuracy: 0.9909 - val_loss: 1.1628 - val_accuracy: 0.7937\n",
      "Epoch 76/120\n",
      "327/327 [==============================] - 22s 68ms/step - loss: 0.1753 - accuracy: 0.9882 - val_loss: 1.1410 - val_accuracy: 0.7891\n",
      "Epoch 77/120\n",
      "327/327 [==============================] - 22s 68ms/step - loss: 0.2185 - accuracy: 0.9748 - val_loss: 1.1449 - val_accuracy: 0.7951\n",
      "Epoch 78/120\n",
      "327/327 [==============================] - 22s 68ms/step - loss: 0.2204 - accuracy: 0.9751 - val_loss: 1.1762 - val_accuracy: 0.7965\n",
      "Epoch 79/120\n",
      "327/327 [==============================] - 22s 67ms/step - loss: 0.2225 - accuracy: 0.9726 - val_loss: 1.1769 - val_accuracy: 0.8026\n",
      "Epoch 80/120\n",
      "327/327 [==============================] - 22s 69ms/step - loss: 0.1829 - accuracy: 0.9882 - val_loss: 1.1853 - val_accuracy: 0.8034\n",
      "Epoch 81/120\n",
      "327/327 [==============================] - 22s 68ms/step - loss: 0.1993 - accuracy: 0.9803 - val_loss: 1.1341 - val_accuracy: 0.7992\n",
      "Epoch 82/120\n",
      "327/327 [==============================] - 22s 68ms/step - loss: 0.1835 - accuracy: 0.9866 - val_loss: 1.1515 - val_accuracy: 0.7964\n",
      "Epoch 83/120\n",
      "327/327 [==============================] - 22s 67ms/step - loss: 0.2515 - accuracy: 0.9638 - val_loss: 1.1395 - val_accuracy: 0.7956\n",
      "Epoch 84/120\n",
      "327/327 [==============================] - 22s 67ms/step - loss: 0.2098 - accuracy: 0.9789 - val_loss: 1.1336 - val_accuracy: 0.8054\n",
      "Epoch 85/120\n",
      "327/327 [==============================] - 22s 68ms/step - loss: 0.1769 - accuracy: 0.9876 - val_loss: 1.1482 - val_accuracy: 0.8041\n",
      "Epoch 86/120\n",
      "327/327 [==============================] - 22s 68ms/step - loss: 0.1753 - accuracy: 0.9884 - val_loss: 1.1485 - val_accuracy: 0.8005\n",
      "Epoch 87/120\n",
      "327/327 [==============================] - 22s 68ms/step - loss: 0.2026 - accuracy: 0.9801 - val_loss: 1.1384 - val_accuracy: 0.7994\n",
      "Epoch 88/120\n",
      "327/327 [==============================] - 22s 68ms/step - loss: 0.1864 - accuracy: 0.9864 - val_loss: 1.1305 - val_accuracy: 0.8048\n",
      "Epoch 89/120\n",
      "327/327 [==============================] - 22s 68ms/step - loss: 0.1831 - accuracy: 0.9852 - val_loss: 1.1746 - val_accuracy: 0.7959\n",
      "Epoch 90/120\n",
      "327/327 [==============================] - 22s 67ms/step - loss: 0.1882 - accuracy: 0.9828 - val_loss: 1.1378 - val_accuracy: 0.7966\n",
      "Epoch 91/120\n",
      "327/327 [==============================] - 22s 68ms/step - loss: 0.1842 - accuracy: 0.9862 - val_loss: 1.1513 - val_accuracy: 0.8004\n",
      "Epoch 92/120\n",
      "327/327 [==============================] - 22s 67ms/step - loss: 0.2346 - accuracy: 0.9686 - val_loss: 1.1377 - val_accuracy: 0.8016\n",
      "Epoch 93/120\n",
      "327/327 [==============================] - 22s 68ms/step - loss: 0.1925 - accuracy: 0.9830 - val_loss: 1.0893 - val_accuracy: 0.8032\n",
      "Epoch 94/120\n",
      "327/327 [==============================] - 22s 67ms/step - loss: 0.2038 - accuracy: 0.9799 - val_loss: 1.1497 - val_accuracy: 0.7981\n",
      "Epoch 95/120\n",
      "327/327 [==============================] - 22s 68ms/step - loss: 0.1769 - accuracy: 0.9882 - val_loss: 1.1316 - val_accuracy: 0.8051\n",
      "Epoch 96/120\n",
      "327/327 [==============================] - 22s 68ms/step - loss: 0.1784 - accuracy: 0.9866 - val_loss: 1.1542 - val_accuracy: 0.7955\n",
      "Epoch 97/120\n",
      "327/327 [==============================] - 22s 68ms/step - loss: 0.1933 - accuracy: 0.9818 - val_loss: 1.1700 - val_accuracy: 0.8039\n",
      "Epoch 98/120\n",
      "327/327 [==============================] - 22s 68ms/step - loss: 0.1734 - accuracy: 0.9885 - val_loss: 1.1998 - val_accuracy: 0.7946\n",
      "Epoch 99/120\n",
      "327/327 [==============================] - 22s 67ms/step - loss: 0.1801 - accuracy: 0.9859 - val_loss: 1.1533 - val_accuracy: 0.7992\n",
      "Epoch 100/120\n",
      "327/327 [==============================] - 22s 66ms/step - loss: 0.1868 - accuracy: 0.9851 - val_loss: 1.1503 - val_accuracy: 0.8042\n",
      "Epoch 101/120\n",
      "327/327 [==============================] - 22s 67ms/step - loss: 0.1793 - accuracy: 0.9853 - val_loss: 1.1362 - val_accuracy: 0.8066\n",
      "Epoch 102/120\n",
      "327/327 [==============================] - 22s 68ms/step - loss: 0.1894 - accuracy: 0.9838 - val_loss: 1.1348 - val_accuracy: 0.8055\n",
      "Epoch 103/120\n",
      "327/327 [==============================] - 22s 67ms/step - loss: 0.1801 - accuracy: 0.9865 - val_loss: 1.1296 - val_accuracy: 0.7964\n",
      "Epoch 104/120\n",
      "327/327 [==============================] - 22s 68ms/step - loss: 0.1945 - accuracy: 0.9819 - val_loss: 1.1493 - val_accuracy: 0.8036\n",
      "Epoch 105/120\n",
      "327/327 [==============================] - 22s 67ms/step - loss: 0.1839 - accuracy: 0.9854 - val_loss: 1.1364 - val_accuracy: 0.8015\n",
      "Epoch 106/120\n",
      "327/327 [==============================] - 21s 66ms/step - loss: 0.1741 - accuracy: 0.9874 - val_loss: 1.1752 - val_accuracy: 0.8045\n",
      "Epoch 107/120\n",
      "327/327 [==============================] - 22s 67ms/step - loss: 0.1766 - accuracy: 0.9877 - val_loss: 1.2150 - val_accuracy: 0.7955\n",
      "Epoch 108/120\n",
      "327/327 [==============================] - 22s 68ms/step - loss: 0.1988 - accuracy: 0.9789 - val_loss: 1.1115 - val_accuracy: 0.7958\n",
      "Epoch 109/120\n",
      "327/327 [==============================] - 22s 67ms/step - loss: 0.1885 - accuracy: 0.9844 - val_loss: 1.1316 - val_accuracy: 0.8079\n",
      "Epoch 110/120\n",
      "327/327 [==============================] - 22s 68ms/step - loss: 0.1636 - accuracy: 0.9914 - val_loss: 1.1311 - val_accuracy: 0.8051\n",
      "Epoch 111/120\n",
      "327/327 [==============================] - 22s 68ms/step - loss: 0.1842 - accuracy: 0.9863 - val_loss: 1.1422 - val_accuracy: 0.8040\n",
      "Epoch 112/120\n",
      "327/327 [==============================] - 22s 67ms/step - loss: 0.1661 - accuracy: 0.9899 - val_loss: 1.1168 - val_accuracy: 0.7972\n",
      "Epoch 113/120\n"
     ]
    },
    {
     "name": "stdout",
     "output_type": "stream",
     "text": [
      "327/327 [==============================] - 22s 67ms/step - loss: 0.2059 - accuracy: 0.9788 - val_loss: 1.2549 - val_accuracy: 0.7632\n",
      "Epoch 114/120\n",
      "327/327 [==============================] - 22s 68ms/step - loss: 0.2354 - accuracy: 0.9699 - val_loss: 1.1415 - val_accuracy: 0.8019\n",
      "Epoch 115/120\n",
      "327/327 [==============================] - 22s 67ms/step - loss: 0.1730 - accuracy: 0.9887 - val_loss: 1.1779 - val_accuracy: 0.8066\n",
      "Epoch 116/120\n",
      "327/327 [==============================] - 22s 67ms/step - loss: 0.1705 - accuracy: 0.9887 - val_loss: 1.1191 - val_accuracy: 0.8020\n",
      "Epoch 117/120\n",
      "327/327 [==============================] - 22s 67ms/step - loss: 0.1808 - accuracy: 0.9853 - val_loss: 1.1447 - val_accuracy: 0.8035\n",
      "Epoch 118/120\n",
      "327/327 [==============================] - 22s 67ms/step - loss: 0.1786 - accuracy: 0.9860 - val_loss: 1.1300 - val_accuracy: 0.8059\n",
      "Epoch 119/120\n",
      "327/327 [==============================] - 22s 66ms/step - loss: 0.1957 - accuracy: 0.9800 - val_loss: 1.1440 - val_accuracy: 0.7993\n",
      "Epoch 120/120\n",
      "327/327 [==============================] - 22s 67ms/step - loss: 0.1765 - accuracy: 0.9868 - val_loss: 1.1565 - val_accuracy: 0.8041\n"
     ]
    }
   ],
   "source": [
    "hist = model.fit(X_train, Y_train, batch_size=64, epochs=120, validation_data=(X_test, Y_test), verbose=1, callbacks=callback)"
   ]
  },
  {
   "cell_type": "code",
   "execution_count": 735,
   "id": "commercial-imperial",
   "metadata": {},
   "outputs": [
    {
     "name": "stdout",
     "output_type": "stream",
     "text": [
      "280/280 [==============================] - 7s 23ms/step - loss: 1.1565 - accuracy: 0.8041\n",
      "loss:  1.1565263271331787\n",
      "accuracy:  0.8040925860404968\n"
     ]
    }
   ],
   "source": [
    "loss, acc = model.evaluate(X_test, Y_test, verbose=1)\n",
    "print('loss: ', loss)\n",
    "print('accuracy: ', acc)"
   ]
  },
  {
   "cell_type": "markdown",
   "id": "animated-thunder",
   "metadata": {},
   "source": [
    "## Save model and tokenizer"
   ]
  },
  {
   "cell_type": "code",
   "execution_count": 736,
   "id": "beginning-forward",
   "metadata": {},
   "outputs": [],
   "source": [
    "# save model\n",
    "model.save('./data/mpaa_classifier_n_sample_exceptNC17BiD.h5')\n",
    "\n",
    "# save word tokenizer\n",
    "pickle.dump(tokenizer, open('./data/tokenizer_n_sample_exceptNC17BiD.pkl', 'wb'))"
   ]
  },
  {
   "cell_type": "markdown",
   "id": "984e197a",
   "metadata": {},
   "source": [
    "## Model Architecture"
   ]
  },
  {
   "cell_type": "code",
   "execution_count": 829,
   "id": "b9946c57",
   "metadata": {},
   "outputs": [],
   "source": [
    "# load the saved model\n",
    "from keras.models import load_model\n",
    "model = load_model(\"./data/mpaa_classifier_n_sample_exceptNC17BiD.h5\")"
   ]
  },
  {
   "cell_type": "code",
   "execution_count": 830,
   "id": "f60e5f50",
   "metadata": {},
   "outputs": [
    {
     "data": {
      "image/png": "[encoded data removed]",
      "text/plain": [
       "<IPython.core.display.Image object>"
      ]
     },
     "execution_count": 830,
     "metadata": {},
     "output_type": "execute_result"
    }
   ],
   "source": [
    "from keras.utils.vis_utils import plot_model\n",
    "plot_model(model, to_file='model_plot.png', show_shapes=True, show_layer_names=True)"
   ]
  },
  {
   "cell_type": "markdown",
   "id": "worth-sweden",
   "metadata": {},
   "source": [
    "## Metrics"
   ]
  },
  {
   "cell_type": "code",
   "execution_count": 831,
   "id": "valuable-slovenia",
   "metadata": {},
   "outputs": [
    {
     "data": {
      "image/png": "[encoded data removed]",
      "text/plain": [
       "<Figure size 432x288 with 1 Axes>"
      ]
     },
     "metadata": {
      "needs_background": "light"
     },
     "output_type": "display_data"
    }
   ],
   "source": [
    "plt.plot(hist.history['accuracy'])\n",
    "plt.plot(hist.history['val_accuracy'])\n",
    "plt.title('Model Accuracy')\n",
    "plt.ylabel('Accuracy')\n",
    "plt.xlabel('# Epochs')\n",
    "plt.legend(['train', 'test'])\n",
    "plt.show()"
   ]
  },
  {
   "cell_type": "code",
   "execution_count": 832,
   "id": "interior-pharmacy",
   "metadata": {},
   "outputs": [
    {
     "data": {
      "image/png": "[encoded data removed]",
      "text/plain": [
       "<Figure size 432x288 with 1 Axes>"
      ]
     },
     "metadata": {
      "needs_background": "light"
     },
     "output_type": "display_data"
    }
   ],
   "source": [
    "plt.plot(hist.history['loss'])\n",
    "plt.plot(hist.history['val_loss'])\n",
    "plt.title('Model Loss')\n",
    "plt.ylabel('Loss')\n",
    "plt.xlabel('# Epochs')\n",
    "plt.legend(['train', 'test'])\n",
    "plt.show()"
   ]
  },
  {
   "cell_type": "markdown",
   "id": "e0a54724",
   "metadata": {},
   "source": [
    "### Label maps"
   ]
  },
  {
   "cell_type": "code",
   "execution_count": 837,
   "id": "6d48760f",
   "metadata": {},
   "outputs": [
    {
     "data": {
      "text/plain": [
       "['G', 'NC17', 'NR', 'PG', 'PG-13', 'R']"
      ]
     },
     "execution_count": 837,
     "metadata": {},
     "output_type": "execute_result"
    }
   ],
   "source": [
    "le = encoder.fit(_y)\n",
    "labels = list(le.classes_)\n",
    "labels"
   ]
  },
  {
   "cell_type": "code",
   "execution_count": 838,
   "id": "7a0d8b5d",
   "metadata": {},
   "outputs": [
    {
     "data": {
      "text/plain": [
       "{'G': 0, 'NC17': 1, 'NR': 2, 'PG': 3, 'PG-13': 4, 'R': 5}"
      ]
     },
     "execution_count": 838,
     "metadata": {},
     "output_type": "execute_result"
    }
   ],
   "source": [
    "class_names = dict(zip(le.classes_, le.transform(le.classes_)))\n",
    "class_names"
   ]
  },
  {
   "cell_type": "code",
   "execution_count": 839,
   "id": "1cb23ddf",
   "metadata": {},
   "outputs": [],
   "source": [
    "Y_pred = model.predict(X_test)"
   ]
  },
  {
   "cell_type": "code",
   "execution_count": 840,
   "id": "3ee761f6",
   "metadata": {},
   "outputs": [
    {
     "data": {
      "text/plain": [
       "<sklearn.metrics._plot.confusion_matrix.ConfusionMatrixDisplay at 0x7efeb4608760>"
      ]
     },
     "execution_count": 840,
     "metadata": {},
     "output_type": "execute_result"
    },
    {
     "data": {
      "image/png": "[encoded data removed]",
      "text/plain": [
       "<Figure size 432x288 with 2 Axes>"
      ]
     },
     "metadata": {
      "needs_background": "light"
     },
     "output_type": "display_data"
    }
   ],
   "source": [
    "from sklearn.metrics import confusion_matrix, ConfusionMatrixDisplay\n",
    "\n",
    "cm = confusion_matrix(Y_test.argmax(axis=1), Y_pred.argmax(axis=1) )\n",
    "cmd = ConfusionMatrixDisplay(cm, display_labels=list(le.classes_))\n",
    "cmd.plot()"
   ]
  },
  {
   "cell_type": "code",
   "execution_count": 850,
   "id": "e28e36ef",
   "metadata": {},
   "outputs": [
    {
     "name": "stdout",
     "output_type": "stream",
     "text": [
      "140/140 [==============================] - 4s 28ms/step\n",
      "              precision    recall  f1-score   support\n",
      "\n",
      "           0       0.87      0.88      0.87       462\n",
      "           1       0.00      0.00      0.00        17\n",
      "           2       0.82      0.78      0.80      2404\n",
      "           3       0.75      0.79      0.77      1248\n",
      "           4       0.75      0.75      0.75      1503\n",
      "           5       0.83      0.84      0.84      3309\n",
      "\n",
      "    accuracy                           0.80      8943\n",
      "   macro avg       0.67      0.67      0.67      8943\n",
      "weighted avg       0.80      0.80      0.80      8943\n",
      "\n"
     ]
    }
   ],
   "source": [
    "from sklearn.metrics import classification_report\n",
    "\n",
    "y_pred = model.predict(X_test, batch_size=64, verbose=1)\n",
    "y_pred_bool = np.argmax(Y_pred, axis=1)\n",
    "\n",
    "print(classification_report(Y_test.argmax(axis=1), y_pred_bool))\n"
   ]
  },
  {
   "cell_type": "markdown",
   "id": "5ad98a98",
   "metadata": {},
   "source": [
    "## Demonstration"
   ]
  },
  {
   "cell_type": "code",
   "execution_count": null,
   "id": "f8d44c16",
   "metadata": {},
   "outputs": [],
   "source": []
  },
  {
   "cell_type": "code",
   "execution_count": null,
   "id": "e3812894",
   "metadata": {},
   "outputs": [],
   "source": []
  }
 ],
 "metadata": {
  "kernelspec": {
   "display_name": "Python 3",
   "language": "python",
   "name": "python3"
  },
  "language_info": {
   "codemirror_mode": {
    "name": "ipython",
    "version": 3
   },
   "file_extension": ".py",
   "mimetype": "text/x-python",
   "name": "python",
   "nbconvert_exporter": "python",
   "pygments_lexer": "ipython3",
   "version": "3.9.2"
  }
 },
 "nbformat": 4,
 "nbformat_minor": 5
}
