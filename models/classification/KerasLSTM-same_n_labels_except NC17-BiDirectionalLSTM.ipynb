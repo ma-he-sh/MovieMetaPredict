{
 "cells": [
  {
   "cell_type": "markdown",
   "id": "recognized-television",
   "metadata": {},
   "source": [
    "## MPAA rating prediction"
   ]
  },
  {
   "cell_type": "code",
   "execution_count": 173,
   "id": "instant-angel",
   "metadata": {},
   "outputs": [],
   "source": [
    "import pandas as pd\n",
    "import numpy as np\n",
    "import warnings\n",
    "import re\n",
    "import pickle\n",
    "import seaborn as sns\n",
    "\n",
    "%matplotlib inline\n",
    "warnings.filterwarnings('ignore')"
   ]
  },
  {
   "cell_type": "markdown",
   "id": "featured-freight",
   "metadata": {},
   "source": [
    "Import dataset :: using the rotten tomatoes dataset"
   ]
  },
  {
   "cell_type": "code",
   "execution_count": 174,
   "id": "harmful-developer",
   "metadata": {},
   "outputs": [
    {
     "data": {
      "text/html": [
       "<div>\n",
       "<style scoped>\n",
       "    .dataframe tbody tr th:only-of-type {\n",
       "        vertical-align: middle;\n",
       "    }\n",
       "\n",
       "    .dataframe tbody tr th {\n",
       "        vertical-align: top;\n",
       "    }\n",
       "\n",
       "    .dataframe thead th {\n",
       "        text-align: right;\n",
       "    }\n",
       "</style>\n",
       "<table border=\"1\" class=\"dataframe\">\n",
       "  <thead>\n",
       "    <tr style=\"text-align: right;\">\n",
       "      <th></th>\n",
       "      <th>Title</th>\n",
       "      <th>Rating</th>\n",
       "      <th>Description</th>\n",
       "    </tr>\n",
       "  </thead>\n",
       "  <tbody>\n",
       "    <tr>\n",
       "      <th>0</th>\n",
       "      <td>The Mummy: Tomb of the Dragon Emperor</td>\n",
       "      <td>PG-13</td>\n",
       "      <td>The Fast and the Furious director Rob Cohen co...</td>\n",
       "    </tr>\n",
       "    <tr>\n",
       "      <th>1</th>\n",
       "      <td>The Masked Saint</td>\n",
       "      <td>PG-13</td>\n",
       "      <td>The journey of a professional wrestler who bec...</td>\n",
       "    </tr>\n",
       "    <tr>\n",
       "      <th>2</th>\n",
       "      <td>Spy Hard</td>\n",
       "      <td>PG-13</td>\n",
       "      <td>Dead pan Leslie Nielsen stars as Dick Steele, ...</td>\n",
       "    </tr>\n",
       "    <tr>\n",
       "      <th>3</th>\n",
       "      <td>Der Baader Meinhof Komplex (The Baader Meinhof...</td>\n",
       "      <td>R</td>\n",
       "      <td>Director Uli Edel teams with screenwriter Bern...</td>\n",
       "    </tr>\n",
       "  </tbody>\n",
       "</table>\n",
       "</div>"
      ],
      "text/plain": [
       "                                               Title  Rating  \\\n",
       "0              The Mummy: Tomb of the Dragon Emperor  PG-13    \n",
       "1                                   The Masked Saint  PG-13    \n",
       "2                                           Spy Hard   PG-13   \n",
       "3  Der Baader Meinhof Komplex (The Baader Meinhof...      R    \n",
       "\n",
       "                                         Description  \n",
       "0  The Fast and the Furious director Rob Cohen co...  \n",
       "1  The journey of a professional wrestler who bec...  \n",
       "2  Dead pan Leslie Nielsen stars as Dick Steele, ...  \n",
       "3  Director Uli Edel teams with screenwriter Bern...  "
      ]
     },
     "execution_count": 174,
     "metadata": {},
     "output_type": "execute_result"
    }
   ],
   "source": [
    "dataset_df = pd.read_csv( './rtt_dataset/all_movie.csv' )\n",
    "dataset_df = dataset_df[['Title', 'Rating', 'Description']]\n",
    "dataset_df.columns = dataset_df.columns.str.strip()\n",
    "dataset_df.head(4)"
   ]
  },
  {
   "cell_type": "code",
   "execution_count": 175,
   "id": "japanese-costa",
   "metadata": {},
   "outputs": [
    {
     "data": {
      "text/plain": [
       "array(['PG-13 ', 'PG-13', 'R ', 'NR', 'PG', 'G', 'PG ', 'R', 'G ', 'NR ',\n",
       "       'NC17', 'NC17 '], dtype=object)"
      ]
     },
     "execution_count": 175,
     "metadata": {},
     "output_type": "execute_result"
    }
   ],
   "source": [
    "# finding unique mpaa rating in the dataset\n",
    "dataset_df['Rating'].unique()"
   ]
  },
  {
   "cell_type": "code",
   "execution_count": 176,
   "id": "developed-craft",
   "metadata": {},
   "outputs": [
    {
     "data": {
      "text/plain": [
       "array(['PG-13', 'R', 'NR', 'PG', 'G', 'NC17'], dtype=object)"
      ]
     },
     "execution_count": 176,
     "metadata": {},
     "output_type": "execute_result"
    }
   ],
   "source": [
    "# clean mpaa ratings\n",
    "mpaa_fix = {\n",
    "    'PG-13 ' : 'PG-13',\n",
    "    'R ' : 'R',\n",
    "    'PG ': 'PG',\n",
    "    'G ' : 'G',\n",
    "    'NR ': 'NR',\n",
    "    'NC17 ': 'NC17'\n",
    "}\n",
    "for i, rating in dataset_df['Rating'].iteritems():\n",
    "    if rating in mpaa_fix.keys():\n",
    "        fix_val = mpaa_fix.get(rating)\n",
    "        dataset_df.iloc[i]['Rating'] = fix_val\n",
    "dataset_df['Rating'].unique()"
   ]
  },
  {
   "cell_type": "code",
   "execution_count": 177,
   "id": "stopped-retention",
   "metadata": {},
   "outputs": [
    {
     "data": {
      "text/html": [
       "<div>\n",
       "<style scoped>\n",
       "    .dataframe tbody tr th:only-of-type {\n",
       "        vertical-align: middle;\n",
       "    }\n",
       "\n",
       "    .dataframe tbody tr th {\n",
       "        vertical-align: top;\n",
       "    }\n",
       "\n",
       "    .dataframe thead th {\n",
       "        text-align: right;\n",
       "    }\n",
       "</style>\n",
       "<table border=\"1\" class=\"dataframe\">\n",
       "  <thead>\n",
       "    <tr style=\"text-align: right;\">\n",
       "      <th></th>\n",
       "      <th>Title</th>\n",
       "      <th>Rating</th>\n",
       "      <th>Description</th>\n",
       "      <th>cleanedDescr</th>\n",
       "    </tr>\n",
       "  </thead>\n",
       "  <tbody>\n",
       "    <tr>\n",
       "      <th>0</th>\n",
       "      <td>The Mummy: Tomb of the Dragon Emperor</td>\n",
       "      <td>PG-13</td>\n",
       "      <td>The Fast and the Furious director Rob Cohen co...</td>\n",
       "      <td>The Fast and the Furious director Rob Cohen co...</td>\n",
       "    </tr>\n",
       "    <tr>\n",
       "      <th>1</th>\n",
       "      <td>The Masked Saint</td>\n",
       "      <td>PG-13</td>\n",
       "      <td>The journey of a professional wrestler who bec...</td>\n",
       "      <td>The journey of professional wrestler who becom...</td>\n",
       "    </tr>\n",
       "    <tr>\n",
       "      <th>2</th>\n",
       "      <td>Spy Hard</td>\n",
       "      <td>PG-13</td>\n",
       "      <td>Dead pan Leslie Nielsen stars as Dick Steele, ...</td>\n",
       "      <td>Dead pan Leslie Nielsen stars as Dick Steele a...</td>\n",
       "    </tr>\n",
       "    <tr>\n",
       "      <th>3</th>\n",
       "      <td>Der Baader Meinhof Komplex (The Baader Meinhof...</td>\n",
       "      <td>R</td>\n",
       "      <td>Director Uli Edel teams with screenwriter Bern...</td>\n",
       "      <td>Director Uli Edel teams with screenwriter Bern...</td>\n",
       "    </tr>\n",
       "  </tbody>\n",
       "</table>\n",
       "</div>"
      ],
      "text/plain": [
       "                                               Title Rating  \\\n",
       "0              The Mummy: Tomb of the Dragon Emperor  PG-13   \n",
       "1                                   The Masked Saint  PG-13   \n",
       "2                                           Spy Hard  PG-13   \n",
       "3  Der Baader Meinhof Komplex (The Baader Meinhof...      R   \n",
       "\n",
       "                                         Description  \\\n",
       "0  The Fast and the Furious director Rob Cohen co...   \n",
       "1  The journey of a professional wrestler who bec...   \n",
       "2  Dead pan Leslie Nielsen stars as Dick Steele, ...   \n",
       "3  Director Uli Edel teams with screenwriter Bern...   \n",
       "\n",
       "                                        cleanedDescr  \n",
       "0  The Fast and the Furious director Rob Cohen co...  \n",
       "1  The journey of professional wrestler who becom...  \n",
       "2  Dead pan Leslie Nielsen stars as Dick Steele a...  \n",
       "3  Director Uli Edel teams with screenwriter Bern...  "
      ]
     },
     "execution_count": 177,
     "metadata": {},
     "output_type": "execute_result"
    }
   ],
   "source": [
    "# Clean the movie description\n",
    "def clean_description( text_str ):\n",
    "    text = re.sub('[^a-zA-Z]',  ' ', text_str)\n",
    "    text = re.sub(r'\\s+[a-zA-Z]\\s+', ' ', text)\n",
    "    text = re.sub(r'\\s+', ' ', text)\n",
    "    return text\n",
    "\n",
    "cleaned_desc = []\n",
    "for i, description in dataset_df['Description'].iteritems():\n",
    "    cleaned_desc.append( clean_description( str(description) ) )\n",
    "\n",
    "dataset_df['cleanedDescr'] = cleaned_desc\n",
    "dataset_df.head(4)"
   ]
  },
  {
   "cell_type": "code",
   "execution_count": 178,
   "id": "atmospheric-southwest",
   "metadata": {},
   "outputs": [],
   "source": [
    "pickle.dump(dataset_df, open('./data/dataset_df_cleaned_n_sample_exceptNC17BiD.pkl', 'wb'))"
   ]
  },
  {
   "cell_type": "markdown",
   "id": "nearby-planner",
   "metadata": {},
   "source": [
    "## Data Distribution"
   ]
  },
  {
   "cell_type": "code",
   "execution_count": 181,
   "id": "respective-timer",
   "metadata": {},
   "outputs": [
    {
     "data": {
      "image/png": "[encoded data removed]",
      "text/plain": [
       "<Figure size 576x432 with 1 Axes>"
      ]
     },
     "metadata": {
      "needs_background": "light"
     },
     "output_type": "display_data"
    }
   ],
   "source": [
    "import matplotlib.pyplot as plt\n",
    "fig = plt.figure(figsize=(8,6))\n",
    "dataset_df.groupby('Rating')['cleanedDescr'].count().plot.bar(ylim=0)\n",
    "plt.show()"
   ]
  },
  {
   "cell_type": "code",
   "execution_count": 182,
   "id": "interested-quebec",
   "metadata": {},
   "outputs": [],
   "source": [
    "## drop G, NC-17\n",
    "dataset_df = dataset_df[dataset_df.Rating != 'NC17']"
   ]
  },
  {
   "cell_type": "code",
   "execution_count": 183,
   "id": "generous-malpractice",
   "metadata": {},
   "outputs": [
    {
     "data": {
      "image/png": "[encoded data removed]",
      "text/plain": [
       "<Figure size 576x432 with 1 Axes>"
      ]
     },
     "metadata": {
      "needs_background": "light"
     },
     "output_type": "display_data"
    }
   ],
   "source": [
    "fig = plt.figure(figsize=(8,6))\n",
    "dataset_df.groupby('Rating')['cleanedDescr'].count().plot.bar(ylim=0)\n",
    "plt.show()"
   ]
  },
  {
   "cell_type": "markdown",
   "id": "ignored-flood",
   "metadata": {},
   "source": [
    "## Use same amount of labels"
   ]
  },
  {
   "cell_type": "code",
   "execution_count": 184,
   "id": "noble-strap",
   "metadata": {},
   "outputs": [
    {
     "data": {
      "text/plain": [
       "(1606, 4)"
      ]
     },
     "execution_count": 184,
     "metadata": {},
     "output_type": "execute_result"
    }
   ],
   "source": [
    "PG_count = dataset_df[dataset_df.Rating == 'G'].shape\n",
    "PG_count"
   ]
  },
  {
   "cell_type": "code",
   "execution_count": 185,
   "id": "fundamental-executive",
   "metadata": {},
   "outputs": [
    {
     "data": {
      "text/html": [
       "<div>\n",
       "<style scoped>\n",
       "    .dataframe tbody tr th:only-of-type {\n",
       "        vertical-align: middle;\n",
       "    }\n",
       "\n",
       "    .dataframe tbody tr th {\n",
       "        vertical-align: top;\n",
       "    }\n",
       "\n",
       "    .dataframe thead th {\n",
       "        text-align: right;\n",
       "    }\n",
       "</style>\n",
       "<table border=\"1\" class=\"dataframe\">\n",
       "  <thead>\n",
       "    <tr style=\"text-align: right;\">\n",
       "      <th></th>\n",
       "      <th>Title</th>\n",
       "      <th>Rating</th>\n",
       "      <th>Description</th>\n",
       "      <th>cleanedDescr</th>\n",
       "    </tr>\n",
       "  </thead>\n",
       "  <tbody>\n",
       "    <tr>\n",
       "      <th>8897</th>\n",
       "      <td>El Bao del Papa (The Pope's Toilet)</td>\n",
       "      <td>NR</td>\n",
       "      <td>Uruguayan directors Csar Chalone and Enrique F...</td>\n",
       "      <td>Uruguayan directors Csar Chalone and Enrique F...</td>\n",
       "    </tr>\n",
       "    <tr>\n",
       "      <th>18451</th>\n",
       "      <td>The Two of Us (Le vieil homme et l'enfant)</td>\n",
       "      <td>R</td>\n",
       "      <td>Having been forced into minor parts for severa...</td>\n",
       "      <td>Having been forced into minor parts for severa...</td>\n",
       "    </tr>\n",
       "    <tr>\n",
       "      <th>26788</th>\n",
       "      <td>Killing Me Softly</td>\n",
       "      <td>R</td>\n",
       "      <td>The director of such highly regarded films as ...</td>\n",
       "      <td>The director of such highly regarded films as ...</td>\n",
       "    </tr>\n",
       "    <tr>\n",
       "      <th>26499</th>\n",
       "      <td>Vertige (High Lane)</td>\n",
       "      <td>NR</td>\n",
       "      <td>Gallic helmer Abel Ferry (not to be confused w...</td>\n",
       "      <td>Gallic helmer Abel Ferry not to be confused wi...</td>\n",
       "    </tr>\n",
       "    <tr>\n",
       "      <th>13991</th>\n",
       "      <td>45 Years</td>\n",
       "      <td>R</td>\n",
       "      <td>There is just one week until Kate Mercer's for...</td>\n",
       "      <td>There is just one week until Kate Mercer forty...</td>\n",
       "    </tr>\n",
       "    <tr>\n",
       "      <th>...</th>\n",
       "      <td>...</td>\n",
       "      <td>...</td>\n",
       "      <td>...</td>\n",
       "      <td>...</td>\n",
       "    </tr>\n",
       "    <tr>\n",
       "      <th>18217</th>\n",
       "      <td>Mr. Skeffington</td>\n",
       "      <td>G</td>\n",
       "      <td>Whose face ravaged, grotesque is in the mirror...</td>\n",
       "      <td>Whose face ravaged grotesque is in the mirror ...</td>\n",
       "    </tr>\n",
       "    <tr>\n",
       "      <th>2038</th>\n",
       "      <td>Rockers</td>\n",
       "      <td>G</td>\n",
       "      <td>In this film, Larry \"Horsemouth\" Walker, who h...</td>\n",
       "      <td>In this film Larry Horsemouth Walker who has b...</td>\n",
       "    </tr>\n",
       "    <tr>\n",
       "      <th>1348</th>\n",
       "      <td>Yellow Submarine</td>\n",
       "      <td>G</td>\n",
       "      <td>Yellow Submarine is an animated meandering jou...</td>\n",
       "      <td>Yellow Submarine is an animated meandering jou...</td>\n",
       "    </tr>\n",
       "    <tr>\n",
       "      <th>28296</th>\n",
       "      <td>Pete's Dragon</td>\n",
       "      <td>G</td>\n",
       "      <td>Based on a story by Hollywood old-timers Seton...</td>\n",
       "      <td>Based on story by Hollywood old timers Seton M...</td>\n",
       "    </tr>\n",
       "    <tr>\n",
       "      <th>23059</th>\n",
       "      <td>Hannah Montana: The Movie</td>\n",
       "      <td>G</td>\n",
       "      <td>Miley Stewart struggles to juggle school, frie...</td>\n",
       "      <td>Miley Stewart struggles to juggle school frien...</td>\n",
       "    </tr>\n",
       "  </tbody>\n",
       "</table>\n",
       "<p>8030 rows × 4 columns</p>\n",
       "</div>"
      ],
      "text/plain": [
       "                                            Title Rating  \\\n",
       "8897          El Bao del Papa (The Pope's Toilet)     NR   \n",
       "18451  The Two of Us (Le vieil homme et l'enfant)      R   \n",
       "26788                           Killing Me Softly      R   \n",
       "26499                         Vertige (High Lane)     NR   \n",
       "13991                                    45 Years      R   \n",
       "...                                           ...    ...   \n",
       "18217                             Mr. Skeffington      G   \n",
       "2038                                      Rockers      G   \n",
       "1348                             Yellow Submarine      G   \n",
       "28296                               Pete's Dragon      G   \n",
       "23059                   Hannah Montana: The Movie      G   \n",
       "\n",
       "                                             Description  \\\n",
       "8897   Uruguayan directors Csar Chalone and Enrique F...   \n",
       "18451  Having been forced into minor parts for severa...   \n",
       "26788  The director of such highly regarded films as ...   \n",
       "26499  Gallic helmer Abel Ferry (not to be confused w...   \n",
       "13991  There is just one week until Kate Mercer's for...   \n",
       "...                                                  ...   \n",
       "18217  Whose face ravaged, grotesque is in the mirror...   \n",
       "2038   In this film, Larry \"Horsemouth\" Walker, who h...   \n",
       "1348   Yellow Submarine is an animated meandering jou...   \n",
       "28296  Based on a story by Hollywood old-timers Seton...   \n",
       "23059  Miley Stewart struggles to juggle school, frie...   \n",
       "\n",
       "                                            cleanedDescr  \n",
       "8897   Uruguayan directors Csar Chalone and Enrique F...  \n",
       "18451  Having been forced into minor parts for severa...  \n",
       "26788  The director of such highly regarded films as ...  \n",
       "26499  Gallic helmer Abel Ferry not to be confused wi...  \n",
       "13991  There is just one week until Kate Mercer forty...  \n",
       "...                                                  ...  \n",
       "18217  Whose face ravaged grotesque is in the mirror ...  \n",
       "2038   In this film Larry Horsemouth Walker who has b...  \n",
       "1348   Yellow Submarine is an animated meandering jou...  \n",
       "28296  Based on story by Hollywood old timers Seton M...  \n",
       "23059  Miley Stewart struggles to juggle school frien...  \n",
       "\n",
       "[8030 rows x 4 columns]"
      ]
     },
     "execution_count": 185,
     "metadata": {},
     "output_type": "execute_result"
    }
   ],
   "source": [
    "dataset_df = dataset_df.sample(frac=1).groupby('Rating').head(1606)\n",
    "dataset_df"
   ]
  },
  {
   "cell_type": "code",
   "execution_count": 186,
   "id": "continuous-queue",
   "metadata": {},
   "outputs": [
    {
     "data": {
      "image/png": "[encoded data removed]",
      "text/plain": [
       "<Figure size 576x432 with 1 Axes>"
      ]
     },
     "metadata": {
      "needs_background": "light"
     },
     "output_type": "display_data"
    }
   ],
   "source": [
    "fig = plt.figure(figsize=(8,6))\n",
    "dataset_df.groupby('Rating')['cleanedDescr'].count().plot.bar(ylim=0)\n",
    "plt.show()"
   ]
  },
  {
   "cell_type": "markdown",
   "id": "posted-entrance",
   "metadata": {},
   "source": [
    "## Training model"
   ]
  },
  {
   "cell_type": "code",
   "execution_count": 187,
   "id": "configured-skiing",
   "metadata": {},
   "outputs": [],
   "source": [
    "training_df = pickle.load( open('./data/dataset_df_cleaned_n_sample_exceptNC17BiD.pkl', 'rb') )"
   ]
  },
  {
   "cell_type": "code",
   "execution_count": 188,
   "id": "fresh-mechanism",
   "metadata": {},
   "outputs": [],
   "source": [
    "from sklearn.model_selection import train_test_split\n",
    "from sklearn.preprocessing import LabelEncoder\n",
    "from keras.preprocessing.text import one_hot, Tokenizer\n",
    "from keras.preprocessing.sequence import pad_sequences\n",
    "from keras.utils import to_categorical\n",
    "from keras.models import Sequential, load_model\n",
    "from keras.layers import Dense, Flatten, LSTM, Embedding, GlobalMaxPooling1D, Bidirectional"
   ]
  },
  {
   "cell_type": "code",
   "execution_count": 134,
   "id": "interesting-device",
   "metadata": {},
   "outputs": [
    {
     "data": {
      "text/plain": [
       "array([4, 4, 4, ..., 5, 4, 4])"
      ]
     },
     "execution_count": 134,
     "metadata": {},
     "output_type": "execute_result"
    }
   ],
   "source": [
    "_y = training_df['Rating']\n",
    "encoder = LabelEncoder()\n",
    "Y = encoder.fit_transform(_y)\n",
    "Y"
   ]
  },
  {
   "cell_type": "code",
   "execution_count": 189,
   "id": "focused-evidence",
   "metadata": {},
   "outputs": [
    {
     "data": {
      "text/plain": [
       "0        The Fast and the Furious director Rob Cohen co...\n",
       "1        The journey of professional wrestler who becom...\n",
       "2        Dead pan Leslie Nielsen stars as Dick Steele a...\n",
       "3        Director Uli Edel teams with screenwriter Bern...\n",
       "4        One of cluster of late films about the Vietnam...\n",
       "                               ...                        \n",
       "29805    Filmed at least nine times over the last nine ...\n",
       "29806    Fred MacMurray stars in this Walt Disney comed...\n",
       "29807    A resident of rd century Earth becomes involve...\n",
       "29808    Supernova chronicles the search and rescue pat...\n",
       "29809    For years there have been documented cases of ...\n",
       "Name: cleanedDescr, Length: 29810, dtype: object"
      ]
     },
     "execution_count": 189,
     "metadata": {},
     "output_type": "execute_result"
    }
   ],
   "source": [
    "X = training_df['cleanedDescr']\n",
    "X"
   ]
  },
  {
   "cell_type": "code",
   "execution_count": 191,
   "id": "fa248074",
   "metadata": {},
   "outputs": [
    {
     "data": {
      "text/plain": [
       "729.3683998658169"
      ]
     },
     "execution_count": 191,
     "metadata": {},
     "output_type": "execute_result"
    }
   ],
   "source": [
    "description_lengths = []\n",
    "for i, description in training_df['cleanedDescr'].iteritems():\n",
    "    description_lengths.append( len(description) )\n",
    "max_description_length = np.mean( description_lengths )\n",
    "max_description_length"
   ]
  },
  {
   "cell_type": "markdown",
   "id": "changing-internship",
   "metadata": {},
   "source": [
    "## Train, test split"
   ]
  },
  {
   "cell_type": "code",
   "execution_count": 192,
   "id": "universal-split",
   "metadata": {},
   "outputs": [],
   "source": [
    "X_train, X_test, Y_train, Y_test = train_test_split( X, Y, test_size=0.3, random_state=40 )"
   ]
  },
  {
   "cell_type": "code",
   "execution_count": 193,
   "id": "animal-mount",
   "metadata": {},
   "outputs": [],
   "source": [
    "Y_train = to_categorical(Y_train)\n",
    "Y_test  = to_categorical(Y_test)"
   ]
  },
  {
   "cell_type": "code",
   "execution_count": 194,
   "id": "charming-sydney",
   "metadata": {},
   "outputs": [],
   "source": [
    "tokenizer = Tokenizer(num_words=10000)\n",
    "tokenizer.fit_on_texts(X_train)"
   ]
  },
  {
   "cell_type": "code",
   "execution_count": 195,
   "id": "reported-hayes",
   "metadata": {},
   "outputs": [],
   "source": [
    "X_train = tokenizer.texts_to_sequences(X_train)\n",
    "X_test  = tokenizer.texts_to_sequences(X_test)"
   ]
  },
  {
   "cell_type": "code",
   "execution_count": 196,
   "id": "b8f1beb9",
   "metadata": {},
   "outputs": [
    {
     "data": {
      "text/plain": [
       "56359"
      ]
     },
     "execution_count": 196,
     "metadata": {},
     "output_type": "execute_result"
    }
   ],
   "source": [
    "vocabulary_size = len(tokenizer.word_index) + 1\n",
    "vocabulary_size"
   ]
  },
  {
   "cell_type": "code",
   "execution_count": 197,
   "id": "expected-hunter",
   "metadata": {},
   "outputs": [],
   "source": [
    "max_description_length = 400\n",
    "maxlen =  400 # Only concider first 400 words of each description\n",
    "\n",
    "X_train = pad_sequences( X_train, maxlen=maxlen )\n",
    "X_test  = pad_sequences( X_test, maxlen=maxlen )"
   ]
  },
  {
   "cell_type": "markdown",
   "id": "ruled-memphis",
   "metadata": {},
   "source": [
    "## Use GloVe : Global Vectors for Word Representation\n",
    "https://nlp.stanford.edu/projects/glove/\n",
    "\n",
    "GloVe is an unsupervised learning algorithm for obtaining vector representations for words. Training is performed on aggregated global word-word co-occurrence statistics from a corpus, and the resulting representations showcase interesting linear substructures of the word vector space. "
   ]
  },
  {
   "cell_type": "code",
   "execution_count": 198,
   "id": "chronic-perception",
   "metadata": {},
   "outputs": [],
   "source": [
    "glove_file = open('./glove.6B/glove.6B.100d.txt', encoding='utf8')"
   ]
  },
  {
   "cell_type": "code",
   "execution_count": 199,
   "id": "polished-oxford",
   "metadata": {},
   "outputs": [],
   "source": [
    "embedd_dictionary = dict()\n",
    "for line in glove_file:\n",
    "    records = line.split()\n",
    "    word = records[0]\n",
    "    vector_dims = np.asarray(records[1:], dtype='float32')\n",
    "    embedd_dictionary[word] = vector_dims\n",
    "\n",
    "glove_file.close()"
   ]
  },
  {
   "cell_type": "code",
   "execution_count": 200,
   "id": "random-anxiety",
   "metadata": {},
   "outputs": [
    {
     "data": {
      "text/plain": [
       "100"
      ]
     },
     "execution_count": 200,
     "metadata": {},
     "output_type": "execute_result"
    }
   ],
   "source": [
    "embedd_matrix = np.zeros((vocabulary_size, 100))\n",
    "for word, index in tokenizer.word_index.items():\n",
    "    embedd_vector = embedd_dictionary.get(word)\n",
    "    if embedd_vector is not None:\n",
    "        embedd_matrix[index] = embedd_vector\n",
    "        \n",
    "output_dim = embedd_matrix.shape[1]\n",
    "output_dim"
   ]
  },
  {
   "cell_type": "markdown",
   "id": "posted-disney",
   "metadata": {},
   "source": [
    "## Build the NN Model"
   ]
  },
  {
   "cell_type": "code",
   "execution_count": 210,
   "id": "exempt-likelihood",
   "metadata": {
    "scrolled": false
   },
   "outputs": [
    {
     "name": "stdout",
     "output_type": "stream",
     "text": [
      "Model: \"sequential_17\"\n",
      "_________________________________________________________________\n",
      "Layer (type)                 Output Shape              Param #   \n",
      "=================================================================\n",
      "embedding_17 (Embedding)     (None, None, 100)         5635900   \n",
      "_________________________________________________________________\n",
      "bidirectional_4 (Bidirection (None, 512)               731136    \n",
      "_________________________________________________________________\n",
      "dense_31 (Dense)             (None, 6)                 3078      \n",
      "=================================================================\n",
      "Total params: 6,370,114\n",
      "Trainable params: 734,214\n",
      "Non-trainable params: 5,635,900\n",
      "_________________________________________________________________\n"
     ]
    }
   ],
   "source": [
    "model = Sequential()\n",
    "model.add(Embedding(input_dim=vocabulary_size, output_dim=output_dim, weights=[embedd_matrix], trainable=False))\n",
    "model.add( Bidirectional(LSTM(units=256, dropout=0.4, recurrent_dropout=0)) )\n",
    "#model.add(LSTM(units=128, dropout=0.2, recurrent_dropout=0) )\n",
    "#model.add(Dense(64, activation='softmax'))\n",
    "model.add(Dense(6, activation='softmax'))\n",
    "model.compile(loss='categorical_crossentropy', optimizer='adam', metrics=['accuracy'])\n",
    "model.summary()"
   ]
  },
  {
   "cell_type": "code",
   "execution_count": 211,
   "id": "9233c207",
   "metadata": {},
   "outputs": [],
   "source": [
    "import keras\n",
    "callback = [\n",
    "    #keras.callbacks.EarlyStopping(patience=2),\n",
    "    keras.callbacks.ModelCheckpoint(filepath='./data/checkpoint/model.{epoch:02d}-{val_loss:.2f}.h5'),\n",
    "    keras.callbacks.TensorBoard(log_dir='.data/tf/logs'),\n",
    "]"
   ]
  },
  {
   "cell_type": "code",
   "execution_count": 212,
   "id": "imposed-french",
   "metadata": {},
   "outputs": [
    {
     "name": "stdout",
     "output_type": "stream",
     "text": [
      "Epoch 1/100\n",
      "131/131 [==============================] - 15s 98ms/step - loss: 1.4883 - accuracy: 0.3639 - val_loss: 1.4094 - val_accuracy: 0.3999\n",
      "Epoch 2/100\n",
      "131/131 [==============================] - 12s 90ms/step - loss: 1.3999 - accuracy: 0.4041 - val_loss: 1.4011 - val_accuracy: 0.3991\n",
      "Epoch 3/100\n",
      "131/131 [==============================] - 12s 91ms/step - loss: 1.3911 - accuracy: 0.4179 - val_loss: 1.3130 - val_accuracy: 0.4363\n",
      "Epoch 4/100\n",
      "131/131 [==============================] - 12s 92ms/step - loss: 1.2924 - accuracy: 0.4561 - val_loss: 1.2461 - val_accuracy: 0.4835\n",
      "Epoch 5/100\n",
      "131/131 [==============================] - 12s 92ms/step - loss: 1.2617 - accuracy: 0.4764 - val_loss: 1.2649 - val_accuracy: 0.4681\n",
      "Epoch 6/100\n",
      "131/131 [==============================] - 12s 93ms/step - loss: 1.2249 - accuracy: 0.4952 - val_loss: 1.1952 - val_accuracy: 0.4962\n",
      "Epoch 7/100\n",
      "131/131 [==============================] - 12s 94ms/step - loss: 1.1881 - accuracy: 0.5104 - val_loss: 1.1675 - val_accuracy: 0.5086\n",
      "Epoch 8/100\n",
      "131/131 [==============================] - 12s 94ms/step - loss: 1.1704 - accuracy: 0.5191 - val_loss: 1.1708 - val_accuracy: 0.5156\n",
      "Epoch 9/100\n",
      "131/131 [==============================] - 12s 94ms/step - loss: 1.1298 - accuracy: 0.5346 - val_loss: 1.1268 - val_accuracy: 0.5261\n",
      "Epoch 10/100\n",
      "131/131 [==============================] - 12s 94ms/step - loss: 1.0897 - accuracy: 0.5564 - val_loss: 1.0990 - val_accuracy: 0.5422\n",
      "Epoch 11/100\n",
      "131/131 [==============================] - 12s 94ms/step - loss: 1.0484 - accuracy: 0.5780 - val_loss: 1.0851 - val_accuracy: 0.5597\n",
      "Epoch 12/100\n",
      "131/131 [==============================] - 12s 94ms/step - loss: 1.0001 - accuracy: 0.6005 - val_loss: 1.0329 - val_accuracy: 0.5851\n",
      "Epoch 13/100\n",
      "131/131 [==============================] - 12s 94ms/step - loss: 0.9500 - accuracy: 0.6218 - val_loss: 1.0482 - val_accuracy: 0.5793\n",
      "Epoch 14/100\n",
      "131/131 [==============================] - 12s 94ms/step - loss: 0.8969 - accuracy: 0.6486 - val_loss: 1.0090 - val_accuracy: 0.5937\n",
      "Epoch 15/100\n",
      "131/131 [==============================] - 12s 95ms/step - loss: 0.8622 - accuracy: 0.6578 - val_loss: 0.9750 - val_accuracy: 0.6246\n",
      "Epoch 16/100\n",
      "131/131 [==============================] - 12s 95ms/step - loss: 0.8179 - accuracy: 0.6855 - val_loss: 0.9722 - val_accuracy: 0.6289\n",
      "Epoch 17/100\n",
      "131/131 [==============================] - 12s 95ms/step - loss: 0.7539 - accuracy: 0.7156 - val_loss: 0.9342 - val_accuracy: 0.6402\n",
      "Epoch 18/100\n",
      "131/131 [==============================] - 12s 95ms/step - loss: 0.7155 - accuracy: 0.7278 - val_loss: 0.9135 - val_accuracy: 0.6634\n",
      "Epoch 19/100\n",
      "131/131 [==============================] - 12s 95ms/step - loss: 0.6625 - accuracy: 0.7481 - val_loss: 0.8854 - val_accuracy: 0.6862\n",
      "Epoch 20/100\n",
      "131/131 [==============================] - 12s 95ms/step - loss: 0.6293 - accuracy: 0.7685 - val_loss: 0.9004 - val_accuracy: 0.6897\n",
      "Epoch 21/100\n",
      "131/131 [==============================] - 12s 96ms/step - loss: 0.5855 - accuracy: 0.7843 - val_loss: 0.8552 - val_accuracy: 0.6991\n",
      "Epoch 22/100\n",
      "131/131 [==============================] - 12s 95ms/step - loss: 0.5346 - accuracy: 0.8054 - val_loss: 0.8674 - val_accuracy: 0.7056\n",
      "Epoch 23/100\n",
      "131/131 [==============================] - 12s 95ms/step - loss: 0.4981 - accuracy: 0.8178 - val_loss: 0.8573 - val_accuracy: 0.7082\n",
      "Epoch 24/100\n",
      "131/131 [==============================] - 12s 95ms/step - loss: 0.4798 - accuracy: 0.8220 - val_loss: 0.8448 - val_accuracy: 0.7226\n",
      "Epoch 25/100\n",
      "131/131 [==============================] - 12s 95ms/step - loss: 0.4591 - accuracy: 0.8377 - val_loss: 0.8406 - val_accuracy: 0.7305\n",
      "Epoch 26/100\n",
      "131/131 [==============================] - 12s 95ms/step - loss: 0.4263 - accuracy: 0.8475 - val_loss: 0.8626 - val_accuracy: 0.7348\n",
      "Epoch 27/100\n",
      "131/131 [==============================] - 12s 95ms/step - loss: 0.3998 - accuracy: 0.8552 - val_loss: 0.8598 - val_accuracy: 0.7353\n",
      "Epoch 28/100\n",
      "131/131 [==============================] - 12s 95ms/step - loss: 0.3819 - accuracy: 0.8630 - val_loss: 0.8566 - val_accuracy: 0.7468\n",
      "Epoch 29/100\n",
      "131/131 [==============================] - 12s 95ms/step - loss: 0.3601 - accuracy: 0.8720 - val_loss: 0.8681 - val_accuracy: 0.7448\n",
      "Epoch 30/100\n",
      "131/131 [==============================] - 12s 95ms/step - loss: 0.3373 - accuracy: 0.8809 - val_loss: 0.8597 - val_accuracy: 0.7544\n",
      "Epoch 31/100\n",
      "131/131 [==============================] - 12s 95ms/step - loss: 0.3237 - accuracy: 0.8875 - val_loss: 0.8793 - val_accuracy: 0.7516\n",
      "Epoch 32/100\n",
      "131/131 [==============================] - 12s 95ms/step - loss: 0.3096 - accuracy: 0.8901 - val_loss: 0.8927 - val_accuracy: 0.7575\n",
      "Epoch 33/100\n",
      "131/131 [==============================] - 12s 95ms/step - loss: 0.2944 - accuracy: 0.8970 - val_loss: 0.8898 - val_accuracy: 0.7611\n",
      "Epoch 34/100\n",
      "131/131 [==============================] - 12s 95ms/step - loss: 0.2769 - accuracy: 0.9023 - val_loss: 0.9045 - val_accuracy: 0.7506\n",
      "Epoch 35/100\n",
      "131/131 [==============================] - 13s 96ms/step - loss: 0.2629 - accuracy: 0.9082 - val_loss: 0.9324 - val_accuracy: 0.7547\n",
      "Epoch 36/100\n",
      "131/131 [==============================] - 12s 95ms/step - loss: 0.2575 - accuracy: 0.9111 - val_loss: 0.9128 - val_accuracy: 0.7583\n",
      "Epoch 37/100\n",
      "131/131 [==============================] - 12s 95ms/step - loss: 0.2517 - accuracy: 0.9114 - val_loss: 0.9560 - val_accuracy: 0.7604\n",
      "Epoch 38/100\n",
      "131/131 [==============================] - 13s 96ms/step - loss: 0.2450 - accuracy: 0.9141 - val_loss: 0.9501 - val_accuracy: 0.7566\n",
      "Epoch 39/100\n",
      "131/131 [==============================] - 13s 96ms/step - loss: 0.2328 - accuracy: 0.9197 - val_loss: 0.9181 - val_accuracy: 0.7640\n",
      "Epoch 40/100\n",
      "131/131 [==============================] - 13s 96ms/step - loss: 0.2201 - accuracy: 0.9224 - val_loss: 0.9521 - val_accuracy: 0.7631\n",
      "Epoch 41/100\n",
      "131/131 [==============================] - 12s 95ms/step - loss: 0.2163 - accuracy: 0.9252 - val_loss: 0.9410 - val_accuracy: 0.7619\n",
      "Epoch 42/100\n",
      "131/131 [==============================] - 12s 95ms/step - loss: 0.1959 - accuracy: 0.9315 - val_loss: 0.9925 - val_accuracy: 0.7559\n",
      "Epoch 43/100\n",
      "131/131 [==============================] - 12s 95ms/step - loss: 0.1865 - accuracy: 0.9336 - val_loss: 0.9780 - val_accuracy: 0.7626\n",
      "Epoch 44/100\n",
      "131/131 [==============================] - 12s 95ms/step - loss: 0.2051 - accuracy: 0.9287 - val_loss: 1.0096 - val_accuracy: 0.7667\n",
      "Epoch 45/100\n",
      "131/131 [==============================] - 12s 95ms/step - loss: 0.1859 - accuracy: 0.9348 - val_loss: 1.0129 - val_accuracy: 0.7599\n",
      "Epoch 46/100\n",
      "131/131 [==============================] - 12s 95ms/step - loss: 0.1775 - accuracy: 0.9385 - val_loss: 1.0295 - val_accuracy: 0.7626\n",
      "Epoch 47/100\n",
      "131/131 [==============================] - 12s 95ms/step - loss: 0.1638 - accuracy: 0.9446 - val_loss: 1.0210 - val_accuracy: 0.7631\n",
      "Epoch 48/100\n",
      "131/131 [==============================] - 12s 95ms/step - loss: 0.1733 - accuracy: 0.9411 - val_loss: 1.0515 - val_accuracy: 0.7631\n",
      "Epoch 49/100\n",
      "131/131 [==============================] - 12s 95ms/step - loss: 0.1725 - accuracy: 0.9405 - val_loss: 1.0361 - val_accuracy: 0.7556\n",
      "Epoch 50/100\n",
      "131/131 [==============================] - 12s 95ms/step - loss: 0.1598 - accuracy: 0.9458 - val_loss: 1.0448 - val_accuracy: 0.7686\n",
      "Epoch 51/100\n",
      "131/131 [==============================] - 12s 94ms/step - loss: 0.1535 - accuracy: 0.9475 - val_loss: 1.0479 - val_accuracy: 0.7710\n",
      "Epoch 52/100\n",
      "131/131 [==============================] - 12s 95ms/step - loss: 0.1479 - accuracy: 0.9498 - val_loss: 1.0347 - val_accuracy: 0.7616\n",
      "Epoch 53/100\n",
      "131/131 [==============================] - 12s 95ms/step - loss: 0.1617 - accuracy: 0.9428 - val_loss: 1.0387 - val_accuracy: 0.7640\n",
      "Epoch 54/100\n",
      "131/131 [==============================] - 12s 95ms/step - loss: 0.1300 - accuracy: 0.9565 - val_loss: 1.0565 - val_accuracy: 0.7664\n",
      "Epoch 55/100\n",
      "131/131 [==============================] - 12s 95ms/step - loss: 0.1502 - accuracy: 0.9466 - val_loss: 1.0927 - val_accuracy: 0.7686\n",
      "Epoch 56/100\n",
      "131/131 [==============================] - 12s 95ms/step - loss: 0.1493 - accuracy: 0.9466 - val_loss: 1.0870 - val_accuracy: 0.7626\n",
      "Epoch 57/100\n"
     ]
    },
    {
     "name": "stdout",
     "output_type": "stream",
     "text": [
      "131/131 [==============================] - 12s 91ms/step - loss: 0.1321 - accuracy: 0.9556 - val_loss: 1.0815 - val_accuracy: 0.7676\n",
      "Epoch 58/100\n",
      "131/131 [==============================] - 12s 91ms/step - loss: 0.1397 - accuracy: 0.9510 - val_loss: 1.0784 - val_accuracy: 0.7583\n",
      "Epoch 59/100\n",
      "131/131 [==============================] - 12s 91ms/step - loss: 0.1315 - accuracy: 0.9544 - val_loss: 1.0985 - val_accuracy: 0.7659\n",
      "Epoch 60/100\n",
      "131/131 [==============================] - 12s 94ms/step - loss: 0.1392 - accuracy: 0.9535 - val_loss: 1.0784 - val_accuracy: 0.7604\n",
      "Epoch 61/100\n",
      "131/131 [==============================] - 12s 94ms/step - loss: 0.1352 - accuracy: 0.9532 - val_loss: 1.1388 - val_accuracy: 0.7611\n",
      "Epoch 62/100\n",
      "131/131 [==============================] - 12s 94ms/step - loss: 0.1515 - accuracy: 0.9460 - val_loss: 1.1183 - val_accuracy: 0.7643\n",
      "Epoch 63/100\n",
      "131/131 [==============================] - 13s 96ms/step - loss: 0.1259 - accuracy: 0.9573 - val_loss: 1.1489 - val_accuracy: 0.7659\n",
      "Epoch 64/100\n",
      "131/131 [==============================] - 13s 96ms/step - loss: 0.1264 - accuracy: 0.9558 - val_loss: 1.1731 - val_accuracy: 0.7633\n",
      "Epoch 65/100\n",
      "131/131 [==============================] - 13s 96ms/step - loss: 0.1237 - accuracy: 0.9554 - val_loss: 1.1527 - val_accuracy: 0.7655\n",
      "Epoch 66/100\n",
      "131/131 [==============================] - 12s 95ms/step - loss: 0.1158 - accuracy: 0.9608 - val_loss: 1.1649 - val_accuracy: 0.7736\n",
      "Epoch 67/100\n",
      "131/131 [==============================] - 12s 95ms/step - loss: 0.1213 - accuracy: 0.9557 - val_loss: 1.1627 - val_accuracy: 0.7643\n",
      "Epoch 68/100\n",
      "131/131 [==============================] - 12s 95ms/step - loss: 0.1180 - accuracy: 0.9571 - val_loss: 1.1961 - val_accuracy: 0.7585\n",
      "Epoch 69/100\n",
      "131/131 [==============================] - 12s 95ms/step - loss: 0.1136 - accuracy: 0.9586 - val_loss: 1.1723 - val_accuracy: 0.7599\n",
      "Epoch 70/100\n",
      "131/131 [==============================] - 12s 95ms/step - loss: 0.1087 - accuracy: 0.9622 - val_loss: 1.2086 - val_accuracy: 0.7671\n",
      "Epoch 71/100\n",
      "131/131 [==============================] - 12s 95ms/step - loss: 0.1098 - accuracy: 0.9632 - val_loss: 1.1874 - val_accuracy: 0.7643\n",
      "Epoch 72/100\n",
      "131/131 [==============================] - 12s 95ms/step - loss: 0.1107 - accuracy: 0.9627 - val_loss: 1.1591 - val_accuracy: 0.7621\n",
      "Epoch 73/100\n",
      "131/131 [==============================] - 12s 95ms/step - loss: 0.1025 - accuracy: 0.9634 - val_loss: 1.1886 - val_accuracy: 0.7647\n",
      "Epoch 74/100\n",
      "131/131 [==============================] - 12s 95ms/step - loss: 0.0982 - accuracy: 0.9656 - val_loss: 1.1941 - val_accuracy: 0.7683\n",
      "Epoch 75/100\n",
      "131/131 [==============================] - 12s 95ms/step - loss: 0.1104 - accuracy: 0.9613 - val_loss: 1.1898 - val_accuracy: 0.7599\n",
      "Epoch 76/100\n",
      "131/131 [==============================] - 12s 95ms/step - loss: 0.1138 - accuracy: 0.9616 - val_loss: 1.1791 - val_accuracy: 0.7705\n",
      "Epoch 77/100\n",
      "131/131 [==============================] - 12s 95ms/step - loss: 0.0958 - accuracy: 0.9677 - val_loss: 1.1581 - val_accuracy: 0.7655\n",
      "Epoch 78/100\n",
      "131/131 [==============================] - 12s 95ms/step - loss: 0.1038 - accuracy: 0.9644 - val_loss: 1.1891 - val_accuracy: 0.7667\n",
      "Epoch 79/100\n",
      "131/131 [==============================] - 12s 95ms/step - loss: 0.0922 - accuracy: 0.9692 - val_loss: 1.2187 - val_accuracy: 0.7657\n",
      "Epoch 80/100\n",
      "131/131 [==============================] - 12s 95ms/step - loss: 0.0909 - accuracy: 0.9685 - val_loss: 1.2321 - val_accuracy: 0.7640\n",
      "Epoch 81/100\n",
      "131/131 [==============================] - 12s 95ms/step - loss: 0.0985 - accuracy: 0.9656 - val_loss: 1.2365 - val_accuracy: 0.7631\n",
      "Epoch 82/100\n",
      "131/131 [==============================] - 12s 95ms/step - loss: 0.0900 - accuracy: 0.9693 - val_loss: 1.2514 - val_accuracy: 0.7616\n",
      "Epoch 83/100\n",
      "131/131 [==============================] - 12s 95ms/step - loss: 0.0991 - accuracy: 0.9659 - val_loss: 1.2323 - val_accuracy: 0.7633\n",
      "Epoch 84/100\n",
      "131/131 [==============================] - 12s 94ms/step - loss: 0.0910 - accuracy: 0.9678 - val_loss: 1.2301 - val_accuracy: 0.7674\n",
      "Epoch 85/100\n",
      "131/131 [==============================] - 12s 95ms/step - loss: 0.0940 - accuracy: 0.9671 - val_loss: 1.2242 - val_accuracy: 0.7686\n",
      "Epoch 86/100\n",
      "131/131 [==============================] - 12s 95ms/step - loss: 0.0920 - accuracy: 0.9686 - val_loss: 1.2385 - val_accuracy: 0.7657\n",
      "Epoch 87/100\n",
      "131/131 [==============================] - 12s 95ms/step - loss: 0.0976 - accuracy: 0.9664 - val_loss: 1.1899 - val_accuracy: 0.7693\n",
      "Epoch 88/100\n",
      "131/131 [==============================] - 12s 95ms/step - loss: 0.1001 - accuracy: 0.9653 - val_loss: 1.2120 - val_accuracy: 0.7722\n",
      "Epoch 89/100\n",
      "131/131 [==============================] - 12s 95ms/step - loss: 0.0930 - accuracy: 0.9688 - val_loss: 1.2837 - val_accuracy: 0.7559\n",
      "Epoch 90/100\n",
      "131/131 [==============================] - 12s 95ms/step - loss: 0.0964 - accuracy: 0.9658 - val_loss: 1.2506 - val_accuracy: 0.7678\n",
      "Epoch 91/100\n",
      "131/131 [==============================] - 12s 95ms/step - loss: 0.0872 - accuracy: 0.9704 - val_loss: 1.2581 - val_accuracy: 0.7573\n",
      "Epoch 92/100\n",
      "131/131 [==============================] - 12s 95ms/step - loss: 0.0874 - accuracy: 0.9701 - val_loss: 1.2545 - val_accuracy: 0.7611\n",
      "Epoch 93/100\n",
      "131/131 [==============================] - 12s 95ms/step - loss: 0.0789 - accuracy: 0.9749 - val_loss: 1.2689 - val_accuracy: 0.7563\n",
      "Epoch 94/100\n",
      "131/131 [==============================] - 12s 95ms/step - loss: 0.0928 - accuracy: 0.9678 - val_loss: 1.2748 - val_accuracy: 0.7623\n",
      "Epoch 95/100\n",
      "131/131 [==============================] - 12s 95ms/step - loss: 0.0782 - accuracy: 0.9728 - val_loss: 1.2598 - val_accuracy: 0.7578\n",
      "Epoch 96/100\n",
      "131/131 [==============================] - 12s 95ms/step - loss: 0.0870 - accuracy: 0.9695 - val_loss: 1.2791 - val_accuracy: 0.7633\n",
      "Epoch 97/100\n",
      "131/131 [==============================] - 12s 94ms/step - loss: 0.0894 - accuracy: 0.9699 - val_loss: 1.3279 - val_accuracy: 0.7619\n",
      "Epoch 98/100\n",
      "131/131 [==============================] - 12s 95ms/step - loss: 0.0778 - accuracy: 0.9744 - val_loss: 1.3067 - val_accuracy: 0.7638\n",
      "Epoch 99/100\n",
      "131/131 [==============================] - 12s 95ms/step - loss: 0.0786 - accuracy: 0.9716 - val_loss: 1.3118 - val_accuracy: 0.7559\n",
      "Epoch 100/100\n",
      "131/131 [==============================] - 12s 95ms/step - loss: 0.0824 - accuracy: 0.9704 - val_loss: 1.2904 - val_accuracy: 0.7587\n"
     ]
    }
   ],
   "source": [
    "hist = model.fit(X_train, Y_train, batch_size=128, epochs=100, validation_split=0.20, verbose=1, callbacks=callback)"
   ]
  },
  {
   "cell_type": "code",
   "execution_count": 213,
   "id": "commercial-imperial",
   "metadata": {},
   "outputs": [
    {
     "name": "stdout",
     "output_type": "stream",
     "text": [
      "280/280 [==============================] - 6s 22ms/step - loss: 1.2483 - accuracy: 0.7585\n",
      "loss:  1.248302936553955\n",
      "accuracy:  0.7584702968597412\n"
     ]
    }
   ],
   "source": [
    "loss, acc = model.evaluate(X_test, Y_test, verbose=1)\n",
    "print('loss: ', loss)\n",
    "print('accuracy: ', acc)"
   ]
  },
  {
   "cell_type": "markdown",
   "id": "animated-thunder",
   "metadata": {},
   "source": [
    "## Save model and tokenizer"
   ]
  },
  {
   "cell_type": "code",
   "execution_count": 214,
   "id": "beginning-forward",
   "metadata": {},
   "outputs": [],
   "source": [
    "# save model\n",
    "model.save('./data/mpaa_classifier_n_sample_exceptNC17BiD.h5')\n",
    "\n",
    "# save word tokenizer\n",
    "pickle.dump(tokenizer, open('./data/tokenizer_n_sample_exceptNC17BiD.pkl', 'wb'))"
   ]
  },
  {
   "cell_type": "markdown",
   "id": "worth-sweden",
   "metadata": {},
   "source": [
    "## Metrics"
   ]
  },
  {
   "cell_type": "code",
   "execution_count": 215,
   "id": "valuable-slovenia",
   "metadata": {},
   "outputs": [
    {
     "data": {
      "image/png": "[encoded data removed]",
      "text/plain": [
       "<Figure size 432x288 with 1 Axes>"
      ]
     },
     "metadata": {
      "needs_background": "light"
     },
     "output_type": "display_data"
    }
   ],
   "source": [
    "plt.plot(hist.history['accuracy'])\n",
    "plt.plot(hist.history['val_accuracy'])\n",
    "plt.title('Model Accuracy')\n",
    "plt.ylabel('Accuracy')\n",
    "plt.xlabel('# Epochs')\n",
    "plt.legend(['train', 'test'])\n",
    "plt.show()"
   ]
  },
  {
   "cell_type": "code",
   "execution_count": 216,
   "id": "interior-pharmacy",
   "metadata": {},
   "outputs": [
    {
     "data": {
      "image/png": "[encoded data removed]",
      "text/plain": [
       "<Figure size 432x288 with 1 Axes>"
      ]
     },
     "metadata": {
      "needs_background": "light"
     },
     "output_type": "display_data"
    }
   ],
   "source": [
    "plt.plot(hist.history['loss'])\n",
    "plt.plot(hist.history['val_loss'])\n",
    "plt.title('Model Loss')\n",
    "plt.ylabel('Loss')\n",
    "plt.xlabel('# Epochs')\n",
    "plt.legend(['train', 'test'])\n",
    "plt.show()"
   ]
  },
  {
   "cell_type": "markdown",
   "id": "e7ee9727",
   "metadata": {},
   "source": [
    "## Model Architecture"
   ]
  },
  {
   "cell_type": "code",
   "execution_count": null,
   "id": "b9946c57",
   "metadata": {},
   "outputs": [],
   "source": [
    "# load the saved model\n",
    "from keras.models import load_model\n",
    "model = load_model(\"./data/mpaa_classifier_n_sample_exceptNC17BiD.h5\")"
   ]
  },
  {
   "cell_type": "code",
   "execution_count": null,
   "id": "f60e5f50",
   "metadata": {},
   "outputs": [],
   "source": [
    "from keras.utils.vis_utils import plot_model\n",
    "plot_model(model, to_file='model_plot.png', show_shapes=True, show_layer_names=True)"
   ]
  },
  {
   "cell_type": "markdown",
   "id": "5ad98a98",
   "metadata": {},
   "source": [
    "## Demonstration"
   ]
  },
  {
   "cell_type": "code",
   "execution_count": null,
   "id": "f8d44c16",
   "metadata": {},
   "outputs": [],
   "source": []
  },
  {
   "cell_type": "code",
   "execution_count": null,
   "id": "e3812894",
   "metadata": {},
   "outputs": [],
   "source": []
  }
 ],
 "metadata": {
  "kernelspec": {
   "display_name": "Python 3",
   "language": "python",
   "name": "python3"
  },
  "language_info": {
   "codemirror_mode": {
    "name": "ipython",
    "version": 3
   },
   "file_extension": ".py",
   "mimetype": "text/x-python",
   "name": "python",
   "nbconvert_exporter": "python",
   "pygments_lexer": "ipython3",
   "version": "3.9.2"
  }
 },
 "nbformat": 4,
 "nbformat_minor": 5
}
