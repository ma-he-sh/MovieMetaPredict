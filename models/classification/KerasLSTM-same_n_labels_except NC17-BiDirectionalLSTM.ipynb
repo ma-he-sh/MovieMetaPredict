{
 "cells": [
  {
   "cell_type": "markdown",
   "id": "recognized-television",
   "metadata": {},
   "source": [
    "## MPAA rating prediction"
   ]
  },
  {
   "cell_type": "code",
   "execution_count": 302,
   "id": "instant-angel",
   "metadata": {},
   "outputs": [],
   "source": [
    "import pandas as pd\n",
    "import numpy as np\n",
    "import warnings\n",
    "import re\n",
    "import pickle\n",
    "import seaborn as sns\n",
    "\n",
    "%matplotlib inline\n",
    "warnings.filterwarnings('ignore')"
   ]
  },
  {
   "cell_type": "markdown",
   "id": "featured-freight",
   "metadata": {},
   "source": [
    "Import dataset :: using the rotten tomatoes dataset"
   ]
  },
  {
   "cell_type": "code",
   "execution_count": 303,
   "id": "harmful-developer",
   "metadata": {},
   "outputs": [
    {
     "data": {
      "text/html": [
       "<div>\n",
       "<style scoped>\n",
       "    .dataframe tbody tr th:only-of-type {\n",
       "        vertical-align: middle;\n",
       "    }\n",
       "\n",
       "    .dataframe tbody tr th {\n",
       "        vertical-align: top;\n",
       "    }\n",
       "\n",
       "    .dataframe thead th {\n",
       "        text-align: right;\n",
       "    }\n",
       "</style>\n",
       "<table border=\"1\" class=\"dataframe\">\n",
       "  <thead>\n",
       "    <tr style=\"text-align: right;\">\n",
       "      <th></th>\n",
       "      <th>Title</th>\n",
       "      <th>Rating</th>\n",
       "      <th>Description</th>\n",
       "    </tr>\n",
       "  </thead>\n",
       "  <tbody>\n",
       "    <tr>\n",
       "      <th>0</th>\n",
       "      <td>The Mummy: Tomb of the Dragon Emperor</td>\n",
       "      <td>PG-13</td>\n",
       "      <td>The Fast and the Furious director Rob Cohen co...</td>\n",
       "    </tr>\n",
       "    <tr>\n",
       "      <th>1</th>\n",
       "      <td>The Masked Saint</td>\n",
       "      <td>PG-13</td>\n",
       "      <td>The journey of a professional wrestler who bec...</td>\n",
       "    </tr>\n",
       "    <tr>\n",
       "      <th>2</th>\n",
       "      <td>Spy Hard</td>\n",
       "      <td>PG-13</td>\n",
       "      <td>Dead pan Leslie Nielsen stars as Dick Steele, ...</td>\n",
       "    </tr>\n",
       "    <tr>\n",
       "      <th>3</th>\n",
       "      <td>Der Baader Meinhof Komplex (The Baader Meinhof...</td>\n",
       "      <td>R</td>\n",
       "      <td>Director Uli Edel teams with screenwriter Bern...</td>\n",
       "    </tr>\n",
       "  </tbody>\n",
       "</table>\n",
       "</div>"
      ],
      "text/plain": [
       "                                               Title  Rating  \\\n",
       "0              The Mummy: Tomb of the Dragon Emperor  PG-13    \n",
       "1                                   The Masked Saint  PG-13    \n",
       "2                                           Spy Hard   PG-13   \n",
       "3  Der Baader Meinhof Komplex (The Baader Meinhof...      R    \n",
       "\n",
       "                                         Description  \n",
       "0  The Fast and the Furious director Rob Cohen co...  \n",
       "1  The journey of a professional wrestler who bec...  \n",
       "2  Dead pan Leslie Nielsen stars as Dick Steele, ...  \n",
       "3  Director Uli Edel teams with screenwriter Bern...  "
      ]
     },
     "execution_count": 303,
     "metadata": {},
     "output_type": "execute_result"
    }
   ],
   "source": [
    "dataset_df = pd.read_csv( './rtt_dataset/all_movie.csv' )\n",
    "dataset_df = dataset_df[['Title', 'Rating', 'Description']]\n",
    "dataset_df.columns = dataset_df.columns.str.strip()\n",
    "dataset_df.head(4)"
   ]
  },
  {
   "cell_type": "code",
   "execution_count": 304,
   "id": "japanese-costa",
   "metadata": {},
   "outputs": [
    {
     "data": {
      "text/plain": [
       "array(['PG-13 ', 'PG-13', 'R ', 'NR', 'PG', 'G', 'PG ', 'R', 'G ', 'NR ',\n",
       "       'NC17', 'NC17 '], dtype=object)"
      ]
     },
     "execution_count": 304,
     "metadata": {},
     "output_type": "execute_result"
    }
   ],
   "source": [
    "# finding unique mpaa rating in the dataset\n",
    "dataset_df['Rating'].unique()"
   ]
  },
  {
   "cell_type": "code",
   "execution_count": 305,
   "id": "developed-craft",
   "metadata": {},
   "outputs": [
    {
     "data": {
      "text/plain": [
       "array(['PG-13', 'R', 'NR', 'PG', 'G', 'NC17'], dtype=object)"
      ]
     },
     "execution_count": 305,
     "metadata": {},
     "output_type": "execute_result"
    }
   ],
   "source": [
    "# clean mpaa ratings\n",
    "mpaa_fix = {\n",
    "    'PG-13 ' : 'PG-13',\n",
    "    'R ' : 'R',\n",
    "    'PG ': 'PG',\n",
    "    'G ' : 'G',\n",
    "    'NR ': 'NR',\n",
    "    'NC17 ': 'NC17'\n",
    "}\n",
    "for i, rating in dataset_df['Rating'].iteritems():\n",
    "    if rating in mpaa_fix.keys():\n",
    "        fix_val = mpaa_fix.get(rating)\n",
    "        dataset_df.iloc[i]['Rating'] = fix_val\n",
    "dataset_df['Rating'].unique()"
   ]
  },
  {
   "cell_type": "code",
   "execution_count": 306,
   "id": "stopped-retention",
   "metadata": {},
   "outputs": [
    {
     "data": {
      "text/html": [
       "<div>\n",
       "<style scoped>\n",
       "    .dataframe tbody tr th:only-of-type {\n",
       "        vertical-align: middle;\n",
       "    }\n",
       "\n",
       "    .dataframe tbody tr th {\n",
       "        vertical-align: top;\n",
       "    }\n",
       "\n",
       "    .dataframe thead th {\n",
       "        text-align: right;\n",
       "    }\n",
       "</style>\n",
       "<table border=\"1\" class=\"dataframe\">\n",
       "  <thead>\n",
       "    <tr style=\"text-align: right;\">\n",
       "      <th></th>\n",
       "      <th>Title</th>\n",
       "      <th>Rating</th>\n",
       "      <th>Description</th>\n",
       "      <th>cleanedDescr</th>\n",
       "    </tr>\n",
       "  </thead>\n",
       "  <tbody>\n",
       "    <tr>\n",
       "      <th>0</th>\n",
       "      <td>The Mummy: Tomb of the Dragon Emperor</td>\n",
       "      <td>PG-13</td>\n",
       "      <td>The Fast and the Furious director Rob Cohen co...</td>\n",
       "      <td>The Fast and the Furious director Rob Cohen co...</td>\n",
       "    </tr>\n",
       "    <tr>\n",
       "      <th>1</th>\n",
       "      <td>The Masked Saint</td>\n",
       "      <td>PG-13</td>\n",
       "      <td>The journey of a professional wrestler who bec...</td>\n",
       "      <td>The journey of professional wrestler who becom...</td>\n",
       "    </tr>\n",
       "    <tr>\n",
       "      <th>2</th>\n",
       "      <td>Spy Hard</td>\n",
       "      <td>PG-13</td>\n",
       "      <td>Dead pan Leslie Nielsen stars as Dick Steele, ...</td>\n",
       "      <td>Dead pan Leslie Nielsen stars as Dick Steele a...</td>\n",
       "    </tr>\n",
       "    <tr>\n",
       "      <th>3</th>\n",
       "      <td>Der Baader Meinhof Komplex (The Baader Meinhof...</td>\n",
       "      <td>R</td>\n",
       "      <td>Director Uli Edel teams with screenwriter Bern...</td>\n",
       "      <td>Director Uli Edel teams with screenwriter Bern...</td>\n",
       "    </tr>\n",
       "  </tbody>\n",
       "</table>\n",
       "</div>"
      ],
      "text/plain": [
       "                                               Title Rating  \\\n",
       "0              The Mummy: Tomb of the Dragon Emperor  PG-13   \n",
       "1                                   The Masked Saint  PG-13   \n",
       "2                                           Spy Hard  PG-13   \n",
       "3  Der Baader Meinhof Komplex (The Baader Meinhof...      R   \n",
       "\n",
       "                                         Description  \\\n",
       "0  The Fast and the Furious director Rob Cohen co...   \n",
       "1  The journey of a professional wrestler who bec...   \n",
       "2  Dead pan Leslie Nielsen stars as Dick Steele, ...   \n",
       "3  Director Uli Edel teams with screenwriter Bern...   \n",
       "\n",
       "                                        cleanedDescr  \n",
       "0  The Fast and the Furious director Rob Cohen co...  \n",
       "1  The journey of professional wrestler who becom...  \n",
       "2  Dead pan Leslie Nielsen stars as Dick Steele a...  \n",
       "3  Director Uli Edel teams with screenwriter Bern...  "
      ]
     },
     "execution_count": 306,
     "metadata": {},
     "output_type": "execute_result"
    }
   ],
   "source": [
    "# Clean the movie description\n",
    "def clean_description( text_str ):\n",
    "    text = re.sub('[^a-zA-Z]',  ' ', text_str)\n",
    "    text = re.sub(r'\\s+[a-zA-Z]\\s+', ' ', text)\n",
    "    text = re.sub(r'\\s+', ' ', text)\n",
    "    return text\n",
    "\n",
    "cleaned_desc = []\n",
    "for i, description in dataset_df['Description'].iteritems():\n",
    "    cleaned_desc.append( clean_description( str(description) ) )\n",
    "\n",
    "dataset_df['cleanedDescr'] = cleaned_desc\n",
    "dataset_df.head(4)"
   ]
  },
  {
   "cell_type": "code",
   "execution_count": 307,
   "id": "atmospheric-southwest",
   "metadata": {},
   "outputs": [],
   "source": [
    "pickle.dump(dataset_df, open('./data/dataset_df_cleaned_n_sample_exceptNC17BiD.pkl', 'wb'))"
   ]
  },
  {
   "cell_type": "markdown",
   "id": "nearby-planner",
   "metadata": {},
   "source": [
    "## Data Distribution"
   ]
  },
  {
   "cell_type": "code",
   "execution_count": 308,
   "id": "respective-timer",
   "metadata": {},
   "outputs": [
    {
     "data": {
      "image/png": "[encoded data removed]",
      "text/plain": [
       "<Figure size 576x432 with 1 Axes>"
      ]
     },
     "metadata": {
      "needs_background": "light"
     },
     "output_type": "display_data"
    }
   ],
   "source": [
    "import matplotlib.pyplot as plt\n",
    "fig = plt.figure(figsize=(8,6))\n",
    "dataset_df.groupby('Rating')['cleanedDescr'].count().plot.bar(ylim=0)\n",
    "plt.show()"
   ]
  },
  {
   "cell_type": "code",
   "execution_count": 309,
   "id": "interested-quebec",
   "metadata": {},
   "outputs": [],
   "source": [
    "## drop G, NC-17\n",
    "dataset_df = dataset_df[dataset_df.Rating != 'NC17']"
   ]
  },
  {
   "cell_type": "code",
   "execution_count": 310,
   "id": "generous-malpractice",
   "metadata": {},
   "outputs": [
    {
     "data": {
      "image/png": "[encoded data removed]",
      "text/plain": [
       "<Figure size 576x432 with 1 Axes>"
      ]
     },
     "metadata": {
      "needs_background": "light"
     },
     "output_type": "display_data"
    }
   ],
   "source": [
    "fig = plt.figure(figsize=(8,6))\n",
    "dataset_df.groupby('Rating')['cleanedDescr'].count().plot.bar(ylim=0)\n",
    "plt.show()"
   ]
  },
  {
   "cell_type": "markdown",
   "id": "ignored-flood",
   "metadata": {},
   "source": [
    "## Use same amount of labels"
   ]
  },
  {
   "cell_type": "code",
   "execution_count": 311,
   "id": "noble-strap",
   "metadata": {},
   "outputs": [
    {
     "data": {
      "text/plain": [
       "(1606, 4)"
      ]
     },
     "execution_count": 311,
     "metadata": {},
     "output_type": "execute_result"
    }
   ],
   "source": [
    "PG_count = dataset_df[dataset_df.Rating == 'G'].shape\n",
    "PG_count"
   ]
  },
  {
   "cell_type": "code",
   "execution_count": 312,
   "id": "fundamental-executive",
   "metadata": {},
   "outputs": [
    {
     "data": {
      "text/html": [
       "<div>\n",
       "<style scoped>\n",
       "    .dataframe tbody tr th:only-of-type {\n",
       "        vertical-align: middle;\n",
       "    }\n",
       "\n",
       "    .dataframe tbody tr th {\n",
       "        vertical-align: top;\n",
       "    }\n",
       "\n",
       "    .dataframe thead th {\n",
       "        text-align: right;\n",
       "    }\n",
       "</style>\n",
       "<table border=\"1\" class=\"dataframe\">\n",
       "  <thead>\n",
       "    <tr style=\"text-align: right;\">\n",
       "      <th></th>\n",
       "      <th>Title</th>\n",
       "      <th>Rating</th>\n",
       "      <th>Description</th>\n",
       "      <th>cleanedDescr</th>\n",
       "    </tr>\n",
       "  </thead>\n",
       "  <tbody>\n",
       "    <tr>\n",
       "      <th>24516</th>\n",
       "      <td>The Hard Word</td>\n",
       "      <td>R</td>\n",
       "      <td>Three brothers who would argue that crime does...</td>\n",
       "      <td>Three brothers who would argue that crime does...</td>\n",
       "    </tr>\n",
       "    <tr>\n",
       "      <th>14755</th>\n",
       "      <td>The Exorcism of Emily Rose</td>\n",
       "      <td>PG-13</td>\n",
       "      <td>In an extremely rare decision, the Catholic Ch...</td>\n",
       "      <td>In an extremely rare decision the Catholic Chu...</td>\n",
       "    </tr>\n",
       "    <tr>\n",
       "      <th>6463</th>\n",
       "      <td>Marnie</td>\n",
       "      <td>PG</td>\n",
       "      <td>One year after she appeared as Melanie Daniels...</td>\n",
       "      <td>One year after she appeared as Melanie Daniels...</td>\n",
       "    </tr>\n",
       "    <tr>\n",
       "      <th>28560</th>\n",
       "      <td>Chipmunk Adventure</td>\n",
       "      <td>G</td>\n",
       "      <td>Join Alvin, Simon, and Theodore as they gradua...</td>\n",
       "      <td>Join Alvin Simon and Theodore as they graduate...</td>\n",
       "    </tr>\n",
       "    <tr>\n",
       "      <th>24364</th>\n",
       "      <td>The Sadist</td>\n",
       "      <td>R</td>\n",
       "      <td>Three teachers find themselves terrorized by a...</td>\n",
       "      <td>Three teachers find themselves terrorized by c...</td>\n",
       "    </tr>\n",
       "    <tr>\n",
       "      <th>...</th>\n",
       "      <td>...</td>\n",
       "      <td>...</td>\n",
       "      <td>...</td>\n",
       "      <td>...</td>\n",
       "    </tr>\n",
       "    <tr>\n",
       "      <th>20471</th>\n",
       "      <td>Calle 54</td>\n",
       "      <td>G</td>\n",
       "      <td>Filmmaker Fernando Trueba was introduced to La...</td>\n",
       "      <td>Filmmaker Fernando Trueba was introduced to La...</td>\n",
       "    </tr>\n",
       "    <tr>\n",
       "      <th>2003</th>\n",
       "      <td>For Whom the Bell Tolls</td>\n",
       "      <td>G</td>\n",
       "      <td>Based on the novel by Ernest Hemingway, this r...</td>\n",
       "      <td>Based on the novel by Ernest Hemingway this ro...</td>\n",
       "    </tr>\n",
       "    <tr>\n",
       "      <th>7023</th>\n",
       "      <td>Little Women</td>\n",
       "      <td>G</td>\n",
       "      <td>Of the many film versions of Louisa May Alcott...</td>\n",
       "      <td>Of the many film versions of Louisa May Alcott...</td>\n",
       "    </tr>\n",
       "    <tr>\n",
       "      <th>3542</th>\n",
       "      <td>Quest For Camelot</td>\n",
       "      <td>G</td>\n",
       "      <td>Warner Bros. twists the Camelot tale -- adding...</td>\n",
       "      <td>Warner Bros twists the Camelot tale adding fem...</td>\n",
       "    </tr>\n",
       "    <tr>\n",
       "      <th>8242</th>\n",
       "      <td>Looking for Eric</td>\n",
       "      <td>G</td>\n",
       "      <td>A man trying to put his life back on track get...</td>\n",
       "      <td>A man trying to put his life back on track get...</td>\n",
       "    </tr>\n",
       "  </tbody>\n",
       "</table>\n",
       "<p>8030 rows × 4 columns</p>\n",
       "</div>"
      ],
      "text/plain": [
       "                            Title Rating  \\\n",
       "24516               The Hard Word      R   \n",
       "14755  The Exorcism of Emily Rose  PG-13   \n",
       "6463                       Marnie     PG   \n",
       "28560          Chipmunk Adventure      G   \n",
       "24364                  The Sadist      R   \n",
       "...                           ...    ...   \n",
       "20471                    Calle 54      G   \n",
       "2003      For Whom the Bell Tolls      G   \n",
       "7023                 Little Women      G   \n",
       "3542            Quest For Camelot      G   \n",
       "8242             Looking for Eric      G   \n",
       "\n",
       "                                             Description  \\\n",
       "24516  Three brothers who would argue that crime does...   \n",
       "14755  In an extremely rare decision, the Catholic Ch...   \n",
       "6463   One year after she appeared as Melanie Daniels...   \n",
       "28560  Join Alvin, Simon, and Theodore as they gradua...   \n",
       "24364  Three teachers find themselves terrorized by a...   \n",
       "...                                                  ...   \n",
       "20471  Filmmaker Fernando Trueba was introduced to La...   \n",
       "2003   Based on the novel by Ernest Hemingway, this r...   \n",
       "7023   Of the many film versions of Louisa May Alcott...   \n",
       "3542   Warner Bros. twists the Camelot tale -- adding...   \n",
       "8242   A man trying to put his life back on track get...   \n",
       "\n",
       "                                            cleanedDescr  \n",
       "24516  Three brothers who would argue that crime does...  \n",
       "14755  In an extremely rare decision the Catholic Chu...  \n",
       "6463   One year after she appeared as Melanie Daniels...  \n",
       "28560  Join Alvin Simon and Theodore as they graduate...  \n",
       "24364  Three teachers find themselves terrorized by c...  \n",
       "...                                                  ...  \n",
       "20471  Filmmaker Fernando Trueba was introduced to La...  \n",
       "2003   Based on the novel by Ernest Hemingway this ro...  \n",
       "7023   Of the many film versions of Louisa May Alcott...  \n",
       "3542   Warner Bros twists the Camelot tale adding fem...  \n",
       "8242   A man trying to put his life back on track get...  \n",
       "\n",
       "[8030 rows x 4 columns]"
      ]
     },
     "execution_count": 312,
     "metadata": {},
     "output_type": "execute_result"
    }
   ],
   "source": [
    "dataset_df = dataset_df.sample(frac=1).groupby('Rating').head(1606)\n",
    "dataset_df"
   ]
  },
  {
   "cell_type": "code",
   "execution_count": 313,
   "id": "continuous-queue",
   "metadata": {},
   "outputs": [
    {
     "data": {
      "image/png": "[encoded data removed]",
      "text/plain": [
       "<Figure size 576x432 with 1 Axes>"
      ]
     },
     "metadata": {
      "needs_background": "light"
     },
     "output_type": "display_data"
    }
   ],
   "source": [
    "fig = plt.figure(figsize=(8,6))\n",
    "dataset_df.groupby('Rating')['cleanedDescr'].count().plot.bar(ylim=0)\n",
    "plt.show()"
   ]
  },
  {
   "cell_type": "markdown",
   "id": "posted-entrance",
   "metadata": {},
   "source": [
    "## Training model"
   ]
  },
  {
   "cell_type": "code",
   "execution_count": 363,
   "id": "configured-skiing",
   "metadata": {},
   "outputs": [],
   "source": [
    "training_df = pickle.load( open('./data/dataset_df_cleaned_n_sample_exceptNC17BiD.pkl', 'rb') )"
   ]
  },
  {
   "cell_type": "code",
   "execution_count": 364,
   "id": "fresh-mechanism",
   "metadata": {},
   "outputs": [],
   "source": [
    "from sklearn.model_selection import train_test_split\n",
    "from sklearn.preprocessing import LabelEncoder\n",
    "from keras.preprocessing.text import one_hot, Tokenizer\n",
    "from keras.preprocessing.sequence import pad_sequences\n",
    "from keras.utils import to_categorical\n",
    "from keras.models import Sequential, load_model\n",
    "from keras.layers import Dense, Flatten, LSTM, Embedding, GlobalMaxPooling1D, Bidirectional, Dropout"
   ]
  },
  {
   "cell_type": "code",
   "execution_count": 365,
   "id": "interesting-device",
   "metadata": {},
   "outputs": [
    {
     "data": {
      "text/plain": [
       "array([4, 4, 4, ..., 5, 4, 4])"
      ]
     },
     "execution_count": 365,
     "metadata": {},
     "output_type": "execute_result"
    }
   ],
   "source": [
    "_y = training_df['Rating']\n",
    "encoder = LabelEncoder()\n",
    "Y = encoder.fit_transform(_y)\n",
    "Y"
   ]
  },
  {
   "cell_type": "code",
   "execution_count": 366,
   "id": "focused-evidence",
   "metadata": {},
   "outputs": [
    {
     "data": {
      "text/plain": [
       "0        The Fast and the Furious director Rob Cohen co...\n",
       "1        The journey of professional wrestler who becom...\n",
       "2        Dead pan Leslie Nielsen stars as Dick Steele a...\n",
       "3        Director Uli Edel teams with screenwriter Bern...\n",
       "4        One of cluster of late films about the Vietnam...\n",
       "                               ...                        \n",
       "29805    Filmed at least nine times over the last nine ...\n",
       "29806    Fred MacMurray stars in this Walt Disney comed...\n",
       "29807    A resident of rd century Earth becomes involve...\n",
       "29808    Supernova chronicles the search and rescue pat...\n",
       "29809    For years there have been documented cases of ...\n",
       "Name: cleanedDescr, Length: 29810, dtype: object"
      ]
     },
     "execution_count": 366,
     "metadata": {},
     "output_type": "execute_result"
    }
   ],
   "source": [
    "X = training_df['cleanedDescr']\n",
    "X"
   ]
  },
  {
   "cell_type": "code",
   "execution_count": 367,
   "id": "82079ef2",
   "metadata": {},
   "outputs": [
    {
     "data": {
      "text/plain": [
       "729.3683998658169"
      ]
     },
     "execution_count": 367,
     "metadata": {},
     "output_type": "execute_result"
    }
   ],
   "source": [
    "description_lengths = []\n",
    "for i, description in training_df['cleanedDescr'].iteritems():\n",
    "    description_lengths.append( len(description) )\n",
    "max_description_length = np.mean( description_lengths )\n",
    "max_description_length"
   ]
  },
  {
   "cell_type": "markdown",
   "id": "changing-internship",
   "metadata": {},
   "source": [
    "## Train, test split"
   ]
  },
  {
   "cell_type": "code",
   "execution_count": 368,
   "id": "universal-split",
   "metadata": {},
   "outputs": [],
   "source": [
    "X_train, X_test, Y_train, Y_test = train_test_split( X, Y, test_size=0.3, random_state=40 )"
   ]
  },
  {
   "cell_type": "code",
   "execution_count": 369,
   "id": "animal-mount",
   "metadata": {},
   "outputs": [],
   "source": [
    "Y_train = to_categorical(Y_train)\n",
    "Y_test  = to_categorical(Y_test)"
   ]
  },
  {
   "cell_type": "code",
   "execution_count": 370,
   "id": "charming-sydney",
   "metadata": {},
   "outputs": [],
   "source": [
    "tokenizer = Tokenizer(num_words=10000)\n",
    "tokenizer.fit_on_texts(X_train)"
   ]
  },
  {
   "cell_type": "code",
   "execution_count": 371,
   "id": "reported-hayes",
   "metadata": {},
   "outputs": [],
   "source": [
    "X_train = tokenizer.texts_to_sequences(X_train)\n",
    "X_test  = tokenizer.texts_to_sequences(X_test)"
   ]
  },
  {
   "cell_type": "code",
   "execution_count": 372,
   "id": "ff39c955",
   "metadata": {},
   "outputs": [
    {
     "data": {
      "text/plain": [
       "56359"
      ]
     },
     "execution_count": 372,
     "metadata": {},
     "output_type": "execute_result"
    }
   ],
   "source": [
    "vocabulary_size = len(tokenizer.word_index) + 1\n",
    "vocabulary_size"
   ]
  },
  {
   "cell_type": "code",
   "execution_count": 373,
   "id": "expected-hunter",
   "metadata": {},
   "outputs": [],
   "source": [
    "max_description_length = 1000\n",
    "maxlen =  400 # Only concider first 400 words of each description\n",
    "\n",
    "X_train = pad_sequences( X_train, maxlen=maxlen )\n",
    "X_test  = pad_sequences( X_test, maxlen=maxlen )"
   ]
  },
  {
   "cell_type": "markdown",
   "id": "ruled-memphis",
   "metadata": {},
   "source": [
    "## Use GloVe : Global Vectors for Word Representation\n",
    "https://nlp.stanford.edu/projects/glove/\n",
    "\n",
    "GloVe is an unsupervised learning algorithm for obtaining vector representations for words. Training is performed on aggregated global word-word co-occurrence statistics from a corpus, and the resulting representations showcase interesting linear substructures of the word vector space. "
   ]
  },
  {
   "cell_type": "code",
   "execution_count": 374,
   "id": "chronic-perception",
   "metadata": {},
   "outputs": [],
   "source": [
    "glove_file = open('./glove.6B/glove.6B.100d.txt', encoding='utf8')"
   ]
  },
  {
   "cell_type": "code",
   "execution_count": 375,
   "id": "polished-oxford",
   "metadata": {},
   "outputs": [],
   "source": [
    "embedd_dictionary = dict()\n",
    "for line in glove_file:\n",
    "    records = line.split()\n",
    "    word = records[0]\n",
    "    vector_dims = np.asarray(records[1:], dtype='float32')\n",
    "    embedd_dictionary[word] = vector_dims\n",
    "\n",
    "glove_file.close()"
   ]
  },
  {
   "cell_type": "code",
   "execution_count": 376,
   "id": "random-anxiety",
   "metadata": {},
   "outputs": [
    {
     "data": {
      "text/plain": [
       "(56359, 100)"
      ]
     },
     "execution_count": 376,
     "metadata": {},
     "output_type": "execute_result"
    }
   ],
   "source": [
    "embedd_matrix = np.zeros((vocabulary_size, 100))\n",
    "for word, index in tokenizer.word_index.items():\n",
    "    embedd_vector = embedd_dictionary.get(word)\n",
    "    if embedd_vector is not None:\n",
    "        embedd_matrix[index] = embedd_vector\n",
    "embedd_matrix.shape"
   ]
  },
  {
   "cell_type": "code",
   "execution_count": 377,
   "id": "5d1d7fdb",
   "metadata": {},
   "outputs": [
    {
     "data": {
      "text/plain": [
       "100"
      ]
     },
     "execution_count": 377,
     "metadata": {},
     "output_type": "execute_result"
    }
   ],
   "source": [
    "output_dim = embedd_matrix.shape[1]\n",
    "output_dim"
   ]
  },
  {
   "cell_type": "markdown",
   "id": "posted-disney",
   "metadata": {},
   "source": [
    "## Build the NN Model"
   ]
  },
  {
   "cell_type": "code",
   "execution_count": 396,
   "id": "exempt-likelihood",
   "metadata": {
    "scrolled": false
   },
   "outputs": [
    {
     "name": "stdout",
     "output_type": "stream",
     "text": [
      "Model: \"sequential_29\"\n",
      "_________________________________________________________________\n",
      "Layer (type)                 Output Shape              Param #   \n",
      "=================================================================\n",
      "embedding_29 (Embedding)     (None, None, 100)         5635900   \n",
      "_________________________________________________________________\n",
      "bidirectional_19 (Bidirectio (None, None, 256)         234496    \n",
      "_________________________________________________________________\n",
      "bidirectional_20 (Bidirectio (None, 128)               164352    \n",
      "_________________________________________________________________\n",
      "dense_46 (Dense)             (None, 64)                8256      \n",
      "_________________________________________________________________\n",
      "dropout_5 (Dropout)          (None, 64)                0         \n",
      "_________________________________________________________________\n",
      "dense_47 (Dense)             (None, 6)                 390       \n",
      "=================================================================\n",
      "Total params: 6,043,394\n",
      "Trainable params: 407,494\n",
      "Non-trainable params: 5,635,900\n",
      "_________________________________________________________________\n"
     ]
    }
   ],
   "source": [
    "model = Sequential()\n",
    "model.add(Embedding(input_dim=vocabulary_size, output_dim=output_dim, weights=[embedd_matrix], trainable=False))\n",
    "model.add( Bidirectional(LSTM(units=128, return_sequences=True)) )\n",
    "model.add( Bidirectional(LSTM(units=64)) )\n",
    "\n",
    "# model.add( Bidirectional(LSTM(units=64)) )\n",
    "# model.add(LSTM(units=128, dropout=0.2, recurrent_dropout=0) )\n",
    "# model.add(Dense(64, activation='relu'))\n",
    "# model.add(Dense(6, activation='softmax'))\n",
    "\n",
    "model.add(Dense(64, activation='relu'))\n",
    "model.add(Dropout(0.2))\n",
    "model.add(Dense(6, activation='softmax'))\n",
    "model.compile(loss='categorical_crossentropy', optimizer='adam', metrics=['accuracy'])\n",
    "model.summary()"
   ]
  },
  {
   "cell_type": "code",
   "execution_count": 397,
   "id": "9233c207",
   "metadata": {},
   "outputs": [],
   "source": [
    "import keras\n",
    "callback = [\n",
    "    #keras.callbacks.EarlyStopping(patience=2),\n",
    "    keras.callbacks.ModelCheckpoint(filepath='./data/checkpoint/model.{epoch:02d}-{val_loss:.2f}.h5'),\n",
    "    keras.callbacks.TensorBoard(log_dir='./data/tf/logs'),\n",
    "]"
   ]
  },
  {
   "cell_type": "code",
   "execution_count": 398,
   "id": "imposed-french",
   "metadata": {},
   "outputs": [
    {
     "name": "stdout",
     "output_type": "stream",
     "text": [
      "Epoch 1/54\n",
      "115/115 [==============================] - 20s 144ms/step - loss: 1.5332 - accuracy: 0.3401 - val_loss: 1.4014 - val_accuracy: 0.3865\n",
      "Epoch 2/54\n",
      "115/115 [==============================] - 15s 127ms/step - loss: 1.4120 - accuracy: 0.4014 - val_loss: 1.3858 - val_accuracy: 0.3763\n",
      "Epoch 3/54\n",
      "115/115 [==============================] - 14s 124ms/step - loss: 1.3370 - accuracy: 0.4401 - val_loss: 1.3201 - val_accuracy: 0.4432\n",
      "Epoch 4/54\n",
      "115/115 [==============================] - 14s 124ms/step - loss: 1.2803 - accuracy: 0.4716 - val_loss: 1.2763 - val_accuracy: 0.4530\n",
      "Epoch 5/54\n",
      "115/115 [==============================] - 14s 126ms/step - loss: 1.2328 - accuracy: 0.4937 - val_loss: 1.2280 - val_accuracy: 0.4838\n",
      "Epoch 6/54\n",
      "115/115 [==============================] - 14s 126ms/step - loss: 1.1991 - accuracy: 0.5161 - val_loss: 1.2326 - val_accuracy: 0.4942\n",
      "Epoch 7/54\n",
      "115/115 [==============================] - 14s 126ms/step - loss: 1.1376 - accuracy: 0.5416 - val_loss: 1.1787 - val_accuracy: 0.5108\n",
      "Epoch 8/54\n",
      "115/115 [==============================] - 14s 125ms/step - loss: 1.0684 - accuracy: 0.5840 - val_loss: 1.1786 - val_accuracy: 0.5175\n",
      "Epoch 9/54\n",
      "115/115 [==============================] - 14s 124ms/step - loss: 0.9942 - accuracy: 0.6091 - val_loss: 1.1313 - val_accuracy: 0.5545\n",
      "Epoch 10/54\n",
      "115/115 [==============================] - 14s 125ms/step - loss: 0.9115 - accuracy: 0.6539 - val_loss: 1.1001 - val_accuracy: 0.5759\n",
      "Epoch 11/54\n",
      "115/115 [==============================] - 15s 127ms/step - loss: 0.7971 - accuracy: 0.6984 - val_loss: 1.1120 - val_accuracy: 0.5795\n",
      "Epoch 12/54\n",
      "115/115 [==============================] - 14s 126ms/step - loss: 0.7429 - accuracy: 0.7246 - val_loss: 1.1205 - val_accuracy: 0.6004\n",
      "Epoch 13/54\n",
      "115/115 [==============================] - 14s 126ms/step - loss: 0.6243 - accuracy: 0.7781 - val_loss: 1.0907 - val_accuracy: 0.6269\n",
      "Epoch 14/54\n",
      "115/115 [==============================] - 14s 125ms/step - loss: 0.5357 - accuracy: 0.8033 - val_loss: 1.2217 - val_accuracy: 0.6165\n",
      "Epoch 15/54\n",
      "115/115 [==============================] - 15s 127ms/step - loss: 0.4789 - accuracy: 0.8273 - val_loss: 1.1219 - val_accuracy: 0.6443\n",
      "Epoch 16/54\n",
      "115/115 [==============================] - 14s 125ms/step - loss: 0.4403 - accuracy: 0.8439 - val_loss: 1.2288 - val_accuracy: 0.6595\n",
      "Epoch 17/54\n",
      "115/115 [==============================] - 15s 127ms/step - loss: 0.3046 - accuracy: 0.8991 - val_loss: 1.3505 - val_accuracy: 0.6550\n",
      "Epoch 18/54\n",
      "115/115 [==============================] - 14s 125ms/step - loss: 0.3956 - accuracy: 0.8590 - val_loss: 1.2854 - val_accuracy: 0.6868\n",
      "Epoch 19/54\n",
      "115/115 [==============================] - 14s 125ms/step - loss: 0.2019 - accuracy: 0.9366 - val_loss: 1.3656 - val_accuracy: 0.7021\n",
      "Epoch 20/54\n",
      "115/115 [==============================] - 14s 125ms/step - loss: 0.1690 - accuracy: 0.9475 - val_loss: 1.4604 - val_accuracy: 0.6900\n",
      "Epoch 21/54\n",
      "115/115 [==============================] - 14s 124ms/step - loss: 0.1653 - accuracy: 0.9452 - val_loss: 1.4638 - val_accuracy: 0.7040\n",
      "Epoch 22/54\n",
      "115/115 [==============================] - 15s 128ms/step - loss: 0.1355 - accuracy: 0.9577 - val_loss: 1.5604 - val_accuracy: 0.7095\n",
      "Epoch 23/54\n",
      "115/115 [==============================] - 14s 126ms/step - loss: 0.1096 - accuracy: 0.9638 - val_loss: 1.6291 - val_accuracy: 0.7080\n",
      "Epoch 24/54\n",
      "115/115 [==============================] - 14s 126ms/step - loss: 0.0971 - accuracy: 0.9690 - val_loss: 1.6659 - val_accuracy: 0.7203\n",
      "Epoch 25/54\n",
      "115/115 [==============================] - 15s 127ms/step - loss: 0.0759 - accuracy: 0.9776 - val_loss: 1.6803 - val_accuracy: 0.7042\n",
      "Epoch 26/54\n",
      "115/115 [==============================] - 14s 126ms/step - loss: 0.0982 - accuracy: 0.9700 - val_loss: 1.6807 - val_accuracy: 0.7205\n",
      "Epoch 27/54\n",
      "115/115 [==============================] - 15s 128ms/step - loss: 0.0746 - accuracy: 0.9768 - val_loss: 1.8350 - val_accuracy: 0.7207\n",
      "Epoch 28/54\n",
      "115/115 [==============================] - 14s 126ms/step - loss: 0.0812 - accuracy: 0.9748 - val_loss: 1.8224 - val_accuracy: 0.7269\n",
      "Epoch 29/54\n",
      "115/115 [==============================] - 14s 123ms/step - loss: 0.0590 - accuracy: 0.9823 - val_loss: 1.9696 - val_accuracy: 0.7197\n",
      "Epoch 30/54\n",
      "115/115 [==============================] - 14s 124ms/step - loss: 0.0459 - accuracy: 0.9854 - val_loss: 1.9253 - val_accuracy: 0.7219\n",
      "Epoch 31/54\n",
      "115/115 [==============================] - 14s 126ms/step - loss: 0.0432 - accuracy: 0.9858 - val_loss: 1.9365 - val_accuracy: 0.7199\n",
      "Epoch 32/54\n",
      "115/115 [==============================] - 14s 125ms/step - loss: 0.0389 - accuracy: 0.9884 - val_loss: 2.0080 - val_accuracy: 0.7173\n",
      "Epoch 33/54\n",
      "115/115 [==============================] - 14s 124ms/step - loss: 0.0255 - accuracy: 0.9927 - val_loss: 2.0467 - val_accuracy: 0.7246\n",
      "Epoch 34/54\n",
      "115/115 [==============================] - 14s 123ms/step - loss: 0.0291 - accuracy: 0.9899 - val_loss: 2.1539 - val_accuracy: 0.7261\n",
      "Epoch 35/54\n",
      "115/115 [==============================] - 14s 124ms/step - loss: 0.0336 - accuracy: 0.9900 - val_loss: 2.1770 - val_accuracy: 0.7235\n",
      "Epoch 36/54\n",
      "115/115 [==============================] - 15s 127ms/step - loss: 0.0679 - accuracy: 0.9783 - val_loss: 1.9323 - val_accuracy: 0.7165\n",
      "Epoch 37/54\n",
      "115/115 [==============================] - 14s 126ms/step - loss: 0.0450 - accuracy: 0.9857 - val_loss: 2.0570 - val_accuracy: 0.7344\n",
      "Epoch 38/54\n",
      "115/115 [==============================] - 14s 123ms/step - loss: 0.0203 - accuracy: 0.9936 - val_loss: 2.1572 - val_accuracy: 0.7298\n",
      "Epoch 39/54\n",
      "115/115 [==============================] - 14s 126ms/step - loss: 0.0187 - accuracy: 0.9934 - val_loss: 2.2039 - val_accuracy: 0.7195\n",
      "Epoch 40/54\n",
      "115/115 [==============================] - 14s 123ms/step - loss: 0.0232 - accuracy: 0.9929 - val_loss: 2.1688 - val_accuracy: 0.7101\n",
      "Epoch 41/54\n",
      "115/115 [==============================] - 14s 123ms/step - loss: 0.0766 - accuracy: 0.9773 - val_loss: 2.0133 - val_accuracy: 0.7203\n",
      "Epoch 42/54\n",
      "115/115 [==============================] - 14s 124ms/step - loss: 0.0229 - accuracy: 0.9924 - val_loss: 2.1994 - val_accuracy: 0.7238\n",
      "Epoch 43/54\n",
      "115/115 [==============================] - 14s 126ms/step - loss: 0.0244 - accuracy: 0.9922 - val_loss: 2.0827 - val_accuracy: 0.7187\n",
      "Epoch 44/54\n",
      "115/115 [==============================] - 14s 124ms/step - loss: 0.1263 - accuracy: 0.9646 - val_loss: 1.8490 - val_accuracy: 0.7246\n",
      "Epoch 45/54\n",
      "115/115 [==============================] - 15s 127ms/step - loss: 0.0225 - accuracy: 0.9938 - val_loss: 2.0605 - val_accuracy: 0.7298\n",
      "Epoch 46/54\n",
      "115/115 [==============================] - 15s 127ms/step - loss: 0.0450 - accuracy: 0.9874 - val_loss: 2.0514 - val_accuracy: 0.7318\n",
      "Epoch 47/54\n",
      "115/115 [==============================] - 14s 125ms/step - loss: 0.0084 - accuracy: 0.9983 - val_loss: 2.2348 - val_accuracy: 0.7291\n",
      "Epoch 48/54\n",
      "115/115 [==============================] - 14s 125ms/step - loss: 0.0056 - accuracy: 0.9990 - val_loss: 2.3622 - val_accuracy: 0.7277\n",
      "Epoch 49/54\n",
      "115/115 [==============================] - 14s 125ms/step - loss: 0.0072 - accuracy: 0.9981 - val_loss: 2.3413 - val_accuracy: 0.7213\n",
      "Epoch 50/54\n",
      "115/115 [==============================] - 14s 124ms/step - loss: 0.0263 - accuracy: 0.9913 - val_loss: 2.3075 - val_accuracy: 0.7304\n",
      "Epoch 51/54\n",
      "115/115 [==============================] - 14s 124ms/step - loss: 0.0219 - accuracy: 0.9925 - val_loss: 2.3131 - val_accuracy: 0.7310\n",
      "Epoch 52/54\n",
      "115/115 [==============================] - 14s 125ms/step - loss: 0.0200 - accuracy: 0.9933 - val_loss: 2.2556 - val_accuracy: 0.7250\n",
      "Epoch 53/54\n",
      "115/115 [==============================] - 14s 122ms/step - loss: 0.0275 - accuracy: 0.9918 - val_loss: 2.2693 - val_accuracy: 0.7230\n",
      "Epoch 54/54\n",
      "115/115 [==============================] - 14s 125ms/step - loss: 0.0780 - accuracy: 0.9770 - val_loss: 2.0161 - val_accuracy: 0.7230\n"
     ]
    }
   ],
   "source": [
    "hist = model.fit(X_train, Y_train, batch_size=128, epochs=54, validation_split=0.30, verbose=1, callbacks=callback)"
   ]
  },
  {
   "cell_type": "code",
   "execution_count": 399,
   "id": "commercial-imperial",
   "metadata": {},
   "outputs": [
    {
     "name": "stdout",
     "output_type": "stream",
     "text": [
      "280/280 [==============================] - 10s 37ms/step - loss: 1.9895 - accuracy: 0.7229\n",
      "loss:  1.9894706010818481\n",
      "accuracy:  0.7229117751121521\n"
     ]
    }
   ],
   "source": [
    "loss, acc = model.evaluate(X_test, Y_test, verbose=1)\n",
    "print('loss: ', loss)\n",
    "print('accuracy: ', acc)"
   ]
  },
  {
   "cell_type": "markdown",
   "id": "animated-thunder",
   "metadata": {},
   "source": [
    "## Save model and tokenizer"
   ]
  },
  {
   "cell_type": "code",
   "execution_count": 400,
   "id": "beginning-forward",
   "metadata": {},
   "outputs": [],
   "source": [
    "# save model\n",
    "model.save('./data/mpaa_classifier_n_sample_exceptNC17BiD.h5')\n",
    "\n",
    "# save word tokenizer\n",
    "pickle.dump(tokenizer, open('./data/tokenizer_n_sample_exceptNC17BiD.pkl', 'wb'))"
   ]
  },
  {
   "cell_type": "markdown",
   "id": "worth-sweden",
   "metadata": {},
   "source": [
    "## Metrics"
   ]
  },
  {
   "cell_type": "code",
   "execution_count": 401,
   "id": "valuable-slovenia",
   "metadata": {},
   "outputs": [
    {
     "data": {
      "image/png": "[encoded data removed]",
      "text/plain": [
       "<Figure size 432x288 with 1 Axes>"
      ]
     },
     "metadata": {
      "needs_background": "light"
     },
     "output_type": "display_data"
    }
   ],
   "source": [
    "plt.plot(hist.history['accuracy'])\n",
    "plt.plot(hist.history['val_accuracy'])\n",
    "plt.title('Model Accuracy')\n",
    "plt.ylabel('Accuracy')\n",
    "plt.xlabel('# Epochs')\n",
    "plt.legend(['train', 'test'])\n",
    "plt.show()"
   ]
  },
  {
   "cell_type": "code",
   "execution_count": 402,
   "id": "interior-pharmacy",
   "metadata": {},
   "outputs": [
    {
     "data": {
      "image/png": "[encoded data removed]",
      "text/plain": [
       "<Figure size 432x288 with 1 Axes>"
      ]
     },
     "metadata": {
      "needs_background": "light"
     },
     "output_type": "display_data"
    }
   ],
   "source": [
    "plt.plot(hist.history['loss'])\n",
    "plt.plot(hist.history['val_loss'])\n",
    "plt.title('Model Loss')\n",
    "plt.ylabel('Loss')\n",
    "plt.xlabel('# Epochs')\n",
    "plt.legend(['train', 'test'])\n",
    "plt.show()"
   ]
  },
  {
   "cell_type": "markdown",
   "id": "e7ee9727",
   "metadata": {},
   "source": [
    "## Model Architecture"
   ]
  },
  {
   "cell_type": "code",
   "execution_count": 403,
   "id": "b9946c57",
   "metadata": {},
   "outputs": [],
   "source": [
    "# load the saved model\n",
    "from keras.models import load_model\n",
    "model = load_model(\"./data/mpaa_classifier_n_sample_exceptNC17BiD.h5\")"
   ]
  },
  {
   "cell_type": "code",
   "execution_count": 404,
   "id": "f60e5f50",
   "metadata": {},
   "outputs": [
    {
     "data": {
      "image/png": "[encoded data removed]",
      "text/plain": [
       "<IPython.core.display.Image object>"
      ]
     },
     "execution_count": 404,
     "metadata": {},
     "output_type": "execute_result"
    }
   ],
   "source": [
    "from keras.utils.vis_utils import plot_model\n",
    "plot_model(model, to_file='model_plot.png', show_shapes=True, show_layer_names=True)"
   ]
  },
  {
   "cell_type": "markdown",
   "id": "5ad98a98",
   "metadata": {},
   "source": [
    "## Demonstration"
   ]
  },
  {
   "cell_type": "code",
   "execution_count": null,
   "id": "f8d44c16",
   "metadata": {},
   "outputs": [],
   "source": []
  },
  {
   "cell_type": "code",
   "execution_count": null,
   "id": "e3812894",
   "metadata": {},
   "outputs": [],
   "source": []
  }
 ],
 "metadata": {
  "kernelspec": {
   "display_name": "Python 3",
   "language": "python",
   "name": "python3"
  },
  "language_info": {
   "codemirror_mode": {
    "name": "ipython",
    "version": 3
   },
   "file_extension": ".py",
   "mimetype": "text/x-python",
   "name": "python",
   "nbconvert_exporter": "python",
   "pygments_lexer": "ipython3",
   "version": "3.9.2"
  }
 },
 "nbformat": 4,
 "nbformat_minor": 5
}
