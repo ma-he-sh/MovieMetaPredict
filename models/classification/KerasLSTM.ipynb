{
 "cells": [
  {
   "cell_type": "markdown",
   "id": "recognized-television",
   "metadata": {},
   "source": [
    "## MPAA rating prediction"
   ]
  },
  {
   "cell_type": "code",
   "execution_count": 1,
   "id": "instant-angel",
   "metadata": {},
   "outputs": [],
   "source": [
    "import pandas as pd\n",
    "import numpy as np\n",
    "import warnings\n",
    "import re\n",
    "import pickle\n",
    "import seaborn as sns\n",
    "\n",
    "%matplotlib inline\n",
    "warnings.filterwarnings('ignore')"
   ]
  },
  {
   "cell_type": "markdown",
   "id": "featured-freight",
   "metadata": {},
   "source": [
    "Import dataset :: using the rotten tomatoes dataset"
   ]
  },
  {
   "cell_type": "code",
   "execution_count": 2,
   "id": "harmful-developer",
   "metadata": {},
   "outputs": [
    {
     "data": {
      "text/html": [
       "<div>\n",
       "<style scoped>\n",
       "    .dataframe tbody tr th:only-of-type {\n",
       "        vertical-align: middle;\n",
       "    }\n",
       "\n",
       "    .dataframe tbody tr th {\n",
       "        vertical-align: top;\n",
       "    }\n",
       "\n",
       "    .dataframe thead th {\n",
       "        text-align: right;\n",
       "    }\n",
       "</style>\n",
       "<table border=\"1\" class=\"dataframe\">\n",
       "  <thead>\n",
       "    <tr style=\"text-align: right;\">\n",
       "      <th></th>\n",
       "      <th>Title</th>\n",
       "      <th>Rating</th>\n",
       "      <th>Description</th>\n",
       "    </tr>\n",
       "  </thead>\n",
       "  <tbody>\n",
       "    <tr>\n",
       "      <th>0</th>\n",
       "      <td>The Mummy: Tomb of the Dragon Emperor</td>\n",
       "      <td>PG-13</td>\n",
       "      <td>The Fast and the Furious director Rob Cohen co...</td>\n",
       "    </tr>\n",
       "    <tr>\n",
       "      <th>1</th>\n",
       "      <td>The Masked Saint</td>\n",
       "      <td>PG-13</td>\n",
       "      <td>The journey of a professional wrestler who bec...</td>\n",
       "    </tr>\n",
       "    <tr>\n",
       "      <th>2</th>\n",
       "      <td>Spy Hard</td>\n",
       "      <td>PG-13</td>\n",
       "      <td>Dead pan Leslie Nielsen stars as Dick Steele, ...</td>\n",
       "    </tr>\n",
       "    <tr>\n",
       "      <th>3</th>\n",
       "      <td>Der Baader Meinhof Komplex (The Baader Meinhof...</td>\n",
       "      <td>R</td>\n",
       "      <td>Director Uli Edel teams with screenwriter Bern...</td>\n",
       "    </tr>\n",
       "  </tbody>\n",
       "</table>\n",
       "</div>"
      ],
      "text/plain": [
       "                                               Title  Rating  \\\n",
       "0              The Mummy: Tomb of the Dragon Emperor  PG-13    \n",
       "1                                   The Masked Saint  PG-13    \n",
       "2                                           Spy Hard   PG-13   \n",
       "3  Der Baader Meinhof Komplex (The Baader Meinhof...      R    \n",
       "\n",
       "                                         Description  \n",
       "0  The Fast and the Furious director Rob Cohen co...  \n",
       "1  The journey of a professional wrestler who bec...  \n",
       "2  Dead pan Leslie Nielsen stars as Dick Steele, ...  \n",
       "3  Director Uli Edel teams with screenwriter Bern...  "
      ]
     },
     "execution_count": 2,
     "metadata": {},
     "output_type": "execute_result"
    }
   ],
   "source": [
    "dataset_df = pd.read_csv( './rtt_dataset/all_movie.csv' )\n",
    "dataset_df = dataset_df[['Title', 'Rating', 'Description']]\n",
    "dataset_df.columns = dataset_df.columns.str.strip()\n",
    "dataset_df.head(4)"
   ]
  },
  {
   "cell_type": "code",
   "execution_count": 3,
   "id": "japanese-costa",
   "metadata": {},
   "outputs": [
    {
     "data": {
      "text/plain": [
       "array(['PG-13 ', 'PG-13', 'R ', 'NR', 'PG', 'G', 'PG ', 'R', 'G ', 'NR ',\n",
       "       'NC17', 'NC17 '], dtype=object)"
      ]
     },
     "execution_count": 3,
     "metadata": {},
     "output_type": "execute_result"
    }
   ],
   "source": [
    "# finding unique mpaa rating in the dataset\n",
    "dataset_df['Rating'].unique()"
   ]
  },
  {
   "cell_type": "code",
   "execution_count": 4,
   "id": "developed-craft",
   "metadata": {},
   "outputs": [
    {
     "data": {
      "text/plain": [
       "array(['PG-13', 'R', 'NR', 'PG', 'G', 'NC17'], dtype=object)"
      ]
     },
     "execution_count": 4,
     "metadata": {},
     "output_type": "execute_result"
    }
   ],
   "source": [
    "# clean mpaa ratings\n",
    "mpaa_fix = {\n",
    "    'PG-13 ' : 'PG-13',\n",
    "    'R ' : 'R',\n",
    "    'PG ': 'PG',\n",
    "    'G ' : 'G',\n",
    "    'NR ': 'NR',\n",
    "    'NC17 ': 'NC17'\n",
    "}\n",
    "for i, rating in dataset_df['Rating'].iteritems():\n",
    "    if rating in mpaa_fix.keys():\n",
    "        fix_val = mpaa_fix.get(rating)\n",
    "        dataset_df.iloc[i]['Rating'] = fix_val\n",
    "dataset_df['Rating'].unique()"
   ]
  },
  {
   "cell_type": "code",
   "execution_count": 5,
   "id": "stopped-retention",
   "metadata": {},
   "outputs": [],
   "source": [
    "# Clean the movie description\n",
    "def clean_description( text_str ):\n",
    "    text = re.sub('[^a-zA-Z]',  ' ', text_str)\n",
    "    text = re.sub(r'\\s+[a-zA-Z]\\s+', ' ', text)\n",
    "    text = re.sub(r'\\s+', ' ', text)\n",
    "    return text\n",
    "\n",
    "for i, description in dataset_df['Description'].iteritems():\n",
    "    dataset_df.iloc[i]['Description'] = clean_description( str(description) )"
   ]
  },
  {
   "cell_type": "code",
   "execution_count": 6,
   "id": "atmospheric-southwest",
   "metadata": {},
   "outputs": [],
   "source": [
    "pickle.dump(dataset_df, open('./data/dataset_df_cleaned.pkl', 'wb'))"
   ]
  },
  {
   "cell_type": "markdown",
   "id": "nearby-planner",
   "metadata": {},
   "source": [
    "## Data Distribution"
   ]
  },
  {
   "cell_type": "code",
   "execution_count": 7,
   "id": "respective-timer",
   "metadata": {},
   "outputs": [
    {
     "data": {
      "image/png": "[encoded data removed]",
      "text/plain": [
       "<Figure size 576x432 with 1 Axes>"
      ]
     },
     "metadata": {
      "needs_background": "light"
     },
     "output_type": "display_data"
    }
   ],
   "source": [
    "import matplotlib.pyplot as plt\n",
    "fig = plt.figure(figsize=(8,6))\n",
    "dataset_df.groupby('Rating')['Description'].count().plot.bar(ylim=0)\n",
    "plt.show()"
   ]
  },
  {
   "cell_type": "markdown",
   "id": "posted-entrance",
   "metadata": {},
   "source": [
    "## Training model"
   ]
  },
  {
   "cell_type": "code",
   "execution_count": 8,
   "id": "configured-skiing",
   "metadata": {},
   "outputs": [],
   "source": [
    "training_df = pickle.load( open('./data/dataset_df_cleaned.pkl', 'rb') )"
   ]
  },
  {
   "cell_type": "code",
   "execution_count": 9,
   "id": "fresh-mechanism",
   "metadata": {},
   "outputs": [],
   "source": [
    "from sklearn.model_selection import train_test_split\n",
    "from sklearn.preprocessing import LabelEncoder\n",
    "from keras.preprocessing.text import one_hot, Tokenizer\n",
    "from keras.preprocessing.sequence import pad_sequences\n",
    "from keras.utils import to_categorical\n",
    "from keras.models import Sequential, load_model\n",
    "from keras.layers import Dense, Flatten, LSTM, Embedding, GlobalMaxPooling1D"
   ]
  },
  {
   "cell_type": "code",
   "execution_count": 10,
   "id": "interesting-device",
   "metadata": {},
   "outputs": [
    {
     "data": {
      "text/plain": [
       "array([4, 4, 4, ..., 5, 4, 4])"
      ]
     },
     "execution_count": 10,
     "metadata": {},
     "output_type": "execute_result"
    }
   ],
   "source": [
    "_y = training_df['Rating']\n",
    "encoder = LabelEncoder()\n",
    "Y = encoder.fit_transform(_y)\n",
    "Y"
   ]
  },
  {
   "cell_type": "code",
   "execution_count": 11,
   "id": "focused-evidence",
   "metadata": {},
   "outputs": [
    {
     "data": {
      "text/plain": [
       "0        The Fast and the Furious director Rob Cohen co...\n",
       "1        The journey of professional wrestler who becom...\n",
       "2        Dead pan Leslie Nielsen stars as Dick Steele a...\n",
       "3        Director Uli Edel teams with screenwriter Bern...\n",
       "4        One of cluster of late films about the Vietnam...\n",
       "                               ...                        \n",
       "29805    Filmed at least nine times over the last nine ...\n",
       "29806    Fred MacMurray stars in this Walt Disney comed...\n",
       "29807    A resident of rd century Earth becomes involve...\n",
       "29808    Supernova chronicles the search and rescue pat...\n",
       "29809    For years there have been documented cases of ...\n",
       "Name: Description, Length: 29810, dtype: object"
      ]
     },
     "execution_count": 11,
     "metadata": {},
     "output_type": "execute_result"
    }
   ],
   "source": [
    "X = training_df['Description']\n",
    "X"
   ]
  },
  {
   "cell_type": "markdown",
   "id": "changing-internship",
   "metadata": {},
   "source": [
    "## Train, test split"
   ]
  },
  {
   "cell_type": "code",
   "execution_count": 12,
   "id": "universal-split",
   "metadata": {},
   "outputs": [],
   "source": [
    "X_train, X_test, Y_train, Y_test = train_test_split( X, Y, test_size=0.3, random_state=40 )"
   ]
  },
  {
   "cell_type": "code",
   "execution_count": 13,
   "id": "animal-mount",
   "metadata": {},
   "outputs": [],
   "source": [
    "Y_train = to_categorical(Y_train)\n",
    "Y_test  = to_categorical(Y_test)"
   ]
  },
  {
   "cell_type": "code",
   "execution_count": 14,
   "id": "charming-sydney",
   "metadata": {},
   "outputs": [],
   "source": [
    "tokenizer = Tokenizer(num_words=10000)\n",
    "tokenizer.fit_on_texts(X_train)"
   ]
  },
  {
   "cell_type": "code",
   "execution_count": 15,
   "id": "reported-hayes",
   "metadata": {},
   "outputs": [],
   "source": [
    "X_train = tokenizer.texts_to_sequences(X_train)\n",
    "X_test  = tokenizer.texts_to_sequences(X_test)"
   ]
  },
  {
   "cell_type": "code",
   "execution_count": 16,
   "id": "expected-hunter",
   "metadata": {},
   "outputs": [],
   "source": [
    "vocabulary_size = len(tokenizer.word_index) + 1\n",
    "maxlen = 400 # Only concider first 400 words of each description\n",
    "\n",
    "X_train = pad_sequences( X_train, maxlen=maxlen )\n",
    "X_test  = pad_sequences( X_test, maxlen=maxlen )"
   ]
  },
  {
   "cell_type": "markdown",
   "id": "ruled-memphis",
   "metadata": {},
   "source": [
    "## Use GloVe : Global Vectors for Word Representation\n",
    "https://nlp.stanford.edu/projects/glove/\n",
    "\n",
    "GloVe is an unsupervised learning algorithm for obtaining vector representations for words. Training is performed on aggregated global word-word co-occurrence statistics from a corpus, and the resulting representations showcase interesting linear substructures of the word vector space. "
   ]
  },
  {
   "cell_type": "code",
   "execution_count": 17,
   "id": "chronic-perception",
   "metadata": {},
   "outputs": [],
   "source": [
    "glove_file = open('./glove.6B/glove.6B.100d.txt', encoding='utf8')"
   ]
  },
  {
   "cell_type": "code",
   "execution_count": 18,
   "id": "polished-oxford",
   "metadata": {},
   "outputs": [],
   "source": [
    "embedd_dictionary = dict()\n",
    "for line in glove_file:\n",
    "    records = line.split()\n",
    "    word = records[0]\n",
    "    vector_dims = np.asarray(records[1:], dtype='float32')\n",
    "    embedd_dictionary[word] = vector_dims\n",
    "\n",
    "glove_file.close()"
   ]
  },
  {
   "cell_type": "code",
   "execution_count": 19,
   "id": "random-anxiety",
   "metadata": {},
   "outputs": [],
   "source": [
    "embedd_matrix = np.zeros((vocabulary_size, 100))\n",
    "for word, index in tokenizer.word_index.items():\n",
    "    embedd_vector = embedd_dictionary.get(word)\n",
    "    if embedd_vector is not None:\n",
    "        embedd_matrix[index] = embedd_vector"
   ]
  },
  {
   "cell_type": "markdown",
   "id": "posted-disney",
   "metadata": {},
   "source": [
    "## Build the NN Model"
   ]
  },
  {
   "cell_type": "code",
   "execution_count": 20,
   "id": "exempt-likelihood",
   "metadata": {},
   "outputs": [
    {
     "name": "stdout",
     "output_type": "stream",
     "text": [
      "Model: \"sequential\"\n",
      "_________________________________________________________________\n",
      "Layer (type)                 Output Shape              Param #   \n",
      "=================================================================\n",
      "embedding (Embedding)        (None, None, 100)         5635900   \n",
      "_________________________________________________________________\n",
      "lstm (LSTM)                  (None, 128)               117248    \n",
      "_________________________________________________________________\n",
      "dense (Dense)                (None, 6)                 774       \n",
      "=================================================================\n",
      "Total params: 5,753,922\n",
      "Trainable params: 118,022\n",
      "Non-trainable params: 5,635,900\n",
      "_________________________________________________________________\n"
     ]
    }
   ],
   "source": [
    "model = Sequential()\n",
    "model.add(Embedding(input_dim=vocabulary_size, output_dim=100, weights=[embedd_matrix], trainable=False))\n",
    "model.add(LSTM(units=128, dropout=0.2, recurrent_dropout=0.2))\n",
    "model.add(Dense(6, activation='softmax'))\n",
    "model.compile(loss='categorical_crossentropy', optimizer='adam', metrics=['accuracy'])\n",
    "model.summary()"
   ]
  },
  {
   "cell_type": "code",
   "execution_count": 21,
   "id": "imposed-french",
   "metadata": {},
   "outputs": [
    {
     "name": "stdout",
     "output_type": "stream",
     "text": [
      "Epoch 1/40\n",
      "115/115 [==============================] - 164s 1s/step - loss: 1.5095 - accuracy: 0.3439 - val_loss: 1.4125 - val_accuracy: 0.4055\n",
      "Epoch 2/40\n",
      "115/115 [==============================] - 162s 1s/step - loss: 1.3971 - accuracy: 0.4056 - val_loss: 1.3069 - val_accuracy: 0.4479\n",
      "Epoch 3/40\n",
      "115/115 [==============================] - 132s 1s/step - loss: 1.3153 - accuracy: 0.4437 - val_loss: 1.3305 - val_accuracy: 0.4183\n",
      "Epoch 4/40\n",
      "115/115 [==============================] - 75s 654ms/step - loss: 1.2823 - accuracy: 0.4509 - val_loss: 1.2594 - val_accuracy: 0.4622\n",
      "Epoch 5/40\n",
      "115/115 [==============================] - 80s 701ms/step - loss: 1.2385 - accuracy: 0.4801 - val_loss: 1.2706 - val_accuracy: 0.4581\n",
      "Epoch 6/40\n",
      "115/115 [==============================] - 76s 665ms/step - loss: 1.2255 - accuracy: 0.4933 - val_loss: 1.2076 - val_accuracy: 0.4988\n",
      "Epoch 7/40\n",
      "115/115 [==============================] - 73s 633ms/step - loss: 1.1843 - accuracy: 0.5162 - val_loss: 1.1897 - val_accuracy: 0.4975\n",
      "Epoch 8/40\n",
      "115/115 [==============================] - 74s 643ms/step - loss: 1.1576 - accuracy: 0.5251 - val_loss: 1.1828 - val_accuracy: 0.5061\n",
      "Epoch 9/40\n",
      "115/115 [==============================] - 76s 658ms/step - loss: 1.1277 - accuracy: 0.5394 - val_loss: 1.1677 - val_accuracy: 0.5192\n",
      "Epoch 10/40\n",
      "115/115 [==============================] - 79s 691ms/step - loss: 1.1041 - accuracy: 0.5527 - val_loss: 1.1418 - val_accuracy: 0.5264\n",
      "Epoch 11/40\n",
      "115/115 [==============================] - 83s 721ms/step - loss: 1.0561 - accuracy: 0.5750 - val_loss: 1.1319 - val_accuracy: 0.5341\n",
      "Epoch 12/40\n",
      "115/115 [==============================] - 83s 721ms/step - loss: 1.0139 - accuracy: 0.5928 - val_loss: 1.1215 - val_accuracy: 0.5521\n",
      "Epoch 13/40\n",
      "115/115 [==============================] - 86s 747ms/step - loss: 0.9882 - accuracy: 0.6029 - val_loss: 1.1040 - val_accuracy: 0.5561\n",
      "Epoch 14/40\n",
      "115/115 [==============================] - 82s 716ms/step - loss: 0.9684 - accuracy: 0.6126 - val_loss: 1.0970 - val_accuracy: 0.5576\n",
      "Epoch 15/40\n",
      "115/115 [==============================] - 76s 665ms/step - loss: 0.9238 - accuracy: 0.6354 - val_loss: 1.0977 - val_accuracy: 0.5621\n",
      "Epoch 16/40\n",
      "115/115 [==============================] - 72s 627ms/step - loss: 0.8880 - accuracy: 0.6544 - val_loss: 1.0894 - val_accuracy: 0.5700\n",
      "Epoch 17/40\n",
      "115/115 [==============================] - 73s 637ms/step - loss: 0.8378 - accuracy: 0.6738 - val_loss: 1.0835 - val_accuracy: 0.5866\n",
      "Epoch 18/40\n",
      "115/115 [==============================] - 71s 622ms/step - loss: 0.8320 - accuracy: 0.6787 - val_loss: 1.0294 - val_accuracy: 0.6010\n",
      "Epoch 19/40\n",
      "115/115 [==============================] - 70s 606ms/step - loss: 0.7741 - accuracy: 0.7128 - val_loss: 1.0104 - val_accuracy: 0.6157\n",
      "Epoch 20/40\n",
      "115/115 [==============================] - 68s 596ms/step - loss: 0.7360 - accuracy: 0.7230 - val_loss: 1.0032 - val_accuracy: 0.6188\n",
      "Epoch 21/40\n",
      "115/115 [==============================] - 69s 597ms/step - loss: 0.7050 - accuracy: 0.7363 - val_loss: 1.0274 - val_accuracy: 0.6168\n",
      "Epoch 22/40\n",
      "115/115 [==============================] - 68s 595ms/step - loss: 0.6896 - accuracy: 0.7394 - val_loss: 1.0207 - val_accuracy: 0.6229\n",
      "Epoch 23/40\n",
      "115/115 [==============================] - 81s 706ms/step - loss: 0.6936 - accuracy: 0.7386 - val_loss: 0.9944 - val_accuracy: 0.6376\n",
      "Epoch 24/40\n",
      "115/115 [==============================] - 88s 770ms/step - loss: 0.6256 - accuracy: 0.7662 - val_loss: 1.0159 - val_accuracy: 0.6416\n",
      "Epoch 25/40\n",
      "115/115 [==============================] - 78s 681ms/step - loss: 0.6013 - accuracy: 0.7742 - val_loss: 0.9651 - val_accuracy: 0.6568\n",
      "Epoch 26/40\n",
      "115/115 [==============================] - 77s 674ms/step - loss: 0.5857 - accuracy: 0.7832 - val_loss: 0.9791 - val_accuracy: 0.6536\n",
      "Epoch 27/40\n",
      "115/115 [==============================] - 80s 694ms/step - loss: 0.5613 - accuracy: 0.7948 - val_loss: 0.9741 - val_accuracy: 0.6697\n",
      "Epoch 28/40\n",
      "115/115 [==============================] - 77s 670ms/step - loss: 0.5376 - accuracy: 0.8054 - val_loss: 0.9613 - val_accuracy: 0.6686\n",
      "Epoch 29/40\n",
      "115/115 [==============================] - 76s 660ms/step - loss: 0.5126 - accuracy: 0.8131 - val_loss: 0.9749 - val_accuracy: 0.6727\n",
      "Epoch 30/40\n",
      "115/115 [==============================] - 78s 678ms/step - loss: 0.4976 - accuracy: 0.8230 - val_loss: 0.9619 - val_accuracy: 0.6830\n",
      "Epoch 31/40\n",
      "115/115 [==============================] - 80s 693ms/step - loss: 0.4796 - accuracy: 0.8252 - val_loss: 0.9529 - val_accuracy: 0.6879\n",
      "Epoch 32/40\n",
      "115/115 [==============================] - 84s 734ms/step - loss: 0.4605 - accuracy: 0.8405 - val_loss: 0.9581 - val_accuracy: 0.6938\n",
      "Epoch 33/40\n",
      "115/115 [==============================] - 86s 747ms/step - loss: 0.4607 - accuracy: 0.8390 - val_loss: 0.9943 - val_accuracy: 0.6833\n",
      "Epoch 34/40\n",
      "115/115 [==============================] - 84s 727ms/step - loss: 0.4459 - accuracy: 0.8375 - val_loss: 0.9918 - val_accuracy: 0.6887\n",
      "Epoch 35/40\n",
      "115/115 [==============================] - 75s 652ms/step - loss: 0.4396 - accuracy: 0.8429 - val_loss: 0.9683 - val_accuracy: 0.7036\n",
      "Epoch 36/40\n",
      "115/115 [==============================] - 75s 652ms/step - loss: 0.3859 - accuracy: 0.8663 - val_loss: 0.9878 - val_accuracy: 0.7021\n",
      "Epoch 37/40\n",
      "115/115 [==============================] - 74s 644ms/step - loss: 0.3937 - accuracy: 0.8595 - val_loss: 0.9745 - val_accuracy: 0.7077\n",
      "Epoch 38/40\n",
      "115/115 [==============================] - 78s 683ms/step - loss: 0.3834 - accuracy: 0.8648 - val_loss: 0.9826 - val_accuracy: 0.7042\n",
      "Epoch 39/40\n",
      "115/115 [==============================] - 90s 784ms/step - loss: 0.3623 - accuracy: 0.8714 - val_loss: 1.0165 - val_accuracy: 0.7056\n",
      "Epoch 40/40\n",
      "115/115 [==============================] - 81s 702ms/step - loss: 0.3656 - accuracy: 0.8729 - val_loss: 0.9834 - val_accuracy: 0.7106\n"
     ]
    }
   ],
   "source": [
    "hist = model.fit(X_train, Y_train, batch_size=128, epochs=40, validation_split=0.30, verbose=1)"
   ]
  },
  {
   "cell_type": "code",
   "execution_count": 22,
   "id": "commercial-imperial",
   "metadata": {},
   "outputs": [
    {
     "name": "stdout",
     "output_type": "stream",
     "text": [
      "280/280 [==============================] - 16s 59ms/step - loss: 0.9836 - accuracy: 0.7125\n",
      "loss:  0.9836333394050598\n",
      "accuracy:  0.7125125527381897\n"
     ]
    }
   ],
   "source": [
    "loss, acc = model.evaluate(X_test, Y_test, verbose=1)\n",
    "print('loss: ', loss)\n",
    "print('accuracy: ', acc)"
   ]
  },
  {
   "cell_type": "markdown",
   "id": "animated-thunder",
   "metadata": {},
   "source": [
    "## Save model and tokenizer"
   ]
  },
  {
   "cell_type": "code",
   "execution_count": 23,
   "id": "beginning-forward",
   "metadata": {},
   "outputs": [],
   "source": [
    "# save model\n",
    "model.save('./data/mpaa_classifier.h5')\n",
    "\n",
    "# save word tokenizer\n",
    "pickle.dump(tokenizer, open('./data/tokenizer.pkl', 'wb'))"
   ]
  },
  {
   "cell_type": "markdown",
   "id": "worth-sweden",
   "metadata": {},
   "source": [
    "## Metrics"
   ]
  },
  {
   "cell_type": "code",
   "execution_count": 24,
   "id": "valuable-slovenia",
   "metadata": {},
   "outputs": [
    {
     "data": {
      "image/png": "[encoded data removed]",
      "text/plain": [
       "<Figure size 432x288 with 1 Axes>"
      ]
     },
     "metadata": {
      "needs_background": "light"
     },
     "output_type": "display_data"
    }
   ],
   "source": [
    "plt.plot(hist.history['accuracy'])\n",
    "plt.plot(hist.history['val_accuracy'])\n",
    "plt.title('Model Accuracy')\n",
    "plt.ylabel('Accuracy')\n",
    "plt.xlabel('# Epochs')\n",
    "plt.legend(['train', 'test'])\n",
    "plt.show()"
   ]
  },
  {
   "cell_type": "code",
   "execution_count": 25,
   "id": "interior-pharmacy",
   "metadata": {},
   "outputs": [
    {
     "data": {
      "image/png": "[encoded data removed]",
      "text/plain": [
       "<Figure size 432x288 with 1 Axes>"
      ]
     },
     "metadata": {
      "needs_background": "light"
     },
     "output_type": "display_data"
    }
   ],
   "source": [
    "plt.plot(hist.history['loss'])\n",
    "plt.plot(hist.history['val_loss'])\n",
    "plt.title('Model Loss')\n",
    "plt.ylabel('Loss')\n",
    "plt.xlabel('# Epochs')\n",
    "plt.legend(['train', 'test'])\n",
    "plt.show()"
   ]
  },
  {
   "cell_type": "code",
   "execution_count": null,
   "id": "velvet-outreach",
   "metadata": {},
   "outputs": [],
   "source": []
  }
 ],
 "metadata": {
  "kernelspec": {
   "display_name": "Python 3",
   "language": "python",
   "name": "python3"
  },
  "language_info": {
   "codemirror_mode": {
    "name": "ipython",
    "version": 3
   },
   "file_extension": ".py",
   "mimetype": "text/x-python",
   "name": "python",
   "nbconvert_exporter": "python",
   "pygments_lexer": "ipython3",
   "version": "3.8.5"
  }
 },
 "nbformat": 4,
 "nbformat_minor": 5
}
