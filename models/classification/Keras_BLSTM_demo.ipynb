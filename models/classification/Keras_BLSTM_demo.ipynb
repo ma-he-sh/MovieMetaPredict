{
 "cells": [
  {
   "cell_type": "markdown",
   "id": "recognized-television",
   "metadata": {},
   "source": [
    "## MPAA rating prediction"
   ]
  },
  {
   "cell_type": "code",
   "execution_count": 127,
   "id": "instant-angel",
   "metadata": {},
   "outputs": [],
   "source": [
    "import pandas as pd\n",
    "import numpy as np\n",
    "import warnings\n",
    "import re\n",
    "import pickle\n",
    "import seaborn as sns\n",
    "\n",
    "%matplotlib inline\n",
    "warnings.filterwarnings('ignore')"
   ]
  },
  {
   "cell_type": "markdown",
   "id": "featured-freight",
   "metadata": {},
   "source": [
    "Import dataset :: using the rotten tomatoes dataset"
   ]
  },
  {
   "cell_type": "code",
   "execution_count": 128,
   "id": "harmful-developer",
   "metadata": {},
   "outputs": [
    {
     "data": {
      "text/html": [
       "<div>\n",
       "<style scoped>\n",
       "    .dataframe tbody tr th:only-of-type {\n",
       "        vertical-align: middle;\n",
       "    }\n",
       "\n",
       "    .dataframe tbody tr th {\n",
       "        vertical-align: top;\n",
       "    }\n",
       "\n",
       "    .dataframe thead th {\n",
       "        text-align: right;\n",
       "    }\n",
       "</style>\n",
       "<table border=\"1\" class=\"dataframe\">\n",
       "  <thead>\n",
       "    <tr style=\"text-align: right;\">\n",
       "      <th></th>\n",
       "      <th>Title</th>\n",
       "      <th>Rating</th>\n",
       "      <th>Description</th>\n",
       "    </tr>\n",
       "  </thead>\n",
       "  <tbody>\n",
       "    <tr>\n",
       "      <th>0</th>\n",
       "      <td>The Mummy: Tomb of the Dragon Emperor</td>\n",
       "      <td>PG-13</td>\n",
       "      <td>The Fast and the Furious director Rob Cohen co...</td>\n",
       "    </tr>\n",
       "    <tr>\n",
       "      <th>1</th>\n",
       "      <td>The Masked Saint</td>\n",
       "      <td>PG-13</td>\n",
       "      <td>The journey of a professional wrestler who bec...</td>\n",
       "    </tr>\n",
       "    <tr>\n",
       "      <th>2</th>\n",
       "      <td>Spy Hard</td>\n",
       "      <td>PG-13</td>\n",
       "      <td>Dead pan Leslie Nielsen stars as Dick Steele, ...</td>\n",
       "    </tr>\n",
       "    <tr>\n",
       "      <th>3</th>\n",
       "      <td>Der Baader Meinhof Komplex (The Baader Meinhof...</td>\n",
       "      <td>R</td>\n",
       "      <td>Director Uli Edel teams with screenwriter Bern...</td>\n",
       "    </tr>\n",
       "  </tbody>\n",
       "</table>\n",
       "</div>"
      ],
      "text/plain": [
       "                                               Title  Rating  \\\n",
       "0              The Mummy: Tomb of the Dragon Emperor  PG-13    \n",
       "1                                   The Masked Saint  PG-13    \n",
       "2                                           Spy Hard   PG-13   \n",
       "3  Der Baader Meinhof Komplex (The Baader Meinhof...      R    \n",
       "\n",
       "                                         Description  \n",
       "0  The Fast and the Furious director Rob Cohen co...  \n",
       "1  The journey of a professional wrestler who bec...  \n",
       "2  Dead pan Leslie Nielsen stars as Dick Steele, ...  \n",
       "3  Director Uli Edel teams with screenwriter Bern...  "
      ]
     },
     "execution_count": 128,
     "metadata": {},
     "output_type": "execute_result"
    }
   ],
   "source": [
    "dataset_df = pd.read_csv( './rtt_dataset/all_movie.csv' )\n",
    "dataset_df = dataset_df[['Title', 'Rating', 'Description']]\n",
    "dataset_df.columns = dataset_df.columns.str.strip()\n",
    "dataset_df.head(4)"
   ]
  },
  {
   "cell_type": "code",
   "execution_count": 129,
   "id": "japanese-costa",
   "metadata": {},
   "outputs": [
    {
     "data": {
      "text/plain": [
       "array(['PG-13 ', 'PG-13', 'R ', 'NR', 'PG', 'G', 'PG ', 'R', 'G ', 'NR ',\n",
       "       'NC17', 'NC17 '], dtype=object)"
      ]
     },
     "execution_count": 129,
     "metadata": {},
     "output_type": "execute_result"
    }
   ],
   "source": [
    "# finding unique mpaa rating in the dataset\n",
    "dataset_df['Rating'].unique()"
   ]
  },
  {
   "cell_type": "code",
   "execution_count": 130,
   "id": "developed-craft",
   "metadata": {},
   "outputs": [],
   "source": [
    "# clean mpaa ratings\n",
    "mpaa_fix = {\n",
    "    'PG-13 ' : 'PG-13',\n",
    "    'R ' : 'R',\n",
    "    'PG ': 'PG',\n",
    "    'G ' : 'G',\n",
    "    'NR ': 'NR',\n",
    "    'NC17 ': 'NC17'\n",
    "}\n",
    "for i, rating in dataset_df['Rating'].iteritems():\n",
    "    if rating in mpaa_fix.keys():\n",
    "        fix_val = mpaa_fix.get(rating)\n",
    "        dataset_df.iloc[i]['Rating'] = fix_val"
   ]
  },
  {
   "cell_type": "code",
   "execution_count": 131,
   "id": "stopped-retention",
   "metadata": {},
   "outputs": [
    {
     "data": {
      "text/html": [
       "<div>\n",
       "<style scoped>\n",
       "    .dataframe tbody tr th:only-of-type {\n",
       "        vertical-align: middle;\n",
       "    }\n",
       "\n",
       "    .dataframe tbody tr th {\n",
       "        vertical-align: top;\n",
       "    }\n",
       "\n",
       "    .dataframe thead th {\n",
       "        text-align: right;\n",
       "    }\n",
       "</style>\n",
       "<table border=\"1\" class=\"dataframe\">\n",
       "  <thead>\n",
       "    <tr style=\"text-align: right;\">\n",
       "      <th></th>\n",
       "      <th>Title</th>\n",
       "      <th>Rating</th>\n",
       "      <th>Description</th>\n",
       "      <th>cleanedDescr</th>\n",
       "    </tr>\n",
       "  </thead>\n",
       "  <tbody>\n",
       "    <tr>\n",
       "      <th>0</th>\n",
       "      <td>The Mummy: Tomb of the Dragon Emperor</td>\n",
       "      <td>PG-13</td>\n",
       "      <td>The Fast and the Furious director Rob Cohen co...</td>\n",
       "      <td>The Fast and the Furious director Rob Cohen co...</td>\n",
       "    </tr>\n",
       "    <tr>\n",
       "      <th>1</th>\n",
       "      <td>The Masked Saint</td>\n",
       "      <td>PG-13</td>\n",
       "      <td>The journey of a professional wrestler who bec...</td>\n",
       "      <td>The journey of professional wrestler who becom...</td>\n",
       "    </tr>\n",
       "    <tr>\n",
       "      <th>2</th>\n",
       "      <td>Spy Hard</td>\n",
       "      <td>PG-13</td>\n",
       "      <td>Dead pan Leslie Nielsen stars as Dick Steele, ...</td>\n",
       "      <td>Dead pan Leslie Nielsen stars as Dick Steele a...</td>\n",
       "    </tr>\n",
       "    <tr>\n",
       "      <th>3</th>\n",
       "      <td>Der Baader Meinhof Komplex (The Baader Meinhof...</td>\n",
       "      <td>R</td>\n",
       "      <td>Director Uli Edel teams with screenwriter Bern...</td>\n",
       "      <td>Director Uli Edel teams with screenwriter Bern...</td>\n",
       "    </tr>\n",
       "  </tbody>\n",
       "</table>\n",
       "</div>"
      ],
      "text/plain": [
       "                                               Title Rating  \\\n",
       "0              The Mummy: Tomb of the Dragon Emperor  PG-13   \n",
       "1                                   The Masked Saint  PG-13   \n",
       "2                                           Spy Hard  PG-13   \n",
       "3  Der Baader Meinhof Komplex (The Baader Meinhof...      R   \n",
       "\n",
       "                                         Description  \\\n",
       "0  The Fast and the Furious director Rob Cohen co...   \n",
       "1  The journey of a professional wrestler who bec...   \n",
       "2  Dead pan Leslie Nielsen stars as Dick Steele, ...   \n",
       "3  Director Uli Edel teams with screenwriter Bern...   \n",
       "\n",
       "                                        cleanedDescr  \n",
       "0  The Fast and the Furious director Rob Cohen co...  \n",
       "1  The journey of professional wrestler who becom...  \n",
       "2  Dead pan Leslie Nielsen stars as Dick Steele a...  \n",
       "3  Director Uli Edel teams with screenwriter Bern...  "
      ]
     },
     "execution_count": 131,
     "metadata": {},
     "output_type": "execute_result"
    }
   ],
   "source": [
    "# Clean the movie description\n",
    "def clean_description( text_str ):\n",
    "    text = re.sub('[^a-zA-Z]',  ' ', text_str)\n",
    "    text = re.sub(r'\\s+[a-zA-Z]\\s+', ' ', text)\n",
    "    text = re.sub(r'\\s+', ' ', text)\n",
    "    return text\n",
    "\n",
    "cleaned_desc = []\n",
    "for i, description in dataset_df['Description'].iteritems():\n",
    "    cleaned_desc.append( clean_description( str(description) ) )\n",
    "\n",
    "dataset_df['cleanedDescr'] = cleaned_desc\n",
    "dataset_df.head(4)"
   ]
  },
  {
   "cell_type": "code",
   "execution_count": 132,
   "id": "65fe4c2f",
   "metadata": {},
   "outputs": [
    {
     "name": "stdout",
     "output_type": "stream",
     "text": [
      "<class 'pandas.core.frame.DataFrame'>\n",
      "RangeIndex: 29810 entries, 0 to 29809\n",
      "Data columns (total 4 columns):\n",
      " #   Column        Non-Null Count  Dtype \n",
      "---  ------        --------------  ----- \n",
      " 0   Title         29810 non-null  object\n",
      " 1   Rating        29810 non-null  object\n",
      " 2   Description   29807 non-null  object\n",
      " 3   cleanedDescr  29810 non-null  object\n",
      "dtypes: object(4)\n",
      "memory usage: 931.7+ KB\n"
     ]
    }
   ],
   "source": [
    "dataset_df.info()"
   ]
  },
  {
   "cell_type": "code",
   "execution_count": 133,
   "id": "interested-quebec",
   "metadata": {},
   "outputs": [],
   "source": [
    "## drop G, NC-17\n",
    "dataset_df = dataset_df[dataset_df.Rating != 'NC17']"
   ]
  },
  {
   "cell_type": "code",
   "execution_count": 134,
   "id": "atmospheric-southwest",
   "metadata": {},
   "outputs": [],
   "source": [
    "pickle.dump(dataset_df, open('./data/dataset_df_cleaned_n_sample_exceptNC17BiD.pkl', 'wb'))"
   ]
  },
  {
   "cell_type": "markdown",
   "id": "444cf66c",
   "metadata": {},
   "source": [
    "### Further clean the description"
   ]
  },
  {
   "cell_type": "markdown",
   "id": "posted-entrance",
   "metadata": {},
   "source": [
    "## Training model"
   ]
  },
  {
   "cell_type": "code",
   "execution_count": 135,
   "id": "configured-skiing",
   "metadata": {},
   "outputs": [],
   "source": [
    "# training_df = pickle.load( open('./data/dataset_df_cleaned_n_sample_exceptNC17BiD_cleaned.pkl', 'rb') )\n",
    "training_df = pickle.load( open('./data/dataset_df_cleaned_n_sample_exceptNC17BiD.pkl', 'rb') )"
   ]
  },
  {
   "cell_type": "code",
   "execution_count": 136,
   "id": "83ebb736",
   "metadata": {},
   "outputs": [],
   "source": [
    "# fig = plt.figure(figsize=(8,6))\n",
    "# dataset_df.groupby('Rating')['cleanedDescr'].count().plot.bar(ylim=0)\n",
    "# plt.show()"
   ]
  },
  {
   "cell_type": "code",
   "execution_count": 137,
   "id": "fresh-mechanism",
   "metadata": {},
   "outputs": [],
   "source": [
    "from sklearn.model_selection import train_test_split\n",
    "from sklearn.preprocessing import LabelEncoder\n",
    "from keras.preprocessing.text import one_hot, Tokenizer\n",
    "from keras.preprocessing.sequence import pad_sequences\n",
    "from keras.utils import to_categorical\n",
    "from keras.models import Sequential, load_model\n",
    "from keras.layers import Dense, Flatten, LSTM, Embedding, GlobalMaxPooling1D, Bidirectional, Dropout\n",
    "from keras import regularizers"
   ]
  },
  {
   "cell_type": "code",
   "execution_count": 138,
   "id": "interesting-device",
   "metadata": {},
   "outputs": [
    {
     "data": {
      "text/plain": [
       "array([3, 3, 3, ..., 4, 3, 3])"
      ]
     },
     "execution_count": 138,
     "metadata": {},
     "output_type": "execute_result"
    }
   ],
   "source": [
    "_y = training_df['Rating']\n",
    "encoder = LabelEncoder()\n",
    "Y = encoder.fit_transform(_y)\n",
    "Y"
   ]
  },
  {
   "cell_type": "code",
   "execution_count": 139,
   "id": "952bce15",
   "metadata": {},
   "outputs": [
    {
     "data": {
      "text/plain": [
       "['G', 'NR', 'PG', 'PG-13', 'R']"
      ]
     },
     "execution_count": 139,
     "metadata": {},
     "output_type": "execute_result"
    }
   ],
   "source": [
    "le = encoder.fit(_y)\n",
    "labels = list(le.classes_)\n",
    "labels"
   ]
  },
  {
   "cell_type": "code",
   "execution_count": 140,
   "id": "focused-evidence",
   "metadata": {},
   "outputs": [
    {
     "data": {
      "text/plain": [
       "0        The Fast and the Furious director Rob Cohen co...\n",
       "1        The journey of professional wrestler who becom...\n",
       "2        Dead pan Leslie Nielsen stars as Dick Steele a...\n",
       "3        Director Uli Edel teams with screenwriter Bern...\n",
       "4        One of cluster of late films about the Vietnam...\n",
       "                               ...                        \n",
       "29805    Filmed at least nine times over the last nine ...\n",
       "29806    Fred MacMurray stars in this Walt Disney comed...\n",
       "29807    A resident of rd century Earth becomes involve...\n",
       "29808    Supernova chronicles the search and rescue pat...\n",
       "29809    For years there have been documented cases of ...\n",
       "Name: cleanedDescr, Length: 29719, dtype: object"
      ]
     },
     "execution_count": 140,
     "metadata": {},
     "output_type": "execute_result"
    }
   ],
   "source": [
    "X = training_df['cleanedDescr']\n",
    "X"
   ]
  },
  {
   "cell_type": "code",
   "execution_count": 141,
   "id": "97c4f739",
   "metadata": {},
   "outputs": [
    {
     "data": {
      "text/plain": [
       "729.3011877923215"
      ]
     },
     "execution_count": 141,
     "metadata": {},
     "output_type": "execute_result"
    }
   ],
   "source": [
    "description_lengths = []\n",
    "for i, description in training_df['cleanedDescr'].iteritems():\n",
    "    description_lengths.append( len(description) )\n",
    "max_description_length = np.mean( description_lengths )\n",
    "max_description_length"
   ]
  },
  {
   "cell_type": "markdown",
   "id": "changing-internship",
   "metadata": {},
   "source": [
    "## Train, test split"
   ]
  },
  {
   "cell_type": "code",
   "execution_count": 142,
   "id": "universal-split",
   "metadata": {},
   "outputs": [],
   "source": [
    "X_train, X_test, Y_train, Y_test = train_test_split( X, Y, test_size=0.3, random_state=40 )"
   ]
  },
  {
   "cell_type": "code",
   "execution_count": 143,
   "id": "animal-mount",
   "metadata": {},
   "outputs": [],
   "source": [
    "Y_train = to_categorical(Y_train)\n",
    "Y_test  = to_categorical(Y_test)"
   ]
  },
  {
   "cell_type": "code",
   "execution_count": 144,
   "id": "charming-sydney",
   "metadata": {},
   "outputs": [],
   "source": [
    "tokenizer = Tokenizer(num_words=10000)\n",
    "tokenizer.fit_on_texts(X_train)"
   ]
  },
  {
   "cell_type": "code",
   "execution_count": 145,
   "id": "reported-hayes",
   "metadata": {},
   "outputs": [],
   "source": [
    "X_train = tokenizer.texts_to_sequences(X_train)\n",
    "X_test  = tokenizer.texts_to_sequences(X_test)"
   ]
  },
  {
   "cell_type": "code",
   "execution_count": 146,
   "id": "b4ff8666",
   "metadata": {},
   "outputs": [
    {
     "data": {
      "text/plain": [
       "56507"
      ]
     },
     "execution_count": 146,
     "metadata": {},
     "output_type": "execute_result"
    }
   ],
   "source": [
    "vocabulary_size = len(tokenizer.word_index) + 1\n",
    "vocabulary_size"
   ]
  },
  {
   "cell_type": "code",
   "execution_count": 147,
   "id": "expected-hunter",
   "metadata": {},
   "outputs": [],
   "source": [
    "maxlen =  400 # Only concider first 400 words of each description\n",
    "\n",
    "X_train = pad_sequences( X_train, maxlen=maxlen )\n",
    "X_test  = pad_sequences( X_test, maxlen=maxlen )"
   ]
  },
  {
   "cell_type": "markdown",
   "id": "ruled-memphis",
   "metadata": {},
   "source": [
    "## Use GloVe : Global Vectors for Word Representation\n",
    "https://nlp.stanford.edu/projects/glove/\n",
    "\n",
    "GloVe is an unsupervised learning algorithm for obtaining vector representations for words. Training is performed on aggregated global word-word co-occurrence statistics from a corpus, and the resulting representations showcase interesting linear substructures of the word vector space. "
   ]
  },
  {
   "cell_type": "code",
   "execution_count": 148,
   "id": "chronic-perception",
   "metadata": {},
   "outputs": [],
   "source": [
    "glove_file = open('./glove.6B/glove.6B.100d.txt', encoding='utf8')"
   ]
  },
  {
   "cell_type": "code",
   "execution_count": 149,
   "id": "polished-oxford",
   "metadata": {},
   "outputs": [],
   "source": [
    "embedd_dictionary = dict()\n",
    "for line in glove_file:\n",
    "    records = line.split()\n",
    "    word = records[0]\n",
    "    vector_dims = np.asarray(records[1:], dtype='float32')\n",
    "    embedd_dictionary[word] = vector_dims\n",
    "\n",
    "glove_file.close()"
   ]
  },
  {
   "cell_type": "code",
   "execution_count": 150,
   "id": "random-anxiety",
   "metadata": {},
   "outputs": [
    {
     "data": {
      "text/plain": [
       "(56507, 100)"
      ]
     },
     "execution_count": 150,
     "metadata": {},
     "output_type": "execute_result"
    }
   ],
   "source": [
    "embedd_matrix = np.zeros((vocabulary_size, 100))\n",
    "for word, index in tokenizer.word_index.items():\n",
    "    embedd_vector = embedd_dictionary.get(word)\n",
    "    if embedd_vector is not None:\n",
    "        embedd_matrix[index] = embedd_vector\n",
    "embedd_matrix.shape"
   ]
  },
  {
   "cell_type": "code",
   "execution_count": 151,
   "id": "6e558479",
   "metadata": {},
   "outputs": [
    {
     "data": {
      "text/plain": [
       "100"
      ]
     },
     "execution_count": 151,
     "metadata": {},
     "output_type": "execute_result"
    }
   ],
   "source": [
    "output_dim = embedd_matrix.shape[1]\n",
    "output_dim"
   ]
  },
  {
   "cell_type": "markdown",
   "id": "posted-disney",
   "metadata": {},
   "source": [
    "## Build the NN Model"
   ]
  },
  {
   "cell_type": "code",
   "execution_count": 152,
   "id": "exempt-likelihood",
   "metadata": {
    "scrolled": false
   },
   "outputs": [
    {
     "name": "stdout",
     "output_type": "stream",
     "text": [
      "Model: \"sequential_3\"\n",
      "_________________________________________________________________\n",
      "Layer (type)                 Output Shape              Param #   \n",
      "=================================================================\n",
      "embedding_3 (Embedding)      (None, None, 100)         5650700   \n",
      "_________________________________________________________________\n",
      "bidirectional_3 (Bidirection (None, 512)               731136    \n",
      "_________________________________________________________________\n",
      "dropout_9 (Dropout)          (None, 512)               0         \n",
      "_________________________________________________________________\n",
      "dense_9 (Dense)              (None, 256)               131328    \n",
      "_________________________________________________________________\n",
      "dropout_10 (Dropout)         (None, 256)               0         \n",
      "_________________________________________________________________\n",
      "dense_10 (Dense)             (None, 64)                16448     \n",
      "_________________________________________________________________\n",
      "dropout_11 (Dropout)         (None, 64)                0         \n",
      "_________________________________________________________________\n",
      "dense_11 (Dense)             (None, 5)                 325       \n",
      "=================================================================\n",
      "Total params: 6,529,937\n",
      "Trainable params: 879,237\n",
      "Non-trainable params: 5,650,700\n",
      "_________________________________________________________________\n"
     ]
    }
   ],
   "source": [
    "model = Sequential()\n",
    "model.add(Embedding(input_dim=vocabulary_size, output_dim=output_dim, weights=[embedd_matrix], trainable=False))\n",
    "model.add( Bidirectional(LSTM(units=256, recurrent_dropout=0)) )\n",
    "model.add(Dropout(0.2))\n",
    "model.add(Dense(256, activation='relu', kernel_regularizer=regularizers.l2(0.001)))\n",
    "model.add(Dropout(0.2))\n",
    "model.add(Dense(64, activation='relu', kernel_regularizer=regularizers.l2(0.001)))\n",
    "model.add(Dropout(0.2))\n",
    "model.add(Dense(5, activation='softmax'))\n",
    "model.compile(loss='categorical_crossentropy', optimizer='adam', metrics=['accuracy'])\n",
    "model.summary()"
   ]
  },
  {
   "cell_type": "code",
   "execution_count": 153,
   "id": "9233c207",
   "metadata": {},
   "outputs": [],
   "source": [
    "import keras\n",
    "callback = [\n",
    "    keras.callbacks.EarlyStopping(patience=20, monitor='val_loss', verbose=2),\n",
    "    keras.callbacks.ModelCheckpoint(filepath='./data/checkpoint/BDLSTM.{epoch:02d}-{val_loss:.2f}.h5', save_best_only=True ),\n",
    "    keras.callbacks.TensorBoard(log_dir='./data/tf/logs'),\n",
    "]"
   ]
  },
  {
   "cell_type": "code",
   "execution_count": 154,
   "id": "imposed-french",
   "metadata": {},
   "outputs": [
    {
     "name": "stdout",
     "output_type": "stream",
     "text": [
      "Epoch 1/120\n",
      "326/326 [==============================] - 24s 69ms/step - loss: 1.6919 - accuracy: 0.3574 - val_loss: 1.4098 - val_accuracy: 0.4247\n",
      "Epoch 2/120\n",
      "326/326 [==============================] - 21s 66ms/step - loss: 1.4100 - accuracy: 0.4121 - val_loss: 1.2969 - val_accuracy: 0.4644\n",
      "Epoch 3/120\n",
      "326/326 [==============================] - 22s 66ms/step - loss: 1.2822 - accuracy: 0.4734 - val_loss: 1.2571 - val_accuracy: 0.4823\n",
      "Epoch 4/120\n",
      "326/326 [==============================] - 22s 67ms/step - loss: 1.2189 - accuracy: 0.5063 - val_loss: 1.2105 - val_accuracy: 0.5123\n",
      "Epoch 5/120\n",
      "326/326 [==============================] - 22s 67ms/step - loss: 1.1464 - accuracy: 0.5411 - val_loss: 1.1577 - val_accuracy: 0.5367\n",
      "Epoch 6/120\n",
      "326/326 [==============================] - 22s 68ms/step - loss: 1.0585 - accuracy: 0.5901 - val_loss: 1.1878 - val_accuracy: 0.5341\n",
      "Epoch 7/120\n",
      "326/326 [==============================] - 22s 68ms/step - loss: 1.0214 - accuracy: 0.6144 - val_loss: 1.0976 - val_accuracy: 0.5792\n",
      "Epoch 8/120\n",
      "326/326 [==============================] - 22s 68ms/step - loss: 0.8644 - accuracy: 0.6784 - val_loss: 1.0629 - val_accuracy: 0.6184\n",
      "Epoch 9/120\n",
      "326/326 [==============================] - 22s 68ms/step - loss: 0.7890 - accuracy: 0.7184 - val_loss: 0.9999 - val_accuracy: 0.6566\n",
      "Epoch 10/120\n",
      "326/326 [==============================] - 22s 68ms/step - loss: 0.6605 - accuracy: 0.7754 - val_loss: 0.9757 - val_accuracy: 0.6836\n",
      "Epoch 11/120\n",
      "326/326 [==============================] - 22s 69ms/step - loss: 0.5468 - accuracy: 0.8214 - val_loss: 0.9535 - val_accuracy: 0.7076\n",
      "Epoch 12/120\n",
      "326/326 [==============================] - 22s 68ms/step - loss: 0.4467 - accuracy: 0.8636 - val_loss: 0.9808 - val_accuracy: 0.7133\n",
      "Epoch 13/120\n",
      "326/326 [==============================] - 22s 68ms/step - loss: 0.4770 - accuracy: 0.8569 - val_loss: 0.9414 - val_accuracy: 0.7553\n",
      "Epoch 14/120\n",
      "326/326 [==============================] - 22s 68ms/step - loss: 0.3166 - accuracy: 0.9104 - val_loss: 0.9719 - val_accuracy: 0.7627\n",
      "Epoch 15/120\n",
      "326/326 [==============================] - 22s 68ms/step - loss: 0.2768 - accuracy: 0.9251 - val_loss: 1.0163 - val_accuracy: 0.7608\n",
      "Epoch 16/120\n",
      "326/326 [==============================] - 22s 68ms/step - loss: 0.2597 - accuracy: 0.9307 - val_loss: 1.0929 - val_accuracy: 0.7719\n",
      "Epoch 17/120\n",
      "326/326 [==============================] - 22s 68ms/step - loss: 0.2149 - accuracy: 0.9452 - val_loss: 1.0136 - val_accuracy: 0.7890\n",
      "Epoch 18/120\n",
      "326/326 [==============================] - 22s 68ms/step - loss: 0.1712 - accuracy: 0.9616 - val_loss: 1.0984 - val_accuracy: 0.7958\n",
      "Epoch 19/120\n",
      "326/326 [==============================] - 22s 69ms/step - loss: 0.2127 - accuracy: 0.9458 - val_loss: 1.1384 - val_accuracy: 0.7930\n",
      "Epoch 20/120\n",
      "326/326 [==============================] - 22s 69ms/step - loss: 0.1666 - accuracy: 0.9631 - val_loss: 1.1385 - val_accuracy: 0.7904\n",
      "Epoch 21/120\n",
      "326/326 [==============================] - 23s 69ms/step - loss: 0.1365 - accuracy: 0.9729 - val_loss: 1.1636 - val_accuracy: 0.8002\n",
      "Epoch 22/120\n",
      "326/326 [==============================] - 22s 69ms/step - loss: 0.1350 - accuracy: 0.9717 - val_loss: 1.1719 - val_accuracy: 0.8019\n",
      "Epoch 23/120\n",
      "326/326 [==============================] - 22s 69ms/step - loss: 0.1208 - accuracy: 0.9747 - val_loss: 1.1871 - val_accuracy: 0.8059\n",
      "Epoch 24/120\n",
      "326/326 [==============================] - 22s 69ms/step - loss: 0.0962 - accuracy: 0.9830 - val_loss: 1.1724 - val_accuracy: 0.8065\n",
      "Epoch 25/120\n",
      "326/326 [==============================] - 22s 69ms/step - loss: 0.0964 - accuracy: 0.9797 - val_loss: 1.1889 - val_accuracy: 0.7969\n",
      "Epoch 26/120\n",
      "326/326 [==============================] - 22s 69ms/step - loss: 0.1041 - accuracy: 0.9794 - val_loss: 1.2620 - val_accuracy: 0.8094\n",
      "Epoch 27/120\n",
      "326/326 [==============================] - 22s 69ms/step - loss: 0.0868 - accuracy: 0.9842 - val_loss: 1.1772 - val_accuracy: 0.8053\n",
      "Epoch 28/120\n",
      "326/326 [==============================] - 23s 69ms/step - loss: 0.0801 - accuracy: 0.9866 - val_loss: 1.1650 - val_accuracy: 0.8061\n",
      "Epoch 29/120\n",
      "326/326 [==============================] - 23s 69ms/step - loss: 0.0797 - accuracy: 0.9851 - val_loss: 1.2430 - val_accuracy: 0.8011\n",
      "Epoch 30/120\n",
      "326/326 [==============================] - 22s 69ms/step - loss: 0.0834 - accuracy: 0.9846 - val_loss: 1.2664 - val_accuracy: 0.7992\n",
      "Epoch 31/120\n",
      "326/326 [==============================] - 23s 69ms/step - loss: 0.0841 - accuracy: 0.9827 - val_loss: 1.2717 - val_accuracy: 0.8118\n",
      "Epoch 32/120\n",
      "326/326 [==============================] - 23s 69ms/step - loss: 0.0698 - accuracy: 0.9887 - val_loss: 1.2887 - val_accuracy: 0.8026\n",
      "Epoch 33/120\n",
      "326/326 [==============================] - 23s 69ms/step - loss: 0.0760 - accuracy: 0.9853 - val_loss: 1.2589 - val_accuracy: 0.8093\n",
      "Epoch 00033: early stopping\n"
     ]
    }
   ],
   "source": [
    "hist = model.fit(X_train, Y_train, batch_size=64, epochs=120, validation_data=(X_test, Y_test), verbose=1, callbacks=callback)"
   ]
  },
  {
   "cell_type": "code",
   "execution_count": 155,
   "id": "commercial-imperial",
   "metadata": {},
   "outputs": [
    {
     "name": "stdout",
     "output_type": "stream",
     "text": [
      "279/279 [==============================] - 6s 22ms/step - loss: 1.2589 - accuracy: 0.8093\n",
      "loss:  1.2589060068130493\n",
      "accuracy:  0.8093315362930298\n"
     ]
    }
   ],
   "source": [
    "loss, acc = model.evaluate(X_test, Y_test, verbose=1)\n",
    "print('loss: ', loss)\n",
    "print('accuracy: ', acc)"
   ]
  },
  {
   "cell_type": "markdown",
   "id": "animated-thunder",
   "metadata": {},
   "source": [
    "## Save model and tokenizer"
   ]
  },
  {
   "cell_type": "code",
   "execution_count": 156,
   "id": "beginning-forward",
   "metadata": {},
   "outputs": [],
   "source": [
    "# save model\n",
    "model.save('./data/mpaa_classifier_n_sample_exceptNC17BiD.h5')\n",
    "\n",
    "# save word tokenizer\n",
    "pickle.dump(tokenizer, open('./data/tokenizer_n_sample_exceptNC17BiD.pkl', 'wb'))"
   ]
  },
  {
   "cell_type": "markdown",
   "id": "5dbd2f72",
   "metadata": {},
   "source": [
    "## Model Architecture"
   ]
  },
  {
   "cell_type": "code",
   "execution_count": 157,
   "id": "b9946c57",
   "metadata": {},
   "outputs": [],
   "source": [
    "# load the saved model\n",
    "from keras.models import load_model\n",
    "model = load_model(\"./data/mpaa_classifier_n_sample_exceptNC17BiD.h5\")"
   ]
  },
  {
   "cell_type": "code",
   "execution_count": 158,
   "id": "f60e5f50",
   "metadata": {},
   "outputs": [
    {
     "data": {
      "image/png": "[encoded data removed]",
      "text/plain": [
       "<IPython.core.display.Image object>"
      ]
     },
     "execution_count": 158,
     "metadata": {},
     "output_type": "execute_result"
    }
   ],
   "source": [
    "from keras.utils.vis_utils import plot_model\n",
    "plot_model(model, to_file='model_plot.png', show_shapes=True, show_layer_names=True)"
   ]
  },
  {
   "cell_type": "markdown",
   "id": "worth-sweden",
   "metadata": {},
   "source": [
    "## Metrics"
   ]
  },
  {
   "cell_type": "code",
   "execution_count": 159,
   "id": "valuable-slovenia",
   "metadata": {},
   "outputs": [
    {
     "data": {
      "image/png": "[encoded data removed]",
      "text/plain": [
       "<Figure size 432x288 with 1 Axes>"
      ]
     },
     "metadata": {
      "needs_background": "light"
     },
     "output_type": "display_data"
    }
   ],
   "source": [
    "plt.plot(hist.history['accuracy'])\n",
    "plt.plot(hist.history['val_accuracy'])\n",
    "plt.title('Model Accuracy')\n",
    "plt.ylabel('Accuracy')\n",
    "plt.xlabel('# Epochs')\n",
    "plt.legend(['train', 'test'])\n",
    "plt.show()"
   ]
  },
  {
   "cell_type": "code",
   "execution_count": 160,
   "id": "interior-pharmacy",
   "metadata": {},
   "outputs": [
    {
     "data": {
      "image/png": "[encoded data removed]",
      "text/plain": [
       "<Figure size 432x288 with 1 Axes>"
      ]
     },
     "metadata": {
      "needs_background": "light"
     },
     "output_type": "display_data"
    }
   ],
   "source": [
    "plt.plot(hist.history['loss'])\n",
    "plt.plot(hist.history['val_loss'])\n",
    "plt.title('Model Loss')\n",
    "plt.ylabel('Loss')\n",
    "plt.xlabel('# Epochs')\n",
    "plt.legend(['train', 'test'])\n",
    "plt.show()"
   ]
  },
  {
   "cell_type": "markdown",
   "id": "52de737b",
   "metadata": {},
   "source": [
    "### Label maps"
   ]
  },
  {
   "cell_type": "code",
   "execution_count": 161,
   "id": "1ac72c56",
   "metadata": {},
   "outputs": [
    {
     "data": {
      "text/plain": [
       "['G', 'NR', 'PG', 'PG-13', 'R']"
      ]
     },
     "execution_count": 161,
     "metadata": {},
     "output_type": "execute_result"
    }
   ],
   "source": [
    "le = encoder.fit(_y)\n",
    "labels = list(le.classes_)\n",
    "labels"
   ]
  },
  {
   "cell_type": "code",
   "execution_count": 162,
   "id": "1d65423d",
   "metadata": {},
   "outputs": [
    {
     "data": {
      "text/plain": [
       "{'G': 0, 'NR': 1, 'PG': 2, 'PG-13': 3, 'R': 4}"
      ]
     },
     "execution_count": 162,
     "metadata": {},
     "output_type": "execute_result"
    }
   ],
   "source": [
    "class_names = dict(zip(le.classes_, le.transform(le.classes_)))\n",
    "class_names"
   ]
  },
  {
   "cell_type": "code",
   "execution_count": 163,
   "id": "df45fb97",
   "metadata": {},
   "outputs": [],
   "source": [
    "Y_pred = model.predict(X_test)"
   ]
  },
  {
   "cell_type": "code",
   "execution_count": 164,
   "id": "5479543f",
   "metadata": {},
   "outputs": [
    {
     "data": {
      "text/plain": [
       "<sklearn.metrics._plot.confusion_matrix.ConfusionMatrixDisplay at 0x7f26396b5c10>"
      ]
     },
     "execution_count": 164,
     "metadata": {},
     "output_type": "execute_result"
    },
    {
     "data": {
      "image/png": "[encoded data removed]",
      "text/plain": [
       "<Figure size 432x288 with 2 Axes>"
      ]
     },
     "metadata": {
      "needs_background": "light"
     },
     "output_type": "display_data"
    }
   ],
   "source": [
    "from sklearn.metrics import confusion_matrix, ConfusionMatrixDisplay\n",
    "\n",
    "cm = confusion_matrix(Y_test.argmax(axis=1), Y_pred.argmax(axis=1) )\n",
    "cmd = ConfusionMatrixDisplay(cm, display_labels=list(le.classes_))\n",
    "cmd.plot()"
   ]
  },
  {
   "cell_type": "code",
   "execution_count": 165,
   "id": "2b433d65",
   "metadata": {},
   "outputs": [
    {
     "name": "stdout",
     "output_type": "stream",
     "text": [
      "140/140 [==============================] - 4s 27ms/step\n",
      "              precision    recall  f1-score   support\n",
      "\n",
      "           0       0.88      0.83      0.85       491\n",
      "           1       0.80      0.82      0.81      2423\n",
      "           2       0.82      0.76      0.79      1234\n",
      "           3       0.79      0.72      0.76      1512\n",
      "           4       0.81      0.86      0.83      3256\n",
      "\n",
      "    accuracy                           0.81      8916\n",
      "   macro avg       0.82      0.80      0.81      8916\n",
      "weighted avg       0.81      0.81      0.81      8916\n",
      "\n"
     ]
    }
   ],
   "source": [
    "from sklearn.metrics import classification_report\n",
    "\n",
    "y_pred = model.predict(X_test, batch_size=64, verbose=1)\n",
    "y_pred_bool = np.argmax(Y_pred, axis=1)\n",
    "\n",
    "print(classification_report(Y_test.argmax(axis=1), y_pred_bool))\n"
   ]
  },
  {
   "cell_type": "markdown",
   "id": "33ea8242",
   "metadata": {},
   "source": [
    "---"
   ]
  },
  {
   "cell_type": "markdown",
   "id": "5ad98a98",
   "metadata": {},
   "source": [
    "## Demonstration"
   ]
  },
  {
   "cell_type": "code",
   "execution_count": 173,
   "id": "f8d44c16",
   "metadata": {},
   "outputs": [],
   "source": [
    "## Get tokenizer \n",
    "text_tokenizer = pickle.load(open('./data/tokenizer_n_sample_exceptNC17BiD.pkl', 'rb'))\n",
    "## Get saved model\n",
    "saved_model = load_model(\"./data/mpaa_classifier_n_sample_exceptNC17BiD.h5\")\n",
    "\n",
    "## prepare class names\n",
    "mpaa_labels = {0 : 'G', 1: 'NR', 2: 'PG', 3: 'PG-13', 4 : 'R'}\n",
    "\n",
    "## max length allowed for texts\n",
    "max_text_len= 420"
   ]
  },
  {
   "cell_type": "code",
   "execution_count": 174,
   "id": "e3812894",
   "metadata": {},
   "outputs": [],
   "source": [
    "import ipywidgets as widgets\n",
    "from ipywidgets import interact, interact_manual\n",
    "history = []"
   ]
  },
  {
   "cell_type": "code",
   "execution_count": 178,
   "id": "08693d32",
   "metadata": {},
   "outputs": [],
   "source": [
    "textarea = widgets.Textarea(\n",
    "    value='',\n",
    "    placeholder='Enter movie synopsis',\n",
    "    description='Synopsis:',\n",
    "    disabled=False,\n",
    "    width=600\n",
    ")"
   ]
  },
  {
   "cell_type": "code",
   "execution_count": 179,
   "id": "6cbc58a4",
   "metadata": {},
   "outputs": [],
   "source": [
    "def make_prediction(b):\n",
    "    val = textarea.value\n",
    "    if val is not None:\n",
    "        synopsisTKN = text_tokenizer.texts_to_sequences(val)\n",
    "        #print(\"TOKENIZATION=\", synopsisTKN)\n",
    "        \n",
    "        text_list = []\n",
    "        for sub_list in synopsisTKN:\n",
    "            for tm in sub_list:\n",
    "                text_list.append(tm)\n",
    "             \n",
    "        # add padding\n",
    "        synopsis = pad_sequences([text_list], maxlen=max_text_len)\n",
    "        #print(synopsis)\n",
    "        \n",
    "        # make prediction\n",
    "        pred = saved_model.predict_classes(synopsis)\n",
    "        _class_lable = mpaa_labels[pred[0]]\n",
    "        \n",
    "        record = {\n",
    "            \"label\" : _class_lable,\n",
    "            \"synopsis\" : val\n",
    "        }\n",
    "        \n",
    "        print(record)"
   ]
  },
  {
   "cell_type": "code",
   "execution_count": 180,
   "id": "44b6d97e",
   "metadata": {},
   "outputs": [
    {
     "data": {
      "application/vnd.jupyter.widget-view+json": {
       "model_id": "45ebc3afac8c46e88f405bb6e1f5d9b6",
       "version_major": 2,
       "version_minor": 0
      },
      "text/plain": [
       "VBox(children=(Textarea(value='', description='Synopsis:', placeholder='Enter movie synopsis'), Button(descrip…"
      ]
     },
     "metadata": {},
     "output_type": "display_data"
    },
    {
     "name": "stdout",
     "output_type": "stream",
     "text": [
      "{'label': 'NR', 'synopsis': 'aasd'}\n"
     ]
    }
   ],
   "source": [
    "submit = widgets.Button(description='Submit')\n",
    "submit.on_click(make_prediction)\n",
    "widgets.VBox([textarea,submit])"
   ]
  },
  {
   "cell_type": "code",
   "execution_count": null,
   "id": "cc1eb7bf",
   "metadata": {},
   "outputs": [],
   "source": []
  }
 ],
 "metadata": {
  "kernelspec": {
   "display_name": "Python 3",
   "language": "python",
   "name": "python3"
  },
  "language_info": {
   "codemirror_mode": {
    "name": "ipython",
    "version": 3
   },
   "file_extension": ".py",
   "mimetype": "text/x-python",
   "name": "python",
   "nbconvert_exporter": "python",
   "pygments_lexer": "ipython3",
   "version": "3.9.2"
  }
 },
 "nbformat": 4,
 "nbformat_minor": 5
}
