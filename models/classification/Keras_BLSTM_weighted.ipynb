{
 "cells": [
  {
   "cell_type": "markdown",
   "id": "recognized-television",
   "metadata": {},
   "source": [
    "## MPAA rating prediction"
   ]
  },
  {
   "cell_type": "code",
   "execution_count": 33,
   "id": "instant-angel",
   "metadata": {},
   "outputs": [],
   "source": [
    "import pandas as pd\n",
    "import numpy as np\n",
    "import warnings\n",
    "import re\n",
    "import pickle\n",
    "import seaborn as sns\n",
    "\n",
    "%matplotlib inline\n",
    "warnings.filterwarnings('ignore')"
   ]
  },
  {
   "cell_type": "markdown",
   "id": "featured-freight",
   "metadata": {},
   "source": [
    "Import dataset :: using the rotten tomatoes dataset"
   ]
  },
  {
   "cell_type": "code",
   "execution_count": 34,
   "id": "harmful-developer",
   "metadata": {},
   "outputs": [
    {
     "data": {
      "text/html": [
       "<div>\n",
       "<style scoped>\n",
       "    .dataframe tbody tr th:only-of-type {\n",
       "        vertical-align: middle;\n",
       "    }\n",
       "\n",
       "    .dataframe tbody tr th {\n",
       "        vertical-align: top;\n",
       "    }\n",
       "\n",
       "    .dataframe thead th {\n",
       "        text-align: right;\n",
       "    }\n",
       "</style>\n",
       "<table border=\"1\" class=\"dataframe\">\n",
       "  <thead>\n",
       "    <tr style=\"text-align: right;\">\n",
       "      <th></th>\n",
       "      <th>Title</th>\n",
       "      <th>Rating</th>\n",
       "      <th>Description</th>\n",
       "    </tr>\n",
       "  </thead>\n",
       "  <tbody>\n",
       "    <tr>\n",
       "      <th>0</th>\n",
       "      <td>The Mummy: Tomb of the Dragon Emperor</td>\n",
       "      <td>PG-13</td>\n",
       "      <td>The Fast and the Furious director Rob Cohen co...</td>\n",
       "    </tr>\n",
       "    <tr>\n",
       "      <th>1</th>\n",
       "      <td>The Masked Saint</td>\n",
       "      <td>PG-13</td>\n",
       "      <td>The journey of a professional wrestler who bec...</td>\n",
       "    </tr>\n",
       "    <tr>\n",
       "      <th>2</th>\n",
       "      <td>Spy Hard</td>\n",
       "      <td>PG-13</td>\n",
       "      <td>Dead pan Leslie Nielsen stars as Dick Steele, ...</td>\n",
       "    </tr>\n",
       "    <tr>\n",
       "      <th>3</th>\n",
       "      <td>Der Baader Meinhof Komplex (The Baader Meinhof...</td>\n",
       "      <td>R</td>\n",
       "      <td>Director Uli Edel teams with screenwriter Bern...</td>\n",
       "    </tr>\n",
       "  </tbody>\n",
       "</table>\n",
       "</div>"
      ],
      "text/plain": [
       "                                               Title  Rating  \\\n",
       "0              The Mummy: Tomb of the Dragon Emperor  PG-13    \n",
       "1                                   The Masked Saint  PG-13    \n",
       "2                                           Spy Hard   PG-13   \n",
       "3  Der Baader Meinhof Komplex (The Baader Meinhof...      R    \n",
       "\n",
       "                                         Description  \n",
       "0  The Fast and the Furious director Rob Cohen co...  \n",
       "1  The journey of a professional wrestler who bec...  \n",
       "2  Dead pan Leslie Nielsen stars as Dick Steele, ...  \n",
       "3  Director Uli Edel teams with screenwriter Bern...  "
      ]
     },
     "execution_count": 34,
     "metadata": {},
     "output_type": "execute_result"
    }
   ],
   "source": [
    "dataset_df = pd.read_csv( './rtt_dataset/all_movie.csv' )\n",
    "dataset_df = dataset_df[['Title', 'Rating', 'Description']]\n",
    "dataset_df.columns = dataset_df.columns.str.strip()\n",
    "dataset_df.head(4)"
   ]
  },
  {
   "cell_type": "code",
   "execution_count": 35,
   "id": "japanese-costa",
   "metadata": {},
   "outputs": [
    {
     "data": {
      "text/plain": [
       "array(['PG-13 ', 'PG-13', 'R ', 'NR', 'PG', 'G', 'PG ', 'R', 'G ', 'NR ',\n",
       "       'NC17', 'NC17 '], dtype=object)"
      ]
     },
     "execution_count": 35,
     "metadata": {},
     "output_type": "execute_result"
    }
   ],
   "source": [
    "# finding unique mpaa rating in the dataset\n",
    "dataset_df['Rating'].unique()"
   ]
  },
  {
   "cell_type": "code",
   "execution_count": 36,
   "id": "developed-craft",
   "metadata": {},
   "outputs": [],
   "source": [
    "# clean mpaa ratings\n",
    "mpaa_fix = {\n",
    "    'PG-13 ' : 'PG-13',\n",
    "    'R ' : 'R',\n",
    "    'PG ': 'PG',\n",
    "    'G ' : 'G',\n",
    "    'NR ': 'NR',\n",
    "    'NC17 ': 'NC17'\n",
    "}\n",
    "for i, rating in dataset_df['Rating'].iteritems():\n",
    "    if rating in mpaa_fix.keys():\n",
    "        fix_val = mpaa_fix.get(rating)\n",
    "        dataset_df.iloc[i]['Rating'] = fix_val"
   ]
  },
  {
   "cell_type": "code",
   "execution_count": 37,
   "id": "stopped-retention",
   "metadata": {},
   "outputs": [
    {
     "data": {
      "text/html": [
       "<div>\n",
       "<style scoped>\n",
       "    .dataframe tbody tr th:only-of-type {\n",
       "        vertical-align: middle;\n",
       "    }\n",
       "\n",
       "    .dataframe tbody tr th {\n",
       "        vertical-align: top;\n",
       "    }\n",
       "\n",
       "    .dataframe thead th {\n",
       "        text-align: right;\n",
       "    }\n",
       "</style>\n",
       "<table border=\"1\" class=\"dataframe\">\n",
       "  <thead>\n",
       "    <tr style=\"text-align: right;\">\n",
       "      <th></th>\n",
       "      <th>Title</th>\n",
       "      <th>Rating</th>\n",
       "      <th>Description</th>\n",
       "      <th>cleanedDescr</th>\n",
       "    </tr>\n",
       "  </thead>\n",
       "  <tbody>\n",
       "    <tr>\n",
       "      <th>0</th>\n",
       "      <td>The Mummy: Tomb of the Dragon Emperor</td>\n",
       "      <td>PG-13</td>\n",
       "      <td>The Fast and the Furious director Rob Cohen co...</td>\n",
       "      <td>The Fast and the Furious director Rob Cohen co...</td>\n",
       "    </tr>\n",
       "    <tr>\n",
       "      <th>1</th>\n",
       "      <td>The Masked Saint</td>\n",
       "      <td>PG-13</td>\n",
       "      <td>The journey of a professional wrestler who bec...</td>\n",
       "      <td>The journey of professional wrestler who becom...</td>\n",
       "    </tr>\n",
       "    <tr>\n",
       "      <th>2</th>\n",
       "      <td>Spy Hard</td>\n",
       "      <td>PG-13</td>\n",
       "      <td>Dead pan Leslie Nielsen stars as Dick Steele, ...</td>\n",
       "      <td>Dead pan Leslie Nielsen stars as Dick Steele a...</td>\n",
       "    </tr>\n",
       "    <tr>\n",
       "      <th>3</th>\n",
       "      <td>Der Baader Meinhof Komplex (The Baader Meinhof...</td>\n",
       "      <td>R</td>\n",
       "      <td>Director Uli Edel teams with screenwriter Bern...</td>\n",
       "      <td>Director Uli Edel teams with screenwriter Bern...</td>\n",
       "    </tr>\n",
       "  </tbody>\n",
       "</table>\n",
       "</div>"
      ],
      "text/plain": [
       "                                               Title Rating  \\\n",
       "0              The Mummy: Tomb of the Dragon Emperor  PG-13   \n",
       "1                                   The Masked Saint  PG-13   \n",
       "2                                           Spy Hard  PG-13   \n",
       "3  Der Baader Meinhof Komplex (The Baader Meinhof...      R   \n",
       "\n",
       "                                         Description  \\\n",
       "0  The Fast and the Furious director Rob Cohen co...   \n",
       "1  The journey of a professional wrestler who bec...   \n",
       "2  Dead pan Leslie Nielsen stars as Dick Steele, ...   \n",
       "3  Director Uli Edel teams with screenwriter Bern...   \n",
       "\n",
       "                                        cleanedDescr  \n",
       "0  The Fast and the Furious director Rob Cohen co...  \n",
       "1  The journey of professional wrestler who becom...  \n",
       "2  Dead pan Leslie Nielsen stars as Dick Steele a...  \n",
       "3  Director Uli Edel teams with screenwriter Bern...  "
      ]
     },
     "execution_count": 37,
     "metadata": {},
     "output_type": "execute_result"
    }
   ],
   "source": [
    "# Clean the movie description\n",
    "def clean_description( text_str ):\n",
    "    text = re.sub('[^a-zA-Z]',  ' ', text_str)\n",
    "    text = re.sub(r'\\s+[a-zA-Z]\\s+', ' ', text)\n",
    "    text = re.sub(r'\\s+', ' ', text)\n",
    "    return text\n",
    "\n",
    "cleaned_desc = []\n",
    "for i, description in dataset_df['Description'].iteritems():\n",
    "    cleaned_desc.append( clean_description( str(description) ) )\n",
    "\n",
    "dataset_df['cleanedDescr'] = cleaned_desc\n",
    "dataset_df.head(4)"
   ]
  },
  {
   "cell_type": "code",
   "execution_count": 38,
   "id": "65fe4c2f",
   "metadata": {},
   "outputs": [
    {
     "name": "stdout",
     "output_type": "stream",
     "text": [
      "<class 'pandas.core.frame.DataFrame'>\n",
      "RangeIndex: 29810 entries, 0 to 29809\n",
      "Data columns (total 4 columns):\n",
      " #   Column        Non-Null Count  Dtype \n",
      "---  ------        --------------  ----- \n",
      " 0   Title         29810 non-null  object\n",
      " 1   Rating        29810 non-null  object\n",
      " 2   Description   29807 non-null  object\n",
      " 3   cleanedDescr  29810 non-null  object\n",
      "dtypes: object(4)\n",
      "memory usage: 931.7+ KB\n"
     ]
    }
   ],
   "source": [
    "dataset_df.info()"
   ]
  },
  {
   "cell_type": "code",
   "execution_count": 39,
   "id": "interested-quebec",
   "metadata": {},
   "outputs": [],
   "source": [
    "## drop G, NC-17\n",
    "dataset_df = dataset_df[dataset_df.Rating != 'NC17']\n",
    "#dataset_df = dataset_df[dataset_df.Rating != 'G']\n",
    "# dataset_df = dataset_df.sample(frac=1).groupby('Rating').head(1606)\n",
    "# dataset_df"
   ]
  },
  {
   "cell_type": "code",
   "execution_count": 40,
   "id": "atmospheric-southwest",
   "metadata": {},
   "outputs": [],
   "source": [
    "pickle.dump(dataset_df, open('./data/demo_cp_dataset.pkl', 'wb'))"
   ]
  },
  {
   "cell_type": "markdown",
   "id": "444cf66c",
   "metadata": {},
   "source": [
    "### Further clean the description"
   ]
  },
  {
   "cell_type": "markdown",
   "id": "posted-entrance",
   "metadata": {},
   "source": [
    "## Training model"
   ]
  },
  {
   "cell_type": "code",
   "execution_count": 41,
   "id": "configured-skiing",
   "metadata": {},
   "outputs": [],
   "source": [
    "# training_df = pickle.load( open('./data/dataset_df_cleaned_n_sample_exceptNC17BiD_cleaned.pkl', 'rb') )\n",
    "training_df = pickle.load( open('./data/demo_cp_dataset.pkl', 'rb') )"
   ]
  },
  {
   "cell_type": "code",
   "execution_count": 42,
   "id": "83ebb736",
   "metadata": {},
   "outputs": [],
   "source": [
    "# fig = plt.figure(figsize=(8,6))\n",
    "# dataset_df.groupby('Rating')['cleanedDescr'].count().plot.bar(ylim=0)\n",
    "# plt.show()"
   ]
  },
  {
   "cell_type": "code",
   "execution_count": 43,
   "id": "fresh-mechanism",
   "metadata": {},
   "outputs": [],
   "source": [
    "from sklearn.model_selection import train_test_split\n",
    "from sklearn.preprocessing import LabelEncoder\n",
    "from keras.preprocessing.text import one_hot, Tokenizer\n",
    "from keras.preprocessing.sequence import pad_sequences\n",
    "from keras.utils import to_categorical\n",
    "from keras.models import Sequential, load_model\n",
    "from keras.layers import Dense, Flatten, LSTM, Embedding, GlobalMaxPooling1D, Bidirectional, Dropout, BatchNormalization\n",
    "from keras import regularizers"
   ]
  },
  {
   "cell_type": "code",
   "execution_count": 44,
   "id": "interesting-device",
   "metadata": {},
   "outputs": [
    {
     "data": {
      "text/plain": [
       "array([3, 3, 3, ..., 4, 3, 3])"
      ]
     },
     "execution_count": 44,
     "metadata": {},
     "output_type": "execute_result"
    }
   ],
   "source": [
    "_y = training_df['Rating']\n",
    "encoder = LabelEncoder()\n",
    "Y = encoder.fit_transform(_y)\n",
    "Y"
   ]
  },
  {
   "cell_type": "code",
   "execution_count": 45,
   "id": "952bce15",
   "metadata": {},
   "outputs": [
    {
     "data": {
      "text/plain": [
       "['G', 'NR', 'PG', 'PG-13', 'R']"
      ]
     },
     "execution_count": 45,
     "metadata": {},
     "output_type": "execute_result"
    }
   ],
   "source": [
    "le = encoder.fit(_y)\n",
    "labels = list(le.classes_)\n",
    "labels"
   ]
  },
  {
   "cell_type": "code",
   "execution_count": 46,
   "id": "focused-evidence",
   "metadata": {},
   "outputs": [
    {
     "data": {
      "text/plain": [
       "0        The Fast and the Furious director Rob Cohen co...\n",
       "1        The journey of professional wrestler who becom...\n",
       "2        Dead pan Leslie Nielsen stars as Dick Steele a...\n",
       "3        Director Uli Edel teams with screenwriter Bern...\n",
       "4        One of cluster of late films about the Vietnam...\n",
       "                               ...                        \n",
       "29805    Filmed at least nine times over the last nine ...\n",
       "29806    Fred MacMurray stars in this Walt Disney comed...\n",
       "29807    A resident of rd century Earth becomes involve...\n",
       "29808    Supernova chronicles the search and rescue pat...\n",
       "29809    For years there have been documented cases of ...\n",
       "Name: cleanedDescr, Length: 29719, dtype: object"
      ]
     },
     "execution_count": 46,
     "metadata": {},
     "output_type": "execute_result"
    }
   ],
   "source": [
    "X = training_df['cleanedDescr']\n",
    "X"
   ]
  },
  {
   "cell_type": "code",
   "execution_count": 47,
   "id": "97c4f739",
   "metadata": {},
   "outputs": [
    {
     "data": {
      "text/plain": [
       "729.3011877923215"
      ]
     },
     "execution_count": 47,
     "metadata": {},
     "output_type": "execute_result"
    }
   ],
   "source": [
    "description_lengths = []\n",
    "for i, description in training_df['cleanedDescr'].iteritems():\n",
    "    description_lengths.append( len(description) )\n",
    "max_description_length = np.mean( description_lengths )\n",
    "max_description_length"
   ]
  },
  {
   "cell_type": "markdown",
   "id": "changing-internship",
   "metadata": {},
   "source": [
    "## Train, test split"
   ]
  },
  {
   "cell_type": "code",
   "execution_count": 48,
   "id": "universal-split",
   "metadata": {},
   "outputs": [],
   "source": [
    "X_train, X_test, Y_train, Y_test = train_test_split( X, Y, test_size=0.25, random_state=40 )"
   ]
  },
  {
   "cell_type": "code",
   "execution_count": 49,
   "id": "animal-mount",
   "metadata": {},
   "outputs": [],
   "source": [
    "Y_train = to_categorical(Y_train)\n",
    "Y_test  = to_categorical(Y_test)"
   ]
  },
  {
   "cell_type": "code",
   "execution_count": 50,
   "id": "charming-sydney",
   "metadata": {},
   "outputs": [],
   "source": [
    "tokenizer = Tokenizer(num_words=10000)\n",
    "tokenizer.fit_on_texts(X_train)"
   ]
  },
  {
   "cell_type": "code",
   "execution_count": 51,
   "id": "reported-hayes",
   "metadata": {},
   "outputs": [],
   "source": [
    "X_train = tokenizer.texts_to_sequences(X_train)\n",
    "X_test  = tokenizer.texts_to_sequences(X_test)"
   ]
  },
  {
   "cell_type": "code",
   "execution_count": 52,
   "id": "b4ff8666",
   "metadata": {},
   "outputs": [
    {
     "data": {
      "text/plain": [
       "57392"
      ]
     },
     "execution_count": 52,
     "metadata": {},
     "output_type": "execute_result"
    }
   ],
   "source": [
    "vocabulary_size = len(tokenizer.word_index) + 1\n",
    "vocabulary_size"
   ]
  },
  {
   "cell_type": "code",
   "execution_count": 53,
   "id": "expected-hunter",
   "metadata": {},
   "outputs": [],
   "source": [
    "maxlen =  400 # Only concider first 400 words of each description\n",
    "\n",
    "X_train = pad_sequences( X_train, maxlen=maxlen )\n",
    "X_test  = pad_sequences( X_test, maxlen=maxlen )"
   ]
  },
  {
   "cell_type": "markdown",
   "id": "ruled-memphis",
   "metadata": {},
   "source": [
    "## Use GloVe : Global Vectors for Word Representation\n",
    "https://nlp.stanford.edu/projects/glove/\n",
    "\n",
    "GloVe is an unsupervised learning algorithm for obtaining vector representations for words. Training is performed on aggregated global word-word co-occurrence statistics from a corpus, and the resulting representations showcase interesting linear substructures of the word vector space. "
   ]
  },
  {
   "cell_type": "code",
   "execution_count": 54,
   "id": "chronic-perception",
   "metadata": {},
   "outputs": [],
   "source": [
    "glove_file = open('./glove.6B/glove.6B.100d.txt', encoding='utf8')"
   ]
  },
  {
   "cell_type": "code",
   "execution_count": 55,
   "id": "polished-oxford",
   "metadata": {},
   "outputs": [],
   "source": [
    "embedd_dictionary = dict()\n",
    "for line in glove_file:\n",
    "    records = line.split()\n",
    "    word = records[0]\n",
    "    vector_dims = np.asarray(records[1:], dtype='float32')\n",
    "    embedd_dictionary[word] = vector_dims\n",
    "\n",
    "glove_file.close()"
   ]
  },
  {
   "cell_type": "code",
   "execution_count": 56,
   "id": "random-anxiety",
   "metadata": {},
   "outputs": [
    {
     "data": {
      "text/plain": [
       "(57392, 100)"
      ]
     },
     "execution_count": 56,
     "metadata": {},
     "output_type": "execute_result"
    }
   ],
   "source": [
    "embedd_matrix = np.zeros((vocabulary_size, 100))\n",
    "for word, index in tokenizer.word_index.items():\n",
    "    embedd_vector = embedd_dictionary.get(word)\n",
    "    if embedd_vector is not None:\n",
    "        embedd_matrix[index] = embedd_vector\n",
    "embedd_matrix.shape"
   ]
  },
  {
   "cell_type": "code",
   "execution_count": 57,
   "id": "6e558479",
   "metadata": {},
   "outputs": [
    {
     "data": {
      "text/plain": [
       "100"
      ]
     },
     "execution_count": 57,
     "metadata": {},
     "output_type": "execute_result"
    }
   ],
   "source": [
    "output_dim = embedd_matrix.shape[1]\n",
    "output_dim"
   ]
  },
  {
   "cell_type": "code",
   "execution_count": 58,
   "id": "9d4911ec",
   "metadata": {},
   "outputs": [
    {
     "name": "stdout",
     "output_type": "stream",
     "text": [
      "G 1606\n",
      "NR 8005\n",
      "PG 4172\n",
      "PG13 5052\n",
      "R 10884\n"
     ]
    }
   ],
   "source": [
    "num_labels = 5\n",
    "G_count = training_df[training_df.Rating=='G'].shape[0]\n",
    "print(\"G\", G_count)\n",
    "\n",
    "NR_count = training_df[training_df.Rating=='NR'].shape[0]\n",
    "print(\"NR\", NR_count)\n",
    "\n",
    "\n",
    "PG_count = training_df[training_df.Rating=='PG'].shape[0]\n",
    "print(\"PG\", PG_count)\n",
    "\n",
    "\n",
    "PG13_count = training_df[training_df.Rating=='PG-13'].shape[0]\n",
    "print(\"PG13\", PG13_count)\n",
    "\n",
    "\n",
    "R_count = training_df[training_df.Rating=='R'].shape[0]\n",
    "print(\"R\", R_count)"
   ]
  },
  {
   "cell_type": "code",
   "execution_count": 59,
   "id": "d984e21d",
   "metadata": {},
   "outputs": [
    {
     "data": {
      "text/plain": [
       "29719"
      ]
     },
     "execution_count": 59,
     "metadata": {},
     "output_type": "execute_result"
    }
   ],
   "source": [
    "total_count = training_df.shape[0]\n",
    "total_count"
   ]
  },
  {
   "cell_type": "code",
   "execution_count": 60,
   "id": "a54452b5",
   "metadata": {},
   "outputs": [],
   "source": [
    "weight_G = ( 1 / G_count ) * ( total_count ) / num_labels\n",
    "weight_NR = ( 1 / NR_count ) * ( total_count ) / num_labels\n",
    "weight_PG = ( 1 / PG_count ) * ( total_count ) / num_labels\n",
    "weight_PG13 = ( 1 / PG13_count ) * ( total_count ) / num_labels\n",
    "weight_R = ( 1 / R_count ) * ( total_count ) / num_labels"
   ]
  },
  {
   "cell_type": "code",
   "execution_count": 61,
   "id": "6dc8d00f",
   "metadata": {},
   "outputs": [
    {
     "data": {
      "text/plain": [
       "{0: 3.7009962640099623,\n",
       " 1: 0.7425109306683323,\n",
       " 2: 1.4246883988494727,\n",
       " 3: 1.1765241488519398,\n",
       " 4: 0.5461043733921354}"
      ]
     },
     "execution_count": 61,
     "metadata": {},
     "output_type": "execute_result"
    }
   ],
   "source": [
    "class_weight = {0:weight_G ,1:weight_NR ,2: weight_PG,3:weight_PG13,4:weight_R}\n",
    "class_weight"
   ]
  },
  {
   "cell_type": "markdown",
   "id": "posted-disney",
   "metadata": {},
   "source": [
    "## Build the NN Model"
   ]
  },
  {
   "cell_type": "code",
   "execution_count": 65,
   "id": "exempt-likelihood",
   "metadata": {
    "scrolled": false
   },
   "outputs": [
    {
     "name": "stdout",
     "output_type": "stream",
     "text": [
      "Model: \"sequential_2\"\n",
      "_________________________________________________________________\n",
      "Layer (type)                 Output Shape              Param #   \n",
      "=================================================================\n",
      "embedding_2 (Embedding)      (None, None, 100)         5739200   \n",
      "_________________________________________________________________\n",
      "bidirectional_2 (Bidirection (None, 256)               234496    \n",
      "_________________________________________________________________\n",
      "dropout_4 (Dropout)          (None, 256)               0         \n",
      "_________________________________________________________________\n",
      "dense_4 (Dense)              (None, 64)                16448     \n",
      "_________________________________________________________________\n",
      "batch_normalization_2 (Batch (None, 64)                256       \n",
      "_________________________________________________________________\n",
      "dropout_5 (Dropout)          (None, 64)                0         \n",
      "_________________________________________________________________\n",
      "dense_5 (Dense)              (None, 5)                 325       \n",
      "=================================================================\n",
      "Total params: 5,990,725\n",
      "Trainable params: 251,397\n",
      "Non-trainable params: 5,739,328\n",
      "_________________________________________________________________\n"
     ]
    }
   ],
   "source": [
    "model = Sequential()\n",
    "model.add(Embedding(input_dim=vocabulary_size, output_dim=output_dim, weights=[embedd_matrix], trainable=False))\n",
    "model.add( Bidirectional(LSTM(units=128, recurrent_dropout=0)) )\n",
    "model.add(Dropout(0.4))\n",
    "model.add(Dense(64, activation='relu', kernel_regularizer=regularizers.l2(0.001)))\n",
    "model.add(BatchNormalization())\n",
    "model.add(Dropout(0.2))\n",
    "model.add(Dense(5, activation='softmax'))\n",
    "model.compile(loss='categorical_crossentropy', optimizer='adam', metrics=['accuracy'])\n",
    "model.summary()"
   ]
  },
  {
   "cell_type": "code",
   "execution_count": 66,
   "id": "9233c207",
   "metadata": {},
   "outputs": [],
   "source": [
    "import keras\n",
    "callback = [\n",
    "    keras.callbacks.EarlyStopping(patience=20, monitor='val_loss', verbose=2),\n",
    "    keras.callbacks.ModelCheckpoint(filepath='./data/checkpoint/BDLSTM_demo.{epoch:02d}-{val_loss:.2f}.h5', save_best_only=True ),\n",
    "    keras.callbacks.TensorBoard(log_dir='./data/tf/logs'),\n",
    "]"
   ]
  },
  {
   "cell_type": "code",
   "execution_count": 67,
   "id": "imposed-french",
   "metadata": {},
   "outputs": [
    {
     "name": "stdout",
     "output_type": "stream",
     "text": [
      "Epoch 1/120\n",
      "349/349 [==============================] - 24s 60ms/step - loss: 1.8942 - accuracy: 0.2362 - val_loss: 1.4958 - val_accuracy: 0.3880\n",
      "Epoch 2/120\n",
      "349/349 [==============================] - 20s 57ms/step - loss: 1.5507 - accuracy: 0.3272 - val_loss: 1.3708 - val_accuracy: 0.4369\n",
      "Epoch 3/120\n",
      "349/349 [==============================] - 20s 58ms/step - loss: 1.4362 - accuracy: 0.3759 - val_loss: 1.4303 - val_accuracy: 0.3931\n",
      "Epoch 4/120\n",
      "349/349 [==============================] - 20s 58ms/step - loss: 1.3509 - accuracy: 0.4233 - val_loss: 1.3936 - val_accuracy: 0.4114\n",
      "Epoch 5/120\n",
      "349/349 [==============================] - 20s 58ms/step - loss: 1.3049 - accuracy: 0.4435 - val_loss: 1.2589 - val_accuracy: 0.4781\n",
      "Epoch 6/120\n",
      "349/349 [==============================] - 20s 58ms/step - loss: 1.2401 - accuracy: 0.4495 - val_loss: 1.2665 - val_accuracy: 0.4618\n",
      "Epoch 7/120\n",
      "349/349 [==============================] - 20s 59ms/step - loss: 1.1731 - accuracy: 0.4838 - val_loss: 1.2709 - val_accuracy: 0.4830\n",
      "Epoch 8/120\n",
      "349/349 [==============================] - 21s 59ms/step - loss: 1.1031 - accuracy: 0.5094 - val_loss: 1.1804 - val_accuracy: 0.5061\n",
      "Epoch 9/120\n",
      "349/349 [==============================] - 21s 59ms/step - loss: 1.0262 - accuracy: 0.5285 - val_loss: 2.4012 - val_accuracy: 0.2423\n",
      "Epoch 10/120\n",
      "349/349 [==============================] - 21s 59ms/step - loss: 1.0514 - accuracy: 0.5178 - val_loss: 1.1227 - val_accuracy: 0.5373\n",
      "Epoch 11/120\n",
      "349/349 [==============================] - 21s 59ms/step - loss: 0.9295 - accuracy: 0.5699 - val_loss: 1.1699 - val_accuracy: 0.5008\n",
      "Epoch 12/120\n",
      "349/349 [==============================] - 21s 59ms/step - loss: 0.8708 - accuracy: 0.5872 - val_loss: 1.2139 - val_accuracy: 0.5004\n",
      "Epoch 13/120\n",
      "349/349 [==============================] - 21s 59ms/step - loss: 0.8212 - accuracy: 0.6031 - val_loss: 1.0370 - val_accuracy: 0.5786\n",
      "Epoch 14/120\n",
      "349/349 [==============================] - 21s 59ms/step - loss: 0.7791 - accuracy: 0.6281 - val_loss: 1.0454 - val_accuracy: 0.5786\n",
      "Epoch 15/120\n",
      "349/349 [==============================] - 21s 59ms/step - loss: 0.7312 - accuracy: 0.6480 - val_loss: 1.0578 - val_accuracy: 0.5864\n",
      "Epoch 16/120\n",
      "349/349 [==============================] - 21s 59ms/step - loss: 0.6797 - accuracy: 0.6752 - val_loss: 0.9955 - val_accuracy: 0.6131\n",
      "Epoch 17/120\n",
      "349/349 [==============================] - 21s 59ms/step - loss: 0.6188 - accuracy: 0.6999 - val_loss: 0.9934 - val_accuracy: 0.6260\n",
      "Epoch 18/120\n",
      "349/349 [==============================] - 21s 59ms/step - loss: 0.5828 - accuracy: 0.7183 - val_loss: 0.9780 - val_accuracy: 0.6397\n",
      "Epoch 19/120\n",
      "349/349 [==============================] - 21s 59ms/step - loss: 0.5425 - accuracy: 0.7323 - val_loss: 0.9943 - val_accuracy: 0.6440\n",
      "Epoch 20/120\n",
      "349/349 [==============================] - 21s 60ms/step - loss: 0.5072 - accuracy: 0.7565 - val_loss: 0.9380 - val_accuracy: 0.6731\n",
      "Epoch 21/120\n",
      "349/349 [==============================] - 21s 60ms/step - loss: 0.4733 - accuracy: 0.7735 - val_loss: 0.9324 - val_accuracy: 0.6798\n",
      "Epoch 22/120\n",
      "349/349 [==============================] - 21s 59ms/step - loss: 0.4557 - accuracy: 0.7839 - val_loss: 0.9567 - val_accuracy: 0.6771\n",
      "Epoch 23/120\n",
      "349/349 [==============================] - 21s 59ms/step - loss: 0.4066 - accuracy: 0.8027 - val_loss: 1.1428 - val_accuracy: 0.6253\n",
      "Epoch 24/120\n",
      "349/349 [==============================] - 21s 59ms/step - loss: 0.3685 - accuracy: 0.8178 - val_loss: 0.9456 - val_accuracy: 0.7085\n",
      "Epoch 25/120\n",
      "349/349 [==============================] - 21s 59ms/step - loss: 0.3466 - accuracy: 0.8337 - val_loss: 0.9002 - val_accuracy: 0.7316\n",
      "Epoch 26/120\n",
      "349/349 [==============================] - 21s 59ms/step - loss: 0.3200 - accuracy: 0.8467 - val_loss: 1.0164 - val_accuracy: 0.7148\n",
      "Epoch 27/120\n",
      "349/349 [==============================] - 21s 60ms/step - loss: 0.5005 - accuracy: 0.7916 - val_loss: 0.9057 - val_accuracy: 0.7227\n",
      "Epoch 28/120\n",
      "349/349 [==============================] - 21s 60ms/step - loss: 0.2865 - accuracy: 0.8660 - val_loss: 0.9515 - val_accuracy: 0.7431\n",
      "Epoch 29/120\n",
      "349/349 [==============================] - 21s 60ms/step - loss: 0.2898 - accuracy: 0.8686 - val_loss: 0.9644 - val_accuracy: 0.7287\n",
      "Epoch 30/120\n",
      "349/349 [==============================] - 21s 60ms/step - loss: 0.2655 - accuracy: 0.8769 - val_loss: 0.9252 - val_accuracy: 0.7427\n",
      "Epoch 31/120\n",
      "349/349 [==============================] - 21s 60ms/step - loss: 0.2452 - accuracy: 0.8905 - val_loss: 0.9339 - val_accuracy: 0.7610\n",
      "Epoch 32/120\n",
      "349/349 [==============================] - 21s 59ms/step - loss: 0.2187 - accuracy: 0.9000 - val_loss: 0.9329 - val_accuracy: 0.7655\n",
      "Epoch 33/120\n",
      "349/349 [==============================] - 21s 60ms/step - loss: 0.1988 - accuracy: 0.9106 - val_loss: 1.0345 - val_accuracy: 0.7631\n",
      "Epoch 34/120\n",
      "349/349 [==============================] - 21s 59ms/step - loss: 0.1954 - accuracy: 0.9082 - val_loss: 0.9978 - val_accuracy: 0.7742\n",
      "Epoch 35/120\n",
      "349/349 [==============================] - 21s 59ms/step - loss: 0.2185 - accuracy: 0.9023 - val_loss: 1.0594 - val_accuracy: 0.7649\n",
      "Epoch 36/120\n",
      "349/349 [==============================] - 21s 59ms/step - loss: 0.1708 - accuracy: 0.9268 - val_loss: 1.0516 - val_accuracy: 0.7629\n",
      "Epoch 37/120\n",
      "349/349 [==============================] - 21s 59ms/step - loss: 0.1675 - accuracy: 0.9290 - val_loss: 1.0514 - val_accuracy: 0.7857\n",
      "Epoch 38/120\n",
      "349/349 [==============================] - 21s 59ms/step - loss: 0.1445 - accuracy: 0.9366 - val_loss: 1.0335 - val_accuracy: 0.7931\n",
      "Epoch 39/120\n",
      "349/349 [==============================] - 21s 59ms/step - loss: 0.1423 - accuracy: 0.9407 - val_loss: 1.0785 - val_accuracy: 0.7812\n",
      "Epoch 40/120\n",
      "349/349 [==============================] - 20s 59ms/step - loss: 0.1244 - accuracy: 0.9458 - val_loss: 1.1145 - val_accuracy: 0.7840\n",
      "Epoch 41/120\n",
      "349/349 [==============================] - 21s 59ms/step - loss: 0.1221 - accuracy: 0.9516 - val_loss: 1.0925 - val_accuracy: 0.7989\n",
      "Epoch 42/120\n",
      "349/349 [==============================] - 21s 59ms/step - loss: 0.1507 - accuracy: 0.9394 - val_loss: 1.0798 - val_accuracy: 0.8008\n",
      "Epoch 43/120\n",
      "349/349 [==============================] - 21s 59ms/step - loss: 0.1345 - accuracy: 0.9469 - val_loss: 1.0274 - val_accuracy: 0.8016\n",
      "Epoch 44/120\n",
      "349/349 [==============================] - 21s 59ms/step - loss: 0.1284 - accuracy: 0.9508 - val_loss: 1.0988 - val_accuracy: 0.8066\n",
      "Epoch 45/120\n",
      "349/349 [==============================] - 21s 59ms/step - loss: 0.1067 - accuracy: 0.9578 - val_loss: 1.1124 - val_accuracy: 0.8070\n",
      "Epoch 00045: early stopping\n"
     ]
    }
   ],
   "source": [
    "hist = model.fit(X_train, Y_train, batch_size=64, epochs=120, validation_data=(X_test, Y_test), verbose=1, class_weight=class_weight, callbacks=callback)"
   ]
  },
  {
   "cell_type": "code",
   "execution_count": 68,
   "id": "commercial-imperial",
   "metadata": {},
   "outputs": [
    {
     "name": "stdout",
     "output_type": "stream",
     "text": [
      "233/233 [==============================] - 5s 21ms/step - loss: 1.1124 - accuracy: 0.8070\n",
      "loss:  1.112351655960083\n",
      "accuracy:  0.8069986701011658\n"
     ]
    }
   ],
   "source": [
    "loss, acc = model.evaluate(X_test, Y_test, verbose=1)\n",
    "print('loss: ', loss)\n",
    "print('accuracy: ', acc)"
   ]
  },
  {
   "cell_type": "markdown",
   "id": "animated-thunder",
   "metadata": {},
   "source": [
    "## Save model and tokenizer"
   ]
  },
  {
   "cell_type": "code",
   "execution_count": 69,
   "id": "beginning-forward",
   "metadata": {},
   "outputs": [],
   "source": [
    "# save model\n",
    "model.save('./data/demo_bltsm_model.h5')\n",
    "\n",
    "# save word tokenizer\n",
    "pickle.dump(tokenizer, open('./data/demo_cp_tokenizer.pkl', 'wb'))"
   ]
  },
  {
   "cell_type": "markdown",
   "id": "5dbd2f72",
   "metadata": {},
   "source": [
    "## Model Architecture"
   ]
  },
  {
   "cell_type": "code",
   "execution_count": 70,
   "id": "b9946c57",
   "metadata": {},
   "outputs": [],
   "source": [
    "# load the saved model\n",
    "from keras.models import load_model\n",
    "model = load_model(\"./data/demo_bltsm_model.h5\")"
   ]
  },
  {
   "cell_type": "code",
   "execution_count": 71,
   "id": "f60e5f50",
   "metadata": {},
   "outputs": [
    {
     "data": {
      "image/png": "[encoded data removed]",
      "text/plain": [
       "<IPython.core.display.Image object>"
      ]
     },
     "execution_count": 71,
     "metadata": {},
     "output_type": "execute_result"
    }
   ],
   "source": [
    "from keras.utils.vis_utils import plot_model\n",
    "plot_model(model, to_file='model_plot.png', show_shapes=True, show_layer_names=True)"
   ]
  },
  {
   "cell_type": "markdown",
   "id": "worth-sweden",
   "metadata": {},
   "source": [
    "## Metrics"
   ]
  },
  {
   "cell_type": "code",
   "execution_count": 72,
   "id": "valuable-slovenia",
   "metadata": {},
   "outputs": [
    {
     "data": {
      "image/png": "[encoded data removed]",
      "text/plain": [
       "<Figure size 432x288 with 1 Axes>"
      ]
     },
     "metadata": {
      "needs_background": "light"
     },
     "output_type": "display_data"
    }
   ],
   "source": [
    "import matplotlib.pyplot as plt\n",
    "plt.plot(hist.history['accuracy'])\n",
    "plt.plot(hist.history['val_accuracy'])\n",
    "plt.title('Model Accuracy')\n",
    "plt.ylabel('Accuracy')\n",
    "plt.xlabel('# Epochs')\n",
    "plt.legend(['train', 'test'])\n",
    "plt.show()"
   ]
  },
  {
   "cell_type": "code",
   "execution_count": 73,
   "id": "interior-pharmacy",
   "metadata": {},
   "outputs": [
    {
     "data": {
      "image/png": "[encoded data removed]",
      "text/plain": [
       "<Figure size 432x288 with 1 Axes>"
      ]
     },
     "metadata": {
      "needs_background": "light"
     },
     "output_type": "display_data"
    }
   ],
   "source": [
    "plt.plot(hist.history['loss'])\n",
    "plt.plot(hist.history['val_loss'])\n",
    "plt.title('Model Loss')\n",
    "plt.ylabel('Loss')\n",
    "plt.xlabel('# Epochs')\n",
    "plt.legend(['train', 'test'])\n",
    "plt.show()"
   ]
  },
  {
   "cell_type": "markdown",
   "id": "52de737b",
   "metadata": {},
   "source": [
    "### Label maps"
   ]
  },
  {
   "cell_type": "code",
   "execution_count": 74,
   "id": "1ac72c56",
   "metadata": {},
   "outputs": [
    {
     "data": {
      "text/plain": [
       "['G', 'NR', 'PG', 'PG-13', 'R']"
      ]
     },
     "execution_count": 74,
     "metadata": {},
     "output_type": "execute_result"
    }
   ],
   "source": [
    "le = encoder.fit(_y)\n",
    "labels = list(le.classes_)\n",
    "labels"
   ]
  },
  {
   "cell_type": "code",
   "execution_count": 75,
   "id": "1d65423d",
   "metadata": {},
   "outputs": [
    {
     "data": {
      "text/plain": [
       "{'G': 0, 'NR': 1, 'PG': 2, 'PG-13': 3, 'R': 4}"
      ]
     },
     "execution_count": 75,
     "metadata": {},
     "output_type": "execute_result"
    }
   ],
   "source": [
    "class_names = dict(zip(le.classes_, le.transform(le.classes_)))\n",
    "class_names"
   ]
  },
  {
   "cell_type": "code",
   "execution_count": 76,
   "id": "df45fb97",
   "metadata": {},
   "outputs": [],
   "source": [
    "Y_pred = model.predict(X_test)"
   ]
  },
  {
   "cell_type": "code",
   "execution_count": 77,
   "id": "5479543f",
   "metadata": {},
   "outputs": [
    {
     "data": {
      "text/plain": [
       "<sklearn.metrics._plot.confusion_matrix.ConfusionMatrixDisplay at 0x7f0ddfc894c0>"
      ]
     },
     "execution_count": 77,
     "metadata": {},
     "output_type": "execute_result"
    },
    {
     "data": {
      "image/png": "[encoded data removed]",
      "text/plain": [
       "<Figure size 432x288 with 2 Axes>"
      ]
     },
     "metadata": {
      "needs_background": "light"
     },
     "output_type": "display_data"
    }
   ],
   "source": [
    "from sklearn.metrics import confusion_matrix, ConfusionMatrixDisplay\n",
    "\n",
    "cm = confusion_matrix(Y_test.argmax(axis=1), Y_pred.argmax(axis=1) )\n",
    "cmd = ConfusionMatrixDisplay(cm, display_labels=list(le.classes_))\n",
    "cmd.plot()"
   ]
  },
  {
   "cell_type": "code",
   "execution_count": 78,
   "id": "2b433d65",
   "metadata": {},
   "outputs": [
    {
     "name": "stdout",
     "output_type": "stream",
     "text": [
      "117/117 [==============================] - 3s 24ms/step\n",
      "              precision    recall  f1-score   support\n",
      "\n",
      "           0       0.87      0.84      0.86       410\n",
      "           1       0.77      0.83      0.80      1992\n",
      "           2       0.81      0.80      0.80      1026\n",
      "           3       0.79      0.75      0.77      1259\n",
      "           4       0.83      0.82      0.82      2743\n",
      "\n",
      "    accuracy                           0.81      7430\n",
      "   macro avg       0.81      0.81      0.81      7430\n",
      "weighted avg       0.81      0.81      0.81      7430\n",
      "\n"
     ]
    }
   ],
   "source": [
    "from sklearn.metrics import classification_report\n",
    "\n",
    "y_pred = model.predict(X_test, batch_size=64, verbose=1)\n",
    "y_pred_bool = np.argmax(Y_pred, axis=1)\n",
    "\n",
    "print(classification_report(Y_test.argmax(axis=1), y_pred_bool))\n"
   ]
  },
  {
   "cell_type": "markdown",
   "id": "33ea8242",
   "metadata": {},
   "source": [
    "---"
   ]
  },
  {
   "cell_type": "markdown",
   "id": "5ad98a98",
   "metadata": {},
   "source": [
    "## Demonstration"
   ]
  },
  {
   "cell_type": "code",
   "execution_count": 79,
   "id": "856581c5",
   "metadata": {},
   "outputs": [],
   "source": [
    "import pickle\n",
    "from keras.models import Sequential, load_model\n",
    "from keras.preprocessing.sequence import pad_sequences\n",
    "import warnings\n",
    "warnings.filterwarnings('ignore')"
   ]
  },
  {
   "cell_type": "code",
   "execution_count": 80,
   "id": "f8d44c16",
   "metadata": {},
   "outputs": [],
   "source": [
    "## Get tokenizer \n",
    "text_tokenizer = pickle.load(open('./data/demo_cp_tokenizer.pkl', 'rb'))\n",
    "## Get saved model\n",
    "saved_model = load_model(\"./data/demo_bltsm_model.h5\")\n",
    "\n",
    "## prepare class names\n",
    "mpaa_labels = {0 : 'G', 1: 'NR', 2: 'PG', 3: 'PG-13', 4 : 'R'}\n",
    "\n",
    "## max length allowed for texts\n",
    "max_text_len= 420"
   ]
  },
  {
   "cell_type": "code",
   "execution_count": 81,
   "id": "e3812894",
   "metadata": {},
   "outputs": [],
   "source": [
    "import ipywidgets as widgets\n",
    "from ipywidgets import interact, interact_manual\n",
    "history = []"
   ]
  },
  {
   "cell_type": "code",
   "execution_count": 82,
   "id": "08693d32",
   "metadata": {},
   "outputs": [],
   "source": [
    "textarea = widgets.Textarea(\n",
    "    value='',\n",
    "    placeholder='Enter movie synopsis',\n",
    "    description='Synopsis:',\n",
    "    disabled=False,\n",
    "    width=600\n",
    ")"
   ]
  },
  {
   "cell_type": "code",
   "execution_count": 83,
   "id": "6cbc58a4",
   "metadata": {},
   "outputs": [],
   "source": [
    "def make_prediction(b):\n",
    "    val = textarea.value\n",
    "    if val is not None:\n",
    "        synopsisTKN = text_tokenizer.texts_to_sequences(val)\n",
    "        #print(\"TOKENIZATION=\", synopsisTKN)\n",
    "        \n",
    "        text_list = []\n",
    "        for sub_list in synopsisTKN:\n",
    "            for tm in sub_list:\n",
    "                text_list.append(tm)\n",
    "             \n",
    "        # add padding\n",
    "        synopsis = pad_sequences([text_list], maxlen=max_text_len)\n",
    "        #print(synopsis)\n",
    "        \n",
    "        # make prediction\n",
    "        pred = saved_model.predict_classes(synopsis)\n",
    "        _class_lable = mpaa_labels[pred[0]]\n",
    "        \n",
    "        record = {\n",
    "            \"label\" : _class_lable,\n",
    "            \"synopsis\" : val\n",
    "        }\n",
    "        \n",
    "        print(record)"
   ]
  },
  {
   "cell_type": "code",
   "execution_count": 84,
   "id": "44b6d97e",
   "metadata": {},
   "outputs": [
    {
     "data": {
      "application/vnd.jupyter.widget-view+json": {
       "model_id": "587a50fadea2457b8892435822b37884",
       "version_major": 2,
       "version_minor": 0
      },
      "text/plain": [
       "VBox(children=(Textarea(value='', description='Synopsis:', placeholder='Enter movie synopsis'), Button(descrip…"
      ]
     },
     "metadata": {},
     "output_type": "display_data"
    },
    {
     "name": "stdout",
     "output_type": "stream",
     "text": [
      "{'label': 'NR', 'synopsis': 'asdasd'}\n"
     ]
    }
   ],
   "source": [
    "submit = widgets.Button(description='Submit')\n",
    "submit.on_click(make_prediction)\n",
    "widgets.VBox([textarea,submit])"
   ]
  },
  {
   "cell_type": "code",
   "execution_count": null,
   "id": "cc1eb7bf",
   "metadata": {},
   "outputs": [],
   "source": []
  }
 ],
 "metadata": {
  "kernelspec": {
   "display_name": "Python 3",
   "language": "python",
   "name": "python3"
  },
  "language_info": {
   "codemirror_mode": {
    "name": "ipython",
    "version": 3
   },
   "file_extension": ".py",
   "mimetype": "text/x-python",
   "name": "python",
   "nbconvert_exporter": "python",
   "pygments_lexer": "ipython3",
   "version": "3.9.2"
  }
 },
 "nbformat": 4,
 "nbformat_minor": 5
}
